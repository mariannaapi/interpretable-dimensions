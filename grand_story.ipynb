{
 "cells": [
  {
   "cell_type": "markdown",
   "id": "f92f0488-7456-497b-9084-46dd56c8aecf",
   "metadata": {},
   "source": [
    "# Experiments on the data of Grand et al\n",
    "\n",
    "## Loading stuff"
   ]
  },
  {
   "cell_type": "code",
   "execution_count": 1,
   "id": "0da1dfe0-29ac-4db1-ac31-0eb90506ea8d",
   "metadata": {
    "tags": []
   },
   "outputs": [
    {
     "name": "stderr",
     "output_type": "stream",
     "text": [
      "/Users/kee252/Library/Python/3.9/lib/python/site-packages/openpyxl/worksheet/_reader.py:329: UserWarning: Unknown extension is not supported and will be removed\n",
      "  warn(msg)\n"
     ]
    }
   ],
   "source": [
    "import os\n",
    "from scipy import stats\n",
    "import numpy as np \n",
    "import pandas as pd\n",
    "import zipfile\n",
    "import math\n",
    "import sklearn\n",
    "import torch\n",
    "import torch.optim as optim\n",
    "device = torch.device('cuda') if torch.cuda.is_available() else torch.device('cpu')\n",
    "import matplotlib.pyplot as plt\n",
    "\n",
    "glove_path = \"glove/glove.42B.300d.zip\"\n",
    "glove_file = \"glove.42B.300d.txt\"\n",
    "\n",
    "feature_dim = 300\n",
    "\n",
    "word_vectors = { }\n",
    "\n",
    "with zipfile.ZipFile(glove_path) as azip:\n",
    "    with azip.open(glove_file) as f:\n",
    "        for line in f:\n",
    "            values = line.split()\n",
    "            word = values[0].decode()\n",
    "            vector = np.array(values[1:], dtype=np.float32)\n",
    "            word_vectors[word] = vector\n",
    "\n",
    "grandratings_dir = \"Grand_etal_csv/\"\n",
    "grandfeatures_path = \"/Users/kee252/Data/grand_directions_in_space/features.xlsx\"\n",
    "\n",
    "grandfeatures_df = pd.read_excel(grandfeatures_path)\n",
    "\n",
    "# reading in Grand data\n",
    "def read_grand_data(filename, grandratings_dir, grandfeatures_df):\n",
    "    # extract category and feature\n",
    "    grandcategory, grandfeature = filename[:-4].split(\"_\")\n",
    "        \n",
    "    # read human ratings, make gold column\n",
    "    df = pd.read_csv(grandratings_dir + filename)\n",
    "    nspeakers = len(df.columns) -1\n",
    "    df[\"Average\"] = [row.iloc[1:26].sum() / nspeakers for _, row in df.iterrows()]\n",
    "    # z-scores of average ratings\n",
    "    df[\"Gold\"] = (df[\"Average\"] - df[\"Average\"].mean()) / df[\"Average\"].std()\n",
    "        \n",
    "    # obtain seed words from excel file\n",
    "    relevant_row = grandfeatures_df[grandfeatures_df.Dimension == grandfeature]\n",
    "    seedwords = relevant_row.iloc[:, 1:].values.flatten().tolist()\n",
    "    pos_seedwords = seedwords[:3]\n",
    "    neg_seedwords = seedwords[3:]\n",
    "    \n",
    "    return (grandcategory, grandfeature, pos_seedwords, neg_seedwords, df)"
   ]
  },
  {
   "cell_type": "markdown",
   "id": "090dda3f-040d-4141-9f95-dd983be77e1e",
   "metadata": {},
   "source": [
    "## Reproducing their results\n",
    "\n",
    "We reproduce their results from the Nature paper almost perfectly, on both Pearson's r correlation and pairwise order evaluation OC_P. X percent of category/feature pairs show a significant correlation, and average OC_P is Y."
   ]
  },
  {
   "cell_type": "code",
   "execution_count": 2,
   "id": "b2945e83-e61a-483f-b5f1-94d34f867a09",
   "metadata": {},
   "outputs": [],
   "source": [
    "# script for running on data\n",
    "def each_grandcondition(grandratings_dir, grandfeatures_df):\n",
    "    for filename in os.listdir(grandratings_dir): \n",
    "        if not filename.endswith(\"csv\"):\n",
    "            continue\n",
    "\n",
    "        grandcategory, grandfeature, pos_seedwords, neg_seedwords, df = read_grand_data(filename, \n",
    "                                                                    grandratings_dir, \n",
    "                                                                    grandfeatures_df)\n",
    "\n",
    "        # storage for word vectors and gold values for this dataset\n",
    "        data_vectors = []\n",
    "\n",
    "        # collect word vectors and gold ratings\n",
    "        for row in df.itertuples():\n",
    "            # row.Row is the word. look it up in word_vectors\n",
    "            data_vectors.append( word_vectors[ row.Row ])\n",
    "            \n",
    "        yield (grandcategory, grandfeature, pos_seedwords, neg_seedwords, df, data_vectors)\n"
   ]
  },
  {
   "cell_type": "code",
   "execution_count": 3,
   "id": "d8637842-e4aa-42f3-bf45-db25445ff1a0",
   "metadata": {},
   "outputs": [],
   "source": [
    "import compute_dim\n",
    "import eval_dim\n",
    "from scipy import stats\n",
    "\n",
    "results = [ ]\n",
    "\n",
    "for grandcategory, grandfeature, pos_seedwords, neg_seedwords, df, data_vectors in each_grandcondition(grandratings_dir, grandfeatures_df):\n",
    "    \n",
    "    dimension = compute_dim.dimension_seedbased(pos_seedwords, neg_seedwords, word_vectors)\n",
    "    \n",
    "    df[\"Pred\"]  = compute_dim.predict_scalarproj(data_vectors, dimension)\n",
    "    \n",
    "    ocp = eval_dim.pairwise_order_consistency(df[\"Gold\"], df[\"Pred\"])\n",
    "    result_obj = stats.pearsonr(df[\"Gold\"], df[\"Pred\"])\n",
    "    \n",
    "    results.append({\"category\": grandcategory,\n",
    "                    \"feature\" : grandfeature,\n",
    "                    \"ocp\" : ocp,\n",
    "                    \"pearsonr\" : result_obj.statistic,\n",
    "                    \"pvalue\" : result_obj.pvalue } )\n",
    "    "
   ]
  },
  {
   "cell_type": "code",
   "execution_count": 4,
   "id": "b8efba4d-c057-4484-8b6f-b028ff4e31b4",
   "metadata": {},
   "outputs": [
    {
     "name": "stdout",
     "output_type": "stream",
     "text": [
      "clothing age r 0.561 p= 0.0 ocp 0.709   *\n",
      "names age r 0.616 p= 0.0 ocp 0.723   *\n",
      "professions age r 0.238 p= 0.1 ocp 0.568   \n",
      "cities arousal r 0.001 p= 0.996 ocp 0.522   \n",
      "clothing arousal r 0.185 p= 0.199 ocp 0.562   \n",
      "professions arousal r 0.523 p= 0.0 ocp 0.658   *\n",
      "sports arousal r 0.279 p= 0.05 ocp 0.597   *\n",
      "cities cost r -0.136 p= 0.346 ocp 0.47   \n",
      "clothing cost r -0.087 p= 0.549 ocp 0.471   \n",
      "states cost r -0.006 p= 0.968 ocp 0.54   \n",
      "animals danger r 0.599 p= 0.0 ocp 0.695   *\n",
      "cities danger r 0.715 p= 0.0 ocp 0.774   *\n",
      "myth danger r 0.723 p= 0.0 ocp 0.779   *\n",
      "professions danger r 0.446 p= 0.001 ocp 0.641   *\n",
      "sports danger r 0.379 p= 0.007 ocp 0.633   *\n",
      "weather danger r 0.79 p= 0.0 ocp 0.797   *\n",
      "animals gender r 0.7 p= 0.0 ocp 0.731   *\n",
      "clothing gender r 0.818 p= 0.0 ocp 0.811   *\n",
      "myth gender r 0.817 p= 0.0 ocp 0.744   *\n",
      "names gender r 0.94 p= 0.0 ocp 0.873   *\n",
      "professions gender r 0.916 p= 0.0 ocp 0.839   *\n",
      "sports gender r 0.854 p= 0.0 ocp 0.817   *\n",
      "animals intelligence r 0.08 p= 0.652 ocp 0.547   \n",
      "cities intelligence r 0.161 p= 0.265 ocp 0.579   \n",
      "names intelligence r 0.651 p= 0.0 ocp 0.737   *\n",
      "professions intelligence r 0.468 p= 0.001 ocp 0.625   *\n",
      "sports intelligence r 0.613 p= 0.0 ocp 0.686   *\n",
      "states intelligence r 0.107 p= 0.46 ocp 0.586   \n",
      "clothing location r 0.323 p= 0.022 ocp 0.584   *\n",
      "professions location r -0.127 p= 0.386 ocp 0.449   \n",
      "sports location r 0.649 p= 0.0 ocp 0.77   *\n",
      "animals loudness r -0.081 p= 0.647 ocp 0.478   \n",
      "states political r 0.399 p= 0.004 ocp 0.651   *\n",
      "cities religiosity r 0.459 p= 0.001 ocp 0.584   *\n",
      "states religiosity r -0.063 p= 0.666 ocp 0.46   \n",
      "animals size r 0.668 p= 0.0 ocp 0.736   *\n",
      "cities size r 0.162 p= 0.26 ocp 0.563   \n",
      "clothing size r 0.097 p= 0.503 ocp 0.53   \n",
      "myth size r 0.704 p= 0.0 ocp 0.762   *\n",
      "states size r 0.331 p= 0.019 ocp 0.576   *\n",
      "animals speed r 0.358 p= 0.037 ocp 0.624   *\n",
      "sports speed r 0.029 p= 0.843 ocp 0.518   \n",
      "cities temperature r -0.086 p= 0.553 ocp 0.469   \n",
      "states temperature r 0.611 p= 0.0 ocp 0.741   *\n",
      "weather temperature r 0.47 p= 0.003 ocp 0.661   *\n",
      "myth valence r 0.643 p= 0.0 ocp 0.732   *\n",
      "professions valence r 0.381 p= 0.007 ocp 0.585   *\n",
      "cities wealth r 0.128 p= 0.377 ocp 0.549   \n",
      "clothing wealth r 0.369 p= 0.008 ocp 0.624   *\n",
      "names wealth r 0.533 p= 0.0 ocp 0.655   *\n",
      "professions wealth r 0.533 p= 0.0 ocp 0.668   *\n",
      "sports wealth r 0.435 p= 0.002 ocp 0.622   *\n",
      "states wealth r 0.47 p= 0.001 ocp 0.622   *\n",
      "animals weight r 0.065 p= 0.714 ocp 0.51   \n",
      "animals wetness r 0.794 p= 0.0 ocp 0.761   *\n",
      "weather wetness r 0.508 p= 0.001 ocp 0.682   *\n"
     ]
    }
   ],
   "source": [
    "# arranging the data in the same order as in the Grand et al paper so we can compare numbers\n",
    "\n",
    "for r in sorted(results, key = lambda r:(r[\"feature\"], r[\"category\"])):\n",
    "    starred = \"*\" if r[\"pearsonr\"] > 0 and r[\"pvalue\"] < 0.05 else \"\"\n",
    "    print(r[\"category\"], r[\"feature\"], \n",
    "          \"r\", round(r[\"pearsonr\"], 3), \"p=\", round(r[\"pvalue\"],3), \n",
    "          \"ocp\", round(r[\"ocp\"], 3), \" \", starred)"
   ]
  },
  {
   "cell_type": "markdown",
   "id": "50af2d19-30e9-4223-ad76-5235822767dc",
   "metadata": {},
   "source": [
    "## Fitted dimensions\n",
    "\n",
    "Schockaert and colleagues have a series of papers in which they consider interpretable dimensions in space from a knowledge base point of view. Their methods are completely different from the seed-based approach popular in NLP. We adapt an idea of Jameel and Schockaert to fit a dimension in space to best match human ratings.\n",
    "\n",
    "For every category/feature pair from Grand et al, we obtain a dimension that is a perfect fit to the data:"
   ]
  },
  {
   "cell_type": "code",
   "execution_count": 5,
   "id": "7c5f871d-986e-450c-8022-0d9c1672da5a",
   "metadata": {},
   "outputs": [],
   "source": [
    "results = [ ]\n",
    "\n",
    "for grandcategory, grandfeature, pos_seedwords, neg_seedwords, df, data_vectors in each_grandcondition(grandratings_dir, grandfeatures_df):\n",
    "    \n",
    "    dimension = compute_dim.dimension_seedbased(pos_seedwords, neg_seedwords, word_vectors)\n",
    "    \n",
    "    # seed-based dimension\n",
    "    df[\"SPred\"]  = compute_dim.predict_scalarproj(data_vectors, dimension)\n",
    "    sresult_obj = stats.pearsonr(df[\"Gold\"], df[\"SPred\"])\n",
    "    \n",
    "    # fitted dimension\n",
    "    dimension, weight, bias = compute_dim.dimension_fitted_fromratings(data_vectors, df[\"Gold\"], feature_dim)\n",
    "    df[\"FPred\"] = compute_dim.predict_coord_fromline(data_vectors, dimension, weight, bias)\n",
    "    fresult_obj = stats.pearsonr(df[\"Gold\"], df[\"FPred\"])\n",
    "    \n",
    "    results.append({\"category\": grandcategory,\n",
    "                    \"feature\" : grandfeature,\n",
    "                    \"s_pearsonr\" : sresult_obj.statistic,\n",
    "                    \"s_pvalue\" : sresult_obj.pvalue,\n",
    "                    \"f_pearsonr\" : fresult_obj.statistic,\n",
    "                    \"f_pvalue\" : fresult_obj.pvalue } )"
   ]
  },
  {
   "cell_type": "code",
   "execution_count": 6,
   "id": "d176a874-d234-4ddb-b551-d45ee454359c",
   "metadata": {},
   "outputs": [
    {
     "name": "stdout",
     "output_type": "stream",
     "text": [
      "Percentage of conditions with significant correlations:\n",
      "Seed-based: 0.679\n",
      "Fitted: 1.0\n"
     ]
    }
   ],
   "source": [
    "print(\"Percentage of conditions with significant correlations:\")\n",
    "print(\"Seed-based:\", round(len([ r for r in results if r[\"s_pearsonr\"] > 0 and r[\"s_pvalue\"] < 0.05]) / len(results), 3))\n",
    "print(\"Fitted:\", round(len([ r for r in results if r[\"f_pearsonr\"] > 0 and r[\"f_pvalue\"] < 0.05]) / len(results), 3))\n"
   ]
  },
  {
   "cell_type": "markdown",
   "id": "5113a5d5-2b38-440b-a8b4-204bc0801b3c",
   "metadata": {},
   "source": [
    "### Underdetermined dimensions\n",
    "\n",
    "However, the embeddings give us too much leeway to fit dimensions in space. Even when we scramble the ratings, the model mostly still manages to fit a dimension perfectly. "
   ]
  },
  {
   "cell_type": "code",
   "execution_count": 7,
   "id": "e7aba488-8824-4aa4-83d9-bfb73b5df6f2",
   "metadata": {},
   "outputs": [],
   "source": [
    "import random\n",
    "\n",
    "results = [ ]\n",
    "\n",
    "for grandcategory, grandfeature, pos_seedwords, neg_seedwords, df, data_vectors in each_grandcondition(grandratings_dir, grandfeatures_df):\n",
    "    \n",
    "    data_gold = [row.Gold for row in df.itertuples()]\n",
    "    random.shuffle(data_gold)\n",
    "    \n",
    "    # fitted dimension\n",
    "    dimension, weight, bias = compute_dim.dimension_fitted_fromratings(data_vectors, data_gold, feature_dim)\n",
    "    df[\"Pred\"] = compute_dim.predict_coord_fromline(data_vectors, dimension, weight, bias)\n",
    "    result_obj = stats.pearsonr(data_gold, df[\"Pred\"])\n",
    "    \n",
    "    results.append({\"category\": grandcategory,\n",
    "                    \"feature\" : grandfeature,\n",
    "                    \"pearsonr\" : result_obj.statistic,\n",
    "                    \"pvalue\" : result_obj.pvalue } )"
   ]
  },
  {
   "cell_type": "code",
   "execution_count": 8,
   "id": "da253742-eeef-4d96-b850-e00c38341663",
   "metadata": {},
   "outputs": [
    {
     "name": "stdout",
     "output_type": "stream",
     "text": [
      "Scrambled ratings: percentage of dimensions that could be fitted successfully\n",
      "1.0\n"
     ]
    }
   ],
   "source": [
    "print(\"Scrambled ratings: percentage of dimensions that could be fitted successfully\")\n",
    "print(round(len([ r for r in results if r[\"pearsonr\"] > 0 and r[\"pvalue\"] < 0.05]) / len(results), 3))"
   ]
  },
  {
   "cell_type": "markdown",
   "id": "5f17f8e9-221d-4aa6-963c-b47ee45bd6fe",
   "metadata": {},
   "source": [
    "That also means that the model overfits to the given data, and doesn't generalize well to new datapoints, as we will show below.\n",
    "\n",
    "To mitigate this problem, we combine the fitted model with seed property words, and we will be able to show that this leads to improved dimensions in space."
   ]
  },
  {
   "cell_type": "markdown",
   "id": "a9375c66-1c5a-49d8-93d6-0b16c47224a0",
   "metadata": {},
   "source": [
    "# Variants of the fitted model\n",
    "\n",
    "Seeds as words, match to seed-based dimensions as part of the loss, and both of the above"
   ]
  },
  {
   "cell_type": "markdown",
   "id": "8dce8735-678c-4b14-ab8d-c7442ea3fe10",
   "metadata": {},
   "source": [
    "# Evaluating on unseen data\n",
    "\n",
    "We introduce a train/test split, or rather crossvalidation, to test how well different models do on unseen data.  But when we do that, we cannot use Pearson's r anymore: When there are few datapoints in the dataset, significance computation becomes unreliable.\n",
    "\n",
    "Instead, we will focus on (a variant of) OC_P, and we add mean square error to the picture. OC_P is highly correlated with Pearson's r; MSE less so:"
   ]
  },
  {
   "cell_type": "code",
   "execution_count": 9,
   "id": "9231df84-6e11-449b-a35f-13b0f66ceae8",
   "metadata": {},
   "outputs": [],
   "source": [
    "results = [ ]\n",
    "import compute_dim\n",
    "import eval_dim\n",
    "\n",
    "for grandcategory, grandfeature, pos_seedwords, neg_seedwords, df, data_vectors in each_grandcondition(grandratings_dir, grandfeatures_df):\n",
    "    \n",
    "    dimension = compute_dim.dimension_seedbased(pos_seedwords, neg_seedwords, word_vectors)\n",
    "    \n",
    "    df[\"Pred\"]  = compute_dim.predict_scalarproj(data_vectors, dimension)\n",
    "    \n",
    "    ocp = eval_dim.pairwise_order_consistency(df[\"Gold\"], df[\"Pred\"])\n",
    "    mse = eval_dim.mean_squared_error(df[\"Gold\"], df[\"Pred\"])\n",
    "    result_obj = stats.pearsonr(df[\"Gold\"], df[\"Pred\"])\n",
    "    \n",
    "    results.append({\"category\": grandcategory,\n",
    "                    \"feature\" : grandfeature,\n",
    "                    \"ocp\" : ocp,\n",
    "                    \"mse\" : mse,\n",
    "                    \"pearsonr\" : result_obj.statistic,\n",
    "                    \"pvalue\" : result_obj.pvalue } )\n",
    "    "
   ]
  },
  {
   "cell_type": "code",
   "execution_count": 10,
   "id": "c7a9585d-5f93-426d-a294-da2f76b16c35",
   "metadata": {
    "tags": []
   },
   "outputs": [
    {
     "name": "stdout",
     "output_type": "stream",
     "text": [
      "Correlation of Pearson's r and OC_P: 0.9722987197783581 p= 9.062421693598769e-36\n"
     ]
    }
   ],
   "source": [
    "from scipy import stats\n",
    "\n",
    "result_obj = stats.pearsonr([r[\"pearsonr\"] for r in results], [r[\"ocp\"] for r in results])\n",
    "print(\"Correlation of Pearson's r and OC_P:\", result_obj.statistic, \"p=\", result_obj.pvalue)\n"
   ]
  },
  {
   "cell_type": "code",
   "execution_count": 11,
   "id": "d6c8bdba-e534-4e2e-9b80-f940999c093a",
   "metadata": {
    "tags": []
   },
   "outputs": [
    {
     "name": "stdout",
     "output_type": "stream",
     "text": [
      "Correlation of Pearson's r and MSE: -0.6606608806793167 p= 3.012627463251373e-08\n"
     ]
    }
   ],
   "source": [
    "result_obj = stats.pearsonr([r[\"pearsonr\"] for r in results], [r[\"mse\"] for r in results])\n",
    "print(\"Correlation of Pearson's r and MSE:\", result_obj.statistic, \"p=\", result_obj.pvalue)\n"
   ]
  },
  {
   "cell_type": "markdown",
   "id": "43966ba0-00d5-400e-985d-33bb9a0e379c",
   "metadata": {},
   "source": [
    "The variant of OC_P that we use doesn't just compare pairwise orderings of the datapoints in the test set, but also pairwise orderings of test datapoints compared to training datapoints: Do the test datapoints get inserted at the right point in the overall ordering?"
   ]
  },
  {
   "cell_type": "markdown",
   "id": "d07d7858-c9cc-44c9-be5b-880ad0c10e2d",
   "metadata": {},
   "source": [
    "## Hyperparameter optimization: GLoVE\n",
    "\n",
    "We make a development set, and use it to set the hyperparameters: offset and jitter for the seeds-as-words, alpha and averaging for seeds-as-dimensions, all of the above for the joint model, alpha for the seed-dimension-attention model. \n",
    "\n",
    "See other notebook. We use:\n",
    "\n",
    "* Fitted model with seed words: offset of 1.0, no jitter.  no difference across values\n",
    "* Fitted model with seed dimensions: alpha = 0.02, with averaging over seeds. \n",
    "* Fitted model with seed words and seed dimensions: alpha = 0.05, with averaging, no jitter, offset 1.0 (only alpha was optimized). \n",
    "\n",
    "Note that error bars are large in all cases especially when computing offsets for the fitted model with seed words. Here the differences in performance are dwarfed by the difference in noise, and all offsets show more or less equal performance. \n",
    "\n",
    "For the fitted model with seed dimensions, lowest values of alpha are generally best. This is not the case for the fitted model with seed words and seed dimensions, where the best values of alpha are low but not tiny. \n"
   ]
  },
  {
   "cell_type": "markdown",
   "id": "89756d23-fad5-419a-b5be-b3dcc8aa0b52",
   "metadata": {},
   "source": [
    "## Crossvalidation on all data except the development data: GLoVE\n",
    "\n",
    "See  notebook grand_eval. We obtain:\n",
    "\n",
    "Seed-based method: OC_P 0.640 (0.11) MSE mean 72895.928 (341047.67) MSE med 2718.132 (5767.16)\n",
    "\n",
    "Fitted method: OC_P 0.540 (0.03) MSE mean 3708.000 (7665.66) MSE med 113.222 (111.67)\n",
    "\n",
    "Fitted, with seed words, offset 1.0 jitter False\n",
    "OC_P  0.532 (0.03) MSE mean 3232046.027 (22209200.36) MSE med 177.064 (125.35)\n",
    "\n",
    "Fitted, with seed dim.s, alpha 0.02 avg True\n",
    "OC_P  0.648 (0.11) MSE mean 11096.483 (55333.03) MSE med 89.607 (199.54)\n",
    "\n",
    "Fitted, with seed words and dim.s, alpha 0.05 avg True offset 1.0 jitter False\n",
    "OC_P  0.799 (0.06) MSE mean 0.707 (0.38) MSE med 0.666 (0.36)\n",
    "\n"
   ]
  },
  {
   "cell_type": "markdown",
   "id": "2ef45df2-2df6-4446-977f-b7c15489c40b",
   "metadata": {},
   "source": [
    "## Hyperparameter optimization: BERT large last 4 \n",
    "\n",
    "We make a development set, and use it to set the hyperparameters: offset and jitter for the seeds-as-words, alpha and averaging for seeds-as-dimensions, all of the above for the joint model, alpha for the seed-dimension-attention model. \n",
    "\n",
    "See other notebook. We use:\n",
    "\n",
    "* Fitted model with seed words: offset of 1.0, no jitter\n",
    "* Fitted model with seed dimensions: alpha = 0.001, with averaging\n",
    "* Fitted model with seed words and seed dimensions: alpha = 0.02. Values not optimized: averaging, no jitter, and an offset of 1.0\n",
    "\n"
   ]
  },
  {
   "cell_type": "markdown",
   "id": "a8c5b7fc-d36b-4e68-87d0-28de460d7499",
   "metadata": {},
   "source": [
    "## Crossvalidation on all data except the development data: BERT-large last 4 \n",
    "\n",
    "Seed-based method: OC_P 0.637 (0.09) MSE mean 18430992.301 (130081284.87) MSE med 16892.690 (55100.49)\n",
    "\n",
    "Fitted method: OC_P 0.514 (0.03) MSE mean 86428.112 (358043.67) MSE med 417.379 (271.65)\n",
    "\n",
    "Fitted, with seed words, offset 1.0 jitter False\n",
    "OC_P  0.518 (0.03) MSE mean 92120.435 (454321.63) MSE med 597.424 (525.60)\n",
    "\n",
    "Fitted, with seed dim.s, alpha 0.001 avg True\n",
    "OC_P  0.656 (0.09) MSE mean 3456898.835 (24405540.37) MSE med 114.990 (437.41)\n",
    "\n",
    "Fitted, with seed words and dim.s, alpha 0.02 avg True offset 1.0 jitter False\n",
    "OC_P  0.705 (0.04) MSE mean 2.335 (0.70) MSE med 2.038 (0.59)\n"
   ]
  },
  {
   "cell_type": "markdown",
   "id": "bc47eff2-6734-4f01-a997-400358957ad0",
   "metadata": {},
   "source": [
    "## Hyperparameter optimization: RoBERTA large last 4 \n",
    "\n",
    "We make a development set, and use it to set the hyperparameters: offset and jitter for the seeds-as-words, alpha and averaging for seeds-as-dimensions, all of the above for the joint model, alpha for the seed-dimension-attention model. \n",
    "\n",
    "See other notebook. We use:\n",
    "\n",
    "* Fitted model with seed words: offset of 1.0, no jitter\n",
    "* Fitted model with seed dimensions: alpha = 0.001, with averaging\n",
    "* Fitted model with seed words and seed dimensions: alpha = 0.02. Values not optimized: averaging, no jitter, and an offset of 1.0\n",
    "\n"
   ]
  },
  {
   "cell_type": "markdown",
   "id": "ef4639a3-3c4f-447f-9e61-d64f5fa5fabd",
   "metadata": {},
   "source": [
    "## Crossvalidation on all data except the development data: RoBERTA-large last 4 \n",
    "\n",
    "Seed-based method: OC_P 0.572 (0.08) MSE mean 548231.690 (3496790.12) MSE med 25783.635 (95616.32)\n",
    "\n",
    "Fitted method: OC_P 0.507 (0.03) MSE mean 6963633.529 (47257020.62) MSE med 392.507 (291.33)\n",
    "\n",
    "Fitted, with seed words, offset 1.0 jitter False\n",
    "OC_P  0.506 (0.03) MSE mean 32917.013 (131398.84) MSE med 458.028 (284.34)\n",
    "\n",
    "Fitted, with seed dim.s, alpha 0.001 avg True\n",
    "OC_P  0.598 (0.09) MSE mean 10022.875 (54560.49) MSE med 125.192 (270.52)\n",
    "\n",
    "Fitted, with seed words and dim.s, alpha 0.02 avg True offset 1.0 jitter False\n",
    "OC_P  0.688 (0.04) MSE mean 2.196 (0.64) MSE med 1.922 (0.55)"
   ]
  },
  {
   "cell_type": "markdown",
   "id": "0aeda4d4-643d-44e5-b8ad-25721fae909f",
   "metadata": {},
   "source": [
    "# Correlation and pairwise order consistency\n",
    "\n",
    "Testing on Grand data, with GLoVE: Are correlation and OC_P correlated? How about correlation and our new pairwise rank and insertion accuracy? \n",
    "\n",
    "We evaluate with correlation and normal OC_P on the whole dataset, and do 5-fold crossvalidation for rank and insertion accuracy. \n",
    "\n",
    "We obtain:\n",
    "```\n",
    "correlation of Pearson's r and r-acc on seed-based dimensions\n",
    "Grand data\n",
    "Correlation r = 0.972 p = 0.000\n",
    "\n",
    "correlation of Pearson's r and ri-acc on seed-based dimensions\n",
    "Grand data\n",
    "Correlation r = 0.971 p = 0.000\n",
    "```\n",
    "\n",
    "It is not surprising that the outcomes are basically the same because in this setting ri-acc is the same as r-acc just with a few rank comparisons omitted. \n",
    "\n",
    "Still, it needed to be done.\n"
   ]
  },
  {
   "cell_type": "code",
   "execution_count": 12,
   "id": "e58424e1-aa76-41d3-9191-0887f5bbd54e",
   "metadata": {},
   "outputs": [],
   "source": [
    "import compute_dim\n",
    "import eval_dim\n",
    "from scipy import stats\n",
    "import statistics\n",
    "\n",
    "results = [ ]\n",
    "\n",
    "rng = np.random.default_rng(seed = 3)\n",
    "\n",
    "\n",
    "for grandcategory, grandfeature, pos_seedwords, neg_seedwords, df, data_vectors in each_grandcondition(grandratings_dir, grandfeatures_df):\n",
    "    \n",
    "    dimension = compute_dim.dimension_seedbased(pos_seedwords, neg_seedwords, word_vectors)\n",
    "    \n",
    "    df[\"Pred\"]  = compute_dim.predict_scalarproj(data_vectors, dimension)\n",
    "    \n",
    "    ocp = eval_dim.pairwise_order_consistency(df[\"Gold\"], df[\"Pred\"])\n",
    "    result_obj = stats.pearsonr(df[\"Gold\"], df[\"Pred\"])\n",
    "    \n",
    "    # use crossvalidation to compute rank & insertion accuracies, and average\n",
    "    # over them\n",
    "    ri_accs = [ ]\n",
    "    # crossvalidation setup: give indices to datapoints\n",
    "    fold = rng.integers(low = 0, high = 5, size = len(df.Pred))\n",
    "    \n",
    "    for testfold in range(5):\n",
    "        # compute training and test data for this fold\n",
    "        test_indices =  [i for i in range(len(df.Pred)) if fold[i] == testfold]\n",
    "\n",
    "        ri_accs.append( eval_dim.pairwise_order_consistency_wrt(df.Gold, df.Pred, test_indices))\n",
    "                       \n",
    "    \n",
    "    results.append({\"category\": grandcategory,\n",
    "                    \"feature\" : grandfeature,\n",
    "                    \"ocp\" : ocp,\n",
    "                    \"ri_acc_avg\" : statistics.mean(ri_accs),\n",
    "                    \"pearsonr\" : result_obj.statistic,\n",
    "                    \"pvalue\" : result_obj.pvalue } )\n",
    "    "
   ]
  },
  {
   "cell_type": "code",
   "execution_count": 13,
   "id": "e44095e2-6199-4d80-82b5-5caa5f73890f",
   "metadata": {
    "tags": []
   },
   "outputs": [
    {
     "name": "stdout",
     "output_type": "stream",
     "text": [
      "correlation of Pearson's r and r-acc on seed-based dimensions\n",
      "Grand data\n",
      "Correlation r = 0.972 p = 0.000\n",
      "\n",
      "correlation of Pearson's r and ri-acc on seed-based dimensions\n",
      "Grand data\n",
      "Correlation r = 0.973 p = 0.000\n"
     ]
    }
   ],
   "source": [
    "#\n",
    "print(\"correlation of Pearson's r and r-acc on seed-based dimensions\")\n",
    "print(\"Grand data\")\n",
    "result_obj = stats.pearsonr([r[\"pearsonr\"] for r in results],\n",
    "                            [r[\"ocp\"] for r in results])\n",
    "print(f\"Correlation r = {result_obj.statistic:.3f} p = {result_obj.pvalue:.3f}\")\n",
    "\n",
    "print()\n",
    "print(\"correlation of Pearson's r and ri-acc on seed-based dimensions\")\n",
    "print(\"Grand data\")\n",
    "result_obj = stats.pearsonr([r[\"pearsonr\"] for r in results],\n",
    "                            [r[\"ri_acc_avg\"] for r in results])\n",
    "print(f\"Correlation r = {result_obj.statistic:.3f} p = {result_obj.pvalue:.3f}\")\n"
   ]
  },
  {
   "cell_type": "markdown",
   "id": "b7897fc8-c015-4ae9-88e6-ee066daa89bb",
   "metadata": {},
   "source": [
    "# Inspecting MSE\n",
    "\n",
    "Mean MSE values are really high for almost all models, but medians generally look much better, which means that there are likely some crazy outliers. We inspect this in more detail. \n",
    "\n",
    "To do this, we first rerun the whole evaluation, all models, all crossvalidation runs. \n"
   ]
  },
  {
   "cell_type": "code",
   "execution_count": 14,
   "id": "7fdc8a61-e320-4e00-bebc-db0d5fe0e910",
   "metadata": {},
   "outputs": [],
   "source": [
    "import eval_dim\n",
    "import compute_dim\n",
    "import statistics\n",
    "\n",
    "def crossvalidation(filenames, method, word_vectors, grandratings_dir, grandfeatures_df, random_seed = 123, verbose = False):\n",
    "    \n",
    "    all_evals = [ ]\n",
    "    rng = np.random.default_rng(seed = 3)\n",
    "\n",
    "    \n",
    "    for filename in filenames:\n",
    "            grandcategory, grandfeature, pos_seedwords, neg_seedwords, df = read_grand_data(filename, \n",
    "                                                                                            grandratings_dir,                                                                                            grandfeatures_df)\n",
    "            # storage for word vectors and gold values for this dataset\n",
    "            all_thisdata_vectors = []\n",
    "            all_thisdata_gold = []\n",
    "\n",
    "            # collect word vectors and gold ratings\n",
    "            for row in df.itertuples():\n",
    "                # row.Row is the word. look it up in word_vectors\n",
    "                all_thisdata_vectors.append( word_vectors[ row.Row ])\n",
    "                # gold rating: use z-scored average\n",
    "                all_thisdata_gold.append( row.Gold)\n",
    "\n",
    "            # crossvalidation setup: give indices to datapoints\n",
    "            fold = rng.integers(low = 0, high = method[\"numfolds\"], size = len(all_thisdata_gold))\n",
    "\n",
    "            # store the evaluation results from the different test folds\n",
    "            evals = [ ]\n",
    "\n",
    "            # iterate over folds, evaluate for each of them\n",
    "            for testfold in range(method[\"numfolds\"]):\n",
    "                # compute training and test data for this fold\n",
    "                test_indices =  [i for i in range(len(all_thisdata_gold)) if fold[i] == testfold]\n",
    "                train_indices = [i for i in range(len(all_thisdata_gold)) if fold[i] != testfold]\n",
    "\n",
    "                gold_test =  [ell[\"Gold\"] for _, ell in df.iloc[ test_indices ].iterrows()]\n",
    "                gold_train = [ ell[\"Gold\"] for _, ell in df.iloc[ train_indices ].iterrows()]\n",
    "                words_test =  [ell[\"Row\"] for _, ell in df.iloc[ test_indices].iterrows()]\n",
    "                words_train = [ell[\"Row\"] for _, ell in df.iloc[ train_indices].iterrows()]\n",
    "                vec_test =  [word_vectors[ w ] for w in words_test]\n",
    "                vec_train = [word_vectors[ w ] for w in words_train ]\n",
    "\n",
    "\n",
    "                # compute seed-based dimension, and its predictions\n",
    "                if method[\"method\"] == \"seedbased\":\n",
    "                    dimension = compute_dim.dimension_seedbased(pos_seedwords, neg_seedwords, word_vectors)\n",
    "                    df[\"Pred\"] = compute_dim.predict_coord_fromtrain(vec_train, gold_train, dimension, all_thisdata_vectors)\n",
    "\n",
    "                elif method[\"method\"] == \"fitted\":\n",
    "                    dimension, weight, bias = compute_dim.dimension_fitted_fromratings(vec_train, gold_train, \n",
    "                                                                                       method[\"feature_dim\"],\n",
    "                                                                                       random_seed = random_seed)\n",
    "                    df[\"Pred\"] = compute_dim.predict_coord_fromline(all_thisdata_vectors, dimension, weight, bias)\n",
    "\n",
    "                elif method[\"method\"] == \"fitted_seedwords\":\n",
    "                    dimension, weight, bias = compute_dim.dimension_fitted_fromratings_seedwords(vec_train, gold_train, \n",
    "                                                                    method[\"feature_dim\"], \n",
    "                                                                    pos_seedwords, neg_seedwords, word_vectors,\n",
    "                                                                    offset = method[\"offset\"], jitter = method[\"jitter\"],\n",
    "                                                                    random_seed = random_seed)\n",
    "                    df[\"Pred\"] = compute_dim.predict_coord_fromline(all_thisdata_vectors, dimension, weight, bias)\n",
    "\n",
    "                elif method[\"method\"] == \"fitted_seeddims\":\n",
    "                    dimension, weight, bias = compute_dim.dimension_fitted_fromratings_seeddims(vec_train, gold_train, \n",
    "                                                                    method[\"feature_dim\"], \n",
    "                                                                    pos_seedwords, neg_seedwords, word_vectors,\n",
    "                                                                    do_average = method[\"do_average\"], \n",
    "                                                                    alpha = method[\"alpha\"],\n",
    "                                                                    random_seed = random_seed)\n",
    "                    df[\"Pred\"] = compute_dim.predict_coord_fromline(all_thisdata_vectors, dimension, weight, bias)\n",
    "\n",
    "                elif method[\"method\"] == \"combined\":\n",
    "                    dimension, weight, bias = compute_dim.dimension_fitted_fromratings_combined(vec_train, gold_train,\n",
    "                                                                    method[\"feature_dim\"],\n",
    "                                                                    pos_seedwords, neg_seedwords, word_vectors,\n",
    "                                                                    offset = method[\"offset\"], jitter = method[\"jitter\"],\n",
    "                                                                    do_average = method[\"do_average\"], \n",
    "                                                                    alpha = method[\"alpha\"],\n",
    "                                                                    random_seed = random_seed)\n",
    "                    df[\"Pred\"] = compute_dim.predict_coord_fromline(all_thisdata_vectors, dimension, weight, bias)\n",
    "\n",
    "                else:\n",
    "                    raise Exception(\"shouldn't be here\")\n",
    "\n",
    "                # order consistency pairwise: test values tested for their ordering wrt. all values, training and test\n",
    "                # MSE: evaluate on test only\n",
    "                e = { \"ocp\" : eval_dim.pairwise_order_consistency_wrt(df[\"Gold\"], df[\"Pred\"], test_indices),\n",
    "                      \"mse\" : eval_dim.mean_squared_error(gold_test, [p for i, p in enumerate(df[\"Pred\"]) if i in test_indices]),\n",
    "                      \"feature\" : grandfeature,\n",
    "                      \"category\" : grandcategory,\n",
    "                      \"method\" : method[\"method\"]}\n",
    "\n",
    "                all_evals.append(e)\n",
    "\n",
    "    if verbose:\n",
    "        ocps = [e[\"ocp\"] for e in all_evals if e[\"ocp\"] is not None]\n",
    "        mses = [e[\"mse\"] for e in all_evals if e[\"mse\"] is not None]\n",
    "\n",
    "        print(\"\\n\\nOverall\", method[\"method\"], \n",
    "              f\"OC_p {statistics.mean(ocps):.3f} ({statistics.stdev(ocps):.2f})\", \n",
    "              f\"MSE mean {statistics.mean(mses):.3f} ({statistics.stdev(mses):.2f}) median {statistics.median(mses):.3f}\")\n",
    "        \n",
    "    return all_evals\n"
   ]
  },
  {
   "cell_type": "code",
   "execution_count": 15,
   "id": "7a3b6b76-2cdb-419b-9586-d8af3d7117d2",
   "metadata": {
    "tags": []
   },
   "outputs": [
    {
     "data": {
      "text/plain": [
       "[['cities', 'temperature'],\n",
       " ['professions', 'intelligence'],\n",
       " ['clothing', 'location'],\n",
       " ['cities', 'arousal'],\n",
       " ['clothing', 'arousal'],\n",
       " ['states', 'size'],\n",
       " ['sports', 'intelligence'],\n",
       " ['clothing', 'wealth'],\n",
       " ['weather', 'danger'],\n",
       " ['professions', 'danger'],\n",
       " ['clothing', 'size'],\n",
       " ['animals', 'size'],\n",
       " ['sports', 'wealth'],\n",
       " ['professions', 'valence'],\n",
       " ['names', 'wealth'],\n",
       " ['cities', 'cost'],\n",
       " ['cities', 'wealth'],\n",
       " ['professions', 'gender'],\n",
       " ['states', 'religiosity'],\n",
       " ['clothing', 'age'],\n",
       " ['weather', 'wetness'],\n",
       " ['professions', 'wealth'],\n",
       " ['myth', 'valence'],\n",
       " ['clothing', 'cost'],\n",
       " ['professions', 'age'],\n",
       " ['myth', 'size'],\n",
       " ['sports', 'danger'],\n",
       " ['names', 'gender'],\n",
       " ['sports', 'gender'],\n",
       " ['professions', 'location'],\n",
       " ['sports', 'speed'],\n",
       " ['states', 'temperature'],\n",
       " ['professions', 'arousal'],\n",
       " ['cities', 'size'],\n",
       " ['states', 'wealth'],\n",
       " ['sports', 'arousal'],\n",
       " ['clothing', 'gender'],\n",
       " ['weather', 'temperature'],\n",
       " ['cities', 'religiosity'],\n",
       " ['animals', 'intelligence'],\n",
       " ['names', 'intelligence'],\n",
       " ['myth', 'gender'],\n",
       " ['animals', 'speed'],\n",
       " ['animals', 'gender'],\n",
       " ['states', 'cost'],\n",
       " ['myth', 'danger'],\n",
       " ['animals', 'danger'],\n",
       " ['animals', 'loudness'],\n",
       " ['states', 'intelligence'],\n",
       " ['sports', 'location']]"
      ]
     },
     "execution_count": 15,
     "metadata": {},
     "output_type": "execute_result"
    }
   ],
   "source": [
    "# non-development data\n",
    "\n",
    "filenames = [f for f in os.listdir(grandratings_dir) if f.endswith(\"csv\")]\n",
    "\n",
    "import random\n",
    "random.seed(789)\n",
    "devset = random.sample(filenames, 6)\n",
    "traintestset = [f for f in filenames if f not in devset]\n",
    "[ filename[:-4].split(\"_\") for filename in traintestset]"
   ]
  },
  {
   "cell_type": "code",
   "execution_count": 16,
   "id": "eb8bfb1e-9b33-4995-8286-11968bb446a8",
   "metadata": {},
   "outputs": [],
   "source": [
    "# settings for the different runs\n",
    "\n",
    "numfolds = 5\n",
    "feature_dim = 300\n",
    "num_randseeds = 3\n",
    "\n",
    "hyper_offset = 1.0\n",
    "hyper_jitter = False\n",
    "hyper_average = True\n",
    "hyper_alpha1 = 0.02\n",
    "hyper_alpha2 = 0.05\n",
    "\n",
    "run_settings = { \"seedbased\": { \"method\": \"seedbased\",\n",
    "                                \"numfolds\" : numfolds},\n",
    "                \"fitted\" :    {\"method\": \"fitted\",\n",
    "                                \"numfolds\" : numfolds,\n",
    "                                \"feature_dim\" : feature_dim},\n",
    "                \"fitted_seedwords\" : { \"method\": \"fitted_seedwords\",\n",
    "                                \"numfolds\" : numfolds,\n",
    "                                \"offset\" : hyper_offset,\n",
    "                                \"jitter\" : hyper_jitter,\n",
    "                                \"feature_dim\" : feature_dim},\n",
    "                \"fitted_seeddims\" : { \"method\": \"fitted_seeddims\",\n",
    "                                \"numfolds\" : numfolds,\n",
    "                                \"alpha\" : hyper_alpha1,\n",
    "                                \"do_average\" : hyper_average,\n",
    "                                \"feature_dim\" : feature_dim},\n",
    "                \"combined\" : {\"method\": \"combined\",\n",
    "                                \"numfolds\" : numfolds,\n",
    "                                \"alpha\" : hyper_alpha2,\n",
    "                                \"do_average\" : hyper_average,\n",
    "                                \"offset\" : hyper_offset,\n",
    "                                \"jitter\" : hyper_jitter,\n",
    "                                \"feature_dim\" : feature_dim}\n",
    "}\n",
    "\n",
    "\n"
   ]
  },
  {
   "cell_type": "code",
   "execution_count": 17,
   "id": "49d4391d-eca6-405d-92f3-7c45c09838c2",
   "metadata": {
    "tags": []
   },
   "outputs": [
    {
     "name": "stdout",
     "output_type": "stream",
     "text": [
      "seedbased\n",
      "fitted\n",
      "fitted_seedwords\n",
      "fitted_seeddims\n",
      "combined\n"
     ]
    }
   ],
   "source": [
    "results = [ ]\n",
    "for methodname in run_settings.keys():\n",
    "    print(methodname)\n",
    "    \n",
    "    random.seed(5)\n",
    "    randoms = [random.randrange(0,100) for _ in range(num_randseeds)]\n",
    "\n",
    "    for rval in randoms:\n",
    "        theseresults = crossvalidation(traintestset, run_settings[methodname], \n",
    "                                       word_vectors, grandratings_dir, grandfeatures_df, random_seed = rval)\n",
    "        results += theseresults\n",
    "\n",
    " "
   ]
  },
  {
   "cell_type": "code",
   "execution_count": 18,
   "id": "86c5d03b-e356-4ade-9f21-ea40c94b8fd2",
   "metadata": {
    "tags": []
   },
   "outputs": [],
   "source": [
    "import pandas as pd\n",
    "\n",
    "res_df = pd.DataFrame(results)"
   ]
  },
  {
   "cell_type": "code",
   "execution_count": 19,
   "id": "4a7a3034-095b-4e8a-b118-a66f635254bf",
   "metadata": {
    "tags": []
   },
   "outputs": [
    {
     "data": {
      "text/html": [
       "<div>\n",
       "<style scoped>\n",
       "    .dataframe tbody tr th:only-of-type {\n",
       "        vertical-align: middle;\n",
       "    }\n",
       "\n",
       "    .dataframe tbody tr th {\n",
       "        vertical-align: top;\n",
       "    }\n",
       "\n",
       "    .dataframe thead th {\n",
       "        text-align: right;\n",
       "    }\n",
       "</style>\n",
       "<table border=\"1\" class=\"dataframe\">\n",
       "  <thead>\n",
       "    <tr style=\"text-align: right;\">\n",
       "      <th></th>\n",
       "      <th>ocp</th>\n",
       "      <th>mse</th>\n",
       "      <th>feature</th>\n",
       "      <th>category</th>\n",
       "      <th>method</th>\n",
       "    </tr>\n",
       "  </thead>\n",
       "  <tbody>\n",
       "    <tr>\n",
       "      <th>0</th>\n",
       "      <td>0.549195</td>\n",
       "      <td>5462.512409</td>\n",
       "      <td>temperature</td>\n",
       "      <td>cities</td>\n",
       "      <td>seedbased</td>\n",
       "    </tr>\n",
       "    <tr>\n",
       "      <th>1</th>\n",
       "      <td>0.565432</td>\n",
       "      <td>12466.850298</td>\n",
       "      <td>temperature</td>\n",
       "      <td>cities</td>\n",
       "      <td>seedbased</td>\n",
       "    </tr>\n",
       "    <tr>\n",
       "      <th>2</th>\n",
       "      <td>0.546703</td>\n",
       "      <td>9735.259612</td>\n",
       "      <td>temperature</td>\n",
       "      <td>cities</td>\n",
       "      <td>seedbased</td>\n",
       "    </tr>\n",
       "    <tr>\n",
       "      <th>3</th>\n",
       "      <td>0.507865</td>\n",
       "      <td>1822.985423</td>\n",
       "      <td>temperature</td>\n",
       "      <td>cities</td>\n",
       "      <td>seedbased</td>\n",
       "    </tr>\n",
       "    <tr>\n",
       "      <th>4</th>\n",
       "      <td>0.474157</td>\n",
       "      <td>176.587311</td>\n",
       "      <td>temperature</td>\n",
       "      <td>cities</td>\n",
       "      <td>seedbased</td>\n",
       "    </tr>\n",
       "  </tbody>\n",
       "</table>\n",
       "</div>"
      ],
      "text/plain": [
       "        ocp           mse      feature category     method\n",
       "0  0.549195   5462.512409  temperature   cities  seedbased\n",
       "1  0.565432  12466.850298  temperature   cities  seedbased\n",
       "2  0.546703   9735.259612  temperature   cities  seedbased\n",
       "3  0.507865   1822.985423  temperature   cities  seedbased\n",
       "4  0.474157    176.587311  temperature   cities  seedbased"
      ]
     },
     "execution_count": 19,
     "metadata": {},
     "output_type": "execute_result"
    }
   ],
   "source": [
    "res_df.head()"
   ]
  },
  {
   "cell_type": "code",
   "execution_count": 20,
   "id": "ef22d9dc-25e3-4e1a-8e5d-dc81cf9b2ffb",
   "metadata": {
    "tags": []
   },
   "outputs": [],
   "source": [
    "# Counting how often we get MSE values in different bins\n",
    "# as I can't seem to make pandas barplot to do the right thing\n",
    "\n",
    "counts = [ ]\n",
    "namemap= {\"seedbased\" : \"seed\",\n",
    "          \"fitted\" : \"fit\",\n",
    "          \"fitted_seedwords\" : \"fit-sw\",\n",
    "          \"fitted_seeddims\" : \"fit-sd\",\n",
    "          \"combined\" : \"fit-s\" }\n",
    "\n",
    "for method in [\"seedbased\", \"fitted\", \"fitted_seedwords\", \"fitted_seeddims\", \"combined\"]:\n",
    "    counts.append( { \"model\" : namemap[method],\n",
    "                    \"<2\": res_df[(res_df.method == method) & (res_df.mse < 2)].shape[0],\n",
    "                    \"2-10\": res_df[(res_df.method == method) & (res_df.mse>= 2) & (res_df.mse < 10)].shape[0],\n",
    "                    \"10-100\" : res_df[(res_df.method == method) & (res_df.mse >= 10) & (res_df.mse < 100)].shape[0],\n",
    "                    \">100\":res_df[(res_df.method == method) & (res_df.mse >= 100)].shape[0]})\n"
   ]
  },
  {
   "cell_type": "code",
   "execution_count": 21,
   "id": "a5fcaea9-f00c-4450-b28a-6cb47605f537",
   "metadata": {
    "tags": []
   },
   "outputs": [],
   "source": [
    "countsdf = pd.DataFrame(counts)"
   ]
  },
  {
   "cell_type": "code",
   "execution_count": 22,
   "id": "5d7bc5bb-d596-4f45-a8c3-bfefe9f16c37",
   "metadata": {
    "tags": []
   },
   "outputs": [],
   "source": [
    "countsdf.set_index(\"model\", inplace = True)"
   ]
  },
  {
   "cell_type": "code",
   "execution_count": 23,
   "id": "c26a8895-deae-4028-9964-bf017fc459d1",
   "metadata": {
    "tags": []
   },
   "outputs": [
    {
     "data": {
      "image/png": "[encoded data removed]",
      "text/plain": [
       "<Figure size 640x480 with 1 Axes>"
      ]
     },
     "metadata": {},
     "output_type": "display_data"
    }
   ],
   "source": [
    "%matplotlib inline\n",
    "\n",
    "countsdf.plot.bar(rot=30);"
   ]
  },
  {
   "cell_type": "code",
   "execution_count": 24,
   "id": "3eb45f80-c353-4c80-bc3f-aba61ed6f34b",
   "metadata": {
    "tags": []
   },
   "outputs": [
    {
     "name": "stdout",
     "output_type": "stream",
     "text": [
      "Model seedbased percentage with MSE<2: 3 of 750 = 0.004\n",
      "\t percentage with MSE<10: 60 of 750 = 0.08\n",
      "Model fitted percentage with MSE<2: 0 of 750 = 0.0\n",
      "\t percentage with MSE<10: 33 of 750 = 0.044\n",
      "Model fitted_seedwords percentage with MSE<2: 0 of 750 = 0.0\n",
      "\t percentage with MSE<10: 5 of 750 = 0.0067\n",
      "Model fitted_seeddims percentage with MSE<2: 152 of 750 = 0.2027\n",
      "\t percentage with MSE<10: 424 of 750 = 0.5653\n",
      "Model combined percentage with MSE<2: 727 of 750 = 0.9693\n",
      "\t percentage with MSE<10: 750 of 750 = 1.0\n"
     ]
    }
   ],
   "source": [
    "for method in [\"seedbased\", \"fitted\", \"fitted_seedwords\", \"fitted_seeddims\", \"combined\"]:\n",
    "    numentries = res_df[res_df.method == method].shape[0]\n",
    "    lt2 = res_df[(res_df.method == method) & (res_df.mse < 2)].shape[0]\n",
    "    lt10 = res_df[(res_df.method == method) & (res_df.mse < 10)].shape[0]\n",
    "    print(\"Model\", method, \"percentage with MSE<2:\", lt2, \"of\", numentries, \"=\", round(lt2 / numentries, 4))\n",
    "    print(\"\\t\", \"percentage with MSE<10:\", lt10, \"of\", numentries, \"=\", round(lt10 / numentries, 4))"
   ]
  },
  {
   "cell_type": "markdown",
   "id": "6bd9c169-cadd-4f58-bd96-6543adf21fd5",
   "metadata": {},
   "source": [
    "# Where is the difference?\n",
    "\n",
    "On the Grand et al object properties, the fitted model with seeds as words and dimensions does considerably better than seed-based dimensions. But when does it do better? Does it do better specifically on cases where the original seed-based dimensions did not do well? Is there any regularity to when this model is preferable? e inspect the \"seed-based\" and \"combined\" results among the results computed above."
   ]
  },
  {
   "cell_type": "code",
   "execution_count": 25,
   "id": "b1119014-30a9-4258-9b47-42dc49f7f705",
   "metadata": {
    "tags": []
   },
   "outputs": [],
   "source": [
    "# select results dictionaries for seedbased and combined methods\n",
    "results_seed = [r for r in results if r[\"method\"] == \"seedbased\"]\n",
    "results_comb = [r for r in results if r[\"method\"] == \"combined\"]"
   ]
  },
  {
   "cell_type": "code",
   "execution_count": 26,
   "id": "5bf249d3-89f0-4787-87e9-0454f3776af0",
   "metadata": {},
   "outputs": [],
   "source": [
    "from collections import defaultdict\n",
    "import statistics\n",
    "\n",
    "# given a list of results dictionaries, \n",
    "# group them by the given dictionary keys\n",
    "# return as a dictionary keys -> results dictionaries\n",
    "def eval_aggregate_by(evals, keylabels):\n",
    "    bydataset_eval = defaultdict(list)\n",
    "    \n",
    "    for e in evals:\n",
    "        key = tuple([str(e[k]) for k in keylabels])\n",
    "        bydataset_eval[ key ].append(e)\n",
    "        \n",
    "    return bydataset_eval\n",
    "\n",
    "# given a list of results dictionaries,\n",
    "# compute mean, median and standard deviation over values for a particular key\n",
    "def eval_summary_by(evals, keylabel):\n",
    "    vals = [e[keylabel] for e in evals if e[keylabel] is not None]\n",
    "    \n",
    "    return (statistics.mean(vals), statistics.median(vals), statistics.stdev(vals))"
   ]
  },
  {
   "cell_type": "code",
   "execution_count": 27,
   "id": "b472860b-3c41-4c22-ba1a-16adbb6f2106",
   "metadata": {
    "tags": []
   },
   "outputs": [],
   "source": [
    "# for seedbased and combined,\n",
    "# aggregate results by condition,\n",
    "# yielding a dictionary mapping (category, feature) to evaluation results\n",
    "results_seed_bycond = eval_aggregate_by(results_seed, [\"category\", \"feature\"])\n",
    "results_comb_bycond = eval_aggregate_by(results_comb, [\"category\", \"feature\"])"
   ]
  },
  {
   "cell_type": "code",
   "execution_count": 28,
   "id": "28cf52e3-ceb8-4e52-b886-ad1eadb5cdda",
   "metadata": {},
   "outputs": [],
   "source": [
    "# combine into a list of dictionaries, one per condition"
   ]
  },
  {
   "cell_type": "code",
   "execution_count": 29,
   "id": "3c2091c5-0db7-41f1-babe-7058a4d50562",
   "metadata": {
    "tags": []
   },
   "outputs": [],
   "source": [
    "seed_and_comb_list = [ ]\n",
    "for condition in results_seed_bycond.keys():\n",
    "    category, feature = condition\n",
    "    \n",
    "    # keep mean OCP, median MSE only\n",
    "    rs = results_seed_bycond[condition]\n",
    "    ocp_seed = eval_summary_by(rs, \"ocp\")[0]\n",
    "    mse_seed = eval_summary_by(rs, \"mse\")[1]\n",
    "                               \n",
    "    rs = results_comb_bycond[condition]\n",
    "    ocp_comb = eval_summary_by(rs, \"ocp\")[0]\n",
    "    mse_comb = eval_summary_by(rs, \"mse\")[1]\n",
    "    \n",
    "    seed_and_comb_list.append({ \"category\":category, \"feature\":feature,\n",
    "                                \"ocp_seed\" : ocp_seed, \"mse_seed\" : mse_seed,\n",
    "                                \"ocp_comb\" : ocp_comb, \"mse_comb\" : mse_comb})\n",
    "                                "
   ]
  },
  {
   "cell_type": "code",
   "execution_count": 30,
   "id": "6ba3c3f2-33bc-486c-aa6e-b2feccb02458",
   "metadata": {
    "tags": []
   },
   "outputs": [
    {
     "data": {
      "text/html": [
       "<div>\n",
       "<style scoped>\n",
       "    .dataframe tbody tr th:only-of-type {\n",
       "        vertical-align: middle;\n",
       "    }\n",
       "\n",
       "    .dataframe tbody tr th {\n",
       "        vertical-align: top;\n",
       "    }\n",
       "\n",
       "    .dataframe thead th {\n",
       "        text-align: right;\n",
       "    }\n",
       "</style>\n",
       "<table border=\"1\" class=\"dataframe\">\n",
       "  <thead>\n",
       "    <tr style=\"text-align: right;\">\n",
       "      <th></th>\n",
       "      <th>category</th>\n",
       "      <th>feature</th>\n",
       "      <th>ocp_seed</th>\n",
       "      <th>mse_seed</th>\n",
       "      <th>ocp_comb</th>\n",
       "      <th>mse_comb</th>\n",
       "    </tr>\n",
       "  </thead>\n",
       "  <tbody>\n",
       "    <tr>\n",
       "      <th>0</th>\n",
       "      <td>cities</td>\n",
       "      <td>temperature</td>\n",
       "      <td>0.528671</td>\n",
       "      <td>5462.512409</td>\n",
       "      <td>0.638749</td>\n",
       "      <td>2.177147</td>\n",
       "    </tr>\n",
       "    <tr>\n",
       "      <th>1</th>\n",
       "      <td>professions</td>\n",
       "      <td>intelligence</td>\n",
       "      <td>0.633854</td>\n",
       "      <td>191.445955</td>\n",
       "      <td>0.843547</td>\n",
       "      <td>0.477829</td>\n",
       "    </tr>\n",
       "    <tr>\n",
       "      <th>2</th>\n",
       "      <td>clothing</td>\n",
       "      <td>location</td>\n",
       "      <td>0.590434</td>\n",
       "      <td>150.005728</td>\n",
       "      <td>0.812696</td>\n",
       "      <td>0.638092</td>\n",
       "    </tr>\n",
       "    <tr>\n",
       "      <th>3</th>\n",
       "      <td>cities</td>\n",
       "      <td>arousal</td>\n",
       "      <td>0.466753</td>\n",
       "      <td>24482.917373</td>\n",
       "      <td>0.820140</td>\n",
       "      <td>0.582723</td>\n",
       "    </tr>\n",
       "    <tr>\n",
       "      <th>4</th>\n",
       "      <td>clothing</td>\n",
       "      <td>arousal</td>\n",
       "      <td>0.550581</td>\n",
       "      <td>4390.885257</td>\n",
       "      <td>0.652038</td>\n",
       "      <td>1.744142</td>\n",
       "    </tr>\n",
       "  </tbody>\n",
       "</table>\n",
       "</div>"
      ],
      "text/plain": [
       "      category       feature  ocp_seed      mse_seed  ocp_comb  mse_comb\n",
       "0       cities   temperature  0.528671   5462.512409  0.638749  2.177147\n",
       "1  professions  intelligence  0.633854    191.445955  0.843547  0.477829\n",
       "2     clothing      location  0.590434    150.005728  0.812696  0.638092\n",
       "3       cities       arousal  0.466753  24482.917373  0.820140  0.582723\n",
       "4     clothing       arousal  0.550581   4390.885257  0.652038  1.744142"
      ]
     },
     "execution_count": 30,
     "metadata": {},
     "output_type": "execute_result"
    }
   ],
   "source": [
    "df = pd.DataFrame(seed_and_comb_list)\n",
    "df.head()"
   ]
  },
  {
   "cell_type": "code",
   "execution_count": 31,
   "id": "6102ba8a-2240-4fda-bdd7-8a7be774f5b0",
   "metadata": {
    "tags": []
   },
   "outputs": [
    {
     "name": "stdout",
     "output_type": "stream",
     "text": [
      "How often did OCP rise from seed-based to fit-s?\n",
      "50 out of 50  -- percentage: 1.0\n"
     ]
    }
   ],
   "source": [
    "# in what percentage of cases did ocp get better?\n",
    "print(\"How often did OCP rise from seed-based to fit-s?\")\n",
    "print(df[df.ocp_comb > df.ocp_seed].shape[0], \"out of\", df.shape[0],\n",
    "      \" -- percentage:\", round(df[df.ocp_comb > df.ocp_seed].shape[0] / df.shape[0], 3))"
   ]
  },
  {
   "cell_type": "code",
   "execution_count": 32,
   "id": "3e7dd4d3-2d30-49c6-b71b-022291c0a21c",
   "metadata": {
    "tags": []
   },
   "outputs": [
    {
     "data": {
      "text/plain": [
       "ocp_seed_bin\n",
       "(0.458, 0.542]    0.273785\n",
       "(0.542, 0.625]    0.178529\n",
       "(0.625, 0.707]    0.160629\n",
       "(0.707, 0.79]     0.086496\n",
       "(0.79, 0.873]     0.017504\n",
       "Name: ocp_rise, dtype: float64"
      ]
     },
     "execution_count": 32,
     "metadata": {},
     "output_type": "execute_result"
    }
   ],
   "source": [
    "# how strongly did ocp rise for different bins of\n",
    "# ocp in seed-based?\n",
    "# It does indeed rise the most for the cases where the seed-based results were weakest\n",
    "\n",
    "# rise in ocp\n",
    "\n",
    "df[\"ocp_rise\"] = df.ocp_comb - df.ocp_seed\n",
    "\n",
    "df[\"ocp_seed_bin\"] = pd.cut(df.ocp_seed, 5)\n",
    "df.groupby(by = \"ocp_seed_bin\").ocp_rise.mean()"
   ]
  },
  {
   "cell_type": "code",
   "execution_count": 33,
   "id": "4648b7e1-2e3d-4f59-b927-971092dfd14c",
   "metadata": {
    "tags": []
   },
   "outputs": [
    {
     "data": {
      "image/png": "[encoded data removed]",
      "text/plain": [
       "<Figure size 640x480 with 1 Axes>"
      ]
     },
     "metadata": {},
     "output_type": "display_data"
    }
   ],
   "source": [
    "df.groupby(by = \"ocp_seed_bin\").ocp_rise.mean().plot.bar(rot=30 ,xlabel=\"seed-based ri-acc\", ylabel=\"fit+s ri-acc increase\");"
   ]
  },
  {
   "cell_type": "markdown",
   "id": "95eabf5b-5591-4f2d-8adc-0e3200a1f0b4",
   "metadata": {},
   "source": [
    "# Printing out all the results in a table, to choose from for the paper"
   ]
  },
  {
   "cell_type": "code",
   "execution_count": 34,
   "id": "56a6a96c-f8da-40a2-92ae-6a09cf55aecc",
   "metadata": {
    "tags": []
   },
   "outputs": [],
   "source": [
    "# combine all results into one dictionary per condition\n",
    "\n",
    "results_seed_bycond = eval_aggregate_by([r for r in results if r[\"method\"] == \"seedbased\"], [\"category\", \"feature\"])\n",
    "results_fit_bycond = eval_aggregate_by([r for r in results if r[\"method\"] == \"fitted\"], [\"category\", \"feature\"])\n",
    "results_fitsw_bycond = eval_aggregate_by([r for r in results if r[\"method\"] == \"fitted_seedwords\"], [\"category\", \"feature\"])\n",
    "results_fitsd_bycond = eval_aggregate_by([r for r in results if r[\"method\"] == \"fitted_seeddims\"], [\"category\", \"feature\"])\n",
    "results_fits_bycond = eval_aggregate_by([r for r in results if r[\"method\"] == \"combined\"], [\"category\", \"feature\"])\n",
    "\n",
    "resultdict_list = [ ]\n",
    "for condition in results_seed_bycond.keys():\n",
    "    category, feature = condition\n",
    "    \n",
    "    e = { \"category\":category, \"feature\":feature, \"ocp\":{}, \"mse\" : {} }\n",
    "    \n",
    "    # keep mean OCP, median MSE only\n",
    "    rs = results_seed_bycond[condition]\n",
    "    e[\"ocp\"][\"seed\"] = eval_summary_by(rs, \"ocp\")[0]\n",
    "    e[\"mse\"][\"seed\"] = eval_summary_by(rs, \"mse\")[1]\n",
    "                               \n",
    "    rs = results_fit_bycond[condition]\n",
    "    e[\"ocp\"][\"fit\"] = eval_summary_by(rs, \"ocp\")[0]\n",
    "    e[\"mse\"][\"fit\"] = eval_summary_by(rs, \"mse\")[1]\n",
    "    \n",
    "    rs = results_fitsw_bycond[condition]\n",
    "    e[\"ocp\"][\"fit-sw\"] = eval_summary_by(rs, \"ocp\")[0]\n",
    "    e[\"mse\"][\"fit-sw\"] = eval_summary_by(rs, \"mse\")[1]\n",
    "    \n",
    "    rs = results_fitsd_bycond[condition]\n",
    "    e[\"ocp\"][\"fit-sd\"] = eval_summary_by(rs, \"ocp\")[0]\n",
    "    e[\"mse\"][\"fit-sd\"] = eval_summary_by(rs, \"mse\")[1]\n",
    "    \n",
    "    rs = results_fits_bycond[condition]\n",
    "    e[\"ocp\"][\"fit-s\"] = eval_summary_by(rs, \"ocp\")[0]\n",
    "    e[\"mse\"][\"fit-s\"] = eval_summary_by(rs, \"mse\")[1]\n",
    "    \n",
    "    resultdict_list.append(e)\n"
   ]
  },
  {
   "cell_type": "code",
   "execution_count": 35,
   "id": "dc8039d8-aeb0-4ef3-ba17-5ad64591031f",
   "metadata": {
    "tags": []
   },
   "outputs": [
    {
     "name": "stdout",
     "output_type": "stream",
     "text": [
      "sports & speed & 0.46 & 0.55 & 0.56 & 0.52 & 0.78 & 7095.35 & 54.75 & 93.83 & 94.98 & 1.07 & \\\\\n",
      "states & cost & 0.46 & 0.5 & 0.5 & 0.42 & 0.83 & 23948.33 & 113.11 & 158.52 & 848.46 & 0.59 & \\\\\n",
      "cities & arousal & 0.47 & 0.52 & 0.5 & 0.51 & 0.82 & 24482.92 & 224.36 & 379.4 & 175.49 & 0.58 & \\\\\n",
      "animals & intelligence & 0.48 & 0.55 & 0.54 & 0.5 & 0.79 & 4299.24 & 38.39 & 150.45 & 66.51 & 0.66 & \\\\\n",
      "clothing & cost & 0.48 & 0.52 & 0.51 & 0.55 & 0.76 & 1208.91 & 166.41 & 112.79 & 53.38 & 0.96 & \\\\\n",
      "states & religiosity & 0.5 & 0.51 & 0.52 & 0.54 & 0.82 & 5887.5 & 44.69 & 108.66 & 337.02 & 0.59 & \\\\\n",
      "animals & loudness & 0.5 & 0.52 & 0.52 & 0.59 & 0.78 & 18387.79 & 90.17 & 102.13 & 14.25 & 0.81 & \\\\\n",
      "clothing & size & 0.53 & 0.53 & 0.53 & 0.52 & 0.64 & 3210.0 & 96.45 & 100.03 & 191.57 & 1.37 & \\\\\n",
      "cities & temperature & 0.53 & 0.59 & 0.58 & 0.5 & 0.64 & 5462.51 & 28.93 & 139.61 & 721.18 & 2.18 & \\\\\n",
      "cities & cost & 0.54 & 0.57 & 0.51 & 0.54 & 0.81 & 7587.94 & 182.42 & 418.78 & 54.71 & 0.75 & \\\\\n",
      "clothing & arousal & 0.55 & 0.52 & 0.5 & 0.53 & 0.65 & 4390.89 & 261.87 & 422.6 & 640.01 & 1.74 & \\\\\n",
      "cities & wealth & 0.55 & 0.61 & 0.61 & 0.53 & 0.66 & 2453.77 & 31.31 & 115.24 & 205.55 & 1.44 & \\\\\n",
      "professions & location & 0.56 & 0.5 & 0.49 & 0.53 & 0.73 & 2380.39 & 314.34 & 376.37 & 179.34 & 0.72 & \\\\\n",
      "cities & size & 0.57 & 0.5 & 0.52 & 0.62 & 0.82 & 812.91 & 745.97 & 49.7 & 9.87 & 0.55 & \\\\\n",
      "states & size & 0.57 & 0.57 & 0.54 & 0.42 & 0.73 & 208.9 & 53.91 & 101.32 & 650.43 & 1.03 & \\\\\n",
      "states & intelligence & 0.58 & 0.52 & 0.49 & 0.53 & 0.8 & 15661.35 & 166.87 & 167.42 & 54.19 & 0.53 & \\\\\n",
      "professions & age & 0.58 & 0.47 & 0.54 & 0.73 & 0.81 & 1360.46 & 160.31 & 128.49 & 2.71 & 0.54 & \\\\\n",
      "professions & valence & 0.58 & 0.52 & 0.52 & 0.56 & 0.68 & 378.76 & 156.94 & 162.08 & 11.46 & 0.75 & \\\\\n",
      "clothing & location & 0.59 & 0.52 & 0.51 & 0.62 & 0.81 & 150.01 & 70.28 & 248.21 & 14.02 & 0.64 & \\\\\n",
      "sports & arousal & 0.6 & 0.55 & 0.55 & 0.62 & 0.78 & 2276.63 & 33.94 & 107.18 & 20.8 & 0.67 & \\\\\n",
      "cities & religiosity & 0.6 & 0.52 & 0.55 & 0.61 & 0.8 & 329.38 & 68.88 & 84.82 & 8.16 & 0.6 & \\\\\n",
      "sports & wealth & 0.61 & 0.52 & 0.54 & 0.69 & 0.8 & 137.44 & 75.74 & 102.77 & 3.53 & 0.59 & \\\\\n",
      "clothing & wealth & 0.62 & 0.52 & 0.53 & 0.6 & 0.82 & 262.61 & 31.37 & 55.39 & 21.68 & 0.6 & \\\\\n",
      "states & wealth & 0.62 & 0.55 & 0.56 & 0.64 & 0.82 & 124.07 & 95.54 & 121.82 & 7.46 & 0.53 & \\\\\n",
      "animals & speed & 0.62 & 0.56 & 0.57 & 0.72 & 0.76 & 731.35 & 39.56 & 84.65 & 6.67 & 0.75 & \\\\\n",
      "sports & danger & 0.63 & 0.57 & 0.54 & 0.66 & 0.84 & 165.83 & 42.2 & 122.12 & 6.63 & 0.6 & \\\\\n",
      "professions & intelligence & 0.63 & 0.53 & 0.53 & 0.68 & 0.84 & 191.45 & 120.29 & 140.02 & 4.03 & 0.48 & \\\\\n",
      "professions & danger & 0.65 & 0.56 & 0.56 & 0.68 & 0.84 & 211.97 & 49.61 & 129.51 & 6.76 & 0.35 & \\\\\n",
      "names & wealth & 0.66 & 0.57 & 0.54 & 0.63 & 0.85 & 273.04 & 47.21 & 66.5 & 6.51 & 0.47 & \\\\\n",
      "professions & arousal & 0.66 & 0.54 & 0.53 & 0.66 & 0.83 & 337.15 & 118.75 & 95.67 & 5.99 & 0.45 & \\\\\n",
      "professions & wealth & 0.67 & 0.51 & 0.51 & 0.72 & 0.86 & 184.83 & 124.61 & 182.6 & 3.07 & 0.37 & \\\\\n",
      "sports & intelligence & 0.68 & 0.52 & 0.52 & 0.73 & 0.79 & 78.72 & 104.28 & 127.78 & 2.06 & 0.6 & \\\\\n",
      "weather & wetness & 0.68 & 0.51 & 0.5 & 0.68 & 0.81 & 173.01 & 193.78 & 239.5 & 2.87 & 0.53 & \\\\\n",
      "weather & temperature & 0.69 & 0.56 & 0.52 & 0.66 & 0.76 & 155.03 & 50.21 & 229.77 & 5.43 & 0.85 & \\\\\n",
      "animals & danger & 0.7 & 0.6 & 0.57 & 0.76 & 0.84 & 50.73 & 52.82 & 239.79 & 2.37 & 0.43 & \\\\\n",
      "clothing & age & 0.71 & 0.52 & 0.55 & 0.71 & 0.8 & 324.62 & 94.6 & 99.37 & 3.55 & 0.7 & \\\\\n",
      "myth & valence & 0.73 & 0.52 & 0.51 & 0.7 & 0.84 & 36.12 & 176.8 & 581.23 & 3.0 & 0.35 & \\\\\n",
      "animals & size & 0.73 & 0.56 & 0.54 & 0.73 & 0.86 & 27.7 & 76.48 & 49.78 & 4.4 & 0.28 & \\\\\n",
      "myth & gender & 0.74 & 0.53 & 0.52 & 0.78 & 0.81 & 8.3 & 78.85 & 563.51 & 0.79 & 0.56 & \\\\\n",
      "animals & gender & 0.74 & 0.57 & 0.54 & 0.74 & 0.8 & 12.08 & 43.54 & 213.74 & 3.34 & 0.7 & \\\\\n",
      "names & intelligence & 0.74 & 0.52 & 0.51 & 0.68 & 0.82 & 178.9 & 57.85 & 216.66 & 6.52 & 0.5 & \\\\\n",
      "states & temperature & 0.76 & 0.54 & 0.56 & 0.79 & 0.84 & 59.52 & 53.27 & 113.69 & 1.17 & 0.37 & \\\\\n",
      "sports & location & 0.76 & 0.49 & 0.5 & 0.68 & 0.83 & 33.32 & 146.42 & 260.52 & 5.76 & 0.52 & \\\\\n",
      "myth & size & 0.77 & 0.59 & 0.56 & 0.8 & 0.88 & 24.4 & 130.86 & 95.71 & 1.58 & 0.39 & \\\\\n",
      "myth & danger & 0.78 & 0.57 & 0.55 & 0.77 & 0.85 & 55.52 & 41.15 & 155.13 & 1.96 & 0.52 & \\\\\n",
      "weather & danger & 0.79 & 0.55 & 0.54 & 0.7 & 0.82 & 53.0 & 130.51 & 170.35 & 6.43 & 0.57 & \\\\\n",
      "clothing & gender & 0.81 & 0.56 & 0.53 & 0.8 & 0.82 & 20.76 & 53.03 & 123.94 & 1.28 & 0.53 & \\\\\n",
      "sports & gender & 0.81 & 0.61 & 0.56 & 0.81 & 0.84 & 7.79 & 45.64 & 82.99 & 0.9 & 0.43 & \\\\\n",
      "professions & gender & 0.85 & 0.56 & 0.56 & 0.87 & 0.86 & 8.12 & 175.97 & 388.62 & 0.23 & 0.32 & \\\\\n",
      "names & gender & 0.87 & 0.56 & 0.51 & 0.87 & 0.87 & 5.29 & 105.85 & 72.42 & 0.26 & 0.17 & \\\\\n"
     ]
    }
   ],
   "source": [
    "# make a LaTeX table (minus header)\n",
    "# category feature, ocp's, mse's\n",
    "# for results it's always first seed, then fit, then fit-sw, fit-sd, fit-s\n",
    "# for now, sort by seed ocp\n",
    "for e in sorted(resultdict_list, key = lambda d:d[\"ocp\"][\"seed\"]):\n",
    "    print(e[\"category\"], \"&\", e[\"feature\"], \"&\", end = \" \")\n",
    "    models = [\"seed\", \"fit\", \"fit-sw\", \"fit-sd\", \"fit-s\"]\n",
    "    for m in models:\n",
    "        print(round(e[\"ocp\"][m],2), \"&\", end = \" \")\n",
    "    for m in models:\n",
    "        print(round(e[\"mse\"][m], 2), \"&\", end = \" \")\n",
    "    print(\"\\\\\\\\\")"
   ]
  },
  {
   "cell_type": "code",
   "execution_count": null,
   "id": "8a1b6e65-a0db-48f2-bd04-f109b1a31a0f",
   "metadata": {},
   "outputs": [],
   "source": []
  }
 ],
 "metadata": {
  "kernelspec": {
   "display_name": "Python 3 (ipykernel)",
   "language": "python",
   "name": "python3"
  },
  "language_info": {
   "codemirror_mode": {
    "name": "ipython",
    "version": 3
   },
   "file_extension": ".py",
   "mimetype": "text/x-python",
   "name": "python",
   "nbconvert_exporter": "python",
   "pygments_lexer": "ipython3",
   "version": "3.9.6"
  }
 },
 "nbformat": 4,
 "nbformat_minor": 5
}
