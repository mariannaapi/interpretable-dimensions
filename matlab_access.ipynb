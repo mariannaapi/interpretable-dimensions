{
 "cells": [
  {
   "cell_type": "code",
   "execution_count": null,
   "id": "6682eec7-9251-4b01-bc27-0b1f674114b7",
   "metadata": {},
   "outputs": [],
   "source": [
    "granddir = \"SOMEPATH/grand_directions_in_space/\"\n",
    "filename = granddir + \"catFeatPairs.mat\"\n",
    "\n",
    "from scipy.io import loadmat\n",
    "annots = loadmat(filename)\n",
    "print(annots)"
   ]
  },
  {
   "cell_type": "code",
   "execution_count": null,
   "id": "fba9106d-8f5e-4057-b4b6-9d3b5d3f73d7",
   "metadata": {
    "tags": []
   },
   "outputs": [],
   "source": [
    "filename = granddir + \"ratingData.mat\"\n",
    "annots = loadmat(filename)\n",
    "print(annots)"
   ]
  },
  {
   "cell_type": "code",
   "execution_count": null,
   "id": "a5fd46f1-2fa1-4b84-963c-3fca2444c96d",
   "metadata": {
    "tags": []
   },
   "outputs": [],
   "source": [
    "filename = granddir + \"normingData.mat\"\n",
    "annots = loadmat(filename)\n",
    "print(annots)"
   ]
  },
  {
   "cell_type": "code",
   "execution_count": null,
   "id": "1f94a06d-1080-42fd-9292-230587f30e7d",
   "metadata": {},
   "outputs": [],
   "source": []
  }
 ],
 "metadata": {
  "kernelspec": {
   "display_name": "Python 3 (ipykernel)",
   "language": "python",
   "name": "python3"
  },
  "language_info": {
   "codemirror_mode": {
    "name": "ipython",
    "version": 3
   },
   "file_extension": ".py",
   "mimetype": "text/x-python",
   "name": "python",
   "nbconvert_exporter": "python",
   "pygments_lexer": "ipython3",
   "version": "3.9.6"
  }
 },
 "nbformat": 4,
 "nbformat_minor": 5
}
