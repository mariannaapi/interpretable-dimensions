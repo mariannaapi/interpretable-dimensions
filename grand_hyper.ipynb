{
 "cells": [
  {
   "cell_type": "markdown",
   "id": "3e5480aa-faa7-4368-8975-6a0a1ea34abe",
   "metadata": {},
   "source": [
    "# Hyperparameter optimization\n",
    "\n",
    "Grand et al data\n",
    "\n",
    "Hyperparameter optimization on a development set."
   ]
  },
  {
   "cell_type": "markdown",
   "id": "4bf61834-8f0f-4580-88da-f4f85292ff7d",
   "metadata": {},
   "source": [
    "# Reading the data\n",
    "\n",
    "## GloVE"
   ]
  },
  {
   "cell_type": "code",
   "execution_count": 1,
   "id": "7fd7b586-6498-44fb-8810-5cbe92e383ea",
   "metadata": {
    "tags": []
   },
   "outputs": [],
   "source": [
    "import os\n",
    "from scipy import stats\n",
    "import numpy as np \n",
    "import pandas as pd\n",
    "import zipfile\n",
    "import math\n",
    "import sklearn\n",
    "import torch\n",
    "import torch.optim as optim\n",
    "device = torch.device('cuda') if torch.cuda.is_available() else torch.device('cpu')\n",
    "import matplotlib.pyplot as plt"
   ]
  },
  {
   "cell_type": "code",
   "execution_count": 2,
   "id": "2dae5cc5-4986-48ed-bcdf-4329a1906e02",
   "metadata": {
    "tags": []
   },
   "outputs": [],
   "source": [
    "glove_path = \"glove/glove.42B.300d.zip\"\n",
    "glove_file = \"glove.42B.300d.txt\"\n",
    "\n",
    "feature_dim = 300\n",
    "\n",
    "word_vectors = { }\n",
    "\n",
    "with zipfile.ZipFile(glove_path) as azip:\n",
    "    with azip.open(glove_file) as f:\n",
    "        for line in f:\n",
    "            values = line.split()\n",
    "            word = values[0].decode()\n",
    "            vector = np.array(values[1:], dtype=np.float32)\n",
    "            word_vectors[word] = vector"
   ]
  },
  {
   "cell_type": "markdown",
   "id": "1c07f037-d314-409b-b0f8-c5d060d5e721",
   "metadata": {},
   "source": [
    "## Grand features"
   ]
  },
  {
   "cell_type": "code",
   "execution_count": 3,
   "id": "f56398ff-3d19-4544-bc82-06a60e6d8737",
   "metadata": {
    "tags": []
   },
   "outputs": [
    {
     "name": "stderr",
     "output_type": "stream",
     "text": [
      "/Users/kee252/Library/Python/3.9/lib/python/site-packages/openpyxl/worksheet/_reader.py:329: UserWarning: Unknown extension is not supported and will be removed\n",
      "  warn(msg)\n"
     ]
    }
   ],
   "source": [
    "grandratings_dir = \"Grand_etal_csv/\"\n",
    "grandfeatures_path = \"/Users/kee252/Data/grand_directions_in_space/features.xlsx\"\n",
    "\n",
    "grandfeatures_df = pd.read_excel(grandfeatures_path)"
   ]
  },
  {
   "cell_type": "markdown",
   "id": "4b8216d9-2d9d-43c0-989e-a173a3e4be84",
   "metadata": {},
   "source": [
    "## Function for reading a specific Grand dataset"
   ]
  },
  {
   "cell_type": "code",
   "execution_count": 4,
   "id": "9f45bb6e-da17-4581-91b2-41d3721ce40d",
   "metadata": {
    "tags": []
   },
   "outputs": [],
   "source": [
    "# reading in Grand data\n",
    "def read_grand_data(filename, grandratings_dir, grandfeatures_df):\n",
    "    # extract category and feature\n",
    "    grandcategory, grandfeature = filename[:-4].split(\"_\")\n",
    "        \n",
    "    # read human ratings, make gold column\n",
    "    df = pd.read_csv(grandratings_dir + filename)\n",
    "    nspeakers = len(df.columns) -1\n",
    "    df[\"Average\"] = [row.iloc[1:26].sum() / nspeakers for _, row in df.iterrows()]\n",
    "    # z-scores of average ratings\n",
    "    df[\"Gold\"] = (df[\"Average\"] - df[\"Average\"].mean()) / df[\"Average\"].std()\n",
    "        \n",
    "    # obtain seed words from excel file\n",
    "    relevant_row = grandfeatures_df[grandfeatures_df.Dimension == grandfeature]\n",
    "    seedwords = relevant_row.iloc[:, 1:].values.flatten().tolist()\n",
    "    pos_seedwords = seedwords[:3]\n",
    "    neg_seedwords = seedwords[3:]\n",
    "    \n",
    "    return (grandcategory, grandfeature, pos_seedwords, neg_seedwords, df)"
   ]
  },
  {
   "cell_type": "markdown",
   "id": "21844b50-6e40-455d-a97c-dff06b04b412",
   "metadata": {},
   "source": [
    "# Function for running crossvalidation"
   ]
  },
  {
   "cell_type": "code",
   "execution_count": 5,
   "id": "d1cfd9f4-3f6d-47f1-848d-188ede0b9245",
   "metadata": {},
   "outputs": [],
   "source": [
    "import eval_dim\n",
    "import compute_dim\n",
    "import statistics\n",
    "\n",
    "def crossvalidation(filenames, method, word_vectors, grandratings_dir, grandfeatures_df, random_seed = 123, verbose = False):\n",
    "    \n",
    "    all_evals = [ ]\n",
    "    \n",
    "    for filename in filenames:\n",
    "            grandcategory, grandfeature, pos_seedwords, neg_seedwords, df = read_grand_data(filename, \n",
    "                                                                                            grandratings_dir, \n",
    "                                                                                            grandfeatures_df)\n",
    "\n",
    "\n",
    "            # storage for word vectors and gold values for this dataset\n",
    "            all_thisdata_vectors = []\n",
    "            all_thisdata_gold = []\n",
    "\n",
    "            # collect word vectors and gold ratings\n",
    "            for row in df.itertuples():\n",
    "                # row.Row is the word. look it up in word_vectors\n",
    "                all_thisdata_vectors.append( word_vectors[ row.Row ])\n",
    "                # gold rating: use z-scored average\n",
    "                all_thisdata_gold.append( row.Gold)\n",
    "\n",
    "            # crossvalidation setup: give indices to datapoints\n",
    "            fold = np.random.randint(method[\"numfolds\"], size = len(all_thisdata_gold))\n",
    "\n",
    "            # store the evaluation results from the different test folds\n",
    "            evals = [ ]\n",
    "\n",
    "            # iterate over folds, evaluate for each of them\n",
    "            for testfold in range(method[\"numfolds\"]):\n",
    "                # compute training and test data for this fold\n",
    "                test_indices =  [i for i in range(len(all_thisdata_gold)) if fold[i] == testfold]\n",
    "                train_indices = [i for i in range(len(all_thisdata_gold)) if fold[i] != testfold]\n",
    "\n",
    "                gold_test =  [ell[\"Gold\"] for _, ell in df.iloc[ test_indices ].iterrows()]\n",
    "                gold_train = [ ell[\"Gold\"] for _, ell in df.iloc[ train_indices ].iterrows()]\n",
    "                words_test =  [ell[\"Row\"] for _, ell in df.iloc[ test_indices].iterrows()]\n",
    "                words_train = [ell[\"Row\"] for _, ell in df.iloc[ train_indices].iterrows()]\n",
    "                vec_test =  [word_vectors[ w ] for w in words_test]\n",
    "                vec_train = [word_vectors[ w ] for w in words_train ]\n",
    "\n",
    "\n",
    "                # compute seed-based dimension, and its predictions\n",
    "                if method[\"method\"] == \"seedbased\":\n",
    "                    dimension = compute_dim.dimension_seedbased(pos_seedwords, neg_seedwords, word_vectors)\n",
    "                    df[\"Pred\"] = compute_dim.predict_coord_fromtrain(vec_train, gold_train, dimension, all_thisdata_vectors)\n",
    "\n",
    "                elif method[\"method\"] == \"fitted\":\n",
    "                    dimension, weight, bias = compute_dim.dimension_fitted_fromratings(vec_train, gold_train, \n",
    "                                                                                       method[\"feature_dim\"],\n",
    "                                                                                       random_seed = random_seed)\n",
    "                    df[\"Pred\"] = compute_dim.predict_coord_fromline(all_thisdata_vectors, dimension, weight, bias)\n",
    "\n",
    "                elif method[\"method\"] == \"fitted_seedwords\":\n",
    "                    dimension, weight, bias = compute_dim.dimension_fitted_fromratings_seedwords(vec_train, gold_train, \n",
    "                                                                    method[\"feature_dim\"], \n",
    "                                                                    pos_seedwords, neg_seedwords, word_vectors,\n",
    "                                                                    offset = method[\"offset\"], jitter = method[\"jitter\"],\n",
    "                                                                    random_seed = random_seed)\n",
    "                    df[\"Pred\"] = compute_dim.predict_coord_fromline(all_thisdata_vectors, dimension, weight, bias)\n",
    "\n",
    "                elif method[\"method\"] == \"fitted_seeddims\":\n",
    "                    dimension, weight, bias = compute_dim.dimension_fitted_fromratings_seeddims(vec_train, gold_train, \n",
    "                                                                    method[\"feature_dim\"], \n",
    "                                                                    pos_seedwords, neg_seedwords, word_vectors,\n",
    "                                                                    do_average = method[\"do_average\"], \n",
    "                                                                    alpha = method[\"alpha\"],\n",
    "                                                                    random_seed = random_seed)\n",
    "                    df[\"Pred\"] = compute_dim.predict_coord_fromline(all_thisdata_vectors, dimension, weight, bias)\n",
    "\n",
    "                elif method[\"method\"] == \"combined\":\n",
    "                    dimension, weight, bias = compute_dim.dimension_fitted_fromratings_combined(vec_train, gold_train,\n",
    "                                                                    method[\"feature_dim\"],\n",
    "                                                                    pos_seedwords, neg_seedwords, word_vectors,\n",
    "                                                                    offset = method[\"offset\"], jitter = method[\"jitter\"],\n",
    "                                                                    do_average = method[\"do_average\"], \n",
    "                                                                    alpha = method[\"alpha\"],\n",
    "                                                                    random_seed = random_seed)\n",
    "                    df[\"Pred\"] = compute_dim.predict_coord_fromline(all_thisdata_vectors, dimension, weight, bias)\n",
    "\n",
    "                else:\n",
    "                    raise Exception(\"shouldn't be here\")\n",
    "\n",
    "                # order consistency pairwise: test values tested for their ordering wrt. all values, training and test\n",
    "                # MSE: evaluate on test only\n",
    "                e = { \"ocp\" : eval_dim.pairwise_order_consistency_wrt(df[\"Gold\"], df[\"Pred\"], test_indices),\n",
    "                      \"mse\" : eval_dim.mean_squared_error(gold_test, [p for i, p in enumerate(df[\"Pred\"]) if i in test_indices]),\n",
    "                      \"feature\" : grandfeature,\n",
    "                      \"category\" : grandcategory}\n",
    "\n",
    "                all_evals.append(e)\n",
    "\n",
    "    if verbose:\n",
    "        ocps = [e[\"ocp\"] for e in all_evals if e[\"ocp\"] is not None]\n",
    "        mses = [e[\"mse\"] for e in all_evals if e[\"mse\"] is not None]\n",
    "\n",
    "        print(\"\\n\\nOverall\", method[\"method\"], \n",
    "              f\"OC_p {statistics.mean(ocps):.3f} ({statistics.stdev(ocps):.2f})\", \n",
    "              f\"MSE mean {statistics.mean(mses):.3f} ({statistics.stdev(mses):.2f}) median {statistics.median(mses):.3f}\")\n",
    "        \n",
    "    return all_evals\n"
   ]
  },
  {
   "cell_type": "markdown",
   "id": "bb92cc5e-b162-44d1-82b7-ffca22d67a7f",
   "metadata": {},
   "source": [
    "# Function for aggregating crossvalidation results\n",
    "\n",
    "We assume results that are dictionaries. \n",
    "\n",
    "First, a function for aggregating results by particular labels, into a single dictionary. For example, when results are aggregated by category and feature, the result will be a dictionary whose keys are category/feature tuples, and the values are lists of result dictionaries. \n",
    "\n",
    "Second, a function that computes mean, median, and standard deviation, over a list of result dictionaries, for a given labels."
   ]
  },
  {
   "cell_type": "code",
   "execution_count": 6,
   "id": "35093491-406a-4724-b31f-88940d4ee982",
   "metadata": {},
   "outputs": [],
   "source": [
    "from collections import defaultdict\n",
    "import statistics\n",
    "\n",
    "# given a list of results dictionaries, \n",
    "# group them by the given dictionary keys\n",
    "def eval_aggregate_by(evals, keylabels):\n",
    "    bydataset_eval = defaultdict(list)\n",
    "    \n",
    "    for e in evals:\n",
    "        key = tuple([str(e[k]) for k in keylabels])\n",
    "        bydataset_eval[ key ].append(e)\n",
    "        \n",
    "    return bydataset_eval\n",
    "\n",
    "\n",
    "# given a list of results dictionaries,\n",
    "# compute mean, median and standard deviation over values for a particular key\n",
    "def eval_summary_by(evals, keylabel):\n",
    "    vals = [e[keylabel] for e in evals if e[keylabel] is not None]\n",
    "    \n",
    "    return (statistics.mean(vals), statistics.median(vals), statistics.stdev(vals))"
   ]
  },
  {
   "cell_type": "markdown",
   "id": "bb4f83f4-de33-4e1b-a0e4-e04650488db0",
   "metadata": {},
   "source": [
    "# Making a development set"
   ]
  },
  {
   "cell_type": "code",
   "execution_count": 7,
   "id": "06a6fe6d-20d2-43e2-8428-c46b1f6944be",
   "metadata": {
    "tags": []
   },
   "outputs": [
    {
     "data": {
      "text/plain": [
       "[['cities', 'danger'],\n",
       " ['states', 'political'],\n",
       " ['animals', 'wetness'],\n",
       " ['cities', 'intelligence'],\n",
       " ['animals', 'weight'],\n",
       " ['names', 'age']]"
      ]
     },
     "execution_count": 7,
     "metadata": {},
     "output_type": "execute_result"
    }
   ],
   "source": [
    "filenames = [f for f in os.listdir(grandratings_dir) if f.endswith(\"csv\")]\n",
    "\n",
    "import random\n",
    "random.seed(789)\n",
    "devset = random.sample(filenames, 6)\n",
    "[ filename[:-4].split(\"_\") for filename in devset]"
   ]
  },
  {
   "cell_type": "code",
   "execution_count": 8,
   "id": "3be6a243-ae47-49a7-88ce-1f6280d0b468",
   "metadata": {},
   "outputs": [],
   "source": [
    "num_randseeds = 3"
   ]
  },
  {
   "cell_type": "markdown",
   "id": "4de8fb27-71c7-4f90-b27a-cd83b67353e3",
   "metadata": {},
   "source": [
    "# Testing"
   ]
  },
  {
   "cell_type": "code",
   "execution_count": 10,
   "id": "37df40c0-ba00-448a-ab5f-28b499c6e6f2",
   "metadata": {},
   "outputs": [
    {
     "name": "stdout",
     "output_type": "stream",
     "text": [
      "0.1 True 0.5947360867285961 13.556062812473154\n",
      "0.2 True 0.6208540494553738 14.240234086793757\n",
      "0.1 False 0.6095014702783803 12.031678711442432\n",
      "0.2 False 0.6076964995861299 13.459770517323733\n"
     ]
    }
   ],
   "source": [
    "jitter_vals = [True, False]\n",
    "offset_vals= [0.1, 0.2]\n",
    "\n",
    "results = defaultdict(list)\n",
    "\n",
    "random.seed(5)\n",
    "randoms = [random.randrange(0,100) for _ in range(num_randseeds)]\n",
    "randoms = [123]\n",
    "\n",
    "for randval in randoms:\n",
    "    for jval in jitter_vals:\n",
    "        for oval in offset_vals:\n",
    "\n",
    "            method = { \"method\": \"fitted_seedwords\",\n",
    "                      \"feature_dim\" : feature_dim,\n",
    "                      \"numfolds\" : 5,\n",
    "                      \"offset\" : oval,\n",
    "                      \"jitter\" : jval}\n",
    "\n",
    "\n",
    "            theseresults = crossvalidation(devset, method, word_vectors, grandratings_dir, grandfeatures_df, random_seed = randval)\n",
    "            \n",
    "            ocp_mean, _, _ = eval_summary_by(theseresults, \"ocp\")\n",
    "            _, mse_med, _ = eval_summary_by(theseresults, \"mse\")\n",
    "            print(oval, jval, ocp_mean, mse_med)\n",
    "            \n",
    "\n",
    "            for r in theseresults:\n",
    "                r.update({\"offset\":oval, \"j\": jval})\n",
    "                results[ (str(oval), str(jval))].append(r)"
   ]
  },
  {
   "cell_type": "code",
   "execution_count": 14,
   "id": "36fc1567-41db-425d-a40c-269fcc63cef7",
   "metadata": {
    "tags": []
   },
   "outputs": [],
   "source": [
    "results_byparam = [ ]\n",
    "\n",
    "for theseresults in results.values():\n",
    "    offset = theseresults[0][\"offset\"]\n",
    "    jitter = theseresults[0][\"j\"]\n",
    "    \n",
    "    results_bycond = eval_aggregate_by(theseresults,[\"category\", \"feature\"])\n",
    "    ocps = [eval_summary_by(cond_results, \"ocp\")[0] for cond_results in results_bycond.values()]\n",
    "    mses = [eval_summary_by(cond_results, \"mse\")[1] for cond_results in results_bycond.values()]\n",
    "    \n",
    "    results_byparam.append({ \"offset\": offset, \"j\":jitter, \n",
    "                            \"ocp_mean\": statistics.mean(ocps), \"ocp_sd\": statistics.stdev(ocps),\n",
    "                            \"msemed_mean\" : statistics.mean(mses), \"msemed_sd\" : statistics.stdev(mses)})\n"
   ]
  },
  {
   "cell_type": "code",
   "execution_count": 15,
   "id": "da1b12ab-b540-4783-9a53-71af932c296e",
   "metadata": {},
   "outputs": [
    {
     "data": {
      "text/html": [
       "<div>\n",
       "<style scoped>\n",
       "    .dataframe tbody tr th:only-of-type {\n",
       "        vertical-align: middle;\n",
       "    }\n",
       "\n",
       "    .dataframe tbody tr th {\n",
       "        vertical-align: top;\n",
       "    }\n",
       "\n",
       "    .dataframe thead th {\n",
       "        text-align: right;\n",
       "    }\n",
       "</style>\n",
       "<table border=\"1\" class=\"dataframe\">\n",
       "  <thead>\n",
       "    <tr style=\"text-align: right;\">\n",
       "      <th></th>\n",
       "      <th>offset</th>\n",
       "      <th>j</th>\n",
       "      <th>ocp_mean</th>\n",
       "      <th>ocp_sd</th>\n",
       "      <th>msemed_mean</th>\n",
       "      <th>msemed_sd</th>\n",
       "    </tr>\n",
       "  </thead>\n",
       "  <tbody>\n",
       "    <tr>\n",
       "      <th>0</th>\n",
       "      <td>0.1</td>\n",
       "      <td>True</td>\n",
       "      <td>0.594736</td>\n",
       "      <td>0.029014</td>\n",
       "      <td>14.361327</td>\n",
       "      <td>6.854013</td>\n",
       "    </tr>\n",
       "    <tr>\n",
       "      <th>1</th>\n",
       "      <td>0.2</td>\n",
       "      <td>True</td>\n",
       "      <td>0.620854</td>\n",
       "      <td>0.035204</td>\n",
       "      <td>15.243181</td>\n",
       "      <td>5.583644</td>\n",
       "    </tr>\n",
       "    <tr>\n",
       "      <th>2</th>\n",
       "      <td>0.1</td>\n",
       "      <td>False</td>\n",
       "      <td>0.609501</td>\n",
       "      <td>0.025609</td>\n",
       "      <td>13.541648</td>\n",
       "      <td>7.180967</td>\n",
       "    </tr>\n",
       "    <tr>\n",
       "      <th>3</th>\n",
       "      <td>0.2</td>\n",
       "      <td>False</td>\n",
       "      <td>0.607696</td>\n",
       "      <td>0.039671</td>\n",
       "      <td>14.137310</td>\n",
       "      <td>4.748247</td>\n",
       "    </tr>\n",
       "  </tbody>\n",
       "</table>\n",
       "</div>"
      ],
      "text/plain": [
       "   offset      j  ocp_mean    ocp_sd  msemed_mean  msemed_sd\n",
       "0     0.1   True  0.594736  0.029014    14.361327   6.854013\n",
       "1     0.2   True  0.620854  0.035204    15.243181   5.583644\n",
       "2     0.1  False  0.609501  0.025609    13.541648   7.180967\n",
       "3     0.2  False  0.607696  0.039671    14.137310   4.748247"
      ]
     },
     "execution_count": 15,
     "metadata": {},
     "output_type": "execute_result"
    }
   ],
   "source": [
    "df = pd.DataFrame(results_byparam)\n",
    "df"
   ]
  },
  {
   "cell_type": "code",
   "execution_count": null,
   "id": "21056555-ef78-4735-b2b8-584783496236",
   "metadata": {},
   "outputs": [],
   "source": [
    "raise Exception(\"stop\")"
   ]
  },
  {
   "cell_type": "markdown",
   "id": "a139eaec-fdec-4520-b210-04c91c32632a",
   "metadata": {},
   "source": [
    "# Determining hyperparameters\n",
    "\n",
    "## Fitted dimensions with seeds as words: offset, jitter\n",
    "\n",
    "First experiments looked like there was a lot of variance in result with different random seeds. To check into this, we run the hyperparameter tests 10 times with different random seeds. We then look at mean and standard deviation of the two measures we focus on: mean OC_p and median MSE."
   ]
  },
  {
   "cell_type": "code",
   "execution_count": 16,
   "id": "fccab8bb-b9a0-460c-835f-ff115524d7da",
   "metadata": {},
   "outputs": [
    {
     "name": "stdout",
     "output_type": "stream",
     "text": [
      "0.1 True 0.495467400569577 183.25629574173246\n",
      "0.2 True 0.5193852449795092 200.94083980995515\n",
      "0.3 True 0.5129577401596531 185.0480753908472\n",
      "0.4 True 0.5155792915916415 193.6262256138201\n",
      "0.5 True 0.527050745074016 168.3310753254783\n",
      "0.6 True 0.5224848800870872 216.66082170536248\n",
      "0.7 True 0.5038935808196092 213.27496473343507\n",
      "0.7999999999999999 True 0.49494943846082956 233.99858218868778\n",
      "0.8999999999999999 True 0.5116722240381084 211.6411256355259\n",
      "0.9999999999999999 True 0.5306578922757529 221.9680624269131\n",
      "1.0999999999999999 True 0.5162532565485372 228.67706429067988\n",
      "1.2 True 0.5129319426531069 214.26597969577347\n",
      "1.3 True 0.5267213315986362 237.91628413863583\n",
      "1.4 True 0.5063165476738783 244.82195443650028\n",
      "1.5 True 0.5170662224933138 263.5843234527663\n",
      "1.5999999999999999 True 0.512131066478982 222.60779763478433\n",
      "1.7 True 0.5216201567110665 221.15555859538142\n",
      "1.8 True 0.5294630009138196 227.80222819377852\n",
      "1.9 True 0.5235935278934982 195.93516004387743\n",
      "2.0 True 0.5339916129613231 229.85632119032584\n",
      "0.1 False 0.5184675372152175 159.46684344521242\n",
      "0.2 False 0.523784829653848 245.29202897154855\n",
      "0.3 False 0.5233976719978433 192.98979758822856\n",
      "0.4 False 0.5250599145240192 214.9730463745245\n",
      "0.5 False 0.5212936653568155 183.13442531280782\n",
      "0.6 False 0.5170028432257164 146.61617778486885\n",
      "0.7 False 0.494048678592724 160.9978562967891\n",
      "0.7999999999999999 False 0.512162778548017 187.49263678756876\n",
      "0.8999999999999999 False 0.5207735618607555 202.4423042826415\n",
      "0.9999999999999999 False 0.5064815008976958 183.38749026858818\n",
      "1.0999999999999999 False 0.5273243711819134 209.36980226054493\n",
      "1.2 False 0.5103227155853958 241.8640337476117\n",
      "1.3 False 0.4918710548547323 174.0269557843253\n",
      "1.4 False 0.5054142110901503 227.89673226446988\n",
      "1.5 False 0.4995723304741798 214.34757907029203\n",
      "1.5999999999999999 False 0.518333794898629 267.97267926565235\n",
      "1.7 False 0.5012881602559153 209.90224391525004\n",
      "1.8 False 0.5042172334482167 236.4712142863627\n",
      "1.9 False 0.5127671219994012 228.35882389013727\n",
      "2.0 False 0.5377988801629774 217.107371204682\n",
      "0.1 True 0.5094461630661112 871.2129450595362\n",
      "0.2 True 0.46223982770397704 662.5896465323826\n",
      "0.3 True 0.518678429364009 1062.447402808493\n",
      "0.4 True 0.4933310686932296 620.7188343795005\n",
      "0.5 True 0.49491491710718666 650.9842803486367\n",
      "0.6 True 0.4891780179157785 667.4524012026593\n",
      "0.7 True 0.4657759684425343 348.87698635336795\n",
      "0.7999999999999999 True 0.4796422680993115 779.4664583224226\n",
      "0.8999999999999999 True 0.4841987891874854 771.157021063277\n",
      "0.9999999999999999 True 0.502500626958441 569.1135213011647\n",
      "1.0999999999999999 True 0.4692264529783254 685.8085000566227\n",
      "1.2 True 0.4936843133686657 689.8072721467363\n",
      "1.3 True 0.5096289920895751 641.7641221235367\n",
      "1.4 True 0.5012896451046878 452.60069981139463\n",
      "1.5 True 0.5032704613739056 491.2287895520607\n",
      "1.5999999999999999 True 0.47950204219547354 632.4305452133983\n",
      "1.7 True 0.4829828455300013 391.3087018777787\n",
      "1.8 True 0.5071774017402692 536.170168871527\n",
      "1.9 True 0.4856903854950122 662.6050376210234\n",
      "2.0 True 0.5098550827930104 302.1586962583348\n",
      "0.1 False 0.49827910367498657 839.6286976174158\n",
      "0.2 False 0.4767839891394592 1187.4126144265306\n",
      "0.3 False 0.48810258120060734 535.97864447667\n",
      "0.4 False 0.4977019310384439 1081.806312163368\n",
      "0.5 False 0.5171519590798466 1444.0640160555486\n",
      "0.6 False 0.4625186966676001 704.4761129413469\n",
      "0.7 False 0.5045882784726945 589.9993404580905\n",
      "0.7999999999999999 False 0.500807903066941 611.7512702861874\n",
      "0.8999999999999999 False 0.49976264993719727 465.82965187698835\n",
      "0.9999999999999999 False 0.4942257067358768 846.941661764994\n",
      "1.0999999999999999 False 0.5136454596094989 824.0160290205058\n",
      "1.2 False 0.4614511435928576 504.1679842686668\n",
      "1.3 False 0.484183064474136 394.82083483954705\n",
      "1.4 False 0.4896342669306806 459.7990484364316\n",
      "1.5 False 0.492636019908623 676.0946351772827\n",
      "1.5999999999999999 False 0.5029735934968529 525.7934826489093\n",
      "1.7 False 0.49509236501719806 775.662578339337\n",
      "1.8 False 0.5096805707065337 720.0075692670839\n",
      "1.9 False 0.5092082045184431 372.44166216481153\n",
      "2.0 False 0.46112012214372144 468.2455223526259\n",
      "0.1 True 0.535425681112505 125.51876478575932\n",
      "0.2 True 0.5399185742012996 123.35809881231623\n",
      "0.3 True 0.5557080125433805 110.54664252484719\n",
      "0.4 True 0.5336060212874949 101.6598253907263\n",
      "0.5 True 0.5450606373654825 104.86396974595502\n",
      "0.6 True 0.53396254874813 132.5982808623857\n",
      "0.7 True 0.5428160007074738 131.05023916868117\n",
      "0.7999999999999999 True 0.5404290330820141 113.86936395856256\n",
      "0.8999999999999999 True 0.539946757952284 153.93869495374884\n",
      "0.9999999999999999 True 0.5368976577147999 105.73061769445019\n",
      "1.0999999999999999 True 0.5414716222284398 110.52279391053105\n",
      "1.2 True 0.5546641863718619 142.82734370183016\n",
      "1.3 True 0.5374870936628899 149.60292084585666\n",
      "1.4 True 0.5475064636552486 117.20507684997752\n",
      "1.5 True 0.5358576308364262 113.4331960600249\n",
      "1.5999999999999999 True 0.5451850058293833 146.17793663011213\n",
      "1.7 True 0.551170536431905 137.81259103333014\n",
      "1.8 True 0.5325980226426086 139.8492850426694\n",
      "1.9 True 0.5337468366775742 121.04816748602187\n",
      "2.0 True 0.5427460964733545 116.99203714326265\n",
      "0.1 False 0.520017981748981 129.85490536555756\n",
      "0.2 False 0.5284225675497682 119.79040682053778\n",
      "0.3 False 0.5300980852574235 151.99365166596334\n",
      "0.4 False 0.5558217729328789 132.06949214358042\n",
      "0.5 False 0.5179415392671513 93.66372459270289\n",
      "0.6 False 0.54599668146941 131.15068637416155\n",
      "0.7 False 0.5665355693352703 102.6361381276212\n",
      "0.7999999999999999 False 0.5452872020786255 127.10104951166483\n",
      "0.8999999999999999 False 0.5449559871971248 136.9597357919993\n",
      "0.9999999999999999 False 0.5498739168958571 145.44691405879524\n",
      "1.0999999999999999 False 0.5535856211709109 133.5633581594692\n",
      "1.2 False 0.5517860083486664 124.67182129107726\n",
      "1.3 False 0.5334995451705169 121.06874616018061\n",
      "1.4 False 0.5347446733323584 97.06547068083941\n",
      "1.5 False 0.5428172409989485 125.30123147883663\n",
      "1.5999999999999999 False 0.5419512158181617 103.0808794673753\n",
      "1.7 False 0.5292421408157477 112.86399859579659\n",
      "1.8 False 0.5494957460801934 151.97118536468213\n",
      "1.9 False 0.5383340672894269 109.26311160483206\n",
      "2.0 False 0.5464687450473404 124.86653965794258\n"
     ]
    }
   ],
   "source": [
    "jitter_vals = [True, False]\n",
    "offset_vals= np.linspace(0.1, 2, num=20)\n",
    "\n",
    "results = defaultdict(list)\n",
    "\n",
    "random.seed(5)\n",
    "randoms = [random.randrange(0,100) for _ in range(num_randseeds)]\n",
    "\n",
    "for randval in randoms:\n",
    "    for jval in jitter_vals:\n",
    "        for oval in offset_vals:\n",
    "\n",
    "            method = { \"method\": \"fitted_seedwords\",\n",
    "                      \"feature_dim\" : feature_dim,\n",
    "                      \"numfolds\" : 5,\n",
    "                      \"offset\" : oval,\n",
    "                      \"jitter\" : jval}\n",
    "\n",
    "\n",
    "            theseresults = crossvalidation(devset, method, word_vectors, grandratings_dir, grandfeatures_df, random_seed = randval)\n",
    "            \n",
    "            ocp_mean, _, _ = eval_summary_by(theseresults, \"ocp\")\n",
    "            _, mse_med, _ = eval_summary_by(theseresults, \"mse\")\n",
    "            print(oval, jval, ocp_mean, mse_med)\n",
    "            \n",
    "\n",
    "            for r in theseresults:\n",
    "                r.update({\"offset\":oval, \"j\": jval})\n",
    "                results[ (str(oval), str(jval))].append(r)\n",
    "    \n"
   ]
  },
  {
   "cell_type": "code",
   "execution_count": 17,
   "id": "6892b47a-4997-4b82-a13b-d855650c95cd",
   "metadata": {
    "tags": []
   },
   "outputs": [],
   "source": [
    "results_byparam = [ ]\n",
    "\n",
    "for theseresults in results.values():\n",
    "    offset = theseresults[0][\"offset\"]\n",
    "    jitter = theseresults[0][\"j\"]\n",
    "    \n",
    "    results_bycond = eval_aggregate_by(theseresults,[\"category\", \"feature\"])\n",
    "    ocps = [eval_summary_by(cond_results, \"ocp\")[0] for cond_results in results_bycond.values()]\n",
    "    mses = [eval_summary_by(cond_results, \"mse\")[1] for cond_results in results_bycond.values()]\n",
    "    \n",
    "    results_byparam.append({ \"offset\": offset, \"j\":jitter, \n",
    "                            \"ocp_mean\": statistics.mean(ocps), \"ocp_sd\": statistics.stdev(ocps),\n",
    "                            \"msemed_mean\" : statistics.mean(mses), \"msemed_sd\" : statistics.stdev(mses)})\n"
   ]
  },
  {
   "cell_type": "code",
   "execution_count": 18,
   "id": "508cd5a3-9cb4-4bf8-9a03-77b2e47d0486",
   "metadata": {},
   "outputs": [
    {
     "data": {
      "text/html": [
       "<div>\n",
       "<style scoped>\n",
       "    .dataframe tbody tr th:only-of-type {\n",
       "        vertical-align: middle;\n",
       "    }\n",
       "\n",
       "    .dataframe tbody tr th {\n",
       "        vertical-align: top;\n",
       "    }\n",
       "\n",
       "    .dataframe thead th {\n",
       "        text-align: right;\n",
       "    }\n",
       "</style>\n",
       "<table border=\"1\" class=\"dataframe\">\n",
       "  <thead>\n",
       "    <tr style=\"text-align: right;\">\n",
       "      <th></th>\n",
       "      <th>offset</th>\n",
       "      <th>j</th>\n",
       "      <th>ocp_mean</th>\n",
       "      <th>ocp_sd</th>\n",
       "      <th>msemed_mean</th>\n",
       "      <th>msemed_sd</th>\n",
       "    </tr>\n",
       "  </thead>\n",
       "  <tbody>\n",
       "    <tr>\n",
       "      <th>0</th>\n",
       "      <td>0.1</td>\n",
       "      <td>True</td>\n",
       "      <td>0.513446</td>\n",
       "      <td>0.023978</td>\n",
       "      <td>242.300444</td>\n",
       "      <td>151.940079</td>\n",
       "    </tr>\n",
       "    <tr>\n",
       "      <th>1</th>\n",
       "      <td>0.2</td>\n",
       "      <td>True</td>\n",
       "      <td>0.507181</td>\n",
       "      <td>0.019516</td>\n",
       "      <td>220.669165</td>\n",
       "      <td>70.401835</td>\n",
       "    </tr>\n",
       "    <tr>\n",
       "      <th>2</th>\n",
       "      <td>0.3</td>\n",
       "      <td>True</td>\n",
       "      <td>0.529115</td>\n",
       "      <td>0.021144</td>\n",
       "      <td>274.601053</td>\n",
       "      <td>152.517325</td>\n",
       "    </tr>\n",
       "    <tr>\n",
       "      <th>3</th>\n",
       "      <td>0.4</td>\n",
       "      <td>True</td>\n",
       "      <td>0.514172</td>\n",
       "      <td>0.026899</td>\n",
       "      <td>257.904918</td>\n",
       "      <td>176.860336</td>\n",
       "    </tr>\n",
       "    <tr>\n",
       "      <th>4</th>\n",
       "      <td>0.5</td>\n",
       "      <td>True</td>\n",
       "      <td>0.522342</td>\n",
       "      <td>0.017525</td>\n",
       "      <td>266.776676</td>\n",
       "      <td>172.391971</td>\n",
       "    </tr>\n",
       "  </tbody>\n",
       "</table>\n",
       "</div>"
      ],
      "text/plain": [
       "   offset     j  ocp_mean    ocp_sd  msemed_mean   msemed_sd\n",
       "0     0.1  True  0.513446  0.023978   242.300444  151.940079\n",
       "1     0.2  True  0.507181  0.019516   220.669165   70.401835\n",
       "2     0.3  True  0.529115  0.021144   274.601053  152.517325\n",
       "3     0.4  True  0.514172  0.026899   257.904918  176.860336\n",
       "4     0.5  True  0.522342  0.017525   266.776676  172.391971"
      ]
     },
     "execution_count": 18,
     "metadata": {},
     "output_type": "execute_result"
    }
   ],
   "source": [
    "df = pd.DataFrame(results_byparam)\n",
    "df.head()\n"
   ]
  },
  {
   "cell_type": "markdown",
   "id": "77edb4f3-99f9-478c-b99e-96e119ba53eb",
   "metadata": {},
   "source": [
    "We plot mean OC_P values, with standard deviation. The differences in result are minimal compared to the error bars: It basically doesn't matter which value we pick. "
   ]
  },
  {
   "cell_type": "code",
   "execution_count": 20,
   "id": "5ee70047-8dc2-4e25-87f0-f510910443ec",
   "metadata": {
    "tags": []
   },
   "outputs": [
    {
     "data": {
      "text/plain": [
       "<AxesSubplot: xlabel='offset'>"
      ]
     },
     "execution_count": 20,
     "metadata": {},
     "output_type": "execute_result"
    },
    {
     "data": {
      "image/png": "[encoded data removed]",
      "text/plain": [
       "<Figure size 640x480 with 1 Axes>"
      ]
     },
     "metadata": {},
     "output_type": "display_data"
    }
   ],
   "source": [
    "%matplotlib inline\n",
    "df[df.j == False].plot(y = \"ocp_mean\",x = \"offset\", yerr = \"ocp_sd\")"
   ]
  },
  {
   "cell_type": "code",
   "execution_count": 21,
   "id": "eadc3bfa-9a6d-4ee2-a2be-b7915fd5144f",
   "metadata": {},
   "outputs": [
    {
     "data": {
      "text/plain": [
       "<AxesSubplot: xlabel='offset'>"
      ]
     },
     "execution_count": 21,
     "metadata": {},
     "output_type": "execute_result"
    },
    {
     "data": {
      "image/png": "[encoded data removed]",
      "text/plain": [
       "<Figure size 640x480 with 1 Axes>"
      ]
     },
     "metadata": {},
     "output_type": "display_data"
    }
   ],
   "source": [
    "df[df.j == True].plot(y = \"ocp_mean\", x = \"offset\", yerr = \"ocp_sd\")"
   ]
  },
  {
   "cell_type": "markdown",
   "id": "74a80f68-6ce7-46af-990f-fbfe54a465e6",
   "metadata": {},
   "source": [
    "We plot mean values of median MSE, with standard deviation. Here the difference in results is clearly dwarfed by the error bars: It does not matter at all which values we pick. "
   ]
  },
  {
   "cell_type": "code",
   "execution_count": 22,
   "id": "8e4db552-541f-478b-a4d1-d5dd71d55739",
   "metadata": {
    "tags": []
   },
   "outputs": [
    {
     "data": {
      "text/plain": [
       "<AxesSubplot: xlabel='offset'>"
      ]
     },
     "execution_count": 22,
     "metadata": {},
     "output_type": "execute_result"
    },
    {
     "data": {
      "image/png": "[encoded data removed]",
      "text/plain": [
       "<Figure size 640x480 with 1 Axes>"
      ]
     },
     "metadata": {},
     "output_type": "display_data"
    }
   ],
   "source": [
    "df[df.j == False].plot(y = \"msemed_mean\", x = \"offset\", yerr = \"msemed_sd\")"
   ]
  },
  {
   "cell_type": "code",
   "execution_count": 23,
   "id": "fbe414f6-d6e1-496b-b3f7-f2c77d19a854",
   "metadata": {},
   "outputs": [
    {
     "data": {
      "text/plain": [
       "<AxesSubplot: xlabel='offset'>"
      ]
     },
     "execution_count": 23,
     "metadata": {},
     "output_type": "execute_result"
    },
    {
     "data": {
      "image/png": "[encoded data removed]",
      "text/plain": [
       "<Figure size 640x480 with 1 Axes>"
      ]
     },
     "metadata": {},
     "output_type": "display_data"
    }
   ],
   "source": [
    "df[df.j == True].plot(y = \"msemed_mean\", x = \"offset\", yerr = \"msemed_sd\")"
   ]
  },
  {
   "cell_type": "markdown",
   "id": "6e2cbb0c-3fe5-4982-860c-b4fbac0f9e4e",
   "metadata": {},
   "source": [
    "### Parameters for seeds as words\n",
    "\n",
    "Because we need to pick some value, we pick the one with third best OC_P, which is very close to the best OC_P but with much lower MSE. We use an **offset of 2.0, with jitter.** "
   ]
  },
  {
   "cell_type": "code",
   "execution_count": 24,
   "id": "d5c9e9e2-b17f-45a0-b618-06c01b010a67",
   "metadata": {
    "tags": []
   },
   "outputs": [
    {
     "data": {
      "text/html": [
       "<div>\n",
       "<style scoped>\n",
       "    .dataframe tbody tr th:only-of-type {\n",
       "        vertical-align: middle;\n",
       "    }\n",
       "\n",
       "    .dataframe tbody tr th {\n",
       "        vertical-align: top;\n",
       "    }\n",
       "\n",
       "    .dataframe thead th {\n",
       "        text-align: right;\n",
       "    }\n",
       "</style>\n",
       "<table border=\"1\" class=\"dataframe\">\n",
       "  <thead>\n",
       "    <tr style=\"text-align: right;\">\n",
       "      <th></th>\n",
       "      <th>offset</th>\n",
       "      <th>j</th>\n",
       "      <th>ocp_mean</th>\n",
       "      <th>ocp_sd</th>\n",
       "      <th>msemed_mean</th>\n",
       "      <th>msemed_sd</th>\n",
       "    </tr>\n",
       "  </thead>\n",
       "  <tbody>\n",
       "    <tr>\n",
       "      <th>30</th>\n",
       "      <td>1.1</td>\n",
       "      <td>False</td>\n",
       "      <td>0.531518</td>\n",
       "      <td>0.011786</td>\n",
       "      <td>285.381360</td>\n",
       "      <td>168.491271</td>\n",
       "    </tr>\n",
       "    <tr>\n",
       "      <th>2</th>\n",
       "      <td>0.3</td>\n",
       "      <td>True</td>\n",
       "      <td>0.529115</td>\n",
       "      <td>0.021144</td>\n",
       "      <td>274.601053</td>\n",
       "      <td>152.517325</td>\n",
       "    </tr>\n",
       "    <tr>\n",
       "      <th>19</th>\n",
       "      <td>2.0</td>\n",
       "      <td>True</td>\n",
       "      <td>0.528864</td>\n",
       "      <td>0.031003</td>\n",
       "      <td>205.595868</td>\n",
       "      <td>72.422202</td>\n",
       "    </tr>\n",
       "    <tr>\n",
       "      <th>23</th>\n",
       "      <td>0.4</td>\n",
       "      <td>False</td>\n",
       "      <td>0.526195</td>\n",
       "      <td>0.029300</td>\n",
       "      <td>285.393872</td>\n",
       "      <td>161.854764</td>\n",
       "    </tr>\n",
       "    <tr>\n",
       "      <th>12</th>\n",
       "      <td>1.3</td>\n",
       "      <td>True</td>\n",
       "      <td>0.524612</td>\n",
       "      <td>0.018941</td>\n",
       "      <td>266.058579</td>\n",
       "      <td>149.822384</td>\n",
       "    </tr>\n",
       "    <tr>\n",
       "      <th>9</th>\n",
       "      <td>1.0</td>\n",
       "      <td>True</td>\n",
       "      <td>0.523352</td>\n",
       "      <td>0.021105</td>\n",
       "      <td>324.212190</td>\n",
       "      <td>283.953460</td>\n",
       "    </tr>\n",
       "    <tr>\n",
       "      <th>17</th>\n",
       "      <td>1.8</td>\n",
       "      <td>True</td>\n",
       "      <td>0.523079</td>\n",
       "      <td>0.016756</td>\n",
       "      <td>240.581825</td>\n",
       "      <td>133.956249</td>\n",
       "    </tr>\n",
       "    <tr>\n",
       "      <th>4</th>\n",
       "      <td>0.5</td>\n",
       "      <td>True</td>\n",
       "      <td>0.522342</td>\n",
       "      <td>0.017525</td>\n",
       "      <td>266.776676</td>\n",
       "      <td>172.391971</td>\n",
       "    </tr>\n",
       "    <tr>\n",
       "      <th>28</th>\n",
       "      <td>0.9</td>\n",
       "      <td>False</td>\n",
       "      <td>0.521831</td>\n",
       "      <td>0.017832</td>\n",
       "      <td>233.296899</td>\n",
       "      <td>104.627330</td>\n",
       "    </tr>\n",
       "    <tr>\n",
       "      <th>26</th>\n",
       "      <td>0.7</td>\n",
       "      <td>False</td>\n",
       "      <td>0.521724</td>\n",
       "      <td>0.024691</td>\n",
       "      <td>207.089613</td>\n",
       "      <td>112.086395</td>\n",
       "    </tr>\n",
       "  </tbody>\n",
       "</table>\n",
       "</div>"
      ],
      "text/plain": [
       "    offset      j  ocp_mean    ocp_sd  msemed_mean   msemed_sd\n",
       "30     1.1  False  0.531518  0.011786   285.381360  168.491271\n",
       "2      0.3   True  0.529115  0.021144   274.601053  152.517325\n",
       "19     2.0   True  0.528864  0.031003   205.595868   72.422202\n",
       "23     0.4  False  0.526195  0.029300   285.393872  161.854764\n",
       "12     1.3   True  0.524612  0.018941   266.058579  149.822384\n",
       "9      1.0   True  0.523352  0.021105   324.212190  283.953460\n",
       "17     1.8   True  0.523079  0.016756   240.581825  133.956249\n",
       "4      0.5   True  0.522342  0.017525   266.776676  172.391971\n",
       "28     0.9  False  0.521831  0.017832   233.296899  104.627330\n",
       "26     0.7  False  0.521724  0.024691   207.089613  112.086395"
      ]
     },
     "execution_count": 24,
     "metadata": {},
     "output_type": "execute_result"
    }
   ],
   "source": [
    "df.sort_values(by = \"ocp_mean\", ascending = False).head(10)"
   ]
  },
  {
   "cell_type": "code",
   "execution_count": 25,
   "id": "e4e0541c-7bcb-46fe-83b5-106b8da160b9",
   "metadata": {
    "tags": []
   },
   "outputs": [
    {
     "data": {
      "text/html": [
       "<div>\n",
       "<style scoped>\n",
       "    .dataframe tbody tr th:only-of-type {\n",
       "        vertical-align: middle;\n",
       "    }\n",
       "\n",
       "    .dataframe tbody tr th {\n",
       "        vertical-align: top;\n",
       "    }\n",
       "\n",
       "    .dataframe thead th {\n",
       "        text-align: right;\n",
       "    }\n",
       "</style>\n",
       "<table border=\"1\" class=\"dataframe\">\n",
       "  <thead>\n",
       "    <tr style=\"text-align: right;\">\n",
       "      <th></th>\n",
       "      <th>offset</th>\n",
       "      <th>j</th>\n",
       "      <th>ocp_mean</th>\n",
       "      <th>ocp_sd</th>\n",
       "      <th>msemed_mean</th>\n",
       "      <th>msemed_sd</th>\n",
       "    </tr>\n",
       "  </thead>\n",
       "  <tbody>\n",
       "    <tr>\n",
       "      <th>15</th>\n",
       "      <td>1.6</td>\n",
       "      <td>True</td>\n",
       "      <td>0.512273</td>\n",
       "      <td>0.027922</td>\n",
       "      <td>193.641419</td>\n",
       "      <td>91.798017</td>\n",
       "    </tr>\n",
       "    <tr>\n",
       "      <th>27</th>\n",
       "      <td>0.8</td>\n",
       "      <td>False</td>\n",
       "      <td>0.519419</td>\n",
       "      <td>0.026027</td>\n",
       "      <td>203.327884</td>\n",
       "      <td>93.497082</td>\n",
       "    </tr>\n",
       "    <tr>\n",
       "      <th>11</th>\n",
       "      <td>1.2</td>\n",
       "      <td>True</td>\n",
       "      <td>0.520427</td>\n",
       "      <td>0.018683</td>\n",
       "      <td>204.009896</td>\n",
       "      <td>98.835602</td>\n",
       "    </tr>\n",
       "    <tr>\n",
       "      <th>6</th>\n",
       "      <td>0.7</td>\n",
       "      <td>True</td>\n",
       "      <td>0.504162</td>\n",
       "      <td>0.028958</td>\n",
       "      <td>204.130968</td>\n",
       "      <td>85.015880</td>\n",
       "    </tr>\n",
       "    <tr>\n",
       "      <th>39</th>\n",
       "      <td>2.0</td>\n",
       "      <td>False</td>\n",
       "      <td>0.515129</td>\n",
       "      <td>0.022052</td>\n",
       "      <td>205.481632</td>\n",
       "      <td>94.165172</td>\n",
       "    </tr>\n",
       "    <tr>\n",
       "      <th>19</th>\n",
       "      <td>2.0</td>\n",
       "      <td>True</td>\n",
       "      <td>0.528864</td>\n",
       "      <td>0.031003</td>\n",
       "      <td>205.595868</td>\n",
       "      <td>72.422202</td>\n",
       "    </tr>\n",
       "    <tr>\n",
       "      <th>26</th>\n",
       "      <td>0.7</td>\n",
       "      <td>False</td>\n",
       "      <td>0.521724</td>\n",
       "      <td>0.024691</td>\n",
       "      <td>207.089613</td>\n",
       "      <td>112.086395</td>\n",
       "    </tr>\n",
       "    <tr>\n",
       "      <th>1</th>\n",
       "      <td>0.2</td>\n",
       "      <td>True</td>\n",
       "      <td>0.507181</td>\n",
       "      <td>0.019516</td>\n",
       "      <td>220.669165</td>\n",
       "      <td>70.401835</td>\n",
       "    </tr>\n",
       "    <tr>\n",
       "      <th>31</th>\n",
       "      <td>1.2</td>\n",
       "      <td>False</td>\n",
       "      <td>0.507853</td>\n",
       "      <td>0.022978</td>\n",
       "      <td>223.729981</td>\n",
       "      <td>101.647093</td>\n",
       "    </tr>\n",
       "    <tr>\n",
       "      <th>16</th>\n",
       "      <td>1.7</td>\n",
       "      <td>True</td>\n",
       "      <td>0.518591</td>\n",
       "      <td>0.017071</td>\n",
       "      <td>227.277035</td>\n",
       "      <td>105.435544</td>\n",
       "    </tr>\n",
       "  </tbody>\n",
       "</table>\n",
       "</div>"
      ],
      "text/plain": [
       "    offset      j  ocp_mean    ocp_sd  msemed_mean   msemed_sd\n",
       "15     1.6   True  0.512273  0.027922   193.641419   91.798017\n",
       "27     0.8  False  0.519419  0.026027   203.327884   93.497082\n",
       "11     1.2   True  0.520427  0.018683   204.009896   98.835602\n",
       "6      0.7   True  0.504162  0.028958   204.130968   85.015880\n",
       "39     2.0  False  0.515129  0.022052   205.481632   94.165172\n",
       "19     2.0   True  0.528864  0.031003   205.595868   72.422202\n",
       "26     0.7  False  0.521724  0.024691   207.089613  112.086395\n",
       "1      0.2   True  0.507181  0.019516   220.669165   70.401835\n",
       "31     1.2  False  0.507853  0.022978   223.729981  101.647093\n",
       "16     1.7   True  0.518591  0.017071   227.277035  105.435544"
      ]
     },
     "execution_count": 25,
     "metadata": {},
     "output_type": "execute_result"
    }
   ],
   "source": [
    "df.sort_values(by = \"msemed_mean\", ascending = True).head(10)"
   ]
  },
  {
   "cell_type": "markdown",
   "id": "eba6a9b6-e6b3-4c67-a0b4-a9c02f226a71",
   "metadata": {},
   "source": [
    "## Fitted dimensions with seeds as dimensions: alpha, averaging\n",
    "\n",
    "We first run an exploration, with only one random seed."
   ]
  },
  {
   "cell_type": "code",
   "execution_count": 26,
   "id": "e8b6afcc-ebc2-474c-8ac4-3beed7921995",
   "metadata": {
    "tags": []
   },
   "outputs": [
    {
     "name": "stdout",
     "output_type": "stream",
     "text": [
      "0.001 True 0.6967889645693668 6.699518560479867\n",
      "0.028666666666666667 True 0.6993230334126693 3.6532342393493145\n",
      "0.05633333333333333 True 0.6937578866959 4.09543923158799\n",
      "0.08399999999999999 True 0.6869638795755352 5.257219490325207\n",
      "0.11166666666666666 True 0.6655857976013659 4.674470544759496\n",
      "0.13933333333333334 True 0.6711614338222956 6.607564557279873\n",
      "0.16699999999999998 True 0.6509548213489533 6.9557361815154986\n",
      "0.19466666666666665 True 0.6589503765009395 7.174194042281053\n",
      "0.22233333333333333 True 0.6508167954078274 6.649698361137226\n",
      "0.25 True 0.6493485665022746 6.051817849151556\n",
      "0.001 False 0.6799844007915852 6.140289364656391\n",
      "0.028666666666666667 False 0.6832304033530413 5.070304661168019\n",
      "0.05633333333333333 False 0.6572443333905853 6.207010194502168\n",
      "0.08399999999999999 False 0.6778841049658062 5.392071418005525\n",
      "0.11166666666666666 False 0.6451395081756822 6.700090456720092\n",
      "0.13933333333333334 False 0.6482491261433492 7.756210150925082\n",
      "0.16699999999999998 False 0.6475727754367518 6.488653901221356\n",
      "0.19466666666666665 False 0.6379416933405198 8.212884942013048\n",
      "0.22233333333333333 False 0.6291314116562581 8.434308100929073\n",
      "0.25 False 0.6222967507629552 7.828057365390292\n"
     ]
    }
   ],
   "source": [
    "average_vals = [True, False]\n",
    "alpha_vals= np.linspace(0.001, 0.25, num=10)\n",
    "\n",
    "results = defaultdict(list)\n",
    "\n",
    "randoms = [123]\n",
    "\n",
    "for randval in randoms:\n",
    "    for avgval in average_vals:\n",
    "        for alphaval in alpha_vals:\n",
    "\n",
    "            method = { \"method\": \"fitted_seeddims\",\n",
    "                      \"feature_dim\" : feature_dim,\n",
    "                      \"numfolds\" : 5,\n",
    "                      \"do_average\" : avgval,\n",
    "                      \"alpha\" : alphaval}\n",
    "\n",
    "\n",
    "            theseresults = crossvalidation(devset, method, word_vectors, grandratings_dir, grandfeatures_df, random_seed = randval)\n",
    "            \n",
    "            ocp_mean, _, _ = eval_summary_by(theseresults, \"ocp\")\n",
    "            _, mse_med, _ = eval_summary_by(theseresults, \"mse\")\n",
    "            print(alphaval, avgval, ocp_mean, mse_med)\n",
    "            \n",
    "            for r in theseresults:\n",
    "                r.update({\"alpha\":alphaval, \"avg\": avgval})\n",
    "                results[ (str(alphaval), str(avgval))].append(r)            \n",
    "\n"
   ]
  },
  {
   "cell_type": "code",
   "execution_count": 28,
   "id": "07dfa4ba-63e4-4167-a3a6-a406da07d300",
   "metadata": {
    "tags": []
   },
   "outputs": [],
   "source": [
    "results_byparam = [ ]\n",
    "\n",
    "for theseresults in results.values():\n",
    "    alpha = theseresults[0][\"alpha\"]\n",
    "    avg = theseresults[0][\"avg\"]\n",
    "    \n",
    "    results_bycond = eval_aggregate_by(theseresults,[\"category\", \"feature\"])\n",
    "    ocps = [eval_summary_by(cond_results, \"ocp\")[0] for cond_results in results_bycond.values()]\n",
    "    mses = [eval_summary_by(cond_results, \"mse\")[1] for cond_results in results_bycond.values()]\n",
    "    \n",
    "    results_byparam.append({ \"alpha\": alpha, \"avg\":avg, \n",
    "                            \"ocp_mean\": statistics.mean(ocps), \"ocp_sd\": statistics.stdev(ocps),\n",
    "                            \"msemed_mean\" : statistics.mean(mses), \"msemed_sd\" : statistics.stdev(mses)})\n"
   ]
  },
  {
   "cell_type": "code",
   "execution_count": 29,
   "id": "c93ff7aa-b0e3-436c-92fd-51b8f30d907b",
   "metadata": {},
   "outputs": [
    {
     "data": {
      "text/html": [
       "<div>\n",
       "<style scoped>\n",
       "    .dataframe tbody tr th:only-of-type {\n",
       "        vertical-align: middle;\n",
       "    }\n",
       "\n",
       "    .dataframe tbody tr th {\n",
       "        vertical-align: top;\n",
       "    }\n",
       "\n",
       "    .dataframe thead th {\n",
       "        text-align: right;\n",
       "    }\n",
       "</style>\n",
       "<table border=\"1\" class=\"dataframe\">\n",
       "  <thead>\n",
       "    <tr style=\"text-align: right;\">\n",
       "      <th></th>\n",
       "      <th>alpha</th>\n",
       "      <th>avg</th>\n",
       "      <th>ocp_mean</th>\n",
       "      <th>ocp_sd</th>\n",
       "      <th>msemed_mean</th>\n",
       "      <th>msemed_sd</th>\n",
       "    </tr>\n",
       "  </thead>\n",
       "  <tbody>\n",
       "    <tr>\n",
       "      <th>0</th>\n",
       "      <td>0.001000</td>\n",
       "      <td>True</td>\n",
       "      <td>0.696789</td>\n",
       "      <td>0.078737</td>\n",
       "      <td>17.496412</td>\n",
       "      <td>27.729810</td>\n",
       "    </tr>\n",
       "    <tr>\n",
       "      <th>1</th>\n",
       "      <td>0.028667</td>\n",
       "      <td>True</td>\n",
       "      <td>0.699323</td>\n",
       "      <td>0.083539</td>\n",
       "      <td>6.384324</td>\n",
       "      <td>6.153508</td>\n",
       "    </tr>\n",
       "    <tr>\n",
       "      <th>2</th>\n",
       "      <td>0.056333</td>\n",
       "      <td>True</td>\n",
       "      <td>0.693758</td>\n",
       "      <td>0.076228</td>\n",
       "      <td>7.367539</td>\n",
       "      <td>5.883733</td>\n",
       "    </tr>\n",
       "    <tr>\n",
       "      <th>3</th>\n",
       "      <td>0.084000</td>\n",
       "      <td>True</td>\n",
       "      <td>0.686964</td>\n",
       "      <td>0.082408</td>\n",
       "      <td>7.194648</td>\n",
       "      <td>5.115591</td>\n",
       "    </tr>\n",
       "    <tr>\n",
       "      <th>4</th>\n",
       "      <td>0.111667</td>\n",
       "      <td>True</td>\n",
       "      <td>0.665586</td>\n",
       "      <td>0.090661</td>\n",
       "      <td>7.214904</td>\n",
       "      <td>4.985395</td>\n",
       "    </tr>\n",
       "  </tbody>\n",
       "</table>\n",
       "</div>"
      ],
      "text/plain": [
       "      alpha   avg  ocp_mean    ocp_sd  msemed_mean  msemed_sd\n",
       "0  0.001000  True  0.696789  0.078737    17.496412  27.729810\n",
       "1  0.028667  True  0.699323  0.083539     6.384324   6.153508\n",
       "2  0.056333  True  0.693758  0.076228     7.367539   5.883733\n",
       "3  0.084000  True  0.686964  0.082408     7.194648   5.115591\n",
       "4  0.111667  True  0.665586  0.090661     7.214904   4.985395"
      ]
     },
     "execution_count": 29,
     "metadata": {},
     "output_type": "execute_result"
    }
   ],
   "source": [
    "df = pd.DataFrame(results_byparam)\n",
    "df.head()\n"
   ]
  },
  {
   "cell_type": "code",
   "execution_count": 30,
   "id": "9cac3da0-eeb1-447a-8a01-ccdd4e24d465",
   "metadata": {
    "tags": []
   },
   "outputs": [
    {
     "data": {
      "text/plain": [
       "<AxesSubplot: xlabel='alpha'>"
      ]
     },
     "execution_count": 30,
     "metadata": {},
     "output_type": "execute_result"
    },
    {
     "data": {
      "image/png": "[encoded data removed]",
      "text/plain": [
       "<Figure size 640x480 with 1 Axes>"
      ]
     },
     "metadata": {},
     "output_type": "display_data"
    }
   ],
   "source": [
    "df[df.avg == True].sort_values(by = \"alpha\").plot(x = \"alpha\", y = \"ocp_mean\", yerr = \"ocp_sd\")"
   ]
  },
  {
   "cell_type": "code",
   "execution_count": 31,
   "id": "5492a999-08b0-4084-b397-6d74c4579cc1",
   "metadata": {
    "tags": []
   },
   "outputs": [
    {
     "data": {
      "text/plain": [
       "<AxesSubplot: xlabel='alpha'>"
      ]
     },
     "execution_count": 31,
     "metadata": {},
     "output_type": "execute_result"
    },
    {
     "data": {
      "image/png": "[encoded data removed]",
      "text/plain": [
       "<Figure size 640x480 with 1 Axes>"
      ]
     },
     "metadata": {},
     "output_type": "display_data"
    }
   ],
   "source": [
    "df[df.avg == False].sort_values(by = \"alpha\").plot(x = \"alpha\", y = \"ocp_mean\", yerr = \"ocp_sd\")"
   ]
  },
  {
   "cell_type": "code",
   "execution_count": 33,
   "id": "e051283d-d465-47bc-a3d3-347b656e2828",
   "metadata": {
    "tags": []
   },
   "outputs": [
    {
     "data": {
      "text/plain": [
       "<AxesSubplot: xlabel='alpha'>"
      ]
     },
     "execution_count": 33,
     "metadata": {},
     "output_type": "execute_result"
    },
    {
     "data": {
      "image/png": "[encoded data removed]",
      "text/plain": [
       "<Figure size 640x480 with 1 Axes>"
      ]
     },
     "metadata": {},
     "output_type": "display_data"
    }
   ],
   "source": [
    "df[df.avg == True].sort_values(by = \"alpha\").plot(x = \"alpha\", y = \"msemed_mean\", yerr = \"msemed_sd\")"
   ]
  },
  {
   "cell_type": "code",
   "execution_count": null,
   "id": "5e5ced53-da85-4510-b083-cac6724c3755",
   "metadata": {
    "tags": []
   },
   "outputs": [],
   "source": [
    "df[df.avg == False].sort_values(by = \"alpha\").plot(x = \"alpha\", y = \"msemed_mean\", yerr = \"msemed_sd\")"
   ]
  },
  {
   "cell_type": "markdown",
   "id": "ac4bf724-b81a-4ff7-a1b0-789e3efca8b7",
   "metadata": {},
   "source": [
    "We see that overall the performance is best, in terms of both OC_P and MSE, for small values of alpha, though again there is a large error bar. We explore the low range of alpha in more detail, both with and without averaging. "
   ]
  },
  {
   "cell_type": "code",
   "execution_count": 35,
   "id": "aa8b4878-1f15-4afd-a555-c85482a9e4f8",
   "metadata": {
    "tags": []
   },
   "outputs": [
    {
     "name": "stdout",
     "output_type": "stream",
     "text": [
      "0.001 True 0.6711001375302544 9.736039087240785\n",
      "0.017555555555555557 True 0.704318060933692 3.1441821852226646\n",
      "0.03411111111111111 True 0.6795944696918144 5.369752166428208\n",
      "0.050666666666666665 True 0.6710695805107006 6.46424055551479\n",
      "0.06722222222222222 True 0.6581959734848303 9.675118673061668\n",
      "0.08377777777777778 True 0.6604228907662684 15.322526388684501\n",
      "0.10033333333333333 True 0.651785114499496 13.594071707216507\n",
      "0.11688888888888889 True 0.657719005998995 12.81477705020821\n",
      "0.13344444444444445 True 0.645290472637148 16.953745788399633\n",
      "0.15 True 0.6329288976600634 19.58091057739425\n",
      "0.001 False 0.6649134175186435 6.524496135833461\n",
      "0.017555555555555557 False 0.6702356405494981 8.195336516973896\n",
      "0.03411111111111111 False 0.6496100287172801 12.058210441625434\n",
      "0.050666666666666665 False 0.6656757893070658 16.979821387385527\n",
      "0.06722222222222222 False 0.6481860891221627 16.021505769129448\n",
      "0.08377777777777778 False 0.6367720423490865 18.433122697943357\n",
      "0.10033333333333333 False 0.6274685893180326 24.016418891514235\n",
      "0.11688888888888889 False 0.6200861925716226 24.287888094427238\n",
      "0.13344444444444445 False 0.6149850534280611 32.92410486075562\n",
      "0.15 False 0.606365797952093 27.64926641357841\n",
      "0.001 True 0.688733008354608 3.145090366948133\n",
      "0.017555555555555557 True 0.6870416600752586 6.042512219652938\n",
      "0.03411111111111111 True 0.6568028866271205 8.264434392847383\n",
      "0.050666666666666665 True 0.6500980851173843 10.62786774690568\n",
      "0.06722222222222222 True 0.647575379975032 9.456392759116302\n",
      "0.08377777777777778 True 0.6445929494947035 14.050830488454679\n",
      "0.10033333333333333 True 0.6283253211659515 17.78310904626141\n",
      "0.11688888888888889 True 0.6321590323437911 17.898829156395948\n",
      "0.13344444444444445 True 0.621707752164836 27.998664593492606\n",
      "0.15 True 0.6286644850265207 34.64143628106346\n",
      "0.001 False 0.668870288863761 6.817896736550328\n",
      "0.017555555555555557 False 0.6617766707340997 9.8506473365652\n",
      "0.03411111111111111 False 0.6345191019803573 19.395234645266452\n",
      "0.050666666666666665 False 0.6284983501984249 22.535492140003328\n",
      "0.06722222222222222 False 0.608471015930021 33.69223345004743\n",
      "0.08377777777777778 False 0.6221532028130383 22.838940581805588\n",
      "0.10033333333333333 False 0.5985090486216168 47.00429565800856\n",
      "0.11688888888888889 False 0.581000767061099 59.87485557360075\n",
      "0.13344444444444445 False 0.5983307261546131 84.80682121264351\n",
      "0.15 False 0.5850289758051855 74.45917268444063\n",
      "0.001 True 0.6582213809742095 4.707086669503285\n",
      "0.017555555555555557 True 0.6693957339346109 4.856118693413701\n",
      "0.03411111111111111 True 0.6358375080559635 8.62484320317053\n",
      "0.050666666666666665 True 0.6419744869920813 29.112790900403837\n",
      "0.06722222222222222 True 0.6087630007592899 38.577441199767655\n",
      "0.08377777777777778 True 0.5972436928950616 28.54566713383746\n",
      "0.10033333333333333 True 0.603388841640917 37.82337534060038\n",
      "0.11688888888888889 True 0.5908667538566584 52.428048175158835\n",
      "0.13344444444444445 True 0.5935554635411947 42.35302291997718\n",
      "0.15 True 0.593989773325621 41.283077268289844\n",
      "0.001 False 0.6771620509284134 6.1948201732493136\n",
      "0.017555555555555557 False 0.6583893074821674 13.355103284933461\n",
      "0.03411111111111111 False 0.5924103745292096 57.27982095585861\n",
      "0.050666666666666665 False 0.5884980974462062 71.54878438628293\n",
      "0.06722222222222222 False 0.565716972538761 54.394847432482266\n",
      "0.08377777777777778 False 0.6014419463178141 96.60636799946178\n",
      "0.10033333333333333 False 0.5773602920914649 53.06964419344665\n",
      "0.11688888888888889 False 0.5993975395090256 63.18754318321974\n",
      "0.13344444444444445 False 0.5781160395184424 90.29517369350675\n",
      "0.15 False 0.5804298785670353 58.6433896171733\n"
     ]
    }
   ],
   "source": [
    "average_vals = [True, False]\n",
    "alpha_vals= np.linspace(0.001, 0.15, num=10)\n",
    "\n",
    "results = defaultdict(list)\n",
    "\n",
    "random.seed(5)\n",
    "randoms = [random.randrange(0,100) for _ in range(num_randseeds)]\n",
    "\n",
    "for randval in randoms:\n",
    "    for avgval in average_vals:\n",
    "        for alphaval in alpha_vals:\n",
    "\n",
    "            method = { \"method\": \"fitted_seeddims\",\n",
    "                      \"feature_dim\" : feature_dim,\n",
    "                      \"numfolds\" : 5,\n",
    "                      \"do_average\" : avgval,\n",
    "                      \"alpha\" : alphaval}\n",
    "\n",
    "\n",
    "            theseresults = crossvalidation(devset, method, word_vectors, grandratings_dir, grandfeatures_df, random_seed = randval)\n",
    "            \n",
    "            ocp_mean, _, _ = eval_summary_by(theseresults, \"ocp\")\n",
    "            _, mse_med, _ = eval_summary_by(theseresults, \"mse\")\n",
    "            print(alphaval, avgval, ocp_mean, mse_med)\n",
    "            \n",
    "            \n",
    "            for r in theseresults:\n",
    "                r.update({\"alpha\":alphaval, \"avg\": avgval})\n",
    "                results[ (str(alphaval), str(avgval))].append(r) "
   ]
  },
  {
   "cell_type": "code",
   "execution_count": 36,
   "id": "d19281b4-79ba-4267-884a-eb2e833e079d",
   "metadata": {
    "tags": []
   },
   "outputs": [],
   "source": [
    "results_byparam = [ ]\n",
    "\n",
    "for theseresults in results.values():\n",
    "    alpha = theseresults[0][\"alpha\"]\n",
    "    avg = theseresults[0][\"avg\"]\n",
    "    \n",
    "    results_bycond = eval_aggregate_by(theseresults,[\"category\", \"feature\"])\n",
    "    ocps = [eval_summary_by(cond_results, \"ocp\")[0] for cond_results in results_bycond.values()]\n",
    "    mses = [eval_summary_by(cond_results, \"mse\")[1] for cond_results in results_bycond.values()]\n",
    "    \n",
    "    results_byparam.append({ \"alpha\": alpha, \"avg\":avg, \n",
    "                            \"ocp_mean\": statistics.mean(ocps), \"ocp_sd\": statistics.stdev(ocps),\n",
    "                            \"msemed_mean\" : statistics.mean(mses), \"msemed_sd\" : statistics.stdev(mses)})\n"
   ]
  },
  {
   "cell_type": "code",
   "execution_count": 37,
   "id": "26c910fd-f481-4cf2-ac32-9522ecc71a47",
   "metadata": {},
   "outputs": [
    {
     "data": {
      "text/html": [
       "<div>\n",
       "<style scoped>\n",
       "    .dataframe tbody tr th:only-of-type {\n",
       "        vertical-align: middle;\n",
       "    }\n",
       "\n",
       "    .dataframe tbody tr th {\n",
       "        vertical-align: top;\n",
       "    }\n",
       "\n",
       "    .dataframe thead th {\n",
       "        text-align: right;\n",
       "    }\n",
       "</style>\n",
       "<table border=\"1\" class=\"dataframe\">\n",
       "  <thead>\n",
       "    <tr style=\"text-align: right;\">\n",
       "      <th></th>\n",
       "      <th>alpha</th>\n",
       "      <th>avg</th>\n",
       "      <th>ocp_mean</th>\n",
       "      <th>ocp_sd</th>\n",
       "      <th>msemed_mean</th>\n",
       "      <th>msemed_sd</th>\n",
       "    </tr>\n",
       "  </thead>\n",
       "  <tbody>\n",
       "    <tr>\n",
       "      <th>0</th>\n",
       "      <td>0.001000</td>\n",
       "      <td>True</td>\n",
       "      <td>0.672685</td>\n",
       "      <td>0.093665</td>\n",
       "      <td>18.749198</td>\n",
       "      <td>25.390920</td>\n",
       "    </tr>\n",
       "    <tr>\n",
       "      <th>1</th>\n",
       "      <td>0.017556</td>\n",
       "      <td>True</td>\n",
       "      <td>0.686918</td>\n",
       "      <td>0.091411</td>\n",
       "      <td>12.046159</td>\n",
       "      <td>13.985848</td>\n",
       "    </tr>\n",
       "    <tr>\n",
       "      <th>2</th>\n",
       "      <td>0.034111</td>\n",
       "      <td>True</td>\n",
       "      <td>0.657412</td>\n",
       "      <td>0.104513</td>\n",
       "      <td>20.593204</td>\n",
       "      <td>25.502695</td>\n",
       "    </tr>\n",
       "    <tr>\n",
       "      <th>3</th>\n",
       "      <td>0.050667</td>\n",
       "      <td>True</td>\n",
       "      <td>0.654381</td>\n",
       "      <td>0.097530</td>\n",
       "      <td>49.694215</td>\n",
       "      <td>64.049977</td>\n",
       "    </tr>\n",
       "    <tr>\n",
       "      <th>4</th>\n",
       "      <td>0.067222</td>\n",
       "      <td>True</td>\n",
       "      <td>0.638178</td>\n",
       "      <td>0.105794</td>\n",
       "      <td>31.304003</td>\n",
       "      <td>33.519131</td>\n",
       "    </tr>\n",
       "  </tbody>\n",
       "</table>\n",
       "</div>"
      ],
      "text/plain": [
       "      alpha   avg  ocp_mean    ocp_sd  msemed_mean  msemed_sd\n",
       "0  0.001000  True  0.672685  0.093665    18.749198  25.390920\n",
       "1  0.017556  True  0.686918  0.091411    12.046159  13.985848\n",
       "2  0.034111  True  0.657412  0.104513    20.593204  25.502695\n",
       "3  0.050667  True  0.654381  0.097530    49.694215  64.049977\n",
       "4  0.067222  True  0.638178  0.105794    31.304003  33.519131"
      ]
     },
     "execution_count": 37,
     "metadata": {},
     "output_type": "execute_result"
    }
   ],
   "source": [
    "df = pd.DataFrame(results_byparam)\n",
    "df.head()\n"
   ]
  },
  {
   "cell_type": "markdown",
   "id": "fb162516-c659-4e4c-a7df-515ce91b0141",
   "metadata": {},
   "source": [
    "We again plot average OC_P mean and MSE median values, with error bars. "
   ]
  },
  {
   "cell_type": "code",
   "execution_count": 38,
   "id": "e1d505b2-c77e-437d-83bf-d37433647f3d",
   "metadata": {
    "tags": []
   },
   "outputs": [
    {
     "data": {
      "text/plain": [
       "<AxesSubplot: xlabel='alpha'>"
      ]
     },
     "execution_count": 38,
     "metadata": {},
     "output_type": "execute_result"
    },
    {
     "data": {
      "image/png": "[encoded data removed]",
      "text/plain": [
       "<Figure size 640x480 with 1 Axes>"
      ]
     },
     "metadata": {},
     "output_type": "display_data"
    }
   ],
   "source": [
    "%matplotlib inline\n",
    "\n",
    "df[df.avg == True].plot(y = \"ocp_mean\", x = \"alpha\", yerr = \"ocp_sd\")"
   ]
  },
  {
   "cell_type": "code",
   "execution_count": 39,
   "id": "eb3ca7ea-87b0-4b0f-9ba4-f21c0ff5f592",
   "metadata": {
    "tags": []
   },
   "outputs": [
    {
     "data": {
      "text/plain": [
       "<AxesSubplot: xlabel='alpha'>"
      ]
     },
     "execution_count": 39,
     "metadata": {},
     "output_type": "execute_result"
    },
    {
     "data": {
      "image/png": "[encoded data removed]",
      "text/plain": [
       "<Figure size 640x480 with 1 Axes>"
      ]
     },
     "metadata": {},
     "output_type": "display_data"
    }
   ],
   "source": [
    "df[df.avg == False].plot(y = \"ocp_mean\", x = \"alpha\", yerr = \"ocp_sd\")"
   ]
  },
  {
   "cell_type": "code",
   "execution_count": 40,
   "id": "8f54e721-8ad9-4b1c-a9c5-3c2da3f79032",
   "metadata": {
    "tags": []
   },
   "outputs": [
    {
     "data": {
      "text/plain": [
       "<AxesSubplot: xlabel='alpha'>"
      ]
     },
     "execution_count": 40,
     "metadata": {},
     "output_type": "execute_result"
    },
    {
     "data": {
      "image/png": "[encoded data removed]",
      "text/plain": [
       "<Figure size 640x480 with 1 Axes>"
      ]
     },
     "metadata": {},
     "output_type": "display_data"
    }
   ],
   "source": [
    "df[df.avg == False].plot(y = \"msemed_mean\", x = \"alpha\", yerr = \"msemed_sd\")"
   ]
  },
  {
   "cell_type": "code",
   "execution_count": 41,
   "id": "13224ce9-da15-4be2-9ef1-29369a52bb2b",
   "metadata": {
    "tags": []
   },
   "outputs": [
    {
     "data": {
      "text/plain": [
       "<AxesSubplot: xlabel='alpha'>"
      ]
     },
     "execution_count": 41,
     "metadata": {},
     "output_type": "execute_result"
    },
    {
     "data": {
      "image/png": "[encoded data removed]",
      "text/plain": [
       "<Figure size 640x480 with 1 Axes>"
      ]
     },
     "metadata": {},
     "output_type": "display_data"
    }
   ],
   "source": [
    "df[df.avg == True].plot(y = \"msemed_mean\", x = \"alpha\", yerr = \"msemed_sd\")"
   ]
  },
  {
   "cell_type": "markdown",
   "id": "790c27ee-a06b-4ee0-a0d7-4103f08e0d3d",
   "metadata": {},
   "source": [
    "We again see large error bars, meaning that there is wide difference across sub-datasets. Still, low values of alpha seem best both in terms of OC_P and MSE. \n",
    "\n",
    "We again look at the numbers."
   ]
  },
  {
   "cell_type": "code",
   "execution_count": 42,
   "id": "627fc447-eb9a-4211-b6fd-a86e24b4f562",
   "metadata": {
    "tags": []
   },
   "outputs": [
    {
     "data": {
      "text/html": [
       "<div>\n",
       "<style scoped>\n",
       "    .dataframe tbody tr th:only-of-type {\n",
       "        vertical-align: middle;\n",
       "    }\n",
       "\n",
       "    .dataframe tbody tr th {\n",
       "        vertical-align: top;\n",
       "    }\n",
       "\n",
       "    .dataframe thead th {\n",
       "        text-align: right;\n",
       "    }\n",
       "</style>\n",
       "<table border=\"1\" class=\"dataframe\">\n",
       "  <thead>\n",
       "    <tr style=\"text-align: right;\">\n",
       "      <th></th>\n",
       "      <th>alpha</th>\n",
       "      <th>avg</th>\n",
       "      <th>ocp_mean</th>\n",
       "      <th>ocp_sd</th>\n",
       "      <th>msemed_mean</th>\n",
       "      <th>msemed_sd</th>\n",
       "    </tr>\n",
       "  </thead>\n",
       "  <tbody>\n",
       "    <tr>\n",
       "      <th>1</th>\n",
       "      <td>0.017556</td>\n",
       "      <td>True</td>\n",
       "      <td>0.686918</td>\n",
       "      <td>0.091411</td>\n",
       "      <td>12.046159</td>\n",
       "      <td>13.985848</td>\n",
       "    </tr>\n",
       "    <tr>\n",
       "      <th>0</th>\n",
       "      <td>0.001000</td>\n",
       "      <td>True</td>\n",
       "      <td>0.672685</td>\n",
       "      <td>0.093665</td>\n",
       "      <td>18.749198</td>\n",
       "      <td>25.390920</td>\n",
       "    </tr>\n",
       "    <tr>\n",
       "      <th>2</th>\n",
       "      <td>0.034111</td>\n",
       "      <td>True</td>\n",
       "      <td>0.657412</td>\n",
       "      <td>0.104513</td>\n",
       "      <td>20.593204</td>\n",
       "      <td>25.502695</td>\n",
       "    </tr>\n",
       "  </tbody>\n",
       "</table>\n",
       "</div>"
      ],
      "text/plain": [
       "      alpha   avg  ocp_mean    ocp_sd  msemed_mean  msemed_sd\n",
       "1  0.017556  True  0.686918  0.091411    12.046159  13.985848\n",
       "0  0.001000  True  0.672685  0.093665    18.749198  25.390920\n",
       "2  0.034111  True  0.657412  0.104513    20.593204  25.502695"
      ]
     },
     "execution_count": 42,
     "metadata": {},
     "output_type": "execute_result"
    }
   ],
   "source": [
    "df[df.avg == True].sort_values(by = 'ocp_mean', ascending = False).head(3)"
   ]
  },
  {
   "cell_type": "code",
   "execution_count": 43,
   "id": "cf599502-3547-4bf6-9d35-e6a7f3ec443f",
   "metadata": {
    "tags": []
   },
   "outputs": [
    {
     "data": {
      "text/html": [
       "<div>\n",
       "<style scoped>\n",
       "    .dataframe tbody tr th:only-of-type {\n",
       "        vertical-align: middle;\n",
       "    }\n",
       "\n",
       "    .dataframe tbody tr th {\n",
       "        vertical-align: top;\n",
       "    }\n",
       "\n",
       "    .dataframe thead th {\n",
       "        text-align: right;\n",
       "    }\n",
       "</style>\n",
       "<table border=\"1\" class=\"dataframe\">\n",
       "  <thead>\n",
       "    <tr style=\"text-align: right;\">\n",
       "      <th></th>\n",
       "      <th>alpha</th>\n",
       "      <th>avg</th>\n",
       "      <th>ocp_mean</th>\n",
       "      <th>ocp_sd</th>\n",
       "      <th>msemed_mean</th>\n",
       "      <th>msemed_sd</th>\n",
       "    </tr>\n",
       "  </thead>\n",
       "  <tbody>\n",
       "    <tr>\n",
       "      <th>10</th>\n",
       "      <td>0.001000</td>\n",
       "      <td>False</td>\n",
       "      <td>0.670315</td>\n",
       "      <td>0.093840</td>\n",
       "      <td>16.772100</td>\n",
       "      <td>20.232532</td>\n",
       "    </tr>\n",
       "    <tr>\n",
       "      <th>11</th>\n",
       "      <td>0.017556</td>\n",
       "      <td>False</td>\n",
       "      <td>0.663467</td>\n",
       "      <td>0.103554</td>\n",
       "      <td>26.624298</td>\n",
       "      <td>27.522628</td>\n",
       "    </tr>\n",
       "    <tr>\n",
       "      <th>13</th>\n",
       "      <td>0.050667</td>\n",
       "      <td>False</td>\n",
       "      <td>0.627557</td>\n",
       "      <td>0.087476</td>\n",
       "      <td>75.982278</td>\n",
       "      <td>96.940180</td>\n",
       "    </tr>\n",
       "  </tbody>\n",
       "</table>\n",
       "</div>"
      ],
      "text/plain": [
       "       alpha    avg  ocp_mean    ocp_sd  msemed_mean  msemed_sd\n",
       "10  0.001000  False  0.670315  0.093840    16.772100  20.232532\n",
       "11  0.017556  False  0.663467  0.103554    26.624298  27.522628\n",
       "13  0.050667  False  0.627557  0.087476    75.982278  96.940180"
      ]
     },
     "execution_count": 43,
     "metadata": {},
     "output_type": "execute_result"
    }
   ],
   "source": [
    "df[df.avg == False].sort_values(by = 'ocp_mean', ascending = False).head(3)"
   ]
  },
  {
   "cell_type": "code",
   "execution_count": 44,
   "id": "bb230197-1252-459c-94e9-0ce59eeace93",
   "metadata": {
    "tags": []
   },
   "outputs": [
    {
     "data": {
      "text/html": [
       "<div>\n",
       "<style scoped>\n",
       "    .dataframe tbody tr th:only-of-type {\n",
       "        vertical-align: middle;\n",
       "    }\n",
       "\n",
       "    .dataframe tbody tr th {\n",
       "        vertical-align: top;\n",
       "    }\n",
       "\n",
       "    .dataframe thead th {\n",
       "        text-align: right;\n",
       "    }\n",
       "</style>\n",
       "<table border=\"1\" class=\"dataframe\">\n",
       "  <thead>\n",
       "    <tr style=\"text-align: right;\">\n",
       "      <th></th>\n",
       "      <th>alpha</th>\n",
       "      <th>avg</th>\n",
       "      <th>ocp_mean</th>\n",
       "      <th>ocp_sd</th>\n",
       "      <th>msemed_mean</th>\n",
       "      <th>msemed_sd</th>\n",
       "    </tr>\n",
       "  </thead>\n",
       "  <tbody>\n",
       "    <tr>\n",
       "      <th>10</th>\n",
       "      <td>0.001000</td>\n",
       "      <td>False</td>\n",
       "      <td>0.670315</td>\n",
       "      <td>0.093840</td>\n",
       "      <td>16.772100</td>\n",
       "      <td>20.232532</td>\n",
       "    </tr>\n",
       "    <tr>\n",
       "      <th>11</th>\n",
       "      <td>0.017556</td>\n",
       "      <td>False</td>\n",
       "      <td>0.663467</td>\n",
       "      <td>0.103554</td>\n",
       "      <td>26.624298</td>\n",
       "      <td>27.522628</td>\n",
       "    </tr>\n",
       "    <tr>\n",
       "      <th>17</th>\n",
       "      <td>0.116889</td>\n",
       "      <td>False</td>\n",
       "      <td>0.600161</td>\n",
       "      <td>0.080168</td>\n",
       "      <td>60.841427</td>\n",
       "      <td>49.873221</td>\n",
       "    </tr>\n",
       "  </tbody>\n",
       "</table>\n",
       "</div>"
      ],
      "text/plain": [
       "       alpha    avg  ocp_mean    ocp_sd  msemed_mean  msemed_sd\n",
       "10  0.001000  False  0.670315  0.093840    16.772100  20.232532\n",
       "11  0.017556  False  0.663467  0.103554    26.624298  27.522628\n",
       "17  0.116889  False  0.600161  0.080168    60.841427  49.873221"
      ]
     },
     "execution_count": 44,
     "metadata": {},
     "output_type": "execute_result"
    }
   ],
   "source": [
    "df[df.avg == False].sort_values(by = 'msemed_mean').head(3)"
   ]
  },
  {
   "cell_type": "code",
   "execution_count": 45,
   "id": "cf928402-70cc-4d32-8f4d-37de594e7264",
   "metadata": {
    "tags": []
   },
   "outputs": [
    {
     "data": {
      "text/html": [
       "<div>\n",
       "<style scoped>\n",
       "    .dataframe tbody tr th:only-of-type {\n",
       "        vertical-align: middle;\n",
       "    }\n",
       "\n",
       "    .dataframe tbody tr th {\n",
       "        vertical-align: top;\n",
       "    }\n",
       "\n",
       "    .dataframe thead th {\n",
       "        text-align: right;\n",
       "    }\n",
       "</style>\n",
       "<table border=\"1\" class=\"dataframe\">\n",
       "  <thead>\n",
       "    <tr style=\"text-align: right;\">\n",
       "      <th></th>\n",
       "      <th>alpha</th>\n",
       "      <th>avg</th>\n",
       "      <th>ocp_mean</th>\n",
       "      <th>ocp_sd</th>\n",
       "      <th>msemed_mean</th>\n",
       "      <th>msemed_sd</th>\n",
       "    </tr>\n",
       "  </thead>\n",
       "  <tbody>\n",
       "    <tr>\n",
       "      <th>1</th>\n",
       "      <td>0.017556</td>\n",
       "      <td>True</td>\n",
       "      <td>0.686918</td>\n",
       "      <td>0.091411</td>\n",
       "      <td>12.046159</td>\n",
       "      <td>13.985848</td>\n",
       "    </tr>\n",
       "    <tr>\n",
       "      <th>0</th>\n",
       "      <td>0.001000</td>\n",
       "      <td>True</td>\n",
       "      <td>0.672685</td>\n",
       "      <td>0.093665</td>\n",
       "      <td>18.749198</td>\n",
       "      <td>25.390920</td>\n",
       "    </tr>\n",
       "    <tr>\n",
       "      <th>2</th>\n",
       "      <td>0.034111</td>\n",
       "      <td>True</td>\n",
       "      <td>0.657412</td>\n",
       "      <td>0.104513</td>\n",
       "      <td>20.593204</td>\n",
       "      <td>25.502695</td>\n",
       "    </tr>\n",
       "  </tbody>\n",
       "</table>\n",
       "</div>"
      ],
      "text/plain": [
       "      alpha   avg  ocp_mean    ocp_sd  msemed_mean  msemed_sd\n",
       "1  0.017556  True  0.686918  0.091411    12.046159  13.985848\n",
       "0  0.001000  True  0.672685  0.093665    18.749198  25.390920\n",
       "2  0.034111  True  0.657412  0.104513    20.593204  25.502695"
      ]
     },
     "execution_count": 45,
     "metadata": {},
     "output_type": "execute_result"
    }
   ],
   "source": [
    "df[df.avg == True].sort_values(by = 'msemed_mean').head(3)"
   ]
  },
  {
   "cell_type": "markdown",
   "id": "38e0b537-c797-446b-bb02-8805eded681d",
   "metadata": {},
   "source": [
    "In terms of both OC_P and MSE, the best value is at **alpha = 0.02, with averaging over seeds.** "
   ]
  },
  {
   "cell_type": "markdown",
   "id": "961f82c9-c795-4d87-9d03-d11f8c13cd75",
   "metadata": {},
   "source": [
    "# Combined model: seeds as words and dimensions\n",
    "\n",
    "We fix jitter to be true, and averaging to be true, in order not to have too many conditions. We also fix offset to being 1.3, as before, as offset never makes much of a difference. We test different alpha values, with 3 random conditions. "
   ]
  },
  {
   "cell_type": "code",
   "execution_count": 46,
   "id": "49d7c8a0-bde4-4698-b9c6-7f04494a8178",
   "metadata": {
    "tags": []
   },
   "outputs": [
    {
     "name": "stdout",
     "output_type": "stream",
     "text": [
      "0.001 True 2.0 True 0.6804861647097008 2.079185889570372\n",
      "0.017555555555555557 True 2.0 True 0.7436743751741518 1.2845067083332455\n",
      "0.03411111111111111 True 2.0 True 0.8209818164852016 0.6840790074010661\n",
      "0.050666666666666665 True 2.0 True 0.8385419644686622 0.4971661123038162\n",
      "0.06722222222222222 True 2.0 True 0.8181132299300151 0.5463333550713758\n",
      "0.08377777777777778 True 2.0 True 0.8182735570305569 0.5624443192215373\n",
      "0.10033333333333333 True 2.0 True 0.8105352242497126 0.7304775572135936\n",
      "0.11688888888888889 True 2.0 True 0.8067826489462511 0.7046788415484664\n",
      "0.13344444444444445 True 2.0 True 0.8082058087702599 0.6046088347926357\n",
      "0.15 True 2.0 True 0.797403140485472 0.7796589724587663\n",
      "0.001 True 2.0 True 0.7005695856025236 1.8834735829695815\n",
      "0.017555555555555557 True 2.0 True 0.7642955334752298 0.9048155781502693\n",
      "0.03411111111111111 True 2.0 True 0.8203769047461094 0.5856329858679508\n",
      "0.050666666666666665 True 2.0 True 0.8268471475588274 0.5450600894743007\n",
      "0.06722222222222222 True 2.0 True 0.827210064831505 0.6364147119567165\n",
      "0.08377777777777778 True 2.0 True 0.8172776997426212 0.50855361154798\n",
      "0.10033333333333333 True 2.0 True 0.8118918960358554 0.5510050103797149\n",
      "0.11688888888888889 True 2.0 True 0.808073678587628 0.5657804793167254\n",
      "0.13344444444444445 True 2.0 True 0.8011723897801678 0.7003233444097421\n",
      "0.15 True 2.0 True 0.7873280123200809 0.6623725125223288\n",
      "0.001 True 2.0 True 0.706255170247593 2.4879243309757038\n",
      "0.017555555555555557 True 2.0 True 0.7559771838948597 1.0210213990229127\n",
      "0.03411111111111111 True 2.0 True 0.8147457113075228 0.6835029401784534\n",
      "0.050666666666666665 True 2.0 True 0.8241541704623575 0.5749675418452956\n",
      "0.06722222222222222 True 2.0 True 0.8218437024367333 0.5156493527514276\n",
      "0.08377777777777778 True 2.0 True 0.8158643892701227 0.7985733823457872\n",
      "0.10033333333333333 True 2.0 True 0.8010059287507226 0.7831982240750444\n",
      "0.11688888888888889 True 2.0 True 0.7801711566657025 0.9727584731580089\n",
      "0.13344444444444445 True 2.0 True 0.7859958701949199 0.908124036462173\n",
      "0.15 True 2.0 True 0.7425674646778562 1.145446791635928\n"
     ]
    }
   ],
   "source": [
    "average_vals = [True]\n",
    "alpha_vals= np.linspace(0.001, 0.15, num=10)\n",
    "jitter_vals = [True]\n",
    "offset_vals= [ 2.0 ]\n",
    "\n",
    "\n",
    "results = defaultdict(list)\n",
    "\n",
    "random.seed(5)\n",
    "randoms = [random.randrange(0,100) for _ in range(num_randseeds)]\n",
    "\n",
    "for randval in randoms:\n",
    "    for avgval in average_vals:\n",
    "        for alphaval in alpha_vals:\n",
    "            for oval in offset_vals:\n",
    "                for jval in jitter_vals:\n",
    "\n",
    "                    method = { \"method\": \"combined\",\n",
    "                              \"feature_dim\" : feature_dim,\n",
    "                              \"numfolds\" : 5,\n",
    "                              \"do_average\" : avgval,\n",
    "                              \"alpha\" : alphaval,\n",
    "                              \"offset\" : oval,\n",
    "                              \"jitter\" : jval}\n",
    "\n",
    "\n",
    "                    theseresults = crossvalidation(devset, method, word_vectors, grandratings_dir, grandfeatures_df, random_seed = randval)\n",
    "                    \n",
    "                    ocp_mean, _, _ = eval_summary_by(theseresults, \"ocp\")\n",
    "                    _, mse_med, _ = eval_summary_by(theseresults, \"mse\")\n",
    "                    print(alphaval, avgval, oval, jval, ocp_mean, mse_med)\n",
    "            \n",
    "            \n",
    "                    for r in theseresults:\n",
    "                        r.update({\"alpha\":alphaval, \"avg\": avgval, \"offset\": oval, \"j\": jval})\n",
    "                        results[ (str(alphaval), str(avgval))].append(r) \n",
    "\n",
    "\n"
   ]
  },
  {
   "cell_type": "code",
   "execution_count": 49,
   "id": "8b9eddf5-3a46-418c-9e74-bc96a77dd1d9",
   "metadata": {
    "tags": []
   },
   "outputs": [],
   "source": [
    "results_byparam = [ ]\n",
    "\n",
    "for theseresults in results.values():\n",
    "    alpha = theseresults[0][\"alpha\"]\n",
    "    avg = theseresults[0][\"avg\"]\n",
    "    offset = theseresults[0][\"offset\"]\n",
    "    jitter = theseresults[0][\"j\"]\n",
    "    \n",
    "    results_bycond = eval_aggregate_by(theseresults,[\"category\", \"feature\"])\n",
    "    ocps = [eval_summary_by(cond_results, \"ocp\")[0] for cond_results in results_bycond.values()]\n",
    "    mses = [eval_summary_by(cond_results, \"mse\")[1] for cond_results in results_bycond.values()]\n",
    "    \n",
    "    results_byparam.append({ \"alpha\": alpha, \"avg\":avg, \n",
    "                            \"offset\" : offset, \"j\": jitter,\n",
    "                            \"ocp_mean\": statistics.mean(ocps), \"ocp_sd\": statistics.stdev(ocps),\n",
    "                            \"msemed_mean\" : statistics.mean(mses), \"msemed_sd\" : statistics.stdev(mses)})\n"
   ]
  },
  {
   "cell_type": "code",
   "execution_count": 50,
   "id": "ebe303de-8a2e-44ff-8c41-957e947e7976",
   "metadata": {},
   "outputs": [
    {
     "data": {
      "text/html": [
       "<div>\n",
       "<style scoped>\n",
       "    .dataframe tbody tr th:only-of-type {\n",
       "        vertical-align: middle;\n",
       "    }\n",
       "\n",
       "    .dataframe tbody tr th {\n",
       "        vertical-align: top;\n",
       "    }\n",
       "\n",
       "    .dataframe thead th {\n",
       "        text-align: right;\n",
       "    }\n",
       "</style>\n",
       "<table border=\"1\" class=\"dataframe\">\n",
       "  <thead>\n",
       "    <tr style=\"text-align: right;\">\n",
       "      <th></th>\n",
       "      <th>alpha</th>\n",
       "      <th>avg</th>\n",
       "      <th>offset</th>\n",
       "      <th>j</th>\n",
       "      <th>ocp_mean</th>\n",
       "      <th>ocp_sd</th>\n",
       "      <th>msemed_mean</th>\n",
       "      <th>msemed_sd</th>\n",
       "    </tr>\n",
       "  </thead>\n",
       "  <tbody>\n",
       "    <tr>\n",
       "      <th>0</th>\n",
       "      <td>0.001000</td>\n",
       "      <td>True</td>\n",
       "      <td>2.0</td>\n",
       "      <td>True</td>\n",
       "      <td>0.695770</td>\n",
       "      <td>0.058477</td>\n",
       "      <td>2.228829</td>\n",
       "      <td>0.728174</td>\n",
       "    </tr>\n",
       "    <tr>\n",
       "      <th>1</th>\n",
       "      <td>0.017556</td>\n",
       "      <td>True</td>\n",
       "      <td>2.0</td>\n",
       "      <td>True</td>\n",
       "      <td>0.754649</td>\n",
       "      <td>0.039896</td>\n",
       "      <td>1.013726</td>\n",
       "      <td>0.210966</td>\n",
       "    </tr>\n",
       "    <tr>\n",
       "      <th>2</th>\n",
       "      <td>0.034111</td>\n",
       "      <td>True</td>\n",
       "      <td>2.0</td>\n",
       "      <td>True</td>\n",
       "      <td>0.818701</td>\n",
       "      <td>0.033052</td>\n",
       "      <td>0.663813</td>\n",
       "      <td>0.258095</td>\n",
       "    </tr>\n",
       "    <tr>\n",
       "      <th>3</th>\n",
       "      <td>0.050667</td>\n",
       "      <td>True</td>\n",
       "      <td>2.0</td>\n",
       "      <td>True</td>\n",
       "      <td>0.829848</td>\n",
       "      <td>0.036971</td>\n",
       "      <td>0.551913</td>\n",
       "      <td>0.288093</td>\n",
       "    </tr>\n",
       "    <tr>\n",
       "      <th>4</th>\n",
       "      <td>0.067222</td>\n",
       "      <td>True</td>\n",
       "      <td>2.0</td>\n",
       "      <td>True</td>\n",
       "      <td>0.822389</td>\n",
       "      <td>0.041574</td>\n",
       "      <td>0.663386</td>\n",
       "      <td>0.322240</td>\n",
       "    </tr>\n",
       "  </tbody>\n",
       "</table>\n",
       "</div>"
      ],
      "text/plain": [
       "      alpha   avg  offset     j  ocp_mean    ocp_sd  msemed_mean  msemed_sd\n",
       "0  0.001000  True     2.0  True  0.695770  0.058477     2.228829   0.728174\n",
       "1  0.017556  True     2.0  True  0.754649  0.039896     1.013726   0.210966\n",
       "2  0.034111  True     2.0  True  0.818701  0.033052     0.663813   0.258095\n",
       "3  0.050667  True     2.0  True  0.829848  0.036971     0.551913   0.288093\n",
       "4  0.067222  True     2.0  True  0.822389  0.041574     0.663386   0.322240"
      ]
     },
     "execution_count": 50,
     "metadata": {},
     "output_type": "execute_result"
    }
   ],
   "source": [
    "df = pd.DataFrame(results_byparam)\n",
    "df.head()\n"
   ]
  },
  {
   "cell_type": "markdown",
   "id": "d02484e3-9d14-4e93-9d48-c16b4ab8be45",
   "metadata": {},
   "source": [
    "## Plotting the results\n",
    "\n"
   ]
  },
  {
   "cell_type": "code",
   "execution_count": 51,
   "id": "941e91f6-655c-4d7e-a10c-3c087687798b",
   "metadata": {
    "tags": []
   },
   "outputs": [
    {
     "data": {
      "text/plain": [
       "<AxesSubplot: xlabel='alpha'>"
      ]
     },
     "execution_count": 51,
     "metadata": {},
     "output_type": "execute_result"
    },
    {
     "data": {
      "image/png": "[encoded data removed]",
      "text/plain": [
       "<Figure size 640x480 with 1 Axes>"
      ]
     },
     "metadata": {},
     "output_type": "display_data"
    }
   ],
   "source": [
    "df.plot(y = \"ocp_mean\", x = \"alpha\", yerr = \"ocp_sd\")"
   ]
  },
  {
   "cell_type": "code",
   "execution_count": 52,
   "id": "c46c3155-e9e8-4e48-8d4a-7d516b4667e5",
   "metadata": {
    "tags": []
   },
   "outputs": [
    {
     "data": {
      "text/plain": [
       "<AxesSubplot: xlabel='alpha'>"
      ]
     },
     "execution_count": 52,
     "metadata": {},
     "output_type": "execute_result"
    },
    {
     "data": {
      "image/png": "[encoded data removed]",
      "text/plain": [
       "<Figure size 640x480 with 1 Axes>"
      ]
     },
     "metadata": {},
     "output_type": "display_data"
    }
   ],
   "source": [
    "df.plot(y = \"msemed_mean\", x = \"alpha\", yerr = \"msemed_sd\")"
   ]
  },
  {
   "cell_type": "code",
   "execution_count": 53,
   "id": "a5909543-f49e-4a8c-a392-9a598b1b87ba",
   "metadata": {
    "tags": []
   },
   "outputs": [
    {
     "data": {
      "text/html": [
       "<div>\n",
       "<style scoped>\n",
       "    .dataframe tbody tr th:only-of-type {\n",
       "        vertical-align: middle;\n",
       "    }\n",
       "\n",
       "    .dataframe tbody tr th {\n",
       "        vertical-align: top;\n",
       "    }\n",
       "\n",
       "    .dataframe thead th {\n",
       "        text-align: right;\n",
       "    }\n",
       "</style>\n",
       "<table border=\"1\" class=\"dataframe\">\n",
       "  <thead>\n",
       "    <tr style=\"text-align: right;\">\n",
       "      <th></th>\n",
       "      <th>alpha</th>\n",
       "      <th>avg</th>\n",
       "      <th>offset</th>\n",
       "      <th>j</th>\n",
       "      <th>ocp_mean</th>\n",
       "      <th>ocp_sd</th>\n",
       "      <th>msemed_mean</th>\n",
       "      <th>msemed_sd</th>\n",
       "    </tr>\n",
       "  </thead>\n",
       "  <tbody>\n",
       "    <tr>\n",
       "      <th>3</th>\n",
       "      <td>0.050667</td>\n",
       "      <td>True</td>\n",
       "      <td>2.0</td>\n",
       "      <td>True</td>\n",
       "      <td>0.829848</td>\n",
       "      <td>0.036971</td>\n",
       "      <td>0.551913</td>\n",
       "      <td>0.288093</td>\n",
       "    </tr>\n",
       "    <tr>\n",
       "      <th>4</th>\n",
       "      <td>0.067222</td>\n",
       "      <td>True</td>\n",
       "      <td>2.0</td>\n",
       "      <td>True</td>\n",
       "      <td>0.822389</td>\n",
       "      <td>0.041574</td>\n",
       "      <td>0.663386</td>\n",
       "      <td>0.322240</td>\n",
       "    </tr>\n",
       "    <tr>\n",
       "      <th>2</th>\n",
       "      <td>0.034111</td>\n",
       "      <td>True</td>\n",
       "      <td>2.0</td>\n",
       "      <td>True</td>\n",
       "      <td>0.818701</td>\n",
       "      <td>0.033052</td>\n",
       "      <td>0.663813</td>\n",
       "      <td>0.258095</td>\n",
       "    </tr>\n",
       "    <tr>\n",
       "      <th>5</th>\n",
       "      <td>0.083778</td>\n",
       "      <td>True</td>\n",
       "      <td>2.0</td>\n",
       "      <td>True</td>\n",
       "      <td>0.817139</td>\n",
       "      <td>0.044639</td>\n",
       "      <td>0.673957</td>\n",
       "      <td>0.318206</td>\n",
       "    </tr>\n",
       "    <tr>\n",
       "      <th>6</th>\n",
       "      <td>0.100333</td>\n",
       "      <td>True</td>\n",
       "      <td>2.0</td>\n",
       "      <td>True</td>\n",
       "      <td>0.807811</td>\n",
       "      <td>0.050112</td>\n",
       "      <td>0.730347</td>\n",
       "      <td>0.318032</td>\n",
       "    </tr>\n",
       "  </tbody>\n",
       "</table>\n",
       "</div>"
      ],
      "text/plain": [
       "      alpha   avg  offset     j  ocp_mean    ocp_sd  msemed_mean  msemed_sd\n",
       "3  0.050667  True     2.0  True  0.829848  0.036971     0.551913   0.288093\n",
       "4  0.067222  True     2.0  True  0.822389  0.041574     0.663386   0.322240\n",
       "2  0.034111  True     2.0  True  0.818701  0.033052     0.663813   0.258095\n",
       "5  0.083778  True     2.0  True  0.817139  0.044639     0.673957   0.318206\n",
       "6  0.100333  True     2.0  True  0.807811  0.050112     0.730347   0.318032"
      ]
     },
     "execution_count": 53,
     "metadata": {},
     "output_type": "execute_result"
    }
   ],
   "source": [
    "df.sort_values(by = \"ocp_mean\", ascending = False).head()"
   ]
  },
  {
   "cell_type": "markdown",
   "id": "ae2ae24f-0c68-4d3f-a26c-27457f928761",
   "metadata": {},
   "source": [
    "Both OC_P and MSE have a clear best value at **alpha = 0.05**. We use **averaging, jitter, and an offset of 2.0**,"
   ]
  },
  {
   "cell_type": "code",
   "execution_count": null,
   "id": "1169a309-8abf-47b4-beb6-f5a63c90bc57",
   "metadata": {},
   "outputs": [],
   "source": []
  }
 ],
 "metadata": {
  "kernelspec": {
   "display_name": "Python 3 (ipykernel)",
   "language": "python",
   "name": "python3"
  },
  "language_info": {
   "codemirror_mode": {
    "name": "ipython",
    "version": 3
   },
   "file_extension": ".py",
   "mimetype": "text/x-python",
   "name": "python",
   "nbconvert_exporter": "python",
   "pygments_lexer": "ipython3",
   "version": "3.9.6"
  }
 },
 "nbformat": 4,
 "nbformat_minor": 5
}
