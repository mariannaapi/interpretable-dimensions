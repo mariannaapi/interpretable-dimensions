{
 "cells": [
  {
   "cell_type": "markdown",
   "id": "3e5480aa-faa7-4368-8975-6a0a1ea34abe",
   "metadata": {},
   "source": [
    "# Hyperparameter optimization: BERT embeddings (3 kinds)\n",
    "\n",
    "Grand et al data\n",
    "\n",
    "Hyperparameter optimization on a development set."
   ]
  },
  {
   "cell_type": "markdown",
   "id": "4bf61834-8f0f-4580-88da-f4f85292ff7d",
   "metadata": {},
   "source": [
    "# Reading the data\n",
    "\n",
    "## BERT"
   ]
  },
  {
   "cell_type": "code",
   "execution_count": 1,
   "id": "7fd7b586-6498-44fb-8810-5cbe92e383ea",
   "metadata": {
    "tags": []
   },
   "outputs": [],
   "source": [
    "import os\n",
    "from scipy import stats\n",
    "import numpy as np \n",
    "import pandas as pd\n",
    "import zipfile\n",
    "import math\n",
    "import sklearn\n",
    "import torch\n",
    "import torch.optim as optim\n",
    "device = torch.device('cuda') if torch.cuda.is_available() else torch.device('cpu')\n",
    "import matplotlib.pyplot as plt"
   ]
  },
  {
   "cell_type": "code",
   "execution_count": 2,
   "id": "3be6a243-ae47-49a7-88ce-1f6280d0b468",
   "metadata": {},
   "outputs": [],
   "source": [
    "# global settings\n",
    "num_randseeds = 3\n",
    "feature_dim = 1024\n",
    "whichbert = \"l16\""
   ]
  },
  {
   "cell_type": "code",
   "execution_count": 3,
   "id": "24fc7338-0755-4858-9a01-dbe9be3e61d6",
   "metadata": {},
   "outputs": [
    {
     "name": "stdout",
     "output_type": "stream",
     "text": [
      "using BERT bert-large-uncased_layer16.npz\n",
      "north-carolina\n",
      "ping-pong\n",
      "hong-kong\n",
      "north_dakota\n",
      "rhode-island\n",
      "new-york\n",
      "south-dakota\n",
      "los-angeles\n",
      "west-virginia\n",
      "new-jersey\n",
      "san-francisco\n",
      "new-hampshire\n",
      "south-carolina\n",
      "new-mexico\n"
     ]
    }
   ],
   "source": [
    "bert_large_vecs_paths = { \"ltop4-plus16\" : \"bert-large-uncased.npz\",\n",
    "                          \"ltop4\" : \"bert-large-uncased.top4layers.npz\",\n",
    "                          \"l16\" : \"bert-large-uncased_layer16.npz\" }\n",
    "\n",
    "print(\"using BERT\", bert_large_vecs_paths[whichbert])\n",
    "\n",
    "word_vectors = {}\n",
    "data = np.load(bert_large_vecs_paths[whichbert])\n",
    "\n",
    "for word in data:\n",
    "    vector = data[word]\n",
    "    if ' ' in word:\n",
    "        first, second = word.split()\n",
    "        if 'north' in first and 'dakota' in second:\n",
    "            word = first + '_' + second\n",
    "            print(word)\n",
    "            word_vectors[word] = vector\n",
    "        else:\n",
    "            word = first + '-' + second\n",
    "            print(word)\n",
    "            word_vectors[word] = vector\n",
    "    else:\n",
    "        word_vectors[word] = vector"
   ]
  },
  {
   "cell_type": "markdown",
   "id": "1c07f037-d314-409b-b0f8-c5d060d5e721",
   "metadata": {},
   "source": [
    "## Grand features"
   ]
  },
  {
   "cell_type": "code",
   "execution_count": 4,
   "id": "f56398ff-3d19-4544-bc82-06a60e6d8737",
   "metadata": {
    "tags": []
   },
   "outputs": [
    {
     "name": "stderr",
     "output_type": "stream",
     "text": [
      "/Users/kee252/Library/Python/3.9/lib/python/site-packages/openpyxl/worksheet/_reader.py:329: UserWarning: Unknown extension is not supported and will be removed\n",
      "  warn(msg)\n"
     ]
    }
   ],
   "source": [
    "grandratings_dir = \"Grand_etal_csv/\"\n",
    "grandfeatures_path = \"/Users/kee252/Data/grand_directions_in_space/features.xlsx\"\n",
    "\n",
    "grandfeatures_df = pd.read_excel(grandfeatures_path)"
   ]
  },
  {
   "cell_type": "markdown",
   "id": "4b8216d9-2d9d-43c0-989e-a173a3e4be84",
   "metadata": {},
   "source": [
    "## Function for reading a specific Grand dataset"
   ]
  },
  {
   "cell_type": "code",
   "execution_count": 5,
   "id": "9f45bb6e-da17-4581-91b2-41d3721ce40d",
   "metadata": {
    "tags": []
   },
   "outputs": [],
   "source": [
    "# reading in Grand data\n",
    "def read_grand_data(filename, grandratings_dir, grandfeatures_df):\n",
    "    # extract category and feature\n",
    "    grandcategory, grandfeature = filename[:-4].split(\"_\")\n",
    "        \n",
    "    # read human ratings, make gold column\n",
    "    df = pd.read_csv(grandratings_dir + filename)\n",
    "    nspeakers = len(df.columns) -1\n",
    "    df[\"Average\"] = [row.iloc[1:26].sum() / nspeakers for _, row in df.iterrows()]\n",
    "    # z-scores of average ratings\n",
    "    df[\"Gold\"] = (df[\"Average\"] - df[\"Average\"].mean()) / df[\"Average\"].std()\n",
    "        \n",
    "    # obtain seed words from excel file\n",
    "    relevant_row = grandfeatures_df[grandfeatures_df.Dimension == grandfeature]\n",
    "    seedwords = relevant_row.iloc[:, 1:].values.flatten().tolist()\n",
    "    pos_seedwords = seedwords[:3]\n",
    "    neg_seedwords = seedwords[3:]\n",
    "    \n",
    "    return (grandcategory, grandfeature, pos_seedwords, neg_seedwords, df)"
   ]
  },
  {
   "cell_type": "markdown",
   "id": "21844b50-6e40-455d-a97c-dff06b04b412",
   "metadata": {},
   "source": [
    "# Function for running crossvalidation"
   ]
  },
  {
   "cell_type": "code",
   "execution_count": 6,
   "id": "d1cfd9f4-3f6d-47f1-848d-188ede0b9245",
   "metadata": {},
   "outputs": [],
   "source": [
    "import eval_dim\n",
    "import compute_dim\n",
    "import statistics\n",
    "\n",
    "def crossvalidation(filenames, method, word_vectors, grandratings_dir, grandfeatures_df, random_seed = 123, verbose = False):\n",
    "    \n",
    "    all_evals = [ ]\n",
    "    \n",
    "    for filename in filenames:\n",
    "            grandcategory, grandfeature, pos_seedwords, neg_seedwords, df = read_grand_data(filename, \n",
    "                                                                                            grandratings_dir, \n",
    "                                                                                            grandfeatures_df)\n",
    "\n",
    "\n",
    "            # storage for word vectors and gold values for this dataset\n",
    "            all_thisdata_vectors = []\n",
    "            all_thisdata_gold = []\n",
    "\n",
    "            # collect word vectors and gold ratings\n",
    "            for row in df.itertuples():\n",
    "                # row.Row is the word. look it up in word_vectors\n",
    "                all_thisdata_vectors.append( word_vectors[ row.Row ])\n",
    "                # gold rating: use z-scored average\n",
    "                all_thisdata_gold.append( row.Gold)\n",
    "\n",
    "            # crossvalidation setup: give indices to datapoints\n",
    "            fold = np.random.randint(method[\"numfolds\"], size = len(all_thisdata_gold))\n",
    "\n",
    "            # store the evaluation results from the different test folds\n",
    "            evals = [ ]\n",
    "\n",
    "            # iterate over folds, evaluate for each of them\n",
    "            for testfold in range(method[\"numfolds\"]):\n",
    "                # compute training and test data for this fold\n",
    "                test_indices =  [i for i in range(len(all_thisdata_gold)) if fold[i] == testfold]\n",
    "                train_indices = [i for i in range(len(all_thisdata_gold)) if fold[i] != testfold]\n",
    "\n",
    "                gold_test =  [ell[\"Gold\"] for _, ell in df.iloc[ test_indices ].iterrows()]\n",
    "                gold_train = [ ell[\"Gold\"] for _, ell in df.iloc[ train_indices ].iterrows()]\n",
    "                words_test =  [ell[\"Row\"] for _, ell in df.iloc[ test_indices].iterrows()]\n",
    "                words_train = [ell[\"Row\"] for _, ell in df.iloc[ train_indices].iterrows()]\n",
    "                vec_test =  [word_vectors[ w ] for w in words_test]\n",
    "                vec_train = [word_vectors[ w ] for w in words_train ]\n",
    "\n",
    "\n",
    "                # compute seed-based dimension, and its predictions\n",
    "                if method[\"method\"] == \"seedbased\":\n",
    "                    dimension = compute_dim.dimension_seedbased(pos_seedwords, neg_seedwords, word_vectors)\n",
    "                    df[\"Pred\"] = compute_dim.predict_coord_fromtrain(vec_train, gold_train, dimension, all_thisdata_vectors)\n",
    "\n",
    "                elif method[\"method\"] == \"fitted\":\n",
    "                    dimension, weight, bias = compute_dim.dimension_fitted_fromratings(vec_train, gold_train, \n",
    "                                                                                       method[\"feature_dim\"],\n",
    "                                                                                       random_seed = random_seed)\n",
    "                    df[\"Pred\"] = compute_dim.predict_coord_fromline(all_thisdata_vectors, dimension, weight, bias)\n",
    "\n",
    "                elif method[\"method\"] == \"fitted_seedwords\":\n",
    "                    dimension, weight, bias = compute_dim.dimension_fitted_fromratings_seedwords(vec_train, gold_train, \n",
    "                                                                    method[\"feature_dim\"], \n",
    "                                                                    pos_seedwords, neg_seedwords, word_vectors,\n",
    "                                                                    offset = method[\"offset\"], jitter = method[\"jitter\"],\n",
    "                                                                    random_seed = random_seed)\n",
    "                    df[\"Pred\"] = compute_dim.predict_coord_fromline(all_thisdata_vectors, dimension, weight, bias)\n",
    "\n",
    "                elif method[\"method\"] == \"fitted_seeddims\":\n",
    "                    dimension, weight, bias = compute_dim.dimension_fitted_fromratings_seeddims(vec_train, gold_train, \n",
    "                                                                    method[\"feature_dim\"], \n",
    "                                                                    pos_seedwords, neg_seedwords, word_vectors,\n",
    "                                                                    do_average = method[\"do_average\"], \n",
    "                                                                    alpha = method[\"alpha\"],\n",
    "                                                                    random_seed = random_seed)\n",
    "                    df[\"Pred\"] = compute_dim.predict_coord_fromline(all_thisdata_vectors, dimension, weight, bias)\n",
    "\n",
    "                elif method[\"method\"] == \"combined\":\n",
    "                    dimension, weight, bias = compute_dim.dimension_fitted_fromratings_combined(vec_train, gold_train,\n",
    "                                                                    method[\"feature_dim\"],\n",
    "                                                                    pos_seedwords, neg_seedwords, word_vectors,\n",
    "                                                                    offset = method[\"offset\"], jitter = method[\"jitter\"],\n",
    "                                                                    do_average = method[\"do_average\"], \n",
    "                                                                    alpha = method[\"alpha\"],\n",
    "                                                                    random_seed = random_seed)\n",
    "                    df[\"Pred\"] = compute_dim.predict_coord_fromline(all_thisdata_vectors, dimension, weight, bias)\n",
    "\n",
    "                else:\n",
    "                    raise Exception(\"shouldn't be here\")\n",
    "\n",
    "                # order consistency pairwise: test values tested for their ordering wrt. all values, training and test\n",
    "                # MSE: evaluate on test only\n",
    "                e = { \"ocp\" : eval_dim.pairwise_order_consistency_wrt(df[\"Gold\"], df[\"Pred\"], test_indices),\n",
    "                      \"mse\" : eval_dim.mean_squared_error(gold_test, [p for i, p in enumerate(df[\"Pred\"]) if i in test_indices]),\n",
    "                      \"feature\" : grandfeature,\n",
    "                      \"category\" : grandcategory}\n",
    "\n",
    "                all_evals.append(e)\n",
    "\n",
    "    if verbose:\n",
    "        ocps = [e[\"ocp\"] for e in all_evals if e[\"ocp\"] is not None]\n",
    "        mses = [e[\"mse\"] for e in all_evals if e[\"mse\"] is not None]\n",
    "\n",
    "        print(\"\\n\\nOverall\", method[\"method\"], \n",
    "              f\"OC_p {statistics.mean(ocps):.3f} ({statistics.stdev(ocps):.2f})\", \n",
    "              f\"MSE mean {statistics.mean(mses):.3f} ({statistics.stdev(mses):.2f}) median {statistics.median(mses):.3f}\")\n",
    "        \n",
    "    return all_evals\n"
   ]
  },
  {
   "cell_type": "markdown",
   "id": "bb92cc5e-b162-44d1-82b7-ffca22d67a7f",
   "metadata": {},
   "source": [
    "# Function for aggregating crossvalidation results\n",
    "\n",
    "We assume results that are dictionaries. \n",
    "\n",
    "First, a function for aggregating results by particular labels, into a single dictionary. For example, when results are aggregated by category and feature, the result will be a dictionary whose keys are category/feature tuples, and the values are lists of result dictionaries. \n",
    "\n",
    "Second, a function that computes mean, median, and standard deviation, over a list of result dictionaries, for a given labels."
   ]
  },
  {
   "cell_type": "code",
   "execution_count": 7,
   "id": "35093491-406a-4724-b31f-88940d4ee982",
   "metadata": {},
   "outputs": [],
   "source": [
    "from collections import defaultdict\n",
    "import statistics\n",
    "\n",
    "# given a list of results dictionaries, \n",
    "# group them by the given dictionary keys\n",
    "def eval_aggregate_by(evals, keylabels):\n",
    "    bydataset_eval = defaultdict(list)\n",
    "    \n",
    "    for e in evals:\n",
    "        key = tuple([str(e[k]) for k in keylabels])\n",
    "        bydataset_eval[ key ].append(e)\n",
    "        \n",
    "    return bydataset_eval\n",
    "\n",
    "\n",
    "# given a list of results dictionaries,\n",
    "# compute mean, median and standard deviation over values for a particular key\n",
    "def eval_summary_by(evals, keylabel):\n",
    "    vals = [e[keylabel] for e in evals if e[keylabel] is not None]\n",
    "    \n",
    "    return (statistics.mean(vals), statistics.median(vals), statistics.stdev(vals))\n",
    "\n",
    "# given a dictionary of results (parameters -> result dictionary list),\n",
    "# * for each parameter setting, aggregate by cateogy and feature\n",
    "# * for each category/feature, compute mean ocp and mse values\n",
    "# * for the parameter setting, compute mean and sd ocp and mse over all category/feature pairs\n",
    "def eval_hyper(results, parameternames):\n",
    "    # output dictionary\n",
    "    results_byparam = [ ]\n",
    "\n",
    "    # iterate over parameter settings\n",
    "    for theseresults in results.values():\n",
    "        # extract parameters\n",
    "        this_dict = dict([(par, theseresults[0][par]) for par in parameternames])\n",
    "        \n",
    "        # aggregate by condition = by category and feature\n",
    "        results_bycond = eval_aggregate_by(theseresults,[\"category\", \"feature\"])\n",
    "        \n",
    "        # compute mean ocp and mse values.\n",
    "        # ocp: we use mean for each condition.\n",
    "        # mse: we use median for each condition\n",
    "        ocps = [eval_summary_by(cond_results, \"ocp\")[0] for cond_results in results_bycond.values()]\n",
    "        mses = [eval_summary_by(cond_results, \"mse\")[1] for cond_results in results_bycond.values()]\n",
    "\n",
    "        # compute mean and standard deviation over ocps and mses\n",
    "        this_dict[\"ocp_mean\"] = statistics.mean(ocps)\n",
    "        this_dict[\"ocp_sd\"] = statistics.stdev(ocps)\n",
    "        this_dict[\"msemed_mean\"] = statistics.mean(mses)\n",
    "        this_dict[\"msemed_sd\"] = statistics.stdev(mses)\n",
    "        \n",
    "        results_byparam.append(this_dict)\n",
    "        \n",
    "    return results_byparam\n"
   ]
  },
  {
   "cell_type": "markdown",
   "id": "bb4f83f4-de33-4e1b-a0e4-e04650488db0",
   "metadata": {},
   "source": [
    "# Making a development set"
   ]
  },
  {
   "cell_type": "code",
   "execution_count": 8,
   "id": "06a6fe6d-20d2-43e2-8428-c46b1f6944be",
   "metadata": {
    "tags": []
   },
   "outputs": [
    {
     "data": {
      "text/plain": [
       "[['cities', 'danger'],\n",
       " ['states', 'political'],\n",
       " ['animals', 'wetness'],\n",
       " ['cities', 'intelligence'],\n",
       " ['animals', 'weight'],\n",
       " ['names', 'age']]"
      ]
     },
     "execution_count": 8,
     "metadata": {},
     "output_type": "execute_result"
    }
   ],
   "source": [
    "filenames = [f for f in os.listdir(grandratings_dir) if f.endswith(\"csv\")]\n",
    "\n",
    "import random\n",
    "random.seed(789)\n",
    "devset = random.sample(filenames, 6)\n",
    "[ filename[:-4].split(\"_\") for filename in devset]"
   ]
  },
  {
   "cell_type": "markdown",
   "id": "a139eaec-fdec-4520-b210-04c91c32632a",
   "metadata": {},
   "source": [
    "# Determining hyperparameters\n",
    "\n",
    "## Fitted dimensions with seeds as words: offset, jitter\n",
    "\n",
    "First experiments looked like there was a lot of variance in result with different random seeds. To check into this, we run the hyperparameter tests n times with different random seeds. We then look at mean and standard deviation of the two measures we focus on: mean OC_p and median MSE."
   ]
  },
  {
   "cell_type": "code",
   "execution_count": 9,
   "id": "fccab8bb-b9a0-460c-835f-ff115524d7da",
   "metadata": {},
   "outputs": [
    {
     "name": "stdout",
     "output_type": "stream",
     "text": [
      "0.1 True 0.4705079953204238 1039.8149313699657\n",
      "0.2 True 0.4895805483631609 1880.801223761126\n",
      "0.3 True 0.49924282323216324 1628.7035825230346\n",
      "0.4 True 0.502964894910564 1238.898193324877\n",
      "0.5 True 0.5074705748201351 1763.6104393685546\n",
      "0.6 True 0.4832921685993467 1438.253141712858\n",
      "0.7 True 0.4715819504021992 1493.096650377559\n",
      "0.7999999999999999 True 0.49763589770799677 1146.2901929074292\n",
      "0.8999999999999999 True 0.4981857998506228 1557.0102670986028\n",
      "0.9999999999999999 True 0.48342038137337284 1967.586525560454\n",
      "1.0999999999999999 True 0.4746004802061716 2003.2341110511452\n",
      "1.2 True 0.4875851339944837 1934.315410068415\n",
      "1.3 True 0.4772287428472527 1798.3590301309787\n",
      "1.4 True 0.5102702665198249 1731.5419334993246\n",
      "1.5 True 0.49221452935494764 1560.6553529568969\n",
      "1.5999999999999999 True 0.5122505001428098 1539.0014647801383\n",
      "1.7 True 0.4821849321307191 1541.0989171674973\n",
      "1.8 True 0.4847036477309602 1165.4069884833857\n",
      "1.9 True 0.4789538671430143 1234.1760518629067\n",
      "2.0 True 0.49073232471954287 1474.2742119385614\n",
      "0.1 False 0.48760393163319804 1415.9735165341876\n",
      "0.2 False 0.4811314145021608 1133.29706755179\n",
      "0.3 False 0.5108465564670674 1471.7589502193866\n",
      "0.4 False 0.5037600442254073 1954.9485784316912\n",
      "0.5 False 0.4852038370245156 1827.5971955419345\n",
      "0.6 False 0.4896418307857289 1093.36852346229\n",
      "0.7 False 0.498782587065228 1953.4546094950265\n",
      "0.7999999999999999 False 0.5050243376541378 2084.6082181776596\n",
      "0.8999999999999999 False 0.46634435255469553 1776.461760349045\n",
      "0.9999999999999999 False 0.47645301413645913 1406.5138792521307\n",
      "1.0999999999999999 False 0.48842215664900585 1886.1717703776235\n",
      "1.2 False 0.4842202991603441 1516.846780873674\n",
      "1.3 False 0.5082751124772567 1463.6942344469458\n",
      "1.4 False 0.4951674531159154 1671.3934742725164\n",
      "1.5 False 0.49116303395494104 2137.2505850193347\n",
      "1.5999999999999999 False 0.4932712749173589 1453.319775034417\n",
      "1.7 False 0.49604195898464376 1377.9985905114886\n",
      "1.8 False 0.490923297904874 1721.552276460386\n",
      "1.9 False 0.47096118704995144 1653.298672391114\n",
      "2.0 False 0.48755631530321086 1850.6684114286418\n",
      "0.1 True 0.549007771610026 201.21066114762317\n",
      "0.2 True 0.5208268296665104 241.91673478298014\n",
      "0.3 True 0.527056585506036 167.70216207667315\n",
      "0.4 True 0.5162219641372451 218.27155221406417\n",
      "0.5 True 0.5130711410567816 216.77840105087222\n",
      "0.6 True 0.5187829704427571 186.1896349477272\n",
      "0.7 True 0.5411725420004259 251.5032099827649\n",
      "0.7999999999999999 True 0.5317799531670006 216.4662735448993\n",
      "0.8999999999999999 True 0.5144293591154414 243.3817785136834\n",
      "0.9999999999999999 True 0.5077556871256551 282.97495971760833\n",
      "1.0999999999999999 True 0.528559406650067 232.3712688222204\n",
      "1.2 True 0.5038710243544686 230.10444035310476\n",
      "1.3 True 0.5207204768562442 260.32763689402475\n",
      "1.4 True 0.5273627798986883 254.28302948682668\n",
      "1.5 True 0.5193912986765411 317.70472708588284\n",
      "1.5999999999999999 True 0.5142462564498959 292.24475611984315\n",
      "1.7 True 0.5228707319720443 311.9778105526029\n",
      "1.8 True 0.5106950889699124 296.72931938184826\n",
      "1.9 True 0.5069525270405729 313.24167152875896\n",
      "2.0 True 0.5241156186749167 258.92099122528884\n",
      "0.1 False 0.5296711823581413 207.27003911533222\n",
      "0.2 False 0.5223179674310935 215.48549427616592\n",
      "0.3 False 0.5263228194595407 250.38899134163032\n",
      "0.4 False 0.5287252328654414 208.187236845178\n",
      "0.5 False 0.512026295298172 226.85121308126855\n",
      "0.6 False 0.5320918650892856 215.78292930948658\n",
      "0.7 False 0.5137735421867595 260.5391255130938\n",
      "0.7999999999999999 False 0.5231651477267016 223.06697466276205\n",
      "0.8999999999999999 False 0.5058491412332392 262.69548176210196\n",
      "0.9999999999999999 False 0.5183211011048274 264.6056129052803\n",
      "1.0999999999999999 False 0.5259124788120084 207.39463514772143\n",
      "1.2 False 0.5181963782036383 302.5082838089136\n",
      "1.3 False 0.5221332859971918 235.44818511513483\n",
      "1.4 False 0.5172186771077546 268.2946440366902\n",
      "1.5 False 0.5014227418254843 237.55887542552253\n",
      "1.5999999999999999 False 0.5258749783441559 314.1478913521877\n",
      "1.7 False 0.5040294691932123 287.2163483405613\n",
      "1.8 False 0.5136445069203908 325.2213354715326\n",
      "1.9 False 0.529230303777572 270.4429895842603\n",
      "2.0 False 0.5183150582810039 265.03669377830374\n",
      "0.1 True 0.4805484355346908 1985.9311474173192\n",
      "0.2 True 0.48501574724877017 1951.445693954888\n",
      "0.3 True 0.50907374580126 2325.7643280409125\n",
      "0.4 True 0.5003266958383227 1089.6832638529581\n",
      "0.5 True 0.49330200284962583 1962.14214034456\n",
      "0.6 True 0.48322167265466975 1998.928304495546\n",
      "0.7 True 0.5134578702078142 1829.0981211147946\n",
      "0.7999999999999999 True 0.4938317044720327 2613.18472784784\n",
      "0.8999999999999999 True 0.49510572548606274 1991.7747258439342\n",
      "0.9999999999999999 True 0.49820191093068844 1766.6615416613333\n",
      "1.0999999999999999 True 0.4857264402150643 2480.5939537511968\n",
      "1.2 True 0.4847010550078737 1423.3055751790007\n",
      "1.3 True 0.49103520515075055 2054.7586787984224\n",
      "1.4 True 0.48494707110936297 1674.304232341673\n",
      "1.5 True 0.5130428060200988 1769.9754816528298\n",
      "1.5999999999999999 True 0.4991740899207685 1710.1512240627992\n",
      "1.7 True 0.5036682464411026 2889.2229527540767\n",
      "1.8 True 0.4963512471119325 2644.2663501391035\n",
      "1.9 True 0.5050707861926148 2182.7815585970884\n",
      "2.0 True 0.4760944913900205 2026.1874028560567\n",
      "0.1 False 0.4952888945833979 1292.5499829635473\n",
      "0.2 False 0.4912251469797691 2148.9031068054396\n",
      "0.3 False 0.4912172990502528 2309.8422849705594\n",
      "0.4 False 0.4828107119485935 2102.454792316794\n",
      "0.5 False 0.4971500586289819 1954.3109622263687\n",
      "0.6 False 0.486952100458184 1852.2428246932036\n",
      "0.7 False 0.4821247857983578 1879.5970082048643\n",
      "0.7999999999999999 False 0.4763589619285044 1742.9958349810413\n",
      "0.8999999999999999 False 0.49156749305667535 1494.9763588544445\n",
      "0.9999999999999999 False 0.5088845031757612 1566.0806189846567\n",
      "1.0999999999999999 False 0.48191453745039503 1744.1337176657876\n",
      "1.2 False 0.509866638373641 1729.4467572265905\n",
      "1.3 False 0.4937960151864019 1977.535096879688\n",
      "1.4 False 0.4777924860815207 1612.5275016113956\n",
      "1.5 False 0.4979249858375155 1857.3373923570612\n",
      "1.5999999999999999 False 0.49444039304201953 1391.6063487608626\n",
      "1.7 False 0.5038609829164015 2124.357404124634\n",
      "1.8 False 0.4873007339012076 2468.987418292025\n",
      "1.9 False 0.49915158687096817 2036.332708017753\n",
      "2.0 False 0.5217253312246892 2224.0548917975034\n"
     ]
    }
   ],
   "source": [
    "jitter_vals = [True, False]\n",
    "offset_vals= np.linspace(0.1, 2, num=20)\n",
    "\n",
    "results = defaultdict(list)\n",
    "\n",
    "random.seed(5)\n",
    "randoms = [random.randrange(0,100) for _ in range(num_randseeds)]\n",
    "\n",
    "for randval in randoms:\n",
    "    for jval in jitter_vals:\n",
    "        for oval in offset_vals:\n",
    "\n",
    "            method = { \"method\": \"fitted_seedwords\",\n",
    "                      \"feature_dim\" : feature_dim,\n",
    "                      \"numfolds\" : 5,\n",
    "                      \"offset\" : oval,\n",
    "                      \"jitter\" : jval}\n",
    "\n",
    "\n",
    "            theseresults = crossvalidation(devset, method, word_vectors, grandratings_dir, grandfeatures_df, random_seed = randval)\n",
    "            \n",
    "            ocp_mean, _, _ = eval_summary_by(theseresults, \"ocp\")\n",
    "            _, mse_med, _ = eval_summary_by(theseresults, \"mse\")\n",
    "            print(oval, jval, ocp_mean, mse_med)\n",
    "            \n",
    "\n",
    "            for r in theseresults:\n",
    "                r.update({\"offset\":oval, \"j\": jval})\n",
    "                results[ (str(oval), str(jval))].append(r)\n",
    "    \n"
   ]
  },
  {
   "cell_type": "code",
   "execution_count": 10,
   "id": "508cd5a3-9cb4-4bf8-9a03-77b2e47d0486",
   "metadata": {},
   "outputs": [
    {
     "data": {
      "text/html": [
       "<div>\n",
       "<style scoped>\n",
       "    .dataframe tbody tr th:only-of-type {\n",
       "        vertical-align: middle;\n",
       "    }\n",
       "\n",
       "    .dataframe tbody tr th {\n",
       "        vertical-align: top;\n",
       "    }\n",
       "\n",
       "    .dataframe thead th {\n",
       "        text-align: right;\n",
       "    }\n",
       "</style>\n",
       "<table border=\"1\" class=\"dataframe\">\n",
       "  <thead>\n",
       "    <tr style=\"text-align: right;\">\n",
       "      <th></th>\n",
       "      <th>offset</th>\n",
       "      <th>j</th>\n",
       "      <th>ocp_mean</th>\n",
       "      <th>ocp_sd</th>\n",
       "      <th>msemed_mean</th>\n",
       "      <th>msemed_sd</th>\n",
       "    </tr>\n",
       "  </thead>\n",
       "  <tbody>\n",
       "    <tr>\n",
       "      <th>0</th>\n",
       "      <td>0.1</td>\n",
       "      <td>True</td>\n",
       "      <td>0.500021</td>\n",
       "      <td>0.034504</td>\n",
       "      <td>973.206999</td>\n",
       "      <td>640.581928</td>\n",
       "    </tr>\n",
       "    <tr>\n",
       "      <th>1</th>\n",
       "      <td>0.2</td>\n",
       "      <td>True</td>\n",
       "      <td>0.498474</td>\n",
       "      <td>0.036403</td>\n",
       "      <td>1031.702120</td>\n",
       "      <td>810.715926</td>\n",
       "    </tr>\n",
       "    <tr>\n",
       "      <th>2</th>\n",
       "      <td>0.3</td>\n",
       "      <td>True</td>\n",
       "      <td>0.511791</td>\n",
       "      <td>0.030845</td>\n",
       "      <td>1273.320970</td>\n",
       "      <td>1270.253045</td>\n",
       "    </tr>\n",
       "    <tr>\n",
       "      <th>3</th>\n",
       "      <td>0.4</td>\n",
       "      <td>True</td>\n",
       "      <td>0.506505</td>\n",
       "      <td>0.041268</td>\n",
       "      <td>803.039916</td>\n",
       "      <td>688.775814</td>\n",
       "    </tr>\n",
       "    <tr>\n",
       "      <th>4</th>\n",
       "      <td>0.5</td>\n",
       "      <td>True</td>\n",
       "      <td>0.504615</td>\n",
       "      <td>0.025995</td>\n",
       "      <td>1181.444696</td>\n",
       "      <td>1037.166808</td>\n",
       "    </tr>\n",
       "  </tbody>\n",
       "</table>\n",
       "</div>"
      ],
      "text/plain": [
       "   offset     j  ocp_mean    ocp_sd  msemed_mean    msemed_sd\n",
       "0     0.1  True  0.500021  0.034504   973.206999   640.581928\n",
       "1     0.2  True  0.498474  0.036403  1031.702120   810.715926\n",
       "2     0.3  True  0.511791  0.030845  1273.320970  1270.253045\n",
       "3     0.4  True  0.506505  0.041268   803.039916   688.775814\n",
       "4     0.5  True  0.504615  0.025995  1181.444696  1037.166808"
      ]
     },
     "execution_count": 10,
     "metadata": {},
     "output_type": "execute_result"
    }
   ],
   "source": [
    "df = pd.DataFrame(eval_hyper(results, [\"offset\", \"j\"]))\n",
    "df.head()\n"
   ]
  },
  {
   "cell_type": "markdown",
   "id": "77edb4f3-99f9-478c-b99e-96e119ba53eb",
   "metadata": {},
   "source": [
    "We plot mean OC_P values, with standard deviation. "
   ]
  },
  {
   "cell_type": "code",
   "execution_count": 11,
   "id": "5ee70047-8dc2-4e25-87f0-f510910443ec",
   "metadata": {
    "tags": []
   },
   "outputs": [
    {
     "data": {
      "text/plain": [
       "<AxesSubplot: xlabel='offset'>"
      ]
     },
     "execution_count": 11,
     "metadata": {},
     "output_type": "execute_result"
    },
    {
     "data": {
      "image/png": "[encoded data removed]",
      "text/plain": [
       "<Figure size 640x480 with 1 Axes>"
      ]
     },
     "metadata": {},
     "output_type": "display_data"
    }
   ],
   "source": [
    "%matplotlib inline\n",
    "df[df.j == False].plot(y = \"ocp_mean\",x = \"offset\", yerr = \"ocp_sd\")"
   ]
  },
  {
   "cell_type": "code",
   "execution_count": 12,
   "id": "eadc3bfa-9a6d-4ee2-a2be-b7915fd5144f",
   "metadata": {},
   "outputs": [
    {
     "data": {
      "text/plain": [
       "<AxesSubplot: xlabel='offset'>"
      ]
     },
     "execution_count": 12,
     "metadata": {},
     "output_type": "execute_result"
    },
    {
     "data": {
      "image/png": "[encoded data removed]",
      "text/plain": [
       "<Figure size 640x480 with 1 Axes>"
      ]
     },
     "metadata": {},
     "output_type": "display_data"
    }
   ],
   "source": [
    "df[df.j == True].plot(y = \"ocp_mean\", x = \"offset\", yerr = \"ocp_sd\")"
   ]
  },
  {
   "cell_type": "markdown",
   "id": "74a80f68-6ce7-46af-990f-fbfe54a465e6",
   "metadata": {},
   "source": [
    "We plot mean values of median MSE, with standard deviation. "
   ]
  },
  {
   "cell_type": "code",
   "execution_count": 13,
   "id": "8e4db552-541f-478b-a4d1-d5dd71d55739",
   "metadata": {
    "tags": []
   },
   "outputs": [
    {
     "data": {
      "text/plain": [
       "<AxesSubplot: xlabel='offset'>"
      ]
     },
     "execution_count": 13,
     "metadata": {},
     "output_type": "execute_result"
    },
    {
     "data": {
      "image/png": "[encoded data removed]",
      "text/plain": [
       "<Figure size 640x480 with 1 Axes>"
      ]
     },
     "metadata": {},
     "output_type": "display_data"
    }
   ],
   "source": [
    "df[df.j == False].plot(y = \"msemed_mean\", x = \"offset\", yerr = \"msemed_sd\")"
   ]
  },
  {
   "cell_type": "code",
   "execution_count": 14,
   "id": "fbe414f6-d6e1-496b-b3f7-f2c77d19a854",
   "metadata": {},
   "outputs": [
    {
     "data": {
      "text/plain": [
       "<AxesSubplot: xlabel='offset'>"
      ]
     },
     "execution_count": 14,
     "metadata": {},
     "output_type": "execute_result"
    },
    {
     "data": {
      "image/png": "[encoded data removed]",
      "text/plain": [
       "<Figure size 640x480 with 1 Axes>"
      ]
     },
     "metadata": {},
     "output_type": "display_data"
    }
   ],
   "source": [
    "df[df.j == True].plot(y = \"msemed_mean\", x = \"offset\", yerr = \"msemed_sd\")"
   ]
  },
  {
   "cell_type": "markdown",
   "id": "6e2cbb0c-3fe5-4982-860c-b4fbac0f9e4e",
   "metadata": {},
   "source": [
    "### Parameters for seeds as words\n",
    "\n",
    "**BERT, last 4 layers plus layer 16**:\n",
    "The differences in OC_OP are small compared to the error bars: It basically doesn't matter which value for the offset we pick. Jitter or no jitter makes no clear difference. IOn terms of MSE, the difference in results is clearly dwarfed by the error bars: It does not matter at all which values we pick. \n",
    "\n",
    "Because we need to pick some value, we pick the best OC_P, which also has a decent MSE: **offset of 0.3, no jitter**. \n",
    "\n",
    "**BERT, last 4 layers**:\n",
    "\n",
    "\n",
    "The best settings by OC_P are quite different from best settings by MSE. Error bars are horrible for both measures, so they are both no good. So we go with OC_P because we went with OC_P for the previous model and pick **offset 0.7, with jitter**. There doesn't seem to be a difference between results with and without jitter. \n",
    "\n",
    "**BERT, layer 16**\n",
    "\n",
    "We go with the bset by OC_P, which is **offset 0.3 with jitter**. Again, the choice doesn't matter much because differences in performance are dwarfed by differences in error bars.\n"
   ]
  },
  {
   "cell_type": "code",
   "execution_count": 15,
   "id": "d5c9e9e2-b17f-45a0-b618-06c01b010a67",
   "metadata": {
    "tags": []
   },
   "outputs": [
    {
     "data": {
      "text/html": [
       "<div>\n",
       "<style scoped>\n",
       "    .dataframe tbody tr th:only-of-type {\n",
       "        vertical-align: middle;\n",
       "    }\n",
       "\n",
       "    .dataframe tbody tr th {\n",
       "        vertical-align: top;\n",
       "    }\n",
       "\n",
       "    .dataframe thead th {\n",
       "        text-align: right;\n",
       "    }\n",
       "</style>\n",
       "<table border=\"1\" class=\"dataframe\">\n",
       "  <thead>\n",
       "    <tr style=\"text-align: right;\">\n",
       "      <th></th>\n",
       "      <th>offset</th>\n",
       "      <th>j</th>\n",
       "      <th>ocp_mean</th>\n",
       "      <th>ocp_sd</th>\n",
       "      <th>msemed_mean</th>\n",
       "      <th>msemed_sd</th>\n",
       "    </tr>\n",
       "  </thead>\n",
       "  <tbody>\n",
       "    <tr>\n",
       "      <th>2</th>\n",
       "      <td>0.3</td>\n",
       "      <td>True</td>\n",
       "      <td>0.511791</td>\n",
       "      <td>0.030845</td>\n",
       "      <td>1273.320970</td>\n",
       "      <td>1270.253045</td>\n",
       "    </tr>\n",
       "    <tr>\n",
       "      <th>22</th>\n",
       "      <td>0.3</td>\n",
       "      <td>False</td>\n",
       "      <td>0.509462</td>\n",
       "      <td>0.033440</td>\n",
       "      <td>978.111317</td>\n",
       "      <td>1077.791703</td>\n",
       "    </tr>\n",
       "    <tr>\n",
       "      <th>39</th>\n",
       "      <td>2.0</td>\n",
       "      <td>False</td>\n",
       "      <td>0.509199</td>\n",
       "      <td>0.028146</td>\n",
       "      <td>1176.407376</td>\n",
       "      <td>692.485944</td>\n",
       "    </tr>\n",
       "    <tr>\n",
       "      <th>6</th>\n",
       "      <td>0.7</td>\n",
       "      <td>True</td>\n",
       "      <td>0.508737</td>\n",
       "      <td>0.039011</td>\n",
       "      <td>1220.434023</td>\n",
       "      <td>936.677679</td>\n",
       "    </tr>\n",
       "    <tr>\n",
       "      <th>15</th>\n",
       "      <td>1.6</td>\n",
       "      <td>True</td>\n",
       "      <td>0.508557</td>\n",
       "      <td>0.036039</td>\n",
       "      <td>985.805614</td>\n",
       "      <td>595.440528</td>\n",
       "    </tr>\n",
       "    <tr>\n",
       "      <th>14</th>\n",
       "      <td>1.5</td>\n",
       "      <td>True</td>\n",
       "      <td>0.508216</td>\n",
       "      <td>0.036825</td>\n",
       "      <td>925.401730</td>\n",
       "      <td>480.574687</td>\n",
       "    </tr>\n",
       "    <tr>\n",
       "      <th>32</th>\n",
       "      <td>1.3</td>\n",
       "      <td>False</td>\n",
       "      <td>0.508068</td>\n",
       "      <td>0.028836</td>\n",
       "      <td>982.998154</td>\n",
       "      <td>734.690222</td>\n",
       "    </tr>\n",
       "    <tr>\n",
       "      <th>7</th>\n",
       "      <td>0.8</td>\n",
       "      <td>True</td>\n",
       "      <td>0.507749</td>\n",
       "      <td>0.035909</td>\n",
       "      <td>1370.018565</td>\n",
       "      <td>1292.008867</td>\n",
       "    </tr>\n",
       "    <tr>\n",
       "      <th>13</th>\n",
       "      <td>1.4</td>\n",
       "      <td>True</td>\n",
       "      <td>0.507527</td>\n",
       "      <td>0.024390</td>\n",
       "      <td>984.208396</td>\n",
       "      <td>529.740030</td>\n",
       "    </tr>\n",
       "    <tr>\n",
       "      <th>3</th>\n",
       "      <td>0.4</td>\n",
       "      <td>True</td>\n",
       "      <td>0.506505</td>\n",
       "      <td>0.041268</td>\n",
       "      <td>803.039916</td>\n",
       "      <td>688.775814</td>\n",
       "    </tr>\n",
       "  </tbody>\n",
       "</table>\n",
       "</div>"
      ],
      "text/plain": [
       "    offset      j  ocp_mean    ocp_sd  msemed_mean    msemed_sd\n",
       "2      0.3   True  0.511791  0.030845  1273.320970  1270.253045\n",
       "22     0.3  False  0.509462  0.033440   978.111317  1077.791703\n",
       "39     2.0  False  0.509199  0.028146  1176.407376   692.485944\n",
       "6      0.7   True  0.508737  0.039011  1220.434023   936.677679\n",
       "15     1.6   True  0.508557  0.036039   985.805614   595.440528\n",
       "14     1.5   True  0.508216  0.036825   925.401730   480.574687\n",
       "32     1.3  False  0.508068  0.028836   982.998154   734.690222\n",
       "7      0.8   True  0.507749  0.035909  1370.018565  1292.008867\n",
       "13     1.4   True  0.507527  0.024390   984.208396   529.740030\n",
       "3      0.4   True  0.506505  0.041268   803.039916   688.775814"
      ]
     },
     "execution_count": 15,
     "metadata": {},
     "output_type": "execute_result"
    }
   ],
   "source": [
    "df.sort_values(by = \"ocp_mean\", ascending = False).head(10)"
   ]
  },
  {
   "cell_type": "code",
   "execution_count": 16,
   "id": "e4e0541c-7bcb-46fe-83b5-106b8da160b9",
   "metadata": {
    "tags": []
   },
   "outputs": [
    {
     "data": {
      "text/html": [
       "<div>\n",
       "<style scoped>\n",
       "    .dataframe tbody tr th:only-of-type {\n",
       "        vertical-align: middle;\n",
       "    }\n",
       "\n",
       "    .dataframe tbody tr th {\n",
       "        vertical-align: top;\n",
       "    }\n",
       "\n",
       "    .dataframe thead th {\n",
       "        text-align: right;\n",
       "    }\n",
       "</style>\n",
       "<table border=\"1\" class=\"dataframe\">\n",
       "  <thead>\n",
       "    <tr style=\"text-align: right;\">\n",
       "      <th></th>\n",
       "      <th>offset</th>\n",
       "      <th>j</th>\n",
       "      <th>ocp_mean</th>\n",
       "      <th>ocp_sd</th>\n",
       "      <th>msemed_mean</th>\n",
       "      <th>msemed_sd</th>\n",
       "    </tr>\n",
       "  </thead>\n",
       "  <tbody>\n",
       "    <tr>\n",
       "      <th>35</th>\n",
       "      <td>1.6</td>\n",
       "      <td>False</td>\n",
       "      <td>0.504529</td>\n",
       "      <td>0.036425</td>\n",
       "      <td>762.810969</td>\n",
       "      <td>393.404251</td>\n",
       "    </tr>\n",
       "    <tr>\n",
       "      <th>3</th>\n",
       "      <td>0.4</td>\n",
       "      <td>True</td>\n",
       "      <td>0.506505</td>\n",
       "      <td>0.041268</td>\n",
       "      <td>803.039916</td>\n",
       "      <td>688.775814</td>\n",
       "    </tr>\n",
       "    <tr>\n",
       "      <th>17</th>\n",
       "      <td>1.8</td>\n",
       "      <td>True</td>\n",
       "      <td>0.497250</td>\n",
       "      <td>0.032390</td>\n",
       "      <td>858.988947</td>\n",
       "      <td>488.794494</td>\n",
       "    </tr>\n",
       "    <tr>\n",
       "      <th>25</th>\n",
       "      <td>0.6</td>\n",
       "      <td>False</td>\n",
       "      <td>0.502895</td>\n",
       "      <td>0.036627</td>\n",
       "      <td>861.117119</td>\n",
       "      <td>666.940275</td>\n",
       "    </tr>\n",
       "    <tr>\n",
       "      <th>20</th>\n",
       "      <td>0.1</td>\n",
       "      <td>False</td>\n",
       "      <td>0.504188</td>\n",
       "      <td>0.026301</td>\n",
       "      <td>889.300308</td>\n",
       "      <td>643.191380</td>\n",
       "    </tr>\n",
       "    <tr>\n",
       "      <th>33</th>\n",
       "      <td>1.4</td>\n",
       "      <td>False</td>\n",
       "      <td>0.496726</td>\n",
       "      <td>0.031378</td>\n",
       "      <td>898.634324</td>\n",
       "      <td>459.620812</td>\n",
       "    </tr>\n",
       "    <tr>\n",
       "      <th>14</th>\n",
       "      <td>1.5</td>\n",
       "      <td>True</td>\n",
       "      <td>0.508216</td>\n",
       "      <td>0.036825</td>\n",
       "      <td>925.401730</td>\n",
       "      <td>480.574687</td>\n",
       "    </tr>\n",
       "    <tr>\n",
       "      <th>28</th>\n",
       "      <td>0.9</td>\n",
       "      <td>False</td>\n",
       "      <td>0.487920</td>\n",
       "      <td>0.033041</td>\n",
       "      <td>934.342485</td>\n",
       "      <td>484.766612</td>\n",
       "    </tr>\n",
       "    <tr>\n",
       "      <th>37</th>\n",
       "      <td>1.8</td>\n",
       "      <td>False</td>\n",
       "      <td>0.497290</td>\n",
       "      <td>0.032317</td>\n",
       "      <td>934.968500</td>\n",
       "      <td>486.617369</td>\n",
       "    </tr>\n",
       "    <tr>\n",
       "      <th>11</th>\n",
       "      <td>1.2</td>\n",
       "      <td>True</td>\n",
       "      <td>0.492052</td>\n",
       "      <td>0.035136</td>\n",
       "      <td>947.052500</td>\n",
       "      <td>727.600452</td>\n",
       "    </tr>\n",
       "  </tbody>\n",
       "</table>\n",
       "</div>"
      ],
      "text/plain": [
       "    offset      j  ocp_mean    ocp_sd  msemed_mean   msemed_sd\n",
       "35     1.6  False  0.504529  0.036425   762.810969  393.404251\n",
       "3      0.4   True  0.506505  0.041268   803.039916  688.775814\n",
       "17     1.8   True  0.497250  0.032390   858.988947  488.794494\n",
       "25     0.6  False  0.502895  0.036627   861.117119  666.940275\n",
       "20     0.1  False  0.504188  0.026301   889.300308  643.191380\n",
       "33     1.4  False  0.496726  0.031378   898.634324  459.620812\n",
       "14     1.5   True  0.508216  0.036825   925.401730  480.574687\n",
       "28     0.9  False  0.487920  0.033041   934.342485  484.766612\n",
       "37     1.8  False  0.497290  0.032317   934.968500  486.617369\n",
       "11     1.2   True  0.492052  0.035136   947.052500  727.600452"
      ]
     },
     "execution_count": 16,
     "metadata": {},
     "output_type": "execute_result"
    }
   ],
   "source": [
    "df.sort_values(by = \"msemed_mean\", ascending = True).head(10)"
   ]
  },
  {
   "cell_type": "markdown",
   "id": "eba6a9b6-e6b3-4c67-a0b4-a9c02f226a71",
   "metadata": {},
   "source": [
    "## Fitted dimensions with seeds as dimensions: alpha, averaging\n",
    "\n",
    "We first run an exploration, with only one random seed."
   ]
  },
  {
   "cell_type": "code",
   "execution_count": 17,
   "id": "e8b6afcc-ebc2-474c-8ac4-3beed7921995",
   "metadata": {
    "tags": []
   },
   "outputs": [
    {
     "name": "stdout",
     "output_type": "stream",
     "text": [
      "0.001 True 0.6256499918093695 43.67548195596026\n",
      "0.028666666666666667 True 0.5622261779831743 91.14307467391646\n",
      "0.05633333333333333 True 0.586203853629639 141.28496689841006\n",
      "0.08399999999999999 True 0.5717574475920401 160.45928094379252\n",
      "0.11166666666666666 True 0.5615995487289894 141.02908009083234\n",
      "0.13933333333333334 True 0.5505281259498451 184.60183537580502\n",
      "0.16699999999999998 True 0.5553972422653769 206.69695901380447\n",
      "0.19466666666666665 True 0.5343894878895773 166.44554379313598\n",
      "0.22233333333333333 True 0.5447149259779951 208.67579274968796\n",
      "0.25 True 0.5506000208105556 184.71457085202553\n",
      "0.001 False 0.5923816841100328 57.76797979920954\n",
      "0.028666666666666667 False 0.5556615595446602 125.99974403828365\n",
      "0.05633333333333333 False 0.5482993073625603 164.78975600479384\n",
      "0.08399999999999999 False 0.5434484803623184 146.9188042765659\n",
      "0.11166666666666666 False 0.5410544400998702 153.39293476989423\n",
      "0.13933333333333334 False 0.5362942742592078 197.91111766996931\n",
      "0.16699999999999998 False 0.5407258068490625 214.1231980948147\n",
      "0.19466666666666665 False 0.534930566438556 227.6547457635416\n",
      "0.22233333333333333 False 0.5293133006492095 225.73902712161436\n",
      "0.25 False 0.5323013296434901 218.64724439008947\n"
     ]
    }
   ],
   "source": [
    "average_vals = [True, False]\n",
    "alpha_vals= np.linspace(0.001, 0.25, num=10)\n",
    "\n",
    "results = defaultdict(list)\n",
    "\n",
    "randoms = [123]\n",
    "\n",
    "for randval in randoms:\n",
    "    for avgval in average_vals:\n",
    "        for alphaval in alpha_vals:\n",
    "\n",
    "            method = { \"method\": \"fitted_seeddims\",\n",
    "                      \"feature_dim\" : feature_dim,\n",
    "                      \"numfolds\" : 5,\n",
    "                      \"do_average\" : avgval,\n",
    "                      \"alpha\" : alphaval}\n",
    "\n",
    "\n",
    "            theseresults = crossvalidation(devset, method, word_vectors, grandratings_dir, grandfeatures_df, random_seed = randval)\n",
    "            \n",
    "            ocp_mean, _, _ = eval_summary_by(theseresults, \"ocp\")\n",
    "            _, mse_med, _ = eval_summary_by(theseresults, \"mse\")\n",
    "            print(alphaval, avgval, ocp_mean, mse_med)\n",
    "            \n",
    "            for r in theseresults:\n",
    "                r.update({\"alpha\":alphaval, \"avg\": avgval})\n",
    "                results[ (str(alphaval), str(avgval))].append(r)            \n",
    "\n"
   ]
  },
  {
   "cell_type": "code",
   "execution_count": 18,
   "id": "c93ff7aa-b0e3-436c-92fd-51b8f30d907b",
   "metadata": {},
   "outputs": [
    {
     "data": {
      "text/html": [
       "<div>\n",
       "<style scoped>\n",
       "    .dataframe tbody tr th:only-of-type {\n",
       "        vertical-align: middle;\n",
       "    }\n",
       "\n",
       "    .dataframe tbody tr th {\n",
       "        vertical-align: top;\n",
       "    }\n",
       "\n",
       "    .dataframe thead th {\n",
       "        text-align: right;\n",
       "    }\n",
       "</style>\n",
       "<table border=\"1\" class=\"dataframe\">\n",
       "  <thead>\n",
       "    <tr style=\"text-align: right;\">\n",
       "      <th></th>\n",
       "      <th>alpha</th>\n",
       "      <th>avg</th>\n",
       "      <th>ocp_mean</th>\n",
       "      <th>ocp_sd</th>\n",
       "      <th>msemed_mean</th>\n",
       "      <th>msemed_sd</th>\n",
       "    </tr>\n",
       "  </thead>\n",
       "  <tbody>\n",
       "    <tr>\n",
       "      <th>0</th>\n",
       "      <td>0.001000</td>\n",
       "      <td>True</td>\n",
       "      <td>0.625650</td>\n",
       "      <td>0.072376</td>\n",
       "      <td>229.567432</td>\n",
       "      <td>454.435772</td>\n",
       "    </tr>\n",
       "    <tr>\n",
       "      <th>1</th>\n",
       "      <td>0.028667</td>\n",
       "      <td>True</td>\n",
       "      <td>0.562226</td>\n",
       "      <td>0.097132</td>\n",
       "      <td>252.446088</td>\n",
       "      <td>293.125363</td>\n",
       "    </tr>\n",
       "    <tr>\n",
       "      <th>2</th>\n",
       "      <td>0.056333</td>\n",
       "      <td>True</td>\n",
       "      <td>0.586204</td>\n",
       "      <td>0.092098</td>\n",
       "      <td>220.380516</td>\n",
       "      <td>199.302097</td>\n",
       "    </tr>\n",
       "    <tr>\n",
       "      <th>3</th>\n",
       "      <td>0.084000</td>\n",
       "      <td>True</td>\n",
       "      <td>0.571757</td>\n",
       "      <td>0.070646</td>\n",
       "      <td>217.634866</td>\n",
       "      <td>181.406588</td>\n",
       "    </tr>\n",
       "    <tr>\n",
       "      <th>4</th>\n",
       "      <td>0.111667</td>\n",
       "      <td>True</td>\n",
       "      <td>0.561600</td>\n",
       "      <td>0.083663</td>\n",
       "      <td>207.171502</td>\n",
       "      <td>156.262827</td>\n",
       "    </tr>\n",
       "  </tbody>\n",
       "</table>\n",
       "</div>"
      ],
      "text/plain": [
       "      alpha   avg  ocp_mean    ocp_sd  msemed_mean   msemed_sd\n",
       "0  0.001000  True  0.625650  0.072376   229.567432  454.435772\n",
       "1  0.028667  True  0.562226  0.097132   252.446088  293.125363\n",
       "2  0.056333  True  0.586204  0.092098   220.380516  199.302097\n",
       "3  0.084000  True  0.571757  0.070646   217.634866  181.406588\n",
       "4  0.111667  True  0.561600  0.083663   207.171502  156.262827"
      ]
     },
     "execution_count": 18,
     "metadata": {},
     "output_type": "execute_result"
    }
   ],
   "source": [
    "df = pd.DataFrame(eval_hyper(results, [\"alpha\", \"avg\"]))\n",
    "df.head()\n"
   ]
  },
  {
   "cell_type": "code",
   "execution_count": 19,
   "id": "9cac3da0-eeb1-447a-8a01-ccdd4e24d465",
   "metadata": {
    "tags": []
   },
   "outputs": [
    {
     "data": {
      "text/plain": [
       "<AxesSubplot: xlabel='alpha'>"
      ]
     },
     "execution_count": 19,
     "metadata": {},
     "output_type": "execute_result"
    },
    {
     "data": {
      "image/png": "[encoded data removed]",
      "text/plain": [
       "<Figure size 640x480 with 1 Axes>"
      ]
     },
     "metadata": {},
     "output_type": "display_data"
    }
   ],
   "source": [
    "df[df.avg == True].sort_values(by = \"alpha\").plot(x = \"alpha\", y = \"ocp_mean\", yerr = \"ocp_sd\")"
   ]
  },
  {
   "cell_type": "code",
   "execution_count": 20,
   "id": "5492a999-08b0-4084-b397-6d74c4579cc1",
   "metadata": {
    "tags": []
   },
   "outputs": [
    {
     "data": {
      "text/plain": [
       "<AxesSubplot: xlabel='alpha'>"
      ]
     },
     "execution_count": 20,
     "metadata": {},
     "output_type": "execute_result"
    },
    {
     "data": {
      "image/png": "[encoded data removed]",
      "text/plain": [
       "<Figure size 640x480 with 1 Axes>"
      ]
     },
     "metadata": {},
     "output_type": "display_data"
    }
   ],
   "source": [
    "df[df.avg == False].sort_values(by = \"alpha\").plot(x = \"alpha\", y = \"ocp_mean\", yerr = \"ocp_sd\")"
   ]
  },
  {
   "cell_type": "code",
   "execution_count": 21,
   "id": "e051283d-d465-47bc-a3d3-347b656e2828",
   "metadata": {
    "tags": []
   },
   "outputs": [
    {
     "data": {
      "text/plain": [
       "<AxesSubplot: xlabel='alpha'>"
      ]
     },
     "execution_count": 21,
     "metadata": {},
     "output_type": "execute_result"
    },
    {
     "data": {
      "image/png": "[encoded data removed]",
      "text/plain": [
       "<Figure size 640x480 with 1 Axes>"
      ]
     },
     "metadata": {},
     "output_type": "display_data"
    }
   ],
   "source": [
    "df[df.avg == True].sort_values(by = \"alpha\").plot(x = \"alpha\", y = \"msemed_mean\", yerr = \"msemed_sd\")"
   ]
  },
  {
   "cell_type": "code",
   "execution_count": 22,
   "id": "5e5ced53-da85-4510-b083-cac6724c3755",
   "metadata": {
    "tags": []
   },
   "outputs": [
    {
     "data": {
      "text/plain": [
       "<AxesSubplot: xlabel='alpha'>"
      ]
     },
     "execution_count": 22,
     "metadata": {},
     "output_type": "execute_result"
    },
    {
     "data": {
      "image/png": "[encoded data removed]",
      "text/plain": [
       "<Figure size 640x480 with 1 Axes>"
      ]
     },
     "metadata": {},
     "output_type": "display_data"
    }
   ],
   "source": [
    "df[df.avg == False].sort_values(by = \"alpha\").plot(x = \"alpha\", y = \"msemed_mean\", yerr = \"msemed_sd\")"
   ]
  },
  {
   "cell_type": "markdown",
   "id": "ac4bf724-b81a-4ff7-a1b0-789e3efca8b7",
   "metadata": {},
   "source": [
    "We see that overall the performance is best, in terms of both OC_P and MSE, for small values of alpha, though again there is a large error bar. We explore the low range of alpha in more detail, both with and without averaging. "
   ]
  },
  {
   "cell_type": "code",
   "execution_count": 23,
   "id": "aa8b4878-1f15-4afd-a555-c85482a9e4f8",
   "metadata": {
    "tags": []
   },
   "outputs": [
    {
     "name": "stdout",
     "output_type": "stream",
     "text": [
      "0.001 True 0.5951829623132324 29.640719809993705\n",
      "0.017555555555555557 True 0.5584157920410247 125.57537922429432\n",
      "0.03411111111111111 True 0.5495013569892545 140.68273696033629\n",
      "0.050666666666666665 True 0.5532283143251513 193.56605299074943\n",
      "0.06722222222222222 True 0.5495806491152216 162.62792350606907\n",
      "0.08377777777777778 True 0.5354731887503422 207.82621803517276\n",
      "0.10033333333333333 True 0.553957717017066 163.12569076169845\n",
      "0.11688888888888889 True 0.5600930454402737 156.22564218254348\n",
      "0.13344444444444445 True 0.543475236966432 176.05693312399887\n",
      "0.15 True 0.5340821417421114 200.15058073287776\n",
      "0.001 False 0.5630383409195647 52.96288141717998\n",
      "0.017555555555555557 False 0.5595187221974913 178.17889320010988\n",
      "0.03411111111111111 False 0.5406730205776166 149.37899629638684\n",
      "0.050666666666666665 False 0.5365788788728735 178.6471445229684\n",
      "0.06722222222222222 False 0.5198566796853 224.18449898906755\n",
      "0.08377777777777778 False 0.529663116743797 247.55005223817653\n",
      "0.10033333333333333 False 0.5343018167037015 236.97956737108092\n",
      "0.11688888888888889 False 0.5296089588235848 261.4129984520473\n",
      "0.13344444444444445 False 0.5183441299838092 292.80343535355644\n",
      "0.15 False 0.5324817512245632 229.05153753060736\n",
      "0.001 True 0.5963947267073182 77.10818621937406\n",
      "0.017555555555555557 True 0.5578327175860962 560.6314078149107\n",
      "0.03411111111111111 True 0.5396141133964272 1432.879082638508\n",
      "0.050666666666666665 True 0.5137016575946064 1234.0489865408622\n",
      "0.06722222222222222 True 0.49397191837975035 1283.682956449616\n",
      "0.08377777777777778 True 0.5081541788977186 1489.700653784783\n",
      "0.10033333333333333 True 0.4697910784902704 4480.292425343946\n",
      "0.11688888888888889 True 0.510341493993521 1435.6005206520267\n",
      "0.13344444444444445 True 0.49030190737952994 2381.9085184369956\n",
      "0.15 True 0.47880090166134986 2626.403011980213\n",
      "0.001 False 0.5563612160506989 110.944174347364\n",
      "0.017555555555555557 False 0.5286129393373473 1264.9292393672613\n",
      "0.03411111111111111 False 0.52396937415466 1769.98093232048\n",
      "0.050666666666666665 False 0.5040567480873559 3449.077229668479\n",
      "0.06722222222222222 False 0.4672343720750159 2614.2279040542835\n",
      "0.08377777777777778 False 0.4829438715387496 1438.6552894957222\n",
      "0.10033333333333333 False 0.47045965385903304 1327.0978404880298\n",
      "0.11688888888888889 False 0.4999315932910607 1024.0206349910222\n",
      "0.13344444444444445 False 0.5012065717308999 736.2509051553757\n",
      "0.15 False 0.4932327295207491 556.6169953708271\n",
      "0.001 True 0.6057428796859641 37.36416519146944\n",
      "0.017555555555555557 True 0.5462982067664252 171.283913444941\n",
      "0.03411111111111111 True 0.5539051729381637 220.5425703357149\n",
      "0.050666666666666665 True 0.5347488859109641 305.5212922405535\n",
      "0.06722222222222222 True 0.529906332537789 311.87175919427557\n",
      "0.08377777777777778 True 0.5324695758968675 296.276544388164\n",
      "0.10033333333333333 True 0.5068701117511516 555.2923699761203\n",
      "0.11688888888888889 True 0.5439535608333812 180.9987144180944\n",
      "0.13344444444444445 True 0.5459604086090009 755.4713630747415\n",
      "0.15 True 0.5424223763801952 607.3463064110665\n",
      "0.001 False 0.5796177537891559 62.11034563980316\n",
      "0.017555555555555557 False 0.5554063133574874 301.66587973152775\n",
      "0.03411111111111111 False 0.5149321620094183 364.85866900052224\n",
      "0.050666666666666665 False 0.549962412866163 625.3698883683207\n",
      "0.06722222222222222 False 0.5484694564950715 543.6516361214158\n",
      "0.08377777777777778 False 0.5389594189709974 964.3294738422644\n",
      "0.10033333333333333 False 0.5165353129835445 677.9892019742665\n",
      "0.11688888888888889 False 0.538556613380138 586.1346232124255\n",
      "0.13344444444444445 False 0.5074431210911617 838.9099334030058\n",
      "0.15 False 0.5193746225645088 825.9642011621984\n"
     ]
    }
   ],
   "source": [
    "average_vals = [True, False]\n",
    "alpha_vals= np.linspace(0.001, 0.15, num=10)\n",
    "\n",
    "results = defaultdict(list)\n",
    "\n",
    "random.seed(5)\n",
    "randoms = [random.randrange(0,100) for _ in range(num_randseeds)]\n",
    "\n",
    "for randval in randoms:\n",
    "    for avgval in average_vals:\n",
    "        for alphaval in alpha_vals:\n",
    "\n",
    "            method = { \"method\": \"fitted_seeddims\",\n",
    "                      \"feature_dim\" : feature_dim,\n",
    "                      \"numfolds\" : 5,\n",
    "                      \"do_average\" : avgval,\n",
    "                      \"alpha\" : alphaval}\n",
    "\n",
    "\n",
    "            theseresults = crossvalidation(devset, method, word_vectors, grandratings_dir, grandfeatures_df, random_seed = randval)\n",
    "            \n",
    "            ocp_mean, _, _ = eval_summary_by(theseresults, \"ocp\")\n",
    "            _, mse_med, _ = eval_summary_by(theseresults, \"mse\")\n",
    "            print(alphaval, avgval, ocp_mean, mse_med)\n",
    "            \n",
    "            \n",
    "            for r in theseresults:\n",
    "                r.update({\"alpha\":alphaval, \"avg\": avgval})\n",
    "                results[ (str(alphaval), str(avgval))].append(r) "
   ]
  },
  {
   "cell_type": "code",
   "execution_count": 24,
   "id": "26c910fd-f481-4cf2-ac32-9522ecc71a47",
   "metadata": {},
   "outputs": [
    {
     "data": {
      "text/html": [
       "<div>\n",
       "<style scoped>\n",
       "    .dataframe tbody tr th:only-of-type {\n",
       "        vertical-align: middle;\n",
       "    }\n",
       "\n",
       "    .dataframe tbody tr th {\n",
       "        vertical-align: top;\n",
       "    }\n",
       "\n",
       "    .dataframe thead th {\n",
       "        text-align: right;\n",
       "    }\n",
       "</style>\n",
       "<table border=\"1\" class=\"dataframe\">\n",
       "  <thead>\n",
       "    <tr style=\"text-align: right;\">\n",
       "      <th></th>\n",
       "      <th>alpha</th>\n",
       "      <th>avg</th>\n",
       "      <th>ocp_mean</th>\n",
       "      <th>ocp_sd</th>\n",
       "      <th>msemed_mean</th>\n",
       "      <th>msemed_sd</th>\n",
       "    </tr>\n",
       "  </thead>\n",
       "  <tbody>\n",
       "    <tr>\n",
       "      <th>0</th>\n",
       "      <td>0.001000</td>\n",
       "      <td>True</td>\n",
       "      <td>0.599107</td>\n",
       "      <td>0.090144</td>\n",
       "      <td>126.870944</td>\n",
       "      <td>211.777563</td>\n",
       "    </tr>\n",
       "    <tr>\n",
       "      <th>1</th>\n",
       "      <td>0.017556</td>\n",
       "      <td>True</td>\n",
       "      <td>0.554182</td>\n",
       "      <td>0.062399</td>\n",
       "      <td>349.154408</td>\n",
       "      <td>317.996942</td>\n",
       "    </tr>\n",
       "    <tr>\n",
       "      <th>2</th>\n",
       "      <td>0.034111</td>\n",
       "      <td>True</td>\n",
       "      <td>0.547674</td>\n",
       "      <td>0.059639</td>\n",
       "      <td>394.391215</td>\n",
       "      <td>383.871911</td>\n",
       "    </tr>\n",
       "    <tr>\n",
       "      <th>3</th>\n",
       "      <td>0.050667</td>\n",
       "      <td>True</td>\n",
       "      <td>0.533893</td>\n",
       "      <td>0.066538</td>\n",
       "      <td>457.571387</td>\n",
       "      <td>440.938516</td>\n",
       "    </tr>\n",
       "    <tr>\n",
       "      <th>4</th>\n",
       "      <td>0.067222</td>\n",
       "      <td>True</td>\n",
       "      <td>0.524486</td>\n",
       "      <td>0.033969</td>\n",
       "      <td>442.003616</td>\n",
       "      <td>474.004777</td>\n",
       "    </tr>\n",
       "  </tbody>\n",
       "</table>\n",
       "</div>"
      ],
      "text/plain": [
       "      alpha   avg  ocp_mean    ocp_sd  msemed_mean   msemed_sd\n",
       "0  0.001000  True  0.599107  0.090144   126.870944  211.777563\n",
       "1  0.017556  True  0.554182  0.062399   349.154408  317.996942\n",
       "2  0.034111  True  0.547674  0.059639   394.391215  383.871911\n",
       "3  0.050667  True  0.533893  0.066538   457.571387  440.938516\n",
       "4  0.067222  True  0.524486  0.033969   442.003616  474.004777"
      ]
     },
     "execution_count": 24,
     "metadata": {},
     "output_type": "execute_result"
    }
   ],
   "source": [
    "df = pd.DataFrame(eval_hyper(results, [\"alpha\", \"avg\"]))\n",
    "df.head()\n"
   ]
  },
  {
   "cell_type": "markdown",
   "id": "fb162516-c659-4e4c-a7df-515ce91b0141",
   "metadata": {},
   "source": [
    "We again plot average OC_P mean and MSE median values, with error bars. "
   ]
  },
  {
   "cell_type": "code",
   "execution_count": 25,
   "id": "e1d505b2-c77e-437d-83bf-d37433647f3d",
   "metadata": {
    "tags": []
   },
   "outputs": [
    {
     "data": {
      "text/plain": [
       "<AxesSubplot: xlabel='alpha'>"
      ]
     },
     "execution_count": 25,
     "metadata": {},
     "output_type": "execute_result"
    },
    {
     "data": {
      "image/png": "[encoded data removed]",
      "text/plain": [
       "<Figure size 640x480 with 1 Axes>"
      ]
     },
     "metadata": {},
     "output_type": "display_data"
    }
   ],
   "source": [
    "%matplotlib inline\n",
    "\n",
    "df[df.avg == True].plot(y = \"ocp_mean\", x = \"alpha\", yerr = \"ocp_sd\")"
   ]
  },
  {
   "cell_type": "code",
   "execution_count": 26,
   "id": "eb3ca7ea-87b0-4b0f-9ba4-f21c0ff5f592",
   "metadata": {
    "tags": []
   },
   "outputs": [
    {
     "data": {
      "text/plain": [
       "<AxesSubplot: xlabel='alpha'>"
      ]
     },
     "execution_count": 26,
     "metadata": {},
     "output_type": "execute_result"
    },
    {
     "data": {
      "image/png": "[encoded data removed]",
      "text/plain": [
       "<Figure size 640x480 with 1 Axes>"
      ]
     },
     "metadata": {},
     "output_type": "display_data"
    }
   ],
   "source": [
    "df[df.avg == False].plot(y = \"ocp_mean\", x = \"alpha\", yerr = \"ocp_sd\")"
   ]
  },
  {
   "cell_type": "code",
   "execution_count": 27,
   "id": "8f54e721-8ad9-4b1c-a9c5-3c2da3f79032",
   "metadata": {
    "tags": []
   },
   "outputs": [
    {
     "data": {
      "text/plain": [
       "<AxesSubplot: xlabel='alpha'>"
      ]
     },
     "execution_count": 27,
     "metadata": {},
     "output_type": "execute_result"
    },
    {
     "data": {
      "image/png": "[encoded data removed]",
      "text/plain": [
       "<Figure size 640x480 with 1 Axes>"
      ]
     },
     "metadata": {},
     "output_type": "display_data"
    }
   ],
   "source": [
    "df[df.avg == False].plot(y = \"msemed_mean\", x = \"alpha\", yerr = \"msemed_sd\")"
   ]
  },
  {
   "cell_type": "code",
   "execution_count": 28,
   "id": "13224ce9-da15-4be2-9ef1-29369a52bb2b",
   "metadata": {
    "tags": []
   },
   "outputs": [
    {
     "data": {
      "text/plain": [
       "<AxesSubplot: xlabel='alpha'>"
      ]
     },
     "execution_count": 28,
     "metadata": {},
     "output_type": "execute_result"
    },
    {
     "data": {
      "image/png": "[encoded data removed]",
      "text/plain": [
       "<Figure size 640x480 with 1 Axes>"
      ]
     },
     "metadata": {},
     "output_type": "display_data"
    }
   ],
   "source": [
    "df[df.avg == True].plot(y = \"msemed_mean\", x = \"alpha\", yerr = \"msemed_sd\")"
   ]
  },
  {
   "cell_type": "markdown",
   "id": "790c27ee-a06b-4ee0-a0d7-4103f08e0d3d",
   "metadata": {},
   "source": [
    "We again look at the numbers."
   ]
  },
  {
   "cell_type": "code",
   "execution_count": 29,
   "id": "627fc447-eb9a-4211-b6fd-a86e24b4f562",
   "metadata": {
    "tags": []
   },
   "outputs": [
    {
     "data": {
      "text/html": [
       "<div>\n",
       "<style scoped>\n",
       "    .dataframe tbody tr th:only-of-type {\n",
       "        vertical-align: middle;\n",
       "    }\n",
       "\n",
       "    .dataframe tbody tr th {\n",
       "        vertical-align: top;\n",
       "    }\n",
       "\n",
       "    .dataframe thead th {\n",
       "        text-align: right;\n",
       "    }\n",
       "</style>\n",
       "<table border=\"1\" class=\"dataframe\">\n",
       "  <thead>\n",
       "    <tr style=\"text-align: right;\">\n",
       "      <th></th>\n",
       "      <th>alpha</th>\n",
       "      <th>avg</th>\n",
       "      <th>ocp_mean</th>\n",
       "      <th>ocp_sd</th>\n",
       "      <th>msemed_mean</th>\n",
       "      <th>msemed_sd</th>\n",
       "    </tr>\n",
       "  </thead>\n",
       "  <tbody>\n",
       "    <tr>\n",
       "      <th>0</th>\n",
       "      <td>0.001000</td>\n",
       "      <td>True</td>\n",
       "      <td>0.599107</td>\n",
       "      <td>0.090144</td>\n",
       "      <td>126.870944</td>\n",
       "      <td>211.777563</td>\n",
       "    </tr>\n",
       "    <tr>\n",
       "      <th>1</th>\n",
       "      <td>0.017556</td>\n",
       "      <td>True</td>\n",
       "      <td>0.554182</td>\n",
       "      <td>0.062399</td>\n",
       "      <td>349.154408</td>\n",
       "      <td>317.996942</td>\n",
       "    </tr>\n",
       "    <tr>\n",
       "      <th>2</th>\n",
       "      <td>0.034111</td>\n",
       "      <td>True</td>\n",
       "      <td>0.547674</td>\n",
       "      <td>0.059639</td>\n",
       "      <td>394.391215</td>\n",
       "      <td>383.871911</td>\n",
       "    </tr>\n",
       "  </tbody>\n",
       "</table>\n",
       "</div>"
      ],
      "text/plain": [
       "      alpha   avg  ocp_mean    ocp_sd  msemed_mean   msemed_sd\n",
       "0  0.001000  True  0.599107  0.090144   126.870944  211.777563\n",
       "1  0.017556  True  0.554182  0.062399   349.154408  317.996942\n",
       "2  0.034111  True  0.547674  0.059639   394.391215  383.871911"
      ]
     },
     "execution_count": 29,
     "metadata": {},
     "output_type": "execute_result"
    }
   ],
   "source": [
    "df[df.avg == True].sort_values(by = 'ocp_mean', ascending = False).head(3)"
   ]
  },
  {
   "cell_type": "code",
   "execution_count": 30,
   "id": "cf599502-3547-4bf6-9d35-e6a7f3ec443f",
   "metadata": {
    "tags": []
   },
   "outputs": [
    {
     "data": {
      "text/html": [
       "<div>\n",
       "<style scoped>\n",
       "    .dataframe tbody tr th:only-of-type {\n",
       "        vertical-align: middle;\n",
       "    }\n",
       "\n",
       "    .dataframe tbody tr th {\n",
       "        vertical-align: top;\n",
       "    }\n",
       "\n",
       "    .dataframe thead th {\n",
       "        text-align: right;\n",
       "    }\n",
       "</style>\n",
       "<table border=\"1\" class=\"dataframe\">\n",
       "  <thead>\n",
       "    <tr style=\"text-align: right;\">\n",
       "      <th></th>\n",
       "      <th>alpha</th>\n",
       "      <th>avg</th>\n",
       "      <th>ocp_mean</th>\n",
       "      <th>ocp_sd</th>\n",
       "      <th>msemed_mean</th>\n",
       "      <th>msemed_sd</th>\n",
       "    </tr>\n",
       "  </thead>\n",
       "  <tbody>\n",
       "    <tr>\n",
       "      <th>10</th>\n",
       "      <td>0.001000</td>\n",
       "      <td>False</td>\n",
       "      <td>0.566339</td>\n",
       "      <td>0.074798</td>\n",
       "      <td>241.583341</td>\n",
       "      <td>446.716891</td>\n",
       "    </tr>\n",
       "    <tr>\n",
       "      <th>11</th>\n",
       "      <td>0.017556</td>\n",
       "      <td>False</td>\n",
       "      <td>0.547846</td>\n",
       "      <td>0.043477</td>\n",
       "      <td>405.719008</td>\n",
       "      <td>289.402588</td>\n",
       "    </tr>\n",
       "    <tr>\n",
       "      <th>13</th>\n",
       "      <td>0.050667</td>\n",
       "      <td>False</td>\n",
       "      <td>0.530199</td>\n",
       "      <td>0.032994</td>\n",
       "      <td>526.815616</td>\n",
       "      <td>343.988045</td>\n",
       "    </tr>\n",
       "  </tbody>\n",
       "</table>\n",
       "</div>"
      ],
      "text/plain": [
       "       alpha    avg  ocp_mean    ocp_sd  msemed_mean   msemed_sd\n",
       "10  0.001000  False  0.566339  0.074798   241.583341  446.716891\n",
       "11  0.017556  False  0.547846  0.043477   405.719008  289.402588\n",
       "13  0.050667  False  0.530199  0.032994   526.815616  343.988045"
      ]
     },
     "execution_count": 30,
     "metadata": {},
     "output_type": "execute_result"
    }
   ],
   "source": [
    "df[df.avg == False].sort_values(by = 'ocp_mean', ascending = False).head(3)"
   ]
  },
  {
   "cell_type": "code",
   "execution_count": 31,
   "id": "bb230197-1252-459c-94e9-0ce59eeace93",
   "metadata": {
    "tags": []
   },
   "outputs": [
    {
     "data": {
      "text/html": [
       "<div>\n",
       "<style scoped>\n",
       "    .dataframe tbody tr th:only-of-type {\n",
       "        vertical-align: middle;\n",
       "    }\n",
       "\n",
       "    .dataframe tbody tr th {\n",
       "        vertical-align: top;\n",
       "    }\n",
       "\n",
       "    .dataframe thead th {\n",
       "        text-align: right;\n",
       "    }\n",
       "</style>\n",
       "<table border=\"1\" class=\"dataframe\">\n",
       "  <thead>\n",
       "    <tr style=\"text-align: right;\">\n",
       "      <th></th>\n",
       "      <th>alpha</th>\n",
       "      <th>avg</th>\n",
       "      <th>ocp_mean</th>\n",
       "      <th>ocp_sd</th>\n",
       "      <th>msemed_mean</th>\n",
       "      <th>msemed_sd</th>\n",
       "    </tr>\n",
       "  </thead>\n",
       "  <tbody>\n",
       "    <tr>\n",
       "      <th>10</th>\n",
       "      <td>0.001000</td>\n",
       "      <td>False</td>\n",
       "      <td>0.566339</td>\n",
       "      <td>0.074798</td>\n",
       "      <td>241.583341</td>\n",
       "      <td>446.716891</td>\n",
       "    </tr>\n",
       "    <tr>\n",
       "      <th>11</th>\n",
       "      <td>0.017556</td>\n",
       "      <td>False</td>\n",
       "      <td>0.547846</td>\n",
       "      <td>0.043477</td>\n",
       "      <td>405.719008</td>\n",
       "      <td>289.402588</td>\n",
       "    </tr>\n",
       "    <tr>\n",
       "      <th>12</th>\n",
       "      <td>0.034111</td>\n",
       "      <td>False</td>\n",
       "      <td>0.526525</td>\n",
       "      <td>0.047347</td>\n",
       "      <td>475.471176</td>\n",
       "      <td>461.003814</td>\n",
       "    </tr>\n",
       "  </tbody>\n",
       "</table>\n",
       "</div>"
      ],
      "text/plain": [
       "       alpha    avg  ocp_mean    ocp_sd  msemed_mean   msemed_sd\n",
       "10  0.001000  False  0.566339  0.074798   241.583341  446.716891\n",
       "11  0.017556  False  0.547846  0.043477   405.719008  289.402588\n",
       "12  0.034111  False  0.526525  0.047347   475.471176  461.003814"
      ]
     },
     "execution_count": 31,
     "metadata": {},
     "output_type": "execute_result"
    }
   ],
   "source": [
    "df[df.avg == False].sort_values(by = 'msemed_mean').head(3)"
   ]
  },
  {
   "cell_type": "code",
   "execution_count": 32,
   "id": "cf928402-70cc-4d32-8f4d-37de594e7264",
   "metadata": {
    "tags": []
   },
   "outputs": [
    {
     "data": {
      "text/html": [
       "<div>\n",
       "<style scoped>\n",
       "    .dataframe tbody tr th:only-of-type {\n",
       "        vertical-align: middle;\n",
       "    }\n",
       "\n",
       "    .dataframe tbody tr th {\n",
       "        vertical-align: top;\n",
       "    }\n",
       "\n",
       "    .dataframe thead th {\n",
       "        text-align: right;\n",
       "    }\n",
       "</style>\n",
       "<table border=\"1\" class=\"dataframe\">\n",
       "  <thead>\n",
       "    <tr style=\"text-align: right;\">\n",
       "      <th></th>\n",
       "      <th>alpha</th>\n",
       "      <th>avg</th>\n",
       "      <th>ocp_mean</th>\n",
       "      <th>ocp_sd</th>\n",
       "      <th>msemed_mean</th>\n",
       "      <th>msemed_sd</th>\n",
       "    </tr>\n",
       "  </thead>\n",
       "  <tbody>\n",
       "    <tr>\n",
       "      <th>0</th>\n",
       "      <td>0.001000</td>\n",
       "      <td>True</td>\n",
       "      <td>0.599107</td>\n",
       "      <td>0.090144</td>\n",
       "      <td>126.870944</td>\n",
       "      <td>211.777563</td>\n",
       "    </tr>\n",
       "    <tr>\n",
       "      <th>1</th>\n",
       "      <td>0.017556</td>\n",
       "      <td>True</td>\n",
       "      <td>0.554182</td>\n",
       "      <td>0.062399</td>\n",
       "      <td>349.154408</td>\n",
       "      <td>317.996942</td>\n",
       "    </tr>\n",
       "    <tr>\n",
       "      <th>2</th>\n",
       "      <td>0.034111</td>\n",
       "      <td>True</td>\n",
       "      <td>0.547674</td>\n",
       "      <td>0.059639</td>\n",
       "      <td>394.391215</td>\n",
       "      <td>383.871911</td>\n",
       "    </tr>\n",
       "  </tbody>\n",
       "</table>\n",
       "</div>"
      ],
      "text/plain": [
       "      alpha   avg  ocp_mean    ocp_sd  msemed_mean   msemed_sd\n",
       "0  0.001000  True  0.599107  0.090144   126.870944  211.777563\n",
       "1  0.017556  True  0.554182  0.062399   349.154408  317.996942\n",
       "2  0.034111  True  0.547674  0.059639   394.391215  383.871911"
      ]
     },
     "execution_count": 32,
     "metadata": {},
     "output_type": "execute_result"
    }
   ],
   "source": [
    "df[df.avg == True].sort_values(by = 'msemed_mean').head(3)"
   ]
  },
  {
   "cell_type": "markdown",
   "id": "38e0b537-c797-446b-bb02-8805eded681d",
   "metadata": {},
   "source": [
    "### Parameters for the fitted model with seed dimensions\n",
    "\n",
    "\n",
    "**BERT last 4 layers plus layer 16**\n",
    "\n",
    "We again see large error bars, meaning that there is wide difference across sub-datasets. Still, the lowest values of alpha seem best both in terms of OC_P and MSE. In terms of both OC_P and MSE, the best value is at **alpha = 0.001, with averaging over seeds.** \n",
    "\n",
    "**BERT last 4 layers**\n",
    "\n",
    "Best performance is for lowest values of alpha, and averaging seems to work better than not averaging, in all embedding spaces. The best value is at **alpha = 0.001, with averaging**\n",
    "\n",
    "**BERT layer 16**\n",
    "\n",
    "again we get the best performance for **alpha = 0.001, with averaging**"
   ]
  },
  {
   "cell_type": "code",
   "execution_count": 33,
   "id": "c9dd82ca-b91b-4af4-af85-66c9361a455a",
   "metadata": {},
   "outputs": [
    {
     "ename": "Exception",
     "evalue": "stop",
     "output_type": "error",
     "traceback": [
      "\u001b[0;31m---------------------------------------------------------------------------\u001b[0m",
      "\u001b[0;31mException\u001b[0m                                 Traceback (most recent call last)",
      "Cell \u001b[0;32mIn[33], line 1\u001b[0m\n\u001b[0;32m----> 1\u001b[0m \u001b[38;5;28;01mraise\u001b[39;00m \u001b[38;5;167;01mException\u001b[39;00m(\u001b[38;5;124m\"\u001b[39m\u001b[38;5;124mstop\u001b[39m\u001b[38;5;124m\"\u001b[39m)\n",
      "\u001b[0;31mException\u001b[0m: stop"
     ]
    }
   ],
   "source": [
    "raise Exception(\"stop\")"
   ]
  },
  {
   "cell_type": "markdown",
   "id": "961f82c9-c795-4d87-9d03-d11f8c13cd75",
   "metadata": {},
   "source": [
    "# Combined model: seeds as words and dimensions\n",
    "\n",
    "We fix jitter, offset, and averaging to the best values determined above as they don't seem to have made much of a difference.\n"
   ]
  },
  {
   "cell_type": "code",
   "execution_count": 34,
   "id": "49d7c8a0-bde4-4698-b9c6-7f04494a8178",
   "metadata": {
    "tags": []
   },
   "outputs": [
    {
     "name": "stdout",
     "output_type": "stream",
     "text": [
      "0.001 True 0.3 True 0.7091758450384827 3.2835845011613016\n",
      "0.017555555555555557 True 0.3 True 0.6618306047509337 2.4588106499146094\n",
      "0.03411111111111111 True 0.3 True 0.6522422454508158 4.620414034788816\n",
      "0.050666666666666665 True 0.3 True 0.6333175542961051 5.549439082734642\n",
      "0.06722222222222222 True 0.3 True 0.6175848728039953 6.582434895174229\n",
      "0.08377777777777778 True 0.3 True 0.6127026361816066 7.38734665326754\n",
      "0.10033333333333333 True 0.3 True 0.6032725575557413 9.05702776288619\n",
      "0.11688888888888889 True 0.3 True 0.5915811687650817 11.617801541849252\n",
      "0.13344444444444445 True 0.3 True 0.5811115062679822 12.684965762315706\n",
      "0.15 True 0.3 True 0.5663271663494688 15.228687701168692\n",
      "0.001 True 0.3 True 0.6845947079686567 3.816411987977768\n",
      "0.017555555555555557 True 0.3 True 0.6301364183958611 4.377819985925678\n",
      "0.03411111111111111 True 0.3 True 0.624909108660031 6.2462967148608435\n",
      "0.050666666666666665 True 0.3 True 0.6063444682113371 8.72326578405168\n",
      "0.06722222222222222 True 0.3 True 0.5852449368138144 11.31222505077651\n",
      "0.08377777777777778 True 0.3 True 0.554993904224854 16.5559565813761\n",
      "0.10033333333333333 True 0.3 True 0.5776431840251126 18.692196278393684\n",
      "0.11688888888888889 True 0.3 True 0.5814064255801432 25.667344735151033\n",
      "0.13344444444444445 True 0.3 True 0.5769959702180997 17.206792375169414\n",
      "0.15 True 0.3 True 0.5659152331560745 35.263789854614416\n",
      "0.001 True 0.3 True 0.6891155219078136 2.340728654186673\n",
      "0.017555555555555557 True 0.3 True 0.6674093981270003 3.203253359215371\n",
      "0.03411111111111111 True 0.3 True 0.6453105262982101 5.485225978186419\n",
      "0.050666666666666665 True 0.3 True 0.6135490426402983 6.341695191938328\n",
      "0.06722222222222222 True 0.3 True 0.6096370180146559 7.550430885510037\n",
      "0.08377777777777778 True 0.3 True 0.5984695425831343 11.466510400012702\n",
      "0.10033333333333333 True 0.3 True 0.5918526821526294 12.234402614454023\n",
      "0.11688888888888889 True 0.3 True 0.5878014402576336 14.125017561126725\n",
      "0.13344444444444445 True 0.3 True 0.5933657984276508 11.821265832895037\n",
      "0.15 True 0.3 True 0.5776994776045526 19.010826771436292\n"
     ]
    }
   ],
   "source": [
    "average_vals = [True]\n",
    "alpha_vals= np.linspace(0.001, 0.15, num=10)\n",
    "jitter_vals = [True]\n",
    "offset_vals= [ 0.3]\n",
    "\n",
    "\n",
    "results = defaultdict(list)\n",
    "\n",
    "random.seed(5)\n",
    "randoms = [random.randrange(0,100) for _ in range(num_randseeds)]\n",
    "\n",
    "for randval in randoms:\n",
    "    for avgval in average_vals:\n",
    "        for alphaval in alpha_vals:\n",
    "            for oval in offset_vals:\n",
    "                for jval in jitter_vals:\n",
    "\n",
    "                    method = { \"method\": \"combined\",\n",
    "                              \"feature_dim\" : feature_dim,\n",
    "                              \"numfolds\" : 5,\n",
    "                              \"do_average\" : avgval,\n",
    "                              \"alpha\" : alphaval,\n",
    "                              \"offset\" : oval,\n",
    "                              \"jitter\" : jval}\n",
    "\n",
    "\n",
    "                    theseresults = crossvalidation(devset, method, word_vectors, grandratings_dir, grandfeatures_df, random_seed = randval)\n",
    "                    \n",
    "                    ocp_mean, _, _ = eval_summary_by(theseresults, \"ocp\")\n",
    "                    _, mse_med, _ = eval_summary_by(theseresults, \"mse\")\n",
    "                    print(alphaval, avgval, oval, jval, ocp_mean, mse_med)\n",
    "            \n",
    "            \n",
    "                    for r in theseresults:\n",
    "                        r.update({\"alpha\":alphaval, \"avg\": avgval, \"offset\": oval, \"j\": jval})\n",
    "                        results[ (str(alphaval), str(avgval))].append(r) \n",
    "\n",
    "\n"
   ]
  },
  {
   "cell_type": "code",
   "execution_count": 35,
   "id": "ebe303de-8a2e-44ff-8c41-957e947e7976",
   "metadata": {},
   "outputs": [
    {
     "data": {
      "text/html": [
       "<div>\n",
       "<style scoped>\n",
       "    .dataframe tbody tr th:only-of-type {\n",
       "        vertical-align: middle;\n",
       "    }\n",
       "\n",
       "    .dataframe tbody tr th {\n",
       "        vertical-align: top;\n",
       "    }\n",
       "\n",
       "    .dataframe thead th {\n",
       "        text-align: right;\n",
       "    }\n",
       "</style>\n",
       "<table border=\"1\" class=\"dataframe\">\n",
       "  <thead>\n",
       "    <tr style=\"text-align: right;\">\n",
       "      <th></th>\n",
       "      <th>alpha</th>\n",
       "      <th>avg</th>\n",
       "      <th>offset</th>\n",
       "      <th>j</th>\n",
       "      <th>ocp_mean</th>\n",
       "      <th>ocp_sd</th>\n",
       "      <th>msemed_mean</th>\n",
       "      <th>msemed_sd</th>\n",
       "    </tr>\n",
       "  </thead>\n",
       "  <tbody>\n",
       "    <tr>\n",
       "      <th>0</th>\n",
       "      <td>0.001000</td>\n",
       "      <td>True</td>\n",
       "      <td>0.3</td>\n",
       "      <td>True</td>\n",
       "      <td>0.694295</td>\n",
       "      <td>0.070653</td>\n",
       "      <td>3.442897</td>\n",
       "      <td>1.482579</td>\n",
       "    </tr>\n",
       "    <tr>\n",
       "      <th>1</th>\n",
       "      <td>0.017556</td>\n",
       "      <td>True</td>\n",
       "      <td>0.3</td>\n",
       "      <td>True</td>\n",
       "      <td>0.653125</td>\n",
       "      <td>0.050197</td>\n",
       "      <td>3.873193</td>\n",
       "      <td>2.016991</td>\n",
       "    </tr>\n",
       "    <tr>\n",
       "      <th>2</th>\n",
       "      <td>0.034111</td>\n",
       "      <td>True</td>\n",
       "      <td>0.3</td>\n",
       "      <td>True</td>\n",
       "      <td>0.640821</td>\n",
       "      <td>0.050594</td>\n",
       "      <td>5.518837</td>\n",
       "      <td>2.634540</td>\n",
       "    </tr>\n",
       "    <tr>\n",
       "      <th>3</th>\n",
       "      <td>0.050667</td>\n",
       "      <td>True</td>\n",
       "      <td>0.3</td>\n",
       "      <td>True</td>\n",
       "      <td>0.617737</td>\n",
       "      <td>0.044962</td>\n",
       "      <td>7.419722</td>\n",
       "      <td>2.829276</td>\n",
       "    </tr>\n",
       "    <tr>\n",
       "      <th>4</th>\n",
       "      <td>0.067222</td>\n",
       "      <td>True</td>\n",
       "      <td>0.3</td>\n",
       "      <td>True</td>\n",
       "      <td>0.604156</td>\n",
       "      <td>0.048046</td>\n",
       "      <td>10.285070</td>\n",
       "      <td>5.247938</td>\n",
       "    </tr>\n",
       "  </tbody>\n",
       "</table>\n",
       "</div>"
      ],
      "text/plain": [
       "      alpha   avg  offset     j  ocp_mean    ocp_sd  msemed_mean  msemed_sd\n",
       "0  0.001000  True     0.3  True  0.694295  0.070653     3.442897   1.482579\n",
       "1  0.017556  True     0.3  True  0.653125  0.050197     3.873193   2.016991\n",
       "2  0.034111  True     0.3  True  0.640821  0.050594     5.518837   2.634540\n",
       "3  0.050667  True     0.3  True  0.617737  0.044962     7.419722   2.829276\n",
       "4  0.067222  True     0.3  True  0.604156  0.048046    10.285070   5.247938"
      ]
     },
     "execution_count": 35,
     "metadata": {},
     "output_type": "execute_result"
    }
   ],
   "source": [
    "df = pd.DataFrame(eval_hyper(results, [\"alpha\", \"avg\", \"offset\", \"j\"]))\n",
    "df.head()\n"
   ]
  },
  {
   "cell_type": "markdown",
   "id": "d02484e3-9d14-4e93-9d48-c16b4ab8be45",
   "metadata": {},
   "source": [
    "## Plotting the results\n",
    "\n"
   ]
  },
  {
   "cell_type": "code",
   "execution_count": 36,
   "id": "941e91f6-655c-4d7e-a10c-3c087687798b",
   "metadata": {
    "tags": []
   },
   "outputs": [
    {
     "data": {
      "text/plain": [
       "<AxesSubplot: xlabel='alpha'>"
      ]
     },
     "execution_count": 36,
     "metadata": {},
     "output_type": "execute_result"
    },
    {
     "data": {
      "image/png": "[encoded data removed]",
      "text/plain": [
       "<Figure size 640x480 with 1 Axes>"
      ]
     },
     "metadata": {},
     "output_type": "display_data"
    }
   ],
   "source": [
    "df.plot(y = \"ocp_mean\", x = \"alpha\", yerr = \"ocp_sd\")"
   ]
  },
  {
   "cell_type": "code",
   "execution_count": 37,
   "id": "c46c3155-e9e8-4e48-8d4a-7d516b4667e5",
   "metadata": {
    "tags": []
   },
   "outputs": [
    {
     "data": {
      "text/plain": [
       "<AxesSubplot: xlabel='alpha'>"
      ]
     },
     "execution_count": 37,
     "metadata": {},
     "output_type": "execute_result"
    },
    {
     "data": {
      "image/png": "[encoded data removed]",
      "text/plain": [
       "<Figure size 640x480 with 1 Axes>"
      ]
     },
     "metadata": {},
     "output_type": "display_data"
    }
   ],
   "source": [
    "df.plot(y = \"msemed_mean\", x = \"alpha\", yerr = \"msemed_sd\")"
   ]
  },
  {
   "cell_type": "code",
   "execution_count": 38,
   "id": "a5909543-f49e-4a8c-a392-9a598b1b87ba",
   "metadata": {
    "tags": []
   },
   "outputs": [
    {
     "data": {
      "text/html": [
       "<div>\n",
       "<style scoped>\n",
       "    .dataframe tbody tr th:only-of-type {\n",
       "        vertical-align: middle;\n",
       "    }\n",
       "\n",
       "    .dataframe tbody tr th {\n",
       "        vertical-align: top;\n",
       "    }\n",
       "\n",
       "    .dataframe thead th {\n",
       "        text-align: right;\n",
       "    }\n",
       "</style>\n",
       "<table border=\"1\" class=\"dataframe\">\n",
       "  <thead>\n",
       "    <tr style=\"text-align: right;\">\n",
       "      <th></th>\n",
       "      <th>alpha</th>\n",
       "      <th>avg</th>\n",
       "      <th>offset</th>\n",
       "      <th>j</th>\n",
       "      <th>ocp_mean</th>\n",
       "      <th>ocp_sd</th>\n",
       "      <th>msemed_mean</th>\n",
       "      <th>msemed_sd</th>\n",
       "    </tr>\n",
       "  </thead>\n",
       "  <tbody>\n",
       "    <tr>\n",
       "      <th>0</th>\n",
       "      <td>0.001000</td>\n",
       "      <td>True</td>\n",
       "      <td>0.3</td>\n",
       "      <td>True</td>\n",
       "      <td>0.694295</td>\n",
       "      <td>0.070653</td>\n",
       "      <td>3.442897</td>\n",
       "      <td>1.482579</td>\n",
       "    </tr>\n",
       "    <tr>\n",
       "      <th>1</th>\n",
       "      <td>0.017556</td>\n",
       "      <td>True</td>\n",
       "      <td>0.3</td>\n",
       "      <td>True</td>\n",
       "      <td>0.653125</td>\n",
       "      <td>0.050197</td>\n",
       "      <td>3.873193</td>\n",
       "      <td>2.016991</td>\n",
       "    </tr>\n",
       "    <tr>\n",
       "      <th>2</th>\n",
       "      <td>0.034111</td>\n",
       "      <td>True</td>\n",
       "      <td>0.3</td>\n",
       "      <td>True</td>\n",
       "      <td>0.640821</td>\n",
       "      <td>0.050594</td>\n",
       "      <td>5.518837</td>\n",
       "      <td>2.634540</td>\n",
       "    </tr>\n",
       "    <tr>\n",
       "      <th>3</th>\n",
       "      <td>0.050667</td>\n",
       "      <td>True</td>\n",
       "      <td>0.3</td>\n",
       "      <td>True</td>\n",
       "      <td>0.617737</td>\n",
       "      <td>0.044962</td>\n",
       "      <td>7.419722</td>\n",
       "      <td>2.829276</td>\n",
       "    </tr>\n",
       "    <tr>\n",
       "      <th>4</th>\n",
       "      <td>0.067222</td>\n",
       "      <td>True</td>\n",
       "      <td>0.3</td>\n",
       "      <td>True</td>\n",
       "      <td>0.604156</td>\n",
       "      <td>0.048046</td>\n",
       "      <td>10.285070</td>\n",
       "      <td>5.247938</td>\n",
       "    </tr>\n",
       "  </tbody>\n",
       "</table>\n",
       "</div>"
      ],
      "text/plain": [
       "      alpha   avg  offset     j  ocp_mean    ocp_sd  msemed_mean  msemed_sd\n",
       "0  0.001000  True     0.3  True  0.694295  0.070653     3.442897   1.482579\n",
       "1  0.017556  True     0.3  True  0.653125  0.050197     3.873193   2.016991\n",
       "2  0.034111  True     0.3  True  0.640821  0.050594     5.518837   2.634540\n",
       "3  0.050667  True     0.3  True  0.617737  0.044962     7.419722   2.829276\n",
       "4  0.067222  True     0.3  True  0.604156  0.048046    10.285070   5.247938"
      ]
     },
     "execution_count": 38,
     "metadata": {},
     "output_type": "execute_result"
    }
   ],
   "source": [
    "df.sort_values(by = \"ocp_mean\", ascending = False).head()"
   ]
  },
  {
   "cell_type": "code",
   "execution_count": 39,
   "id": "74c8d92c-7dae-4107-b242-4db38fca14ea",
   "metadata": {
    "tags": []
   },
   "outputs": [
    {
     "data": {
      "text/html": [
       "<div>\n",
       "<style scoped>\n",
       "    .dataframe tbody tr th:only-of-type {\n",
       "        vertical-align: middle;\n",
       "    }\n",
       "\n",
       "    .dataframe tbody tr th {\n",
       "        vertical-align: top;\n",
       "    }\n",
       "\n",
       "    .dataframe thead th {\n",
       "        text-align: right;\n",
       "    }\n",
       "</style>\n",
       "<table border=\"1\" class=\"dataframe\">\n",
       "  <thead>\n",
       "    <tr style=\"text-align: right;\">\n",
       "      <th></th>\n",
       "      <th>alpha</th>\n",
       "      <th>avg</th>\n",
       "      <th>offset</th>\n",
       "      <th>j</th>\n",
       "      <th>ocp_mean</th>\n",
       "      <th>ocp_sd</th>\n",
       "      <th>msemed_mean</th>\n",
       "      <th>msemed_sd</th>\n",
       "    </tr>\n",
       "  </thead>\n",
       "  <tbody>\n",
       "    <tr>\n",
       "      <th>0</th>\n",
       "      <td>0.001000</td>\n",
       "      <td>True</td>\n",
       "      <td>0.3</td>\n",
       "      <td>True</td>\n",
       "      <td>0.694295</td>\n",
       "      <td>0.070653</td>\n",
       "      <td>3.442897</td>\n",
       "      <td>1.482579</td>\n",
       "    </tr>\n",
       "    <tr>\n",
       "      <th>1</th>\n",
       "      <td>0.017556</td>\n",
       "      <td>True</td>\n",
       "      <td>0.3</td>\n",
       "      <td>True</td>\n",
       "      <td>0.653125</td>\n",
       "      <td>0.050197</td>\n",
       "      <td>3.873193</td>\n",
       "      <td>2.016991</td>\n",
       "    </tr>\n",
       "    <tr>\n",
       "      <th>2</th>\n",
       "      <td>0.034111</td>\n",
       "      <td>True</td>\n",
       "      <td>0.3</td>\n",
       "      <td>True</td>\n",
       "      <td>0.640821</td>\n",
       "      <td>0.050594</td>\n",
       "      <td>5.518837</td>\n",
       "      <td>2.634540</td>\n",
       "    </tr>\n",
       "    <tr>\n",
       "      <th>3</th>\n",
       "      <td>0.050667</td>\n",
       "      <td>True</td>\n",
       "      <td>0.3</td>\n",
       "      <td>True</td>\n",
       "      <td>0.617737</td>\n",
       "      <td>0.044962</td>\n",
       "      <td>7.419722</td>\n",
       "      <td>2.829276</td>\n",
       "    </tr>\n",
       "    <tr>\n",
       "      <th>4</th>\n",
       "      <td>0.067222</td>\n",
       "      <td>True</td>\n",
       "      <td>0.3</td>\n",
       "      <td>True</td>\n",
       "      <td>0.604156</td>\n",
       "      <td>0.048046</td>\n",
       "      <td>10.285070</td>\n",
       "      <td>5.247938</td>\n",
       "    </tr>\n",
       "  </tbody>\n",
       "</table>\n",
       "</div>"
      ],
      "text/plain": [
       "      alpha   avg  offset     j  ocp_mean    ocp_sd  msemed_mean  msemed_sd\n",
       "0  0.001000  True     0.3  True  0.694295  0.070653     3.442897   1.482579\n",
       "1  0.017556  True     0.3  True  0.653125  0.050197     3.873193   2.016991\n",
       "2  0.034111  True     0.3  True  0.640821  0.050594     5.518837   2.634540\n",
       "3  0.050667  True     0.3  True  0.617737  0.044962     7.419722   2.829276\n",
       "4  0.067222  True     0.3  True  0.604156  0.048046    10.285070   5.247938"
      ]
     },
     "execution_count": 39,
     "metadata": {},
     "output_type": "execute_result"
    }
   ],
   "source": [
    "df.sort_values(by = \"msemed_mean\", ascending = True).head()"
   ]
  },
  {
   "cell_type": "markdown",
   "id": "ae2ae24f-0c68-4d3f-a26c-27457f928761",
   "metadata": {},
   "source": [
    "### Parameters for the fitted model with seed words and seed dimensions\n",
    "\n",
    "**BERT last 4 layers plus layer 16**\n",
    "\n",
    "Both OC_P and MSE have a clear best value at **alpha = 0.02**. We use **averaging, no jitter, and an offset of 0.3**,\n",
    "\n",
    "**BERT last 4 layers**\n",
    "\n",
    "Both OC_P and MSE have a clear best value at **alpha = 0.02**. We use **averaging, jitter, and an offset of 0.7**,\n",
    "\n",
    "**BERT layer 16**\n",
    "\n",
    "Best performance, in terms of both OC_P and MSE, is at **alpha = 0.001**. We use **averaging, jitter ,and an offset of 0.3.**"
   ]
  },
  {
   "cell_type": "code",
   "execution_count": null,
   "id": "1169a309-8abf-47b4-beb6-f5a63c90bc57",
   "metadata": {},
   "outputs": [],
   "source": []
  }
 ],
 "metadata": {
  "kernelspec": {
   "display_name": "Python 3 (ipykernel)",
   "language": "python",
   "name": "python3"
  },
  "language_info": {
   "codemirror_mode": {
    "name": "ipython",
    "version": 3
   },
   "file_extension": ".py",
   "mimetype": "text/x-python",
   "name": "python",
   "nbconvert_exporter": "python",
   "pygments_lexer": "ipython3",
   "version": "3.9.6"
  }
 },
 "nbformat": 4,
 "nbformat_minor": 5
}
