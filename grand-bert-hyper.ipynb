{
 "cells": [
  {
   "cell_type": "markdown",
   "id": "3e5480aa-faa7-4368-8975-6a0a1ea34abe",
   "metadata": {},
   "source": [
    "# Hyperparameter optimization: BERT embeddings\n",
    "\n",
    "Grand et al data\n",
    "\n",
    "Hyperparameter optimization on a development set."
   ]
  },
  {
   "cell_type": "markdown",
   "id": "4bf61834-8f0f-4580-88da-f4f85292ff7d",
   "metadata": {},
   "source": [
    "# Reading the data\n",
    "\n",
    "## BERT"
   ]
  },
  {
   "cell_type": "code",
   "execution_count": 1,
   "id": "7fd7b586-6498-44fb-8810-5cbe92e383ea",
   "metadata": {
    "tags": []
   },
   "outputs": [],
   "source": [
    "import os\n",
    "from scipy import stats\n",
    "import numpy as np \n",
    "import pandas as pd\n",
    "import zipfile\n",
    "import math\n",
    "import sklearn\n",
    "import torch\n",
    "import torch.optim as optim\n",
    "device = torch.device('cuda') if torch.cuda.is_available() else torch.device('cpu')\n",
    "import matplotlib.pyplot as plt"
   ]
  },
  {
   "cell_type": "code",
   "execution_count": 2,
   "id": "3be6a243-ae47-49a7-88ce-1f6280d0b468",
   "metadata": {},
   "outputs": [],
   "source": [
    "num_randseeds = 3\n",
    "feature_dim = 1024"
   ]
  },
  {
   "cell_type": "code",
   "execution_count": 3,
   "id": "24fc7338-0755-4858-9a01-dbe9be3e61d6",
   "metadata": {},
   "outputs": [
    {
     "name": "stdout",
     "output_type": "stream",
     "text": [
      "north-carolina\n",
      "ping-pong\n",
      "hong-kong\n",
      "north_dakota\n",
      "rhode-island\n",
      "new-york\n",
      "south-dakota\n",
      "los-angeles\n",
      "west-virginia\n",
      "new-jersey\n",
      "san-francisco\n",
      "new-hampshire\n",
      "south-carolina\n",
      "new-mexico\n"
     ]
    }
   ],
   "source": [
    "bert_large_vecs_path = \"bert-large-uncased.npz\"\n",
    "\n",
    "word_vectors = {}\n",
    "data = np.load(bert_large_vecs_path)\n",
    "\n",
    "for word in data:\n",
    "    vector = data[word]\n",
    "    if ' ' in word:\n",
    "        first, second = word.split()\n",
    "        if 'north' in first and 'dakota' in second:\n",
    "            word = first + '_' + second\n",
    "            print(word)\n",
    "            word_vectors[word] = vector\n",
    "        else:\n",
    "            word = first + '-' + second\n",
    "            print(word)\n",
    "            word_vectors[word] = vector\n",
    "    else:\n",
    "        word_vectors[word] = vector"
   ]
  },
  {
   "cell_type": "markdown",
   "id": "1c07f037-d314-409b-b0f8-c5d060d5e721",
   "metadata": {},
   "source": [
    "## Grand features"
   ]
  },
  {
   "cell_type": "code",
   "execution_count": 4,
   "id": "f56398ff-3d19-4544-bc82-06a60e6d8737",
   "metadata": {
    "tags": []
   },
   "outputs": [
    {
     "name": "stderr",
     "output_type": "stream",
     "text": [
      "/Users/kee252/Library/Python/3.9/lib/python/site-packages/openpyxl/worksheet/_reader.py:329: UserWarning: Unknown extension is not supported and will be removed\n",
      "  warn(msg)\n"
     ]
    }
   ],
   "source": [
    "grandratings_dir = \"Grand_etal_csv/\"\n",
    "grandfeatures_path = \"/Users/kee252/Data/grand_directions_in_space/features.xlsx\"\n",
    "\n",
    "grandfeatures_df = pd.read_excel(grandfeatures_path)"
   ]
  },
  {
   "cell_type": "markdown",
   "id": "4b8216d9-2d9d-43c0-989e-a173a3e4be84",
   "metadata": {},
   "source": [
    "## Function for reading a specific Grand dataset"
   ]
  },
  {
   "cell_type": "code",
   "execution_count": 5,
   "id": "9f45bb6e-da17-4581-91b2-41d3721ce40d",
   "metadata": {
    "tags": []
   },
   "outputs": [],
   "source": [
    "# reading in Grand data\n",
    "def read_grand_data(filename, grandratings_dir, grandfeatures_df):\n",
    "    # extract category and feature\n",
    "    grandcategory, grandfeature = filename[:-4].split(\"_\")\n",
    "        \n",
    "    # read human ratings, make gold column\n",
    "    df = pd.read_csv(grandratings_dir + filename)\n",
    "    nspeakers = len(df.columns) -1\n",
    "    df[\"Average\"] = [row.iloc[1:26].sum() / nspeakers for _, row in df.iterrows()]\n",
    "    # z-scores of average ratings\n",
    "    df[\"Gold\"] = (df[\"Average\"] - df[\"Average\"].mean()) / df[\"Average\"].std()\n",
    "        \n",
    "    # obtain seed words from excel file\n",
    "    relevant_row = grandfeatures_df[grandfeatures_df.Dimension == grandfeature]\n",
    "    seedwords = relevant_row.iloc[:, 1:].values.flatten().tolist()\n",
    "    pos_seedwords = seedwords[:3]\n",
    "    neg_seedwords = seedwords[3:]\n",
    "    \n",
    "    return (grandcategory, grandfeature, pos_seedwords, neg_seedwords, df)"
   ]
  },
  {
   "cell_type": "markdown",
   "id": "21844b50-6e40-455d-a97c-dff06b04b412",
   "metadata": {},
   "source": [
    "# Function for running crossvalidation"
   ]
  },
  {
   "cell_type": "code",
   "execution_count": 6,
   "id": "d1cfd9f4-3f6d-47f1-848d-188ede0b9245",
   "metadata": {},
   "outputs": [],
   "source": [
    "import eval_dim\n",
    "import compute_dim\n",
    "import statistics\n",
    "\n",
    "def crossvalidation(filenames, method, word_vectors, grandratings_dir, grandfeatures_df, random_seed = 123, verbose = False):\n",
    "    \n",
    "    all_evals = [ ]\n",
    "    \n",
    "    for filename in filenames:\n",
    "            grandcategory, grandfeature, pos_seedwords, neg_seedwords, df = read_grand_data(filename, \n",
    "                                                                                            grandratings_dir, \n",
    "                                                                                            grandfeatures_df)\n",
    "\n",
    "\n",
    "            # storage for word vectors and gold values for this dataset\n",
    "            all_thisdata_vectors = []\n",
    "            all_thisdata_gold = []\n",
    "\n",
    "            # collect word vectors and gold ratings\n",
    "            for row in df.itertuples():\n",
    "                # row.Row is the word. look it up in word_vectors\n",
    "                all_thisdata_vectors.append( word_vectors[ row.Row ])\n",
    "                # gold rating: use z-scored average\n",
    "                all_thisdata_gold.append( row.Gold)\n",
    "\n",
    "            # crossvalidation setup: give indices to datapoints\n",
    "            fold = np.random.randint(method[\"numfolds\"], size = len(all_thisdata_gold))\n",
    "\n",
    "            # store the evaluation results from the different test folds\n",
    "            evals = [ ]\n",
    "\n",
    "            # iterate over folds, evaluate for each of them\n",
    "            for testfold in range(method[\"numfolds\"]):\n",
    "                # compute training and test data for this fold\n",
    "                test_indices =  [i for i in range(len(all_thisdata_gold)) if fold[i] == testfold]\n",
    "                train_indices = [i for i in range(len(all_thisdata_gold)) if fold[i] != testfold]\n",
    "\n",
    "                gold_test =  [ell[\"Gold\"] for _, ell in df.iloc[ test_indices ].iterrows()]\n",
    "                gold_train = [ ell[\"Gold\"] for _, ell in df.iloc[ train_indices ].iterrows()]\n",
    "                words_test =  [ell[\"Row\"] for _, ell in df.iloc[ test_indices].iterrows()]\n",
    "                words_train = [ell[\"Row\"] for _, ell in df.iloc[ train_indices].iterrows()]\n",
    "                vec_test =  [word_vectors[ w ] for w in words_test]\n",
    "                vec_train = [word_vectors[ w ] for w in words_train ]\n",
    "\n",
    "\n",
    "                # compute seed-based dimension, and its predictions\n",
    "                if method[\"method\"] == \"seedbased\":\n",
    "                    dimension = compute_dim.dimension_seedbased(pos_seedwords, neg_seedwords, word_vectors)\n",
    "                    df[\"Pred\"] = compute_dim.predict_coord_fromtrain(vec_train, gold_train, dimension, all_thisdata_vectors)\n",
    "\n",
    "                elif method[\"method\"] == \"fitted\":\n",
    "                    dimension, weight, bias = compute_dim.dimension_fitted_fromratings(vec_train, gold_train, \n",
    "                                                                                       method[\"feature_dim\"],\n",
    "                                                                                       random_seed = random_seed)\n",
    "                    df[\"Pred\"] = compute_dim.predict_coord_fromline(all_thisdata_vectors, dimension, weight, bias)\n",
    "\n",
    "                elif method[\"method\"] == \"fitted_seedwords\":\n",
    "                    dimension, weight, bias = compute_dim.dimension_fitted_fromratings_seedwords(vec_train, gold_train, \n",
    "                                                                    method[\"feature_dim\"], \n",
    "                                                                    pos_seedwords, neg_seedwords, word_vectors,\n",
    "                                                                    offset = method[\"offset\"], jitter = method[\"jitter\"],\n",
    "                                                                    random_seed = random_seed)\n",
    "                    df[\"Pred\"] = compute_dim.predict_coord_fromline(all_thisdata_vectors, dimension, weight, bias)\n",
    "\n",
    "                elif method[\"method\"] == \"fitted_seeddims\":\n",
    "                    dimension, weight, bias = compute_dim.dimension_fitted_fromratings_seeddims(vec_train, gold_train, \n",
    "                                                                    method[\"feature_dim\"], \n",
    "                                                                    pos_seedwords, neg_seedwords, word_vectors,\n",
    "                                                                    do_average = method[\"do_average\"], \n",
    "                                                                    alpha = method[\"alpha\"],\n",
    "                                                                    random_seed = random_seed)\n",
    "                    df[\"Pred\"] = compute_dim.predict_coord_fromline(all_thisdata_vectors, dimension, weight, bias)\n",
    "\n",
    "                elif method[\"method\"] == \"combined\":\n",
    "                    dimension, weight, bias = compute_dim.dimension_fitted_fromratings_combined(vec_train, gold_train,\n",
    "                                                                    method[\"feature_dim\"],\n",
    "                                                                    pos_seedwords, neg_seedwords, word_vectors,\n",
    "                                                                    offset = method[\"offset\"], jitter = method[\"jitter\"],\n",
    "                                                                    do_average = method[\"do_average\"], \n",
    "                                                                    alpha = method[\"alpha\"],\n",
    "                                                                    random_seed = random_seed)\n",
    "                    df[\"Pred\"] = compute_dim.predict_coord_fromline(all_thisdata_vectors, dimension, weight, bias)\n",
    "\n",
    "                else:\n",
    "                    raise Exception(\"shouldn't be here\")\n",
    "\n",
    "                # order consistency pairwise: test values tested for their ordering wrt. all values, training and test\n",
    "                # MSE: evaluate on test only\n",
    "                e = { \"ocp\" : eval_dim.pairwise_order_consistency_wrt(df[\"Gold\"], df[\"Pred\"], test_indices),\n",
    "                      \"mse\" : eval_dim.mean_squared_error(gold_test, [p for i, p in enumerate(df[\"Pred\"]) if i in test_indices]),\n",
    "                      \"feature\" : grandfeature,\n",
    "                      \"category\" : grandcategory}\n",
    "\n",
    "                all_evals.append(e)\n",
    "\n",
    "    if verbose:\n",
    "        ocps = [e[\"ocp\"] for e in all_evals if e[\"ocp\"] is not None]\n",
    "        mses = [e[\"mse\"] for e in all_evals if e[\"mse\"] is not None]\n",
    "\n",
    "        print(\"\\n\\nOverall\", method[\"method\"], \n",
    "              f\"OC_p {statistics.mean(ocps):.3f} ({statistics.stdev(ocps):.2f})\", \n",
    "              f\"MSE mean {statistics.mean(mses):.3f} ({statistics.stdev(mses):.2f}) median {statistics.median(mses):.3f}\")\n",
    "        \n",
    "    return all_evals\n"
   ]
  },
  {
   "cell_type": "markdown",
   "id": "bb92cc5e-b162-44d1-82b7-ffca22d67a7f",
   "metadata": {},
   "source": [
    "# Function for aggregating crossvalidation results\n",
    "\n",
    "We assume results that are dictionaries. \n",
    "\n",
    "First, a function for aggregating results by particular labels, into a single dictionary. For example, when results are aggregated by category and feature, the result will be a dictionary whose keys are category/feature tuples, and the values are lists of result dictionaries. \n",
    "\n",
    "Second, a function that computes mean, median, and standard deviation, over a list of result dictionaries, for a given labels."
   ]
  },
  {
   "cell_type": "code",
   "execution_count": 7,
   "id": "35093491-406a-4724-b31f-88940d4ee982",
   "metadata": {},
   "outputs": [],
   "source": [
    "from collections import defaultdict\n",
    "import statistics\n",
    "\n",
    "# given a list of results dictionaries, \n",
    "# group them by the given dictionary keys\n",
    "def eval_aggregate_by(evals, keylabels):\n",
    "    bydataset_eval = defaultdict(list)\n",
    "    \n",
    "    for e in evals:\n",
    "        key = tuple([str(e[k]) for k in keylabels])\n",
    "        bydataset_eval[ key ].append(e)\n",
    "        \n",
    "    return bydataset_eval\n",
    "\n",
    "\n",
    "# given a list of results dictionaries,\n",
    "# compute mean, median and standard deviation over values for a particular key\n",
    "def eval_summary_by(evals, keylabel):\n",
    "    vals = [e[keylabel] for e in evals if e[keylabel] is not None]\n",
    "    \n",
    "    return (statistics.mean(vals), statistics.median(vals), statistics.stdev(vals))\n",
    "\n",
    "# given a dictionary of results (parameters -> result dictionary list),\n",
    "# * for each parameter setting, aggregate by cateogy and feature\n",
    "# * for each category/feature, compute mean ocp and mse values\n",
    "# * for the parameter setting, compute mean and sd ocp and mse over all category/feature pairs\n",
    "def eval_hyper(results, parameternames):\n",
    "    # output dictionary\n",
    "    results_byparam = [ ]\n",
    "\n",
    "    # iterate over parameter settings\n",
    "    for theseresults in results.values():\n",
    "        # extract parameters\n",
    "        this_dict = dict([(par, theseresults[0][par]) for par in parameternames])\n",
    "        \n",
    "        # aggregate by condition = by category and feature\n",
    "        results_bycond = eval_aggregate_by(theseresults,[\"category\", \"feature\"])\n",
    "        \n",
    "        # compute mean ocp and mse values.\n",
    "        # ocp: we use mean for each condition.\n",
    "        # mse: we use median for each condition\n",
    "        ocps = [eval_summary_by(cond_results, \"ocp\")[0] for cond_results in results_bycond.values()]\n",
    "        mses = [eval_summary_by(cond_results, \"mse\")[1] for cond_results in results_bycond.values()]\n",
    "\n",
    "        # compute mean and standard deviation over ocps and mses\n",
    "        this_dict[\"ocp_mean\"] = statistics.mean(ocps)\n",
    "        this_dict[\"ocp_sd\"] = statistics.stdev(ocps)\n",
    "        this_dict[\"msemed_mean\"] = statistics.mean(mses)\n",
    "        this_dict[\"msemed_sd\"] = statistics.stdev(mses)\n",
    "        \n",
    "        results_byparam.append(this_dict)\n",
    "        \n",
    "    return results_byparam\n"
   ]
  },
  {
   "cell_type": "markdown",
   "id": "bb4f83f4-de33-4e1b-a0e4-e04650488db0",
   "metadata": {},
   "source": [
    "# Making a development set"
   ]
  },
  {
   "cell_type": "code",
   "execution_count": 8,
   "id": "06a6fe6d-20d2-43e2-8428-c46b1f6944be",
   "metadata": {
    "tags": []
   },
   "outputs": [
    {
     "data": {
      "text/plain": [
       "[['cities', 'danger'],\n",
       " ['states', 'political'],\n",
       " ['animals', 'wetness'],\n",
       " ['cities', 'intelligence'],\n",
       " ['animals', 'weight'],\n",
       " ['names', 'age']]"
      ]
     },
     "execution_count": 8,
     "metadata": {},
     "output_type": "execute_result"
    }
   ],
   "source": [
    "filenames = [f for f in os.listdir(grandratings_dir) if f.endswith(\"csv\")]\n",
    "\n",
    "import random\n",
    "random.seed(789)\n",
    "devset = random.sample(filenames, 6)\n",
    "[ filename[:-4].split(\"_\") for filename in devset]"
   ]
  },
  {
   "cell_type": "markdown",
   "id": "a139eaec-fdec-4520-b210-04c91c32632a",
   "metadata": {},
   "source": [
    "# Determining hyperparameters\n",
    "\n",
    "## Fitted dimensions with seeds as words: offset, jitter\n",
    "\n",
    "First experiments looked like there was a lot of variance in result with different random seeds. To check into this, we run the hyperparameter tests n times with different random seeds. We then look at mean and standard deviation of the two measures we focus on: mean OC_p and median MSE."
   ]
  },
  {
   "cell_type": "code",
   "execution_count": 9,
   "id": "fccab8bb-b9a0-460c-835f-ff115524d7da",
   "metadata": {},
   "outputs": [
    {
     "name": "stdout",
     "output_type": "stream",
     "text": [
      "0.1 True 0.5386927129833723 564.4404335440773\n",
      "0.2 True 0.4896513050498524 676.047684084766\n",
      "0.3 True 0.5095158906821176 1097.4809916562717\n",
      "0.4 True 0.5293094110162085 842.0829663526972\n",
      "0.5 True 0.49669145139840387 919.9508880741832\n",
      "0.6 True 0.4987071478566379 1165.0149160828669\n",
      "0.7 True 0.5161036789302086 1077.4469033755365\n",
      "0.7999999999999999 True 0.505855889500114 945.7686744875672\n",
      "0.8999999999999999 True 0.5157164544740486 813.2391083760126\n",
      "0.9999999999999999 True 0.5115338813081937 1023.1857459236691\n",
      "1.0999999999999999 True 0.5103214692413723 778.56433330148\n",
      "1.2 True 0.5078341047730314 992.3335947043425\n",
      "1.3 True 0.48674367612059927 822.2131269280803\n",
      "1.4 True 0.5011778693314841 814.1914924324144\n",
      "1.5 True 0.5136132580554715 990.7814290825065\n",
      "1.5999999999999999 True 0.5129299921147437 1087.967707623437\n",
      "1.7 True 0.5185691990103511 954.360478947867\n",
      "1.8 True 0.5085617529473879 1048.6320768202183\n",
      "1.9 True 0.5196551191480563 750.5159467527214\n",
      "2.0 True 0.49933546653977967 976.1731305906374\n",
      "0.1 False 0.5181340728332616 814.8576227703817\n",
      "0.2 False 0.5180272857117802 997.248231996314\n",
      "0.3 False 0.5004728268816132 643.8807808482211\n",
      "0.4 False 0.5098811895534541 818.874101119303\n",
      "0.5 False 0.5198031133998582 919.4202168222295\n",
      "0.6 False 0.48413863818203035 934.5209711430679\n",
      "0.7 False 0.5019171141059828 758.0904647020855\n",
      "0.7999999999999999 False 0.5065212170654376 1031.4654584916304\n",
      "0.8999999999999999 False 0.49409709162668647 997.9135318099143\n",
      "0.9999999999999999 False 0.522086468265855 1156.6899349371315\n",
      "1.0999999999999999 False 0.49657014599218896 1040.3425046813413\n",
      "1.2 False 0.5038575588249379 907.6220229164313\n",
      "1.3 False 0.5216893770556726 872.9002209673326\n",
      "1.4 False 0.5051325832751633 1064.5354424461314\n",
      "1.5 False 0.5119803290758616 1052.2390763291942\n",
      "1.5999999999999999 False 0.5102614949434645 1127.183800483128\n",
      "1.7 False 0.5091112620934976 875.2585184876264\n",
      "1.8 False 0.5158819438515673 811.1606029816849\n",
      "1.9 False 0.5152690015855194 1004.9678033635507\n",
      "2.0 False 0.511023627115951 1019.9492859210472\n",
      "0.1 True 0.5229296725246856 87.73477441858891\n",
      "0.2 True 0.5494467465744909 111.7106175820926\n",
      "0.3 True 0.5432164427880845 101.9360636707018\n",
      "0.4 True 0.527263424565356 90.98158393711518\n",
      "0.5 True 0.5269004257461886 113.00067971396123\n",
      "0.6 True 0.5493843128771803 95.45659929852252\n",
      "0.7 True 0.531487122786011 77.24273702058323\n",
      "0.7999999999999999 True 0.5363291252014786 101.03789943842165\n",
      "0.8999999999999999 True 0.528867893175711 102.19343551795146\n",
      "0.9999999999999999 True 0.5483705689226154 105.36092411317324\n",
      "1.0999999999999999 True 0.5316429525662423 119.10476726779136\n",
      "1.2 True 0.5444110594879661 106.19794512667085\n",
      "1.3 True 0.5313575506669468 95.44189484355137\n",
      "1.4 True 0.5428992556031015 97.5410017388107\n",
      "1.5 True 0.5454494327295422 104.48613089049155\n",
      "1.5999999999999999 True 0.5427380421211381 130.23616827170343\n",
      "1.7 True 0.5618457934671914 126.77088811797748\n",
      "1.8 True 0.5283940373033229 129.9029151087491\n",
      "1.9 True 0.5293337964942764 116.3843463749738\n",
      "2.0 True 0.5563110662218208 115.34334668240453\n",
      "0.1 False 0.5529722269669702 96.388251977273\n",
      "0.2 False 0.5273464887471223 92.67478629766399\n",
      "0.3 False 0.5627520776311868 120.35140585960825\n",
      "0.4 False 0.5604597541656184 102.62173927380977\n",
      "0.5 False 0.5402115469048798 86.02978048747718\n",
      "0.6 False 0.5391700530913168 87.05995914628349\n",
      "0.7 False 0.5223473251166629 93.1912103369991\n",
      "0.7999999999999999 False 0.5519798266392589 108.50749346800838\n",
      "0.8999999999999999 False 0.5481358549238394 123.57894160152017\n",
      "0.9999999999999999 False 0.5400788752147436 97.37869177248666\n",
      "1.0999999999999999 False 0.5288448479992457 112.42920217308392\n",
      "1.2 False 0.5221383857078243 96.89965331597125\n",
      "1.3 False 0.5425429966720935 101.43263179204257\n",
      "1.4 False 0.5361349022962311 120.93951551150485\n",
      "1.5 False 0.5270519577943482 112.95778389867078\n",
      "1.5999999999999999 False 0.5461411588474915 93.49880802199931\n",
      "1.7 False 0.5349312467608067 106.60153223208727\n",
      "1.8 False 0.5491139210522987 122.39252473950411\n",
      "1.9 False 0.5527129658853267 131.1393099573164\n",
      "2.0 False 0.5297010744815285 111.00132416324485\n",
      "0.1 True 0.5247363012503942 690.7819270101489\n",
      "0.2 True 0.5087111469825077 564.5900776103124\n",
      "0.3 True 0.49262766917839823 556.875635340468\n",
      "0.4 True 0.5351521496486731 483.3275325785181\n",
      "0.5 True 0.5007509439769923 439.1782067309334\n",
      "0.6 True 0.5182925330072892 512.4371229316882\n",
      "0.7 True 0.5406923038072856 467.2561470272889\n",
      "0.7999999999999999 True 0.526060839972696 701.110931158561\n",
      "0.8999999999999999 True 0.5071488229062556 559.8160786484736\n",
      "0.9999999999999999 True 0.5209171286298111 519.2989942996612\n",
      "1.0999999999999999 True 0.5090627786333011 510.77513363303797\n",
      "1.2 True 0.5188565273445942 497.3992428179065\n",
      "1.3 True 0.5057165027546888 404.77246642202545\n",
      "1.4 True 0.48279599687705255 762.05494930184\n",
      "1.5 True 0.5344588728748283 604.6127814331413\n",
      "1.5999999999999999 True 0.5254801642791798 511.5833286932966\n",
      "1.7 True 0.5095519212423509 510.94343356134044\n",
      "1.8 True 0.4933811957572655 443.52979906868234\n",
      "1.9 True 0.5118471424758874 536.968393091473\n",
      "2.0 True 0.5251611427066707 514.0300209870652\n",
      "0.1 False 0.5163782199318768 584.2767693485468\n",
      "0.2 False 0.4953787987182488 850.147508091957\n",
      "0.3 False 0.5471899561361783 600.6845826521287\n",
      "0.4 False 0.5203363916048676 427.7406796991705\n",
      "0.5 False 0.506103224985134 532.9747338889902\n",
      "0.6 False 0.499493846160042 340.5734630478038\n",
      "0.7 False 0.5133092797668302 522.0035763962062\n",
      "0.7999999999999999 False 0.5263103829123006 524.417113945904\n",
      "0.8999999999999999 False 0.5238008816116255 479.76594886542466\n",
      "0.9999999999999999 False 0.5127130705966716 377.99488179299635\n",
      "1.0999999999999999 False 0.5227096468290845 410.7371178808496\n",
      "1.2 False 0.4879692897283061 620.7957343075919\n",
      "1.3 False 0.5058635011625189 442.42509707271586\n",
      "1.4 False 0.5355935470089059 354.80936547793095\n",
      "1.5 False 0.5119434782455258 574.4388754150789\n",
      "1.5999999999999999 False 0.4981682415875744 469.8461695817023\n",
      "1.7 False 0.5180250525812914 390.95386829034624\n",
      "1.8 False 0.5171097771165447 422.69181462324076\n",
      "1.9 False 0.5398196813564372 509.6649834579486\n",
      "2.0 False 0.518550934296595 551.4006618878053\n"
     ]
    }
   ],
   "source": [
    "jitter_vals = [True, False]\n",
    "offset_vals= np.linspace(0.1, 2, num=20)\n",
    "\n",
    "results = defaultdict(list)\n",
    "\n",
    "random.seed(5)\n",
    "randoms = [random.randrange(0,100) for _ in range(num_randseeds)]\n",
    "\n",
    "for randval in randoms:\n",
    "    for jval in jitter_vals:\n",
    "        for oval in offset_vals:\n",
    "\n",
    "            method = { \"method\": \"fitted_seedwords\",\n",
    "                      \"feature_dim\" : feature_dim,\n",
    "                      \"numfolds\" : 5,\n",
    "                      \"offset\" : oval,\n",
    "                      \"jitter\" : jval}\n",
    "\n",
    "\n",
    "            theseresults = crossvalidation(devset, method, word_vectors, grandratings_dir, grandfeatures_df, random_seed = randval)\n",
    "            \n",
    "            ocp_mean, _, _ = eval_summary_by(theseresults, \"ocp\")\n",
    "            _, mse_med, _ = eval_summary_by(theseresults, \"mse\")\n",
    "            print(oval, jval, ocp_mean, mse_med)\n",
    "            \n",
    "\n",
    "            for r in theseresults:\n",
    "                r.update({\"offset\":oval, \"j\": jval})\n",
    "                results[ (str(oval), str(jval))].append(r)\n",
    "    \n"
   ]
  },
  {
   "cell_type": "code",
   "execution_count": 10,
   "id": "508cd5a3-9cb4-4bf8-9a03-77b2e47d0486",
   "metadata": {},
   "outputs": [
    {
     "data": {
      "text/html": [
       "<div>\n",
       "<style scoped>\n",
       "    .dataframe tbody tr th:only-of-type {\n",
       "        vertical-align: middle;\n",
       "    }\n",
       "\n",
       "    .dataframe tbody tr th {\n",
       "        vertical-align: top;\n",
       "    }\n",
       "\n",
       "    .dataframe thead th {\n",
       "        text-align: right;\n",
       "    }\n",
       "</style>\n",
       "<table border=\"1\" class=\"dataframe\">\n",
       "  <thead>\n",
       "    <tr style=\"text-align: right;\">\n",
       "      <th></th>\n",
       "      <th>offset</th>\n",
       "      <th>j</th>\n",
       "      <th>ocp_mean</th>\n",
       "      <th>ocp_sd</th>\n",
       "      <th>msemed_mean</th>\n",
       "      <th>msemed_sd</th>\n",
       "    </tr>\n",
       "  </thead>\n",
       "  <tbody>\n",
       "    <tr>\n",
       "      <th>0</th>\n",
       "      <td>0.1</td>\n",
       "      <td>True</td>\n",
       "      <td>0.528786</td>\n",
       "      <td>0.031751</td>\n",
       "      <td>403.440277</td>\n",
       "      <td>241.692239</td>\n",
       "    </tr>\n",
       "    <tr>\n",
       "      <th>1</th>\n",
       "      <td>0.2</td>\n",
       "      <td>True</td>\n",
       "      <td>0.515936</td>\n",
       "      <td>0.037784</td>\n",
       "      <td>363.614069</td>\n",
       "      <td>218.643055</td>\n",
       "    </tr>\n",
       "    <tr>\n",
       "      <th>2</th>\n",
       "      <td>0.3</td>\n",
       "      <td>True</td>\n",
       "      <td>0.515120</td>\n",
       "      <td>0.031178</td>\n",
       "      <td>356.532935</td>\n",
       "      <td>227.038393</td>\n",
       "    </tr>\n",
       "    <tr>\n",
       "      <th>3</th>\n",
       "      <td>0.4</td>\n",
       "      <td>True</td>\n",
       "      <td>0.530575</td>\n",
       "      <td>0.031314</td>\n",
       "      <td>440.331132</td>\n",
       "      <td>342.837467</td>\n",
       "    </tr>\n",
       "    <tr>\n",
       "      <th>4</th>\n",
       "      <td>0.5</td>\n",
       "      <td>True</td>\n",
       "      <td>0.508114</td>\n",
       "      <td>0.045041</td>\n",
       "      <td>441.524259</td>\n",
       "      <td>325.040179</td>\n",
       "    </tr>\n",
       "  </tbody>\n",
       "</table>\n",
       "</div>"
      ],
      "text/plain": [
       "   offset     j  ocp_mean    ocp_sd  msemed_mean   msemed_sd\n",
       "0     0.1  True  0.528786  0.031751   403.440277  241.692239\n",
       "1     0.2  True  0.515936  0.037784   363.614069  218.643055\n",
       "2     0.3  True  0.515120  0.031178   356.532935  227.038393\n",
       "3     0.4  True  0.530575  0.031314   440.331132  342.837467\n",
       "4     0.5  True  0.508114  0.045041   441.524259  325.040179"
      ]
     },
     "execution_count": 10,
     "metadata": {},
     "output_type": "execute_result"
    }
   ],
   "source": [
    "df = pd.DataFrame(eval_hyper(results, [\"offset\", \"j\"]))\n",
    "df.head()\n"
   ]
  },
  {
   "cell_type": "markdown",
   "id": "77edb4f3-99f9-478c-b99e-96e119ba53eb",
   "metadata": {},
   "source": [
    "We plot mean OC_P values, with standard deviation. The differences in result are small compared to the error bars: It basically doesn't matter which value we pick. "
   ]
  },
  {
   "cell_type": "code",
   "execution_count": 11,
   "id": "5ee70047-8dc2-4e25-87f0-f510910443ec",
   "metadata": {
    "tags": []
   },
   "outputs": [
    {
     "data": {
      "text/plain": [
       "<AxesSubplot: xlabel='offset'>"
      ]
     },
     "execution_count": 11,
     "metadata": {},
     "output_type": "execute_result"
    },
    {
     "data": {
      "image/png": "[encoded data removed]",
      "text/plain": [
       "<Figure size 640x480 with 1 Axes>"
      ]
     },
     "metadata": {},
     "output_type": "display_data"
    }
   ],
   "source": [
    "%matplotlib inline\n",
    "df[df.j == False].plot(y = \"ocp_mean\",x = \"offset\", yerr = \"ocp_sd\")"
   ]
  },
  {
   "cell_type": "code",
   "execution_count": 12,
   "id": "eadc3bfa-9a6d-4ee2-a2be-b7915fd5144f",
   "metadata": {},
   "outputs": [
    {
     "data": {
      "text/plain": [
       "<AxesSubplot: xlabel='offset'>"
      ]
     },
     "execution_count": 12,
     "metadata": {},
     "output_type": "execute_result"
    },
    {
     "data": {
      "image/png": "[encoded data removed]",
      "text/plain": [
       "<Figure size 640x480 with 1 Axes>"
      ]
     },
     "metadata": {},
     "output_type": "display_data"
    }
   ],
   "source": [
    "df[df.j == True].plot(y = \"ocp_mean\", x = \"offset\", yerr = \"ocp_sd\")"
   ]
  },
  {
   "cell_type": "markdown",
   "id": "74a80f68-6ce7-46af-990f-fbfe54a465e6",
   "metadata": {},
   "source": [
    "We plot mean values of median MSE, with standard deviation. Here the difference in results is clearly dwarfed by the error bars: It does not matter at all which values we pick. "
   ]
  },
  {
   "cell_type": "code",
   "execution_count": 13,
   "id": "8e4db552-541f-478b-a4d1-d5dd71d55739",
   "metadata": {
    "tags": []
   },
   "outputs": [
    {
     "data": {
      "text/plain": [
       "<AxesSubplot: xlabel='offset'>"
      ]
     },
     "execution_count": 13,
     "metadata": {},
     "output_type": "execute_result"
    },
    {
     "data": {
      "image/png": "[encoded data removed]",
      "text/plain": [
       "<Figure size 640x480 with 1 Axes>"
      ]
     },
     "metadata": {},
     "output_type": "display_data"
    }
   ],
   "source": [
    "df[df.j == False].plot(y = \"msemed_mean\", x = \"offset\", yerr = \"msemed_sd\")"
   ]
  },
  {
   "cell_type": "code",
   "execution_count": 14,
   "id": "fbe414f6-d6e1-496b-b3f7-f2c77d19a854",
   "metadata": {},
   "outputs": [
    {
     "data": {
      "text/plain": [
       "<AxesSubplot: xlabel='offset'>"
      ]
     },
     "execution_count": 14,
     "metadata": {},
     "output_type": "execute_result"
    },
    {
     "data": {
      "image/png": "[encoded data removed]",
      "text/plain": [
       "<Figure size 640x480 with 1 Axes>"
      ]
     },
     "metadata": {},
     "output_type": "display_data"
    }
   ],
   "source": [
    "df[df.j == True].plot(y = \"msemed_mean\", x = \"offset\", yerr = \"msemed_sd\")"
   ]
  },
  {
   "cell_type": "markdown",
   "id": "6e2cbb0c-3fe5-4982-860c-b4fbac0f9e4e",
   "metadata": {},
   "source": [
    "### Parameters for seeds as words\n",
    "\n",
    "Because we need to pick some value, we pick the best OC_P, which also has a decent MSE: **offset of 0.3, no jitter**. "
   ]
  },
  {
   "cell_type": "code",
   "execution_count": 15,
   "id": "d5c9e9e2-b17f-45a0-b618-06c01b010a67",
   "metadata": {
    "tags": []
   },
   "outputs": [
    {
     "data": {
      "text/html": [
       "<div>\n",
       "<style scoped>\n",
       "    .dataframe tbody tr th:only-of-type {\n",
       "        vertical-align: middle;\n",
       "    }\n",
       "\n",
       "    .dataframe tbody tr th {\n",
       "        vertical-align: top;\n",
       "    }\n",
       "\n",
       "    .dataframe thead th {\n",
       "        text-align: right;\n",
       "    }\n",
       "</style>\n",
       "<table border=\"1\" class=\"dataframe\">\n",
       "  <thead>\n",
       "    <tr style=\"text-align: right;\">\n",
       "      <th></th>\n",
       "      <th>offset</th>\n",
       "      <th>j</th>\n",
       "      <th>ocp_mean</th>\n",
       "      <th>ocp_sd</th>\n",
       "      <th>msemed_mean</th>\n",
       "      <th>msemed_sd</th>\n",
       "    </tr>\n",
       "  </thead>\n",
       "  <tbody>\n",
       "    <tr>\n",
       "      <th>22</th>\n",
       "      <td>0.3</td>\n",
       "      <td>False</td>\n",
       "      <td>0.536805</td>\n",
       "      <td>0.031807</td>\n",
       "      <td>364.586157</td>\n",
       "      <td>227.911690</td>\n",
       "    </tr>\n",
       "    <tr>\n",
       "      <th>38</th>\n",
       "      <td>1.9</td>\n",
       "      <td>False</td>\n",
       "      <td>0.535934</td>\n",
       "      <td>0.026170</td>\n",
       "      <td>401.689149</td>\n",
       "      <td>332.955032</td>\n",
       "    </tr>\n",
       "    <tr>\n",
       "      <th>14</th>\n",
       "      <td>1.5</td>\n",
       "      <td>True</td>\n",
       "      <td>0.531174</td>\n",
       "      <td>0.033680</td>\n",
       "      <td>466.935874</td>\n",
       "      <td>374.464350</td>\n",
       "    </tr>\n",
       "    <tr>\n",
       "      <th>3</th>\n",
       "      <td>0.4</td>\n",
       "      <td>True</td>\n",
       "      <td>0.530575</td>\n",
       "      <td>0.031314</td>\n",
       "      <td>440.331132</td>\n",
       "      <td>342.837467</td>\n",
       "    </tr>\n",
       "    <tr>\n",
       "      <th>23</th>\n",
       "      <td>0.4</td>\n",
       "      <td>False</td>\n",
       "      <td>0.530226</td>\n",
       "      <td>0.024316</td>\n",
       "      <td>333.561137</td>\n",
       "      <td>146.967479</td>\n",
       "    </tr>\n",
       "    <tr>\n",
       "      <th>16</th>\n",
       "      <td>1.7</td>\n",
       "      <td>True</td>\n",
       "      <td>0.529989</td>\n",
       "      <td>0.031976</td>\n",
       "      <td>491.359028</td>\n",
       "      <td>392.518528</td>\n",
       "    </tr>\n",
       "    <tr>\n",
       "      <th>6</th>\n",
       "      <td>0.7</td>\n",
       "      <td>True</td>\n",
       "      <td>0.529428</td>\n",
       "      <td>0.034039</td>\n",
       "      <td>440.814201</td>\n",
       "      <td>390.238613</td>\n",
       "    </tr>\n",
       "    <tr>\n",
       "      <th>20</th>\n",
       "      <td>0.1</td>\n",
       "      <td>False</td>\n",
       "      <td>0.529162</td>\n",
       "      <td>0.032603</td>\n",
       "      <td>423.632728</td>\n",
       "      <td>279.087966</td>\n",
       "    </tr>\n",
       "    <tr>\n",
       "      <th>0</th>\n",
       "      <td>0.1</td>\n",
       "      <td>True</td>\n",
       "      <td>0.528786</td>\n",
       "      <td>0.031751</td>\n",
       "      <td>403.440277</td>\n",
       "      <td>241.692239</td>\n",
       "    </tr>\n",
       "    <tr>\n",
       "      <th>27</th>\n",
       "      <td>0.8</td>\n",
       "      <td>False</td>\n",
       "      <td>0.528270</td>\n",
       "      <td>0.029734</td>\n",
       "      <td>445.541672</td>\n",
       "      <td>294.049015</td>\n",
       "    </tr>\n",
       "  </tbody>\n",
       "</table>\n",
       "</div>"
      ],
      "text/plain": [
       "    offset      j  ocp_mean    ocp_sd  msemed_mean   msemed_sd\n",
       "22     0.3  False  0.536805  0.031807   364.586157  227.911690\n",
       "38     1.9  False  0.535934  0.026170   401.689149  332.955032\n",
       "14     1.5   True  0.531174  0.033680   466.935874  374.464350\n",
       "3      0.4   True  0.530575  0.031314   440.331132  342.837467\n",
       "23     0.4  False  0.530226  0.024316   333.561137  146.967479\n",
       "16     1.7   True  0.529989  0.031976   491.359028  392.518528\n",
       "6      0.7   True  0.529428  0.034039   440.814201  390.238613\n",
       "20     0.1  False  0.529162  0.032603   423.632728  279.087966\n",
       "0      0.1   True  0.528786  0.031751   403.440277  241.692239\n",
       "27     0.8  False  0.528270  0.029734   445.541672  294.049015"
      ]
     },
     "execution_count": 15,
     "metadata": {},
     "output_type": "execute_result"
    }
   ],
   "source": [
    "df.sort_values(by = \"ocp_mean\", ascending = False).head(10)"
   ]
  },
  {
   "cell_type": "code",
   "execution_count": 16,
   "id": "e4e0541c-7bcb-46fe-83b5-106b8da160b9",
   "metadata": {
    "tags": []
   },
   "outputs": [
    {
     "data": {
      "text/html": [
       "<div>\n",
       "<style scoped>\n",
       "    .dataframe tbody tr th:only-of-type {\n",
       "        vertical-align: middle;\n",
       "    }\n",
       "\n",
       "    .dataframe tbody tr th {\n",
       "        vertical-align: top;\n",
       "    }\n",
       "\n",
       "    .dataframe thead th {\n",
       "        text-align: right;\n",
       "    }\n",
       "</style>\n",
       "<table border=\"1\" class=\"dataframe\">\n",
       "  <thead>\n",
       "    <tr style=\"text-align: right;\">\n",
       "      <th></th>\n",
       "      <th>offset</th>\n",
       "      <th>j</th>\n",
       "      <th>ocp_mean</th>\n",
       "      <th>ocp_sd</th>\n",
       "      <th>msemed_mean</th>\n",
       "      <th>msemed_sd</th>\n",
       "    </tr>\n",
       "  </thead>\n",
       "  <tbody>\n",
       "    <tr>\n",
       "      <th>12</th>\n",
       "      <td>1.3</td>\n",
       "      <td>True</td>\n",
       "      <td>0.507939</td>\n",
       "      <td>0.028688</td>\n",
       "      <td>272.517654</td>\n",
       "      <td>177.800588</td>\n",
       "    </tr>\n",
       "    <tr>\n",
       "      <th>23</th>\n",
       "      <td>0.4</td>\n",
       "      <td>False</td>\n",
       "      <td>0.530226</td>\n",
       "      <td>0.024316</td>\n",
       "      <td>333.561137</td>\n",
       "      <td>146.967479</td>\n",
       "    </tr>\n",
       "    <tr>\n",
       "      <th>2</th>\n",
       "      <td>0.3</td>\n",
       "      <td>True</td>\n",
       "      <td>0.515120</td>\n",
       "      <td>0.031178</td>\n",
       "      <td>356.532935</td>\n",
       "      <td>227.038393</td>\n",
       "    </tr>\n",
       "    <tr>\n",
       "      <th>19</th>\n",
       "      <td>2.0</td>\n",
       "      <td>True</td>\n",
       "      <td>0.526936</td>\n",
       "      <td>0.025539</td>\n",
       "      <td>356.723715</td>\n",
       "      <td>216.386196</td>\n",
       "    </tr>\n",
       "    <tr>\n",
       "      <th>1</th>\n",
       "      <td>0.2</td>\n",
       "      <td>True</td>\n",
       "      <td>0.515936</td>\n",
       "      <td>0.037784</td>\n",
       "      <td>363.614069</td>\n",
       "      <td>218.643055</td>\n",
       "    </tr>\n",
       "    <tr>\n",
       "      <th>28</th>\n",
       "      <td>0.9</td>\n",
       "      <td>False</td>\n",
       "      <td>0.522011</td>\n",
       "      <td>0.034021</td>\n",
       "      <td>364.313029</td>\n",
       "      <td>232.178649</td>\n",
       "    </tr>\n",
       "    <tr>\n",
       "      <th>22</th>\n",
       "      <td>0.3</td>\n",
       "      <td>False</td>\n",
       "      <td>0.536805</td>\n",
       "      <td>0.031807</td>\n",
       "      <td>364.586157</td>\n",
       "      <td>227.911690</td>\n",
       "    </tr>\n",
       "    <tr>\n",
       "      <th>26</th>\n",
       "      <td>0.7</td>\n",
       "      <td>False</td>\n",
       "      <td>0.512525</td>\n",
       "      <td>0.029851</td>\n",
       "      <td>364.985460</td>\n",
       "      <td>288.157101</td>\n",
       "    </tr>\n",
       "    <tr>\n",
       "      <th>29</th>\n",
       "      <td>1.0</td>\n",
       "      <td>False</td>\n",
       "      <td>0.524959</td>\n",
       "      <td>0.023101</td>\n",
       "      <td>375.271528</td>\n",
       "      <td>253.189576</td>\n",
       "    </tr>\n",
       "    <tr>\n",
       "      <th>25</th>\n",
       "      <td>0.6</td>\n",
       "      <td>False</td>\n",
       "      <td>0.507601</td>\n",
       "      <td>0.029139</td>\n",
       "      <td>376.801346</td>\n",
       "      <td>245.880319</td>\n",
       "    </tr>\n",
       "  </tbody>\n",
       "</table>\n",
       "</div>"
      ],
      "text/plain": [
       "    offset      j  ocp_mean    ocp_sd  msemed_mean   msemed_sd\n",
       "12     1.3   True  0.507939  0.028688   272.517654  177.800588\n",
       "23     0.4  False  0.530226  0.024316   333.561137  146.967479\n",
       "2      0.3   True  0.515120  0.031178   356.532935  227.038393\n",
       "19     2.0   True  0.526936  0.025539   356.723715  216.386196\n",
       "1      0.2   True  0.515936  0.037784   363.614069  218.643055\n",
       "28     0.9  False  0.522011  0.034021   364.313029  232.178649\n",
       "22     0.3  False  0.536805  0.031807   364.586157  227.911690\n",
       "26     0.7  False  0.512525  0.029851   364.985460  288.157101\n",
       "29     1.0  False  0.524959  0.023101   375.271528  253.189576\n",
       "25     0.6  False  0.507601  0.029139   376.801346  245.880319"
      ]
     },
     "execution_count": 16,
     "metadata": {},
     "output_type": "execute_result"
    }
   ],
   "source": [
    "df.sort_values(by = \"msemed_mean\", ascending = True).head(10)"
   ]
  },
  {
   "cell_type": "markdown",
   "id": "eba6a9b6-e6b3-4c67-a0b4-a9c02f226a71",
   "metadata": {},
   "source": [
    "## Fitted dimensions with seeds as dimensions: alpha, averaging\n",
    "\n",
    "We first run an exploration, with only one random seed."
   ]
  },
  {
   "cell_type": "code",
   "execution_count": 17,
   "id": "e8b6afcc-ebc2-474c-8ac4-3beed7921995",
   "metadata": {
    "tags": []
   },
   "outputs": [
    {
     "name": "stdout",
     "output_type": "stream",
     "text": [
      "0.001 True 0.6278471497036935 15.78279080303528\n",
      "0.028666666666666667 True 0.603959658707845 78.21562847539244\n",
      "0.05633333333333333 True 0.5801455006154624 60.834795122631824\n",
      "0.08399999999999999 True 0.5802412143000019 92.15933862927149\n",
      "0.11166666666666666 True 0.5925515741231113 83.07753645644269\n",
      "0.13933333333333334 True 0.5762517292120412 78.93000916777478\n",
      "0.16699999999999998 True 0.5717589166096052 72.63937511826477\n",
      "0.19466666666666665 True 0.5584187192444229 91.63265959014146\n",
      "0.22233333333333333 True 0.5733309841259568 91.23033307337533\n",
      "0.25 True 0.5477354327544911 73.71457092885866\n",
      "0.001 False 0.6318003215596817 33.852672101217046\n",
      "0.028666666666666667 False 0.5640595698533596 72.19889202545949\n",
      "0.05633333333333333 False 0.5681154134296985 92.74741741995051\n",
      "0.08399999999999999 False 0.5902349858884806 81.298944804499\n",
      "0.11166666666666666 False 0.5737911308703103 91.56155148740231\n",
      "0.13933333333333334 False 0.5736860273589964 92.17754690875327\n",
      "0.16699999999999998 False 0.5526226845317244 88.6784729219979\n",
      "0.19466666666666665 False 0.5321541765586203 83.91793155476901\n",
      "0.22233333333333333 False 0.5474018900480712 87.57285935296082\n",
      "0.25 False 0.5638806617595402 89.81236232483126\n"
     ]
    }
   ],
   "source": [
    "average_vals = [True, False]\n",
    "alpha_vals= np.linspace(0.001, 0.25, num=10)\n",
    "\n",
    "results = defaultdict(list)\n",
    "\n",
    "randoms = [123]\n",
    "\n",
    "for randval in randoms:\n",
    "    for avgval in average_vals:\n",
    "        for alphaval in alpha_vals:\n",
    "\n",
    "            method = { \"method\": \"fitted_seeddims\",\n",
    "                      \"feature_dim\" : feature_dim,\n",
    "                      \"numfolds\" : 5,\n",
    "                      \"do_average\" : avgval,\n",
    "                      \"alpha\" : alphaval}\n",
    "\n",
    "\n",
    "            theseresults = crossvalidation(devset, method, word_vectors, grandratings_dir, grandfeatures_df, random_seed = randval)\n",
    "            \n",
    "            ocp_mean, _, _ = eval_summary_by(theseresults, \"ocp\")\n",
    "            _, mse_med, _ = eval_summary_by(theseresults, \"mse\")\n",
    "            print(alphaval, avgval, ocp_mean, mse_med)\n",
    "            \n",
    "            for r in theseresults:\n",
    "                r.update({\"alpha\":alphaval, \"avg\": avgval})\n",
    "                results[ (str(alphaval), str(avgval))].append(r)            \n",
    "\n"
   ]
  },
  {
   "cell_type": "code",
   "execution_count": 18,
   "id": "c93ff7aa-b0e3-436c-92fd-51b8f30d907b",
   "metadata": {},
   "outputs": [
    {
     "data": {
      "text/html": [
       "<div>\n",
       "<style scoped>\n",
       "    .dataframe tbody tr th:only-of-type {\n",
       "        vertical-align: middle;\n",
       "    }\n",
       "\n",
       "    .dataframe tbody tr th {\n",
       "        vertical-align: top;\n",
       "    }\n",
       "\n",
       "    .dataframe thead th {\n",
       "        text-align: right;\n",
       "    }\n",
       "</style>\n",
       "<table border=\"1\" class=\"dataframe\">\n",
       "  <thead>\n",
       "    <tr style=\"text-align: right;\">\n",
       "      <th></th>\n",
       "      <th>alpha</th>\n",
       "      <th>avg</th>\n",
       "      <th>ocp_mean</th>\n",
       "      <th>ocp_sd</th>\n",
       "      <th>msemed_mean</th>\n",
       "      <th>msemed_sd</th>\n",
       "    </tr>\n",
       "  </thead>\n",
       "  <tbody>\n",
       "    <tr>\n",
       "      <th>0</th>\n",
       "      <td>0.001000</td>\n",
       "      <td>True</td>\n",
       "      <td>0.627847</td>\n",
       "      <td>0.111819</td>\n",
       "      <td>45.306498</td>\n",
       "      <td>66.029746</td>\n",
       "    </tr>\n",
       "    <tr>\n",
       "      <th>1</th>\n",
       "      <td>0.028667</td>\n",
       "      <td>True</td>\n",
       "      <td>0.603960</td>\n",
       "      <td>0.094760</td>\n",
       "      <td>188.088451</td>\n",
       "      <td>283.380372</td>\n",
       "    </tr>\n",
       "    <tr>\n",
       "      <th>2</th>\n",
       "      <td>0.056333</td>\n",
       "      <td>True</td>\n",
       "      <td>0.580146</td>\n",
       "      <td>0.103405</td>\n",
       "      <td>147.178397</td>\n",
       "      <td>230.636877</td>\n",
       "    </tr>\n",
       "    <tr>\n",
       "      <th>3</th>\n",
       "      <td>0.084000</td>\n",
       "      <td>True</td>\n",
       "      <td>0.580241</td>\n",
       "      <td>0.101047</td>\n",
       "      <td>189.899073</td>\n",
       "      <td>233.389898</td>\n",
       "    </tr>\n",
       "    <tr>\n",
       "      <th>4</th>\n",
       "      <td>0.111667</td>\n",
       "      <td>True</td>\n",
       "      <td>0.592552</td>\n",
       "      <td>0.113677</td>\n",
       "      <td>135.747475</td>\n",
       "      <td>126.357413</td>\n",
       "    </tr>\n",
       "  </tbody>\n",
       "</table>\n",
       "</div>"
      ],
      "text/plain": [
       "      alpha   avg  ocp_mean    ocp_sd  msemed_mean   msemed_sd\n",
       "0  0.001000  True  0.627847  0.111819    45.306498   66.029746\n",
       "1  0.028667  True  0.603960  0.094760   188.088451  283.380372\n",
       "2  0.056333  True  0.580146  0.103405   147.178397  230.636877\n",
       "3  0.084000  True  0.580241  0.101047   189.899073  233.389898\n",
       "4  0.111667  True  0.592552  0.113677   135.747475  126.357413"
      ]
     },
     "execution_count": 18,
     "metadata": {},
     "output_type": "execute_result"
    }
   ],
   "source": [
    "df = pd.DataFrame(eval_hyper(results, [\"alpha\", \"avg\"]))\n",
    "df.head()\n"
   ]
  },
  {
   "cell_type": "code",
   "execution_count": 19,
   "id": "9cac3da0-eeb1-447a-8a01-ccdd4e24d465",
   "metadata": {
    "tags": []
   },
   "outputs": [
    {
     "data": {
      "text/plain": [
       "<AxesSubplot: xlabel='alpha'>"
      ]
     },
     "execution_count": 19,
     "metadata": {},
     "output_type": "execute_result"
    },
    {
     "data": {
      "image/png": "[encoded data removed]",
      "text/plain": [
       "<Figure size 640x480 with 1 Axes>"
      ]
     },
     "metadata": {},
     "output_type": "display_data"
    }
   ],
   "source": [
    "df[df.avg == True].sort_values(by = \"alpha\").plot(x = \"alpha\", y = \"ocp_mean\", yerr = \"ocp_sd\")"
   ]
  },
  {
   "cell_type": "code",
   "execution_count": 20,
   "id": "5492a999-08b0-4084-b397-6d74c4579cc1",
   "metadata": {
    "tags": []
   },
   "outputs": [
    {
     "data": {
      "text/plain": [
       "<AxesSubplot: xlabel='alpha'>"
      ]
     },
     "execution_count": 20,
     "metadata": {},
     "output_type": "execute_result"
    },
    {
     "data": {
      "image/png": "[encoded data removed]",
      "text/plain": [
       "<Figure size 640x480 with 1 Axes>"
      ]
     },
     "metadata": {},
     "output_type": "display_data"
    }
   ],
   "source": [
    "df[df.avg == False].sort_values(by = \"alpha\").plot(x = \"alpha\", y = \"ocp_mean\", yerr = \"ocp_sd\")"
   ]
  },
  {
   "cell_type": "code",
   "execution_count": 21,
   "id": "e051283d-d465-47bc-a3d3-347b656e2828",
   "metadata": {
    "tags": []
   },
   "outputs": [
    {
     "data": {
      "text/plain": [
       "<AxesSubplot: xlabel='alpha'>"
      ]
     },
     "execution_count": 21,
     "metadata": {},
     "output_type": "execute_result"
    },
    {
     "data": {
      "image/png": "[encoded data removed]",
      "text/plain": [
       "<Figure size 640x480 with 1 Axes>"
      ]
     },
     "metadata": {},
     "output_type": "display_data"
    }
   ],
   "source": [
    "df[df.avg == True].sort_values(by = \"alpha\").plot(x = \"alpha\", y = \"msemed_mean\", yerr = \"msemed_sd\")"
   ]
  },
  {
   "cell_type": "code",
   "execution_count": 22,
   "id": "5e5ced53-da85-4510-b083-cac6724c3755",
   "metadata": {
    "tags": []
   },
   "outputs": [
    {
     "data": {
      "text/plain": [
       "<AxesSubplot: xlabel='alpha'>"
      ]
     },
     "execution_count": 22,
     "metadata": {},
     "output_type": "execute_result"
    },
    {
     "data": {
      "image/png": "[encoded data removed]",
      "text/plain": [
       "<Figure size 640x480 with 1 Axes>"
      ]
     },
     "metadata": {},
     "output_type": "display_data"
    }
   ],
   "source": [
    "df[df.avg == False].sort_values(by = \"alpha\").plot(x = \"alpha\", y = \"msemed_mean\", yerr = \"msemed_sd\")"
   ]
  },
  {
   "cell_type": "markdown",
   "id": "ac4bf724-b81a-4ff7-a1b0-789e3efca8b7",
   "metadata": {},
   "source": [
    "We see that overall the performance is best, in terms of both OC_P and MSE, for small values of alpha, though again there is a large error bar. We explore the low range of alpha in more detail, both with and without averaging. "
   ]
  },
  {
   "cell_type": "code",
   "execution_count": 23,
   "id": "aa8b4878-1f15-4afd-a555-c85482a9e4f8",
   "metadata": {
    "tags": []
   },
   "outputs": [
    {
     "name": "stdout",
     "output_type": "stream",
     "text": [
      "0.001 True 0.6455686842653541 22.488142126982545\n",
      "0.017555555555555557 True 0.5839761374675158 88.00512326041157\n",
      "0.03411111111111111 True 0.5617332420505806 123.30590522480709\n",
      "0.050666666666666665 True 0.5387932883816794 100.29018071999835\n",
      "0.06722222222222222 True 0.5678953847639777 151.21927549348663\n",
      "0.08377777777777778 True 0.5746835249293486 92.82230421271001\n",
      "0.10033333333333333 True 0.55368533624277 96.03650974492062\n",
      "0.11688888888888889 True 0.5633742225539642 123.11962543391033\n",
      "0.13344444444444445 True 0.5549827091088134 147.75322985231762\n",
      "0.15 True 0.5682828324158938 185.8128197430657\n",
      "0.001 False 0.6146431381120826 34.37810865734119\n",
      "0.017555555555555557 False 0.5859416543538747 85.94455259801627\n",
      "0.03411111111111111 False 0.5792321189328192 148.8629518223002\n",
      "0.050666666666666665 False 0.5818502984810613 136.32433607148454\n",
      "0.06722222222222222 False 0.5823307896683423 181.41017052347843\n",
      "0.08377777777777778 False 0.5458423819453729 169.1302155754044\n",
      "0.10033333333333333 False 0.558789088629039 167.36114658728508\n",
      "0.11688888888888889 False 0.5610365711718914 338.3537991950578\n",
      "0.13344444444444445 False 0.5569716098527667 197.65977416603647\n",
      "0.15 False 0.5620413285942913 193.71434270982613\n",
      "0.001 True 0.6242128594805109 15.95393578800692\n",
      "0.017555555555555557 True 0.5306888469327445 384.196995702742\n",
      "0.03411111111111111 True 0.5308699583763122 597.4392957386168\n",
      "0.050666666666666665 True 0.5381905400403593 2177.709346372322\n",
      "0.06722222222222222 True 0.47752152925726654 1690.4986810319892\n",
      "0.08377777777777778 True 0.4947609227862656 1148.9164385151264\n",
      "0.10033333333333333 True 0.4907858026645893 688.5702185788116\n",
      "0.11688888888888889 True 0.5220175808472283 1294.805577547114\n",
      "0.13344444444444445 True 0.5041168246590625 866.3639558830876\n",
      "0.15 True 0.488845946300956 660.3792621908249\n",
      "0.001 False 0.617206538322424 56.91175748832062\n",
      "0.017555555555555557 False 0.5271228768647845 1034.8887080216732\n",
      "0.03411111111111111 False 0.4937593755471383 1302.9658940173526\n",
      "0.050666666666666665 False 0.5098079550427737 965.647840754192\n",
      "0.06722222222222222 False 0.4968078916564773 810.5747196632435\n",
      "0.08377777777777778 False 0.49254317765218825 445.0582313000129\n",
      "0.10033333333333333 False 0.4796055626512427 430.04694075750047\n",
      "0.11688888888888889 False 0.48329245470982024 470.91345665889423\n",
      "0.13344444444444445 False 0.48284630227242886 378.786113850216\n",
      "0.15 False 0.4988010597457512 234.81664131691377\n",
      "0.001 True 0.6373918367003791 38.38742294634764\n",
      "0.017555555555555557 True 0.5483868468190103 62.82309164341771\n",
      "0.03411111111111111 True 0.5588823656221238 174.05100905173725\n",
      "0.050666666666666665 True 0.5711445383886485 206.5227398756795\n",
      "0.06722222222222222 True 0.5536794005898082 195.06500022525907\n",
      "0.08377777777777778 True 0.5611951704686813 167.96609676260414\n",
      "0.10033333333333333 True 0.549609974533966 370.481768155238\n",
      "0.11688888888888889 True 0.5352131247584156 215.8185790431736\n",
      "0.13344444444444445 True 0.530437545032754 234.46098202585063\n",
      "0.15 True 0.5278249451186093 575.3845905128868\n",
      "0.001 False 0.6347200121204233 33.228204796435946\n",
      "0.017555555555555557 False 0.574568099494398 126.05020356091877\n",
      "0.03411111111111111 False 0.5547616255296045 298.33498683306357\n",
      "0.050666666666666665 False 0.5565663230975033 431.2625898356017\n",
      "0.06722222222222222 False 0.5308708423761865 375.80383524267245\n",
      "0.08377777777777778 False 0.5351385224209506 475.0320734823776\n",
      "0.10033333333333333 False 0.5383313970695822 426.17985018796935\n",
      "0.11688888888888889 False 0.5269629528191098 481.7353333866221\n",
      "0.13344444444444445 False 0.5039673448683402 635.5723221516016\n",
      "0.15 False 0.4996426233064951 602.064354316431\n"
     ]
    }
   ],
   "source": [
    "average_vals = [True, False]\n",
    "alpha_vals= np.linspace(0.001, 0.15, num=10)\n",
    "\n",
    "results = defaultdict(list)\n",
    "\n",
    "random.seed(5)\n",
    "randoms = [random.randrange(0,100) for _ in range(num_randseeds)]\n",
    "\n",
    "for randval in randoms:\n",
    "    for avgval in average_vals:\n",
    "        for alphaval in alpha_vals:\n",
    "\n",
    "            method = { \"method\": \"fitted_seeddims\",\n",
    "                      \"feature_dim\" : feature_dim,\n",
    "                      \"numfolds\" : 5,\n",
    "                      \"do_average\" : avgval,\n",
    "                      \"alpha\" : alphaval}\n",
    "\n",
    "\n",
    "            theseresults = crossvalidation(devset, method, word_vectors, grandratings_dir, grandfeatures_df, random_seed = randval)\n",
    "            \n",
    "            ocp_mean, _, _ = eval_summary_by(theseresults, \"ocp\")\n",
    "            _, mse_med, _ = eval_summary_by(theseresults, \"mse\")\n",
    "            print(alphaval, avgval, ocp_mean, mse_med)\n",
    "            \n",
    "            \n",
    "            for r in theseresults:\n",
    "                r.update({\"alpha\":alphaval, \"avg\": avgval})\n",
    "                results[ (str(alphaval), str(avgval))].append(r) "
   ]
  },
  {
   "cell_type": "code",
   "execution_count": 24,
   "id": "26c910fd-f481-4cf2-ac32-9522ecc71a47",
   "metadata": {},
   "outputs": [
    {
     "data": {
      "text/html": [
       "<div>\n",
       "<style scoped>\n",
       "    .dataframe tbody tr th:only-of-type {\n",
       "        vertical-align: middle;\n",
       "    }\n",
       "\n",
       "    .dataframe tbody tr th {\n",
       "        vertical-align: top;\n",
       "    }\n",
       "\n",
       "    .dataframe thead th {\n",
       "        text-align: right;\n",
       "    }\n",
       "</style>\n",
       "<table border=\"1\" class=\"dataframe\">\n",
       "  <thead>\n",
       "    <tr style=\"text-align: right;\">\n",
       "      <th></th>\n",
       "      <th>alpha</th>\n",
       "      <th>avg</th>\n",
       "      <th>ocp_mean</th>\n",
       "      <th>ocp_sd</th>\n",
       "      <th>msemed_mean</th>\n",
       "      <th>msemed_sd</th>\n",
       "    </tr>\n",
       "  </thead>\n",
       "  <tbody>\n",
       "    <tr>\n",
       "      <th>0</th>\n",
       "      <td>0.001000</td>\n",
       "      <td>True</td>\n",
       "      <td>0.635724</td>\n",
       "      <td>0.083686</td>\n",
       "      <td>52.833241</td>\n",
       "      <td>54.421707</td>\n",
       "    </tr>\n",
       "    <tr>\n",
       "      <th>1</th>\n",
       "      <td>0.017556</td>\n",
       "      <td>True</td>\n",
       "      <td>0.554351</td>\n",
       "      <td>0.066150</td>\n",
       "      <td>600.293530</td>\n",
       "      <td>1168.518620</td>\n",
       "    </tr>\n",
       "    <tr>\n",
       "      <th>2</th>\n",
       "      <td>0.034111</td>\n",
       "      <td>True</td>\n",
       "      <td>0.550495</td>\n",
       "      <td>0.056867</td>\n",
       "      <td>832.424318</td>\n",
       "      <td>1127.662658</td>\n",
       "    </tr>\n",
       "    <tr>\n",
       "      <th>3</th>\n",
       "      <td>0.050667</td>\n",
       "      <td>True</td>\n",
       "      <td>0.549376</td>\n",
       "      <td>0.064692</td>\n",
       "      <td>727.420266</td>\n",
       "      <td>1128.036333</td>\n",
       "    </tr>\n",
       "    <tr>\n",
       "      <th>4</th>\n",
       "      <td>0.067222</td>\n",
       "      <td>True</td>\n",
       "      <td>0.533032</td>\n",
       "      <td>0.045137</td>\n",
       "      <td>474.408191</td>\n",
       "      <td>667.767589</td>\n",
       "    </tr>\n",
       "  </tbody>\n",
       "</table>\n",
       "</div>"
      ],
      "text/plain": [
       "      alpha   avg  ocp_mean    ocp_sd  msemed_mean    msemed_sd\n",
       "0  0.001000  True  0.635724  0.083686    52.833241    54.421707\n",
       "1  0.017556  True  0.554351  0.066150   600.293530  1168.518620\n",
       "2  0.034111  True  0.550495  0.056867   832.424318  1127.662658\n",
       "3  0.050667  True  0.549376  0.064692   727.420266  1128.036333\n",
       "4  0.067222  True  0.533032  0.045137   474.408191   667.767589"
      ]
     },
     "execution_count": 24,
     "metadata": {},
     "output_type": "execute_result"
    }
   ],
   "source": [
    "df = pd.DataFrame(eval_hyper(results, [\"alpha\", \"avg\"]))\n",
    "df.head()\n"
   ]
  },
  {
   "cell_type": "markdown",
   "id": "fb162516-c659-4e4c-a7df-515ce91b0141",
   "metadata": {},
   "source": [
    "We again plot average OC_P mean and MSE median values, with error bars. "
   ]
  },
  {
   "cell_type": "code",
   "execution_count": 25,
   "id": "e1d505b2-c77e-437d-83bf-d37433647f3d",
   "metadata": {
    "tags": []
   },
   "outputs": [
    {
     "data": {
      "text/plain": [
       "<AxesSubplot: xlabel='alpha'>"
      ]
     },
     "execution_count": 25,
     "metadata": {},
     "output_type": "execute_result"
    },
    {
     "data": {
      "image/png": "[encoded data removed]",
      "text/plain": [
       "<Figure size 640x480 with 1 Axes>"
      ]
     },
     "metadata": {},
     "output_type": "display_data"
    }
   ],
   "source": [
    "%matplotlib inline\n",
    "\n",
    "df[df.avg == True].plot(y = \"ocp_mean\", x = \"alpha\", yerr = \"ocp_sd\")"
   ]
  },
  {
   "cell_type": "code",
   "execution_count": 26,
   "id": "eb3ca7ea-87b0-4b0f-9ba4-f21c0ff5f592",
   "metadata": {
    "tags": []
   },
   "outputs": [
    {
     "data": {
      "text/plain": [
       "<AxesSubplot: xlabel='alpha'>"
      ]
     },
     "execution_count": 26,
     "metadata": {},
     "output_type": "execute_result"
    },
    {
     "data": {
      "image/png": "[encoded data removed]",
      "text/plain": [
       "<Figure size 640x480 with 1 Axes>"
      ]
     },
     "metadata": {},
     "output_type": "display_data"
    }
   ],
   "source": [
    "df[df.avg == False].plot(y = \"ocp_mean\", x = \"alpha\", yerr = \"ocp_sd\")"
   ]
  },
  {
   "cell_type": "code",
   "execution_count": 27,
   "id": "8f54e721-8ad9-4b1c-a9c5-3c2da3f79032",
   "metadata": {
    "tags": []
   },
   "outputs": [
    {
     "data": {
      "text/plain": [
       "<AxesSubplot: xlabel='alpha'>"
      ]
     },
     "execution_count": 27,
     "metadata": {},
     "output_type": "execute_result"
    },
    {
     "data": {
      "image/png": "[encoded data removed]",
      "text/plain": [
       "<Figure size 640x480 with 1 Axes>"
      ]
     },
     "metadata": {},
     "output_type": "display_data"
    }
   ],
   "source": [
    "df[df.avg == False].plot(y = \"msemed_mean\", x = \"alpha\", yerr = \"msemed_sd\")"
   ]
  },
  {
   "cell_type": "code",
   "execution_count": 28,
   "id": "13224ce9-da15-4be2-9ef1-29369a52bb2b",
   "metadata": {
    "tags": []
   },
   "outputs": [
    {
     "data": {
      "text/plain": [
       "<AxesSubplot: xlabel='alpha'>"
      ]
     },
     "execution_count": 28,
     "metadata": {},
     "output_type": "execute_result"
    },
    {
     "data": {
      "image/png": "[encoded data removed]",
      "text/plain": [
       "<Figure size 640x480 with 1 Axes>"
      ]
     },
     "metadata": {},
     "output_type": "display_data"
    }
   ],
   "source": [
    "df[df.avg == True].plot(y = \"msemed_mean\", x = \"alpha\", yerr = \"msemed_sd\")"
   ]
  },
  {
   "cell_type": "markdown",
   "id": "790c27ee-a06b-4ee0-a0d7-4103f08e0d3d",
   "metadata": {},
   "source": [
    "We again see large error bars, meaning that there is wide difference across sub-datasets. Still, the lowest values of alpha seem best both in terms of OC_P and MSE. \n",
    "\n",
    "We again look at the numbers."
   ]
  },
  {
   "cell_type": "code",
   "execution_count": 29,
   "id": "627fc447-eb9a-4211-b6fd-a86e24b4f562",
   "metadata": {
    "tags": []
   },
   "outputs": [
    {
     "data": {
      "text/html": [
       "<div>\n",
       "<style scoped>\n",
       "    .dataframe tbody tr th:only-of-type {\n",
       "        vertical-align: middle;\n",
       "    }\n",
       "\n",
       "    .dataframe tbody tr th {\n",
       "        vertical-align: top;\n",
       "    }\n",
       "\n",
       "    .dataframe thead th {\n",
       "        text-align: right;\n",
       "    }\n",
       "</style>\n",
       "<table border=\"1\" class=\"dataframe\">\n",
       "  <thead>\n",
       "    <tr style=\"text-align: right;\">\n",
       "      <th></th>\n",
       "      <th>alpha</th>\n",
       "      <th>avg</th>\n",
       "      <th>ocp_mean</th>\n",
       "      <th>ocp_sd</th>\n",
       "      <th>msemed_mean</th>\n",
       "      <th>msemed_sd</th>\n",
       "    </tr>\n",
       "  </thead>\n",
       "  <tbody>\n",
       "    <tr>\n",
       "      <th>0</th>\n",
       "      <td>0.001000</td>\n",
       "      <td>True</td>\n",
       "      <td>0.635724</td>\n",
       "      <td>0.083686</td>\n",
       "      <td>52.833241</td>\n",
       "      <td>54.421707</td>\n",
       "    </tr>\n",
       "    <tr>\n",
       "      <th>1</th>\n",
       "      <td>0.017556</td>\n",
       "      <td>True</td>\n",
       "      <td>0.554351</td>\n",
       "      <td>0.066150</td>\n",
       "      <td>600.293530</td>\n",
       "      <td>1168.518620</td>\n",
       "    </tr>\n",
       "    <tr>\n",
       "      <th>2</th>\n",
       "      <td>0.034111</td>\n",
       "      <td>True</td>\n",
       "      <td>0.550495</td>\n",
       "      <td>0.056867</td>\n",
       "      <td>832.424318</td>\n",
       "      <td>1127.662658</td>\n",
       "    </tr>\n",
       "  </tbody>\n",
       "</table>\n",
       "</div>"
      ],
      "text/plain": [
       "      alpha   avg  ocp_mean    ocp_sd  msemed_mean    msemed_sd\n",
       "0  0.001000  True  0.635724  0.083686    52.833241    54.421707\n",
       "1  0.017556  True  0.554351  0.066150   600.293530  1168.518620\n",
       "2  0.034111  True  0.550495  0.056867   832.424318  1127.662658"
      ]
     },
     "execution_count": 29,
     "metadata": {},
     "output_type": "execute_result"
    }
   ],
   "source": [
    "df[df.avg == True].sort_values(by = 'ocp_mean', ascending = False).head(3)"
   ]
  },
  {
   "cell_type": "code",
   "execution_count": 30,
   "id": "cf599502-3547-4bf6-9d35-e6a7f3ec443f",
   "metadata": {
    "tags": []
   },
   "outputs": [
    {
     "data": {
      "text/html": [
       "<div>\n",
       "<style scoped>\n",
       "    .dataframe tbody tr th:only-of-type {\n",
       "        vertical-align: middle;\n",
       "    }\n",
       "\n",
       "    .dataframe tbody tr th {\n",
       "        vertical-align: top;\n",
       "    }\n",
       "\n",
       "    .dataframe thead th {\n",
       "        text-align: right;\n",
       "    }\n",
       "</style>\n",
       "<table border=\"1\" class=\"dataframe\">\n",
       "  <thead>\n",
       "    <tr style=\"text-align: right;\">\n",
       "      <th></th>\n",
       "      <th>alpha</th>\n",
       "      <th>avg</th>\n",
       "      <th>ocp_mean</th>\n",
       "      <th>ocp_sd</th>\n",
       "      <th>msemed_mean</th>\n",
       "      <th>msemed_sd</th>\n",
       "    </tr>\n",
       "  </thead>\n",
       "  <tbody>\n",
       "    <tr>\n",
       "      <th>10</th>\n",
       "      <td>0.001000</td>\n",
       "      <td>False</td>\n",
       "      <td>0.622190</td>\n",
       "      <td>0.067808</td>\n",
       "      <td>92.446764</td>\n",
       "      <td>100.757103</td>\n",
       "    </tr>\n",
       "    <tr>\n",
       "      <th>11</th>\n",
       "      <td>0.017556</td>\n",
       "      <td>False</td>\n",
       "      <td>0.562544</td>\n",
       "      <td>0.053802</td>\n",
       "      <td>437.525140</td>\n",
       "      <td>617.657020</td>\n",
       "    </tr>\n",
       "    <tr>\n",
       "      <th>13</th>\n",
       "      <td>0.050667</td>\n",
       "      <td>False</td>\n",
       "      <td>0.549408</td>\n",
       "      <td>0.044019</td>\n",
       "      <td>534.852996</td>\n",
       "      <td>467.747333</td>\n",
       "    </tr>\n",
       "  </tbody>\n",
       "</table>\n",
       "</div>"
      ],
      "text/plain": [
       "       alpha    avg  ocp_mean    ocp_sd  msemed_mean   msemed_sd\n",
       "10  0.001000  False  0.622190  0.067808    92.446764  100.757103\n",
       "11  0.017556  False  0.562544  0.053802   437.525140  617.657020\n",
       "13  0.050667  False  0.549408  0.044019   534.852996  467.747333"
      ]
     },
     "execution_count": 30,
     "metadata": {},
     "output_type": "execute_result"
    }
   ],
   "source": [
    "df[df.avg == False].sort_values(by = 'ocp_mean', ascending = False).head(3)"
   ]
  },
  {
   "cell_type": "code",
   "execution_count": 31,
   "id": "bb230197-1252-459c-94e9-0ce59eeace93",
   "metadata": {
    "tags": []
   },
   "outputs": [
    {
     "data": {
      "text/html": [
       "<div>\n",
       "<style scoped>\n",
       "    .dataframe tbody tr th:only-of-type {\n",
       "        vertical-align: middle;\n",
       "    }\n",
       "\n",
       "    .dataframe tbody tr th {\n",
       "        vertical-align: top;\n",
       "    }\n",
       "\n",
       "    .dataframe thead th {\n",
       "        text-align: right;\n",
       "    }\n",
       "</style>\n",
       "<table border=\"1\" class=\"dataframe\">\n",
       "  <thead>\n",
       "    <tr style=\"text-align: right;\">\n",
       "      <th></th>\n",
       "      <th>alpha</th>\n",
       "      <th>avg</th>\n",
       "      <th>ocp_mean</th>\n",
       "      <th>ocp_sd</th>\n",
       "      <th>msemed_mean</th>\n",
       "      <th>msemed_sd</th>\n",
       "    </tr>\n",
       "  </thead>\n",
       "  <tbody>\n",
       "    <tr>\n",
       "      <th>10</th>\n",
       "      <td>0.001000</td>\n",
       "      <td>False</td>\n",
       "      <td>0.622190</td>\n",
       "      <td>0.067808</td>\n",
       "      <td>92.446764</td>\n",
       "      <td>100.757103</td>\n",
       "    </tr>\n",
       "    <tr>\n",
       "      <th>19</th>\n",
       "      <td>0.150000</td>\n",
       "      <td>False</td>\n",
       "      <td>0.520162</td>\n",
       "      <td>0.035613</td>\n",
       "      <td>357.224576</td>\n",
       "      <td>244.283059</td>\n",
       "    </tr>\n",
       "    <tr>\n",
       "      <th>14</th>\n",
       "      <td>0.067222</td>\n",
       "      <td>False</td>\n",
       "      <td>0.536670</td>\n",
       "      <td>0.037898</td>\n",
       "      <td>395.898717</td>\n",
       "      <td>243.458667</td>\n",
       "    </tr>\n",
       "  </tbody>\n",
       "</table>\n",
       "</div>"
      ],
      "text/plain": [
       "       alpha    avg  ocp_mean    ocp_sd  msemed_mean   msemed_sd\n",
       "10  0.001000  False  0.622190  0.067808    92.446764  100.757103\n",
       "19  0.150000  False  0.520162  0.035613   357.224576  244.283059\n",
       "14  0.067222  False  0.536670  0.037898   395.898717  243.458667"
      ]
     },
     "execution_count": 31,
     "metadata": {},
     "output_type": "execute_result"
    }
   ],
   "source": [
    "df[df.avg == False].sort_values(by = 'msemed_mean').head(3)"
   ]
  },
  {
   "cell_type": "code",
   "execution_count": 32,
   "id": "cf928402-70cc-4d32-8f4d-37de594e7264",
   "metadata": {
    "tags": []
   },
   "outputs": [
    {
     "data": {
      "text/html": [
       "<div>\n",
       "<style scoped>\n",
       "    .dataframe tbody tr th:only-of-type {\n",
       "        vertical-align: middle;\n",
       "    }\n",
       "\n",
       "    .dataframe tbody tr th {\n",
       "        vertical-align: top;\n",
       "    }\n",
       "\n",
       "    .dataframe thead th {\n",
       "        text-align: right;\n",
       "    }\n",
       "</style>\n",
       "<table border=\"1\" class=\"dataframe\">\n",
       "  <thead>\n",
       "    <tr style=\"text-align: right;\">\n",
       "      <th></th>\n",
       "      <th>alpha</th>\n",
       "      <th>avg</th>\n",
       "      <th>ocp_mean</th>\n",
       "      <th>ocp_sd</th>\n",
       "      <th>msemed_mean</th>\n",
       "      <th>msemed_sd</th>\n",
       "    </tr>\n",
       "  </thead>\n",
       "  <tbody>\n",
       "    <tr>\n",
       "      <th>0</th>\n",
       "      <td>0.001000</td>\n",
       "      <td>True</td>\n",
       "      <td>0.635724</td>\n",
       "      <td>0.083686</td>\n",
       "      <td>52.833241</td>\n",
       "      <td>54.421707</td>\n",
       "    </tr>\n",
       "    <tr>\n",
       "      <th>5</th>\n",
       "      <td>0.083778</td>\n",
       "      <td>True</td>\n",
       "      <td>0.543547</td>\n",
       "      <td>0.038368</td>\n",
       "      <td>372.606500</td>\n",
       "      <td>283.304364</td>\n",
       "    </tr>\n",
       "    <tr>\n",
       "      <th>9</th>\n",
       "      <td>0.150000</td>\n",
       "      <td>True</td>\n",
       "      <td>0.528318</td>\n",
       "      <td>0.029542</td>\n",
       "      <td>464.867714</td>\n",
       "      <td>276.297546</td>\n",
       "    </tr>\n",
       "  </tbody>\n",
       "</table>\n",
       "</div>"
      ],
      "text/plain": [
       "      alpha   avg  ocp_mean    ocp_sd  msemed_mean   msemed_sd\n",
       "0  0.001000  True  0.635724  0.083686    52.833241   54.421707\n",
       "5  0.083778  True  0.543547  0.038368   372.606500  283.304364\n",
       "9  0.150000  True  0.528318  0.029542   464.867714  276.297546"
      ]
     },
     "execution_count": 32,
     "metadata": {},
     "output_type": "execute_result"
    }
   ],
   "source": [
    "df[df.avg == True].sort_values(by = 'msemed_mean').head(3)"
   ]
  },
  {
   "cell_type": "markdown",
   "id": "38e0b537-c797-446b-bb02-8805eded681d",
   "metadata": {},
   "source": [
    "In terms of both OC_P and MSE, the best value is at **alpha = 0.001, with averaging over seeds.** "
   ]
  },
  {
   "cell_type": "markdown",
   "id": "961f82c9-c795-4d87-9d03-d11f8c13cd75",
   "metadata": {},
   "source": [
    "# Combined model: seeds as words and dimensions\n",
    "\n",
    "We fix jitter to be true, and averaging to be true, in order not to have too many conditions. We also fix offset to being 1.3, as before, as offset never makes much of a difference. We test different alpha values, with 3 random conditions. "
   ]
  },
  {
   "cell_type": "code",
   "execution_count": 38,
   "id": "49d7c8a0-bde4-4698-b9c6-7f04494a8178",
   "metadata": {
    "tags": []
   },
   "outputs": [
    {
     "name": "stdout",
     "output_type": "stream",
     "text": [
      "0.001 True 0.3 False 0.6560083933480119 3.30022209940826\n",
      "0.017555555555555557 True 0.3 False 0.7296893314192134 2.3379330353432994\n",
      "0.03411111111111111 True 0.3 False 0.7029774674474883 2.2250456602772974\n",
      "0.050666666666666665 True 0.3 False 0.6826545184962305 3.0545522998578707\n",
      "0.06722222222222222 True 0.3 False 0.6519583218013487 3.7137088079852605\n",
      "0.08377777777777778 True 0.3 False 0.6403911928438616 6.10737974355083\n",
      "0.10033333333333333 True 0.3 False 0.6214274374389887 7.484035039997099\n",
      "0.11688888888888889 True 0.3 False 0.6239016505738751 7.381699762960373\n",
      "0.13344444444444445 True 0.3 False 0.6218898914975167 8.40246071016826\n",
      "0.15 True 0.3 False 0.6191058601650524 11.469374466697808\n",
      "0.001 True 0.3 False 0.6906494242097775 3.4038125319590287\n",
      "0.017555555555555557 True 0.3 False 0.6889234209093006 2.328303362974572\n",
      "0.03411111111111111 True 0.3 False 0.6594104049442417 2.9750782746532467\n",
      "0.050666666666666665 True 0.3 False 0.6139853066292409 3.787018011247433\n",
      "0.06722222222222222 True 0.3 False 0.6165194295303436 6.013515666370909\n",
      "0.08377777777777778 True 0.3 False 0.6042325157900331 6.303134173335737\n",
      "0.10033333333333333 True 0.3 False 0.5893389282279199 10.030691115244199\n",
      "0.11688888888888889 True 0.3 False 0.5651191112871397 10.94145239779641\n",
      "0.13344444444444445 True 0.3 False 0.5603256033476177 14.52598096588247\n",
      "0.15 True 0.3 False 0.5587699346947429 16.762561040202893\n",
      "0.001 True 0.3 False 0.6863340305697568 2.704424618682607\n",
      "0.017555555555555557 True 0.3 False 0.7404082003014348 1.432114251112894\n",
      "0.03411111111111111 True 0.3 False 0.7220092896476775 1.4147537576364255\n",
      "0.050666666666666665 True 0.3 False 0.6884905709672113 2.28952542407422\n",
      "0.06722222222222222 True 0.3 False 0.6947328761527651 2.3558356133660867\n",
      "0.08377777777777778 True 0.3 False 0.6581428737670493 3.73924469882235\n",
      "0.10033333333333333 True 0.3 False 0.6599237781889842 3.592022893015933\n",
      "0.11688888888888889 True 0.3 False 0.6381580036712114 4.072422562515209\n",
      "0.13344444444444445 True 0.3 False 0.6587338458305649 4.239731346375024\n",
      "0.15 True 0.3 False 0.6205998793689325 5.832736774663635\n"
     ]
    }
   ],
   "source": [
    "average_vals = [True]\n",
    "alpha_vals= np.linspace(0.001, 0.15, num=10)\n",
    "jitter_vals = [False]\n",
    "offset_vals= [ 0.3 ]\n",
    "\n",
    "\n",
    "results = defaultdict(list)\n",
    "\n",
    "random.seed(5)\n",
    "randoms = [random.randrange(0,100) for _ in range(num_randseeds)]\n",
    "\n",
    "for randval in randoms:\n",
    "    for avgval in average_vals:\n",
    "        for alphaval in alpha_vals:\n",
    "            for oval in offset_vals:\n",
    "                for jval in jitter_vals:\n",
    "\n",
    "                    method = { \"method\": \"combined\",\n",
    "                              \"feature_dim\" : feature_dim,\n",
    "                              \"numfolds\" : 5,\n",
    "                              \"do_average\" : avgval,\n",
    "                              \"alpha\" : alphaval,\n",
    "                              \"offset\" : oval,\n",
    "                              \"jitter\" : jval}\n",
    "\n",
    "\n",
    "                    theseresults = crossvalidation(devset, method, word_vectors, grandratings_dir, grandfeatures_df, random_seed = randval)\n",
    "                    \n",
    "                    ocp_mean, _, _ = eval_summary_by(theseresults, \"ocp\")\n",
    "                    _, mse_med, _ = eval_summary_by(theseresults, \"mse\")\n",
    "                    print(alphaval, avgval, oval, jval, ocp_mean, mse_med)\n",
    "            \n",
    "            \n",
    "                    for r in theseresults:\n",
    "                        r.update({\"alpha\":alphaval, \"avg\": avgval, \"offset\": oval, \"j\": jval})\n",
    "                        results[ (str(alphaval), str(avgval))].append(r) \n",
    "\n",
    "\n"
   ]
  },
  {
   "cell_type": "code",
   "execution_count": 39,
   "id": "ebe303de-8a2e-44ff-8c41-957e947e7976",
   "metadata": {},
   "outputs": [
    {
     "data": {
      "text/html": [
       "<div>\n",
       "<style scoped>\n",
       "    .dataframe tbody tr th:only-of-type {\n",
       "        vertical-align: middle;\n",
       "    }\n",
       "\n",
       "    .dataframe tbody tr th {\n",
       "        vertical-align: top;\n",
       "    }\n",
       "\n",
       "    .dataframe thead th {\n",
       "        text-align: right;\n",
       "    }\n",
       "</style>\n",
       "<table border=\"1\" class=\"dataframe\">\n",
       "  <thead>\n",
       "    <tr style=\"text-align: right;\">\n",
       "      <th></th>\n",
       "      <th>alpha</th>\n",
       "      <th>avg</th>\n",
       "      <th>offset</th>\n",
       "      <th>j</th>\n",
       "      <th>ocp_mean</th>\n",
       "      <th>ocp_sd</th>\n",
       "      <th>msemed_mean</th>\n",
       "      <th>msemed_sd</th>\n",
       "    </tr>\n",
       "  </thead>\n",
       "  <tbody>\n",
       "    <tr>\n",
       "      <th>0</th>\n",
       "      <td>0.001000</td>\n",
       "      <td>True</td>\n",
       "      <td>0.3</td>\n",
       "      <td>False</td>\n",
       "      <td>0.677664</td>\n",
       "      <td>0.092040</td>\n",
       "      <td>3.751759</td>\n",
       "      <td>2.005137</td>\n",
       "    </tr>\n",
       "    <tr>\n",
       "      <th>1</th>\n",
       "      <td>0.017556</td>\n",
       "      <td>True</td>\n",
       "      <td>0.3</td>\n",
       "      <td>False</td>\n",
       "      <td>0.719674</td>\n",
       "      <td>0.051736</td>\n",
       "      <td>1.974980</td>\n",
       "      <td>0.950628</td>\n",
       "    </tr>\n",
       "    <tr>\n",
       "      <th>2</th>\n",
       "      <td>0.034111</td>\n",
       "      <td>True</td>\n",
       "      <td>0.3</td>\n",
       "      <td>False</td>\n",
       "      <td>0.694799</td>\n",
       "      <td>0.053914</td>\n",
       "      <td>2.645923</td>\n",
       "      <td>1.546057</td>\n",
       "    </tr>\n",
       "    <tr>\n",
       "      <th>3</th>\n",
       "      <td>0.050667</td>\n",
       "      <td>True</td>\n",
       "      <td>0.3</td>\n",
       "      <td>False</td>\n",
       "      <td>0.662473</td>\n",
       "      <td>0.042189</td>\n",
       "      <td>3.864464</td>\n",
       "      <td>2.031372</td>\n",
       "    </tr>\n",
       "    <tr>\n",
       "      <th>4</th>\n",
       "      <td>0.067222</td>\n",
       "      <td>True</td>\n",
       "      <td>0.3</td>\n",
       "      <td>False</td>\n",
       "      <td>0.654404</td>\n",
       "      <td>0.047012</td>\n",
       "      <td>5.784824</td>\n",
       "      <td>5.169981</td>\n",
       "    </tr>\n",
       "  </tbody>\n",
       "</table>\n",
       "</div>"
      ],
      "text/plain": [
       "      alpha   avg  offset      j  ocp_mean    ocp_sd  msemed_mean  msemed_sd\n",
       "0  0.001000  True     0.3  False  0.677664  0.092040     3.751759   2.005137\n",
       "1  0.017556  True     0.3  False  0.719674  0.051736     1.974980   0.950628\n",
       "2  0.034111  True     0.3  False  0.694799  0.053914     2.645923   1.546057\n",
       "3  0.050667  True     0.3  False  0.662473  0.042189     3.864464   2.031372\n",
       "4  0.067222  True     0.3  False  0.654404  0.047012     5.784824   5.169981"
      ]
     },
     "execution_count": 39,
     "metadata": {},
     "output_type": "execute_result"
    }
   ],
   "source": [
    "df = pd.DataFrame(eval_hyper(results, [\"alpha\", \"avg\", \"offset\", \"j\"]))\n",
    "df.head()\n"
   ]
  },
  {
   "cell_type": "markdown",
   "id": "d02484e3-9d14-4e93-9d48-c16b4ab8be45",
   "metadata": {},
   "source": [
    "## Plotting the results\n",
    "\n"
   ]
  },
  {
   "cell_type": "code",
   "execution_count": 40,
   "id": "941e91f6-655c-4d7e-a10c-3c087687798b",
   "metadata": {
    "tags": []
   },
   "outputs": [
    {
     "data": {
      "text/plain": [
       "<AxesSubplot: xlabel='alpha'>"
      ]
     },
     "execution_count": 40,
     "metadata": {},
     "output_type": "execute_result"
    },
    {
     "data": {
      "image/png": "[encoded data removed]",
      "text/plain": [
       "<Figure size 640x480 with 1 Axes>"
      ]
     },
     "metadata": {},
     "output_type": "display_data"
    }
   ],
   "source": [
    "df.plot(y = \"ocp_mean\", x = \"alpha\", yerr = \"ocp_sd\")"
   ]
  },
  {
   "cell_type": "code",
   "execution_count": 41,
   "id": "c46c3155-e9e8-4e48-8d4a-7d516b4667e5",
   "metadata": {
    "tags": []
   },
   "outputs": [
    {
     "data": {
      "text/plain": [
       "<AxesSubplot: xlabel='alpha'>"
      ]
     },
     "execution_count": 41,
     "metadata": {},
     "output_type": "execute_result"
    },
    {
     "data": {
      "image/png": "[encoded data removed]",
      "text/plain": [
       "<Figure size 640x480 with 1 Axes>"
      ]
     },
     "metadata": {},
     "output_type": "display_data"
    }
   ],
   "source": [
    "df.plot(y = \"msemed_mean\", x = \"alpha\", yerr = \"msemed_sd\")"
   ]
  },
  {
   "cell_type": "code",
   "execution_count": 42,
   "id": "a5909543-f49e-4a8c-a392-9a598b1b87ba",
   "metadata": {
    "tags": []
   },
   "outputs": [
    {
     "data": {
      "text/html": [
       "<div>\n",
       "<style scoped>\n",
       "    .dataframe tbody tr th:only-of-type {\n",
       "        vertical-align: middle;\n",
       "    }\n",
       "\n",
       "    .dataframe tbody tr th {\n",
       "        vertical-align: top;\n",
       "    }\n",
       "\n",
       "    .dataframe thead th {\n",
       "        text-align: right;\n",
       "    }\n",
       "</style>\n",
       "<table border=\"1\" class=\"dataframe\">\n",
       "  <thead>\n",
       "    <tr style=\"text-align: right;\">\n",
       "      <th></th>\n",
       "      <th>alpha</th>\n",
       "      <th>avg</th>\n",
       "      <th>offset</th>\n",
       "      <th>j</th>\n",
       "      <th>ocp_mean</th>\n",
       "      <th>ocp_sd</th>\n",
       "      <th>msemed_mean</th>\n",
       "      <th>msemed_sd</th>\n",
       "    </tr>\n",
       "  </thead>\n",
       "  <tbody>\n",
       "    <tr>\n",
       "      <th>1</th>\n",
       "      <td>0.017556</td>\n",
       "      <td>True</td>\n",
       "      <td>0.3</td>\n",
       "      <td>False</td>\n",
       "      <td>0.719674</td>\n",
       "      <td>0.051736</td>\n",
       "      <td>1.974980</td>\n",
       "      <td>0.950628</td>\n",
       "    </tr>\n",
       "    <tr>\n",
       "      <th>2</th>\n",
       "      <td>0.034111</td>\n",
       "      <td>True</td>\n",
       "      <td>0.3</td>\n",
       "      <td>False</td>\n",
       "      <td>0.694799</td>\n",
       "      <td>0.053914</td>\n",
       "      <td>2.645923</td>\n",
       "      <td>1.546057</td>\n",
       "    </tr>\n",
       "    <tr>\n",
       "      <th>0</th>\n",
       "      <td>0.001000</td>\n",
       "      <td>True</td>\n",
       "      <td>0.3</td>\n",
       "      <td>False</td>\n",
       "      <td>0.677664</td>\n",
       "      <td>0.092040</td>\n",
       "      <td>3.751759</td>\n",
       "      <td>2.005137</td>\n",
       "    </tr>\n",
       "    <tr>\n",
       "      <th>3</th>\n",
       "      <td>0.050667</td>\n",
       "      <td>True</td>\n",
       "      <td>0.3</td>\n",
       "      <td>False</td>\n",
       "      <td>0.662473</td>\n",
       "      <td>0.042189</td>\n",
       "      <td>3.864464</td>\n",
       "      <td>2.031372</td>\n",
       "    </tr>\n",
       "    <tr>\n",
       "      <th>4</th>\n",
       "      <td>0.067222</td>\n",
       "      <td>True</td>\n",
       "      <td>0.3</td>\n",
       "      <td>False</td>\n",
       "      <td>0.654404</td>\n",
       "      <td>0.047012</td>\n",
       "      <td>5.784824</td>\n",
       "      <td>5.169981</td>\n",
       "    </tr>\n",
       "  </tbody>\n",
       "</table>\n",
       "</div>"
      ],
      "text/plain": [
       "      alpha   avg  offset      j  ocp_mean    ocp_sd  msemed_mean  msemed_sd\n",
       "1  0.017556  True     0.3  False  0.719674  0.051736     1.974980   0.950628\n",
       "2  0.034111  True     0.3  False  0.694799  0.053914     2.645923   1.546057\n",
       "0  0.001000  True     0.3  False  0.677664  0.092040     3.751759   2.005137\n",
       "3  0.050667  True     0.3  False  0.662473  0.042189     3.864464   2.031372\n",
       "4  0.067222  True     0.3  False  0.654404  0.047012     5.784824   5.169981"
      ]
     },
     "execution_count": 42,
     "metadata": {},
     "output_type": "execute_result"
    }
   ],
   "source": [
    "df.sort_values(by = \"ocp_mean\", ascending = False).head()"
   ]
  },
  {
   "cell_type": "markdown",
   "id": "ae2ae24f-0c68-4d3f-a26c-27457f928761",
   "metadata": {},
   "source": [
    "Both OC_P and MSE have a clear best value at **alpha = 0.02**. We use **averaging, no jitter, and an offset of 0.3**,"
   ]
  },
  {
   "cell_type": "code",
   "execution_count": null,
   "id": "1169a309-8abf-47b4-beb6-f5a63c90bc57",
   "metadata": {},
   "outputs": [],
   "source": []
  }
 ],
 "metadata": {
  "kernelspec": {
   "display_name": "Python 3 (ipykernel)",
   "language": "python",
   "name": "python3"
  },
  "language_info": {
   "codemirror_mode": {
    "name": "ipython",
    "version": 3
   },
   "file_extension": ".py",
   "mimetype": "text/x-python",
   "name": "python",
   "nbconvert_exporter": "python",
   "pygments_lexer": "ipython3",
   "version": "3.9.6"
  }
 },
 "nbformat": 4,
 "nbformat_minor": 5
}
