{
 "cells": [
  {
   "cell_type": "markdown",
   "id": "3e5480aa-faa7-4368-8975-6a0a1ea34abe",
   "metadata": {},
   "source": [
    "# Hyperparameter optimization: Contextualized embeddings \n",
    "\n",
    "Grand et al data\n",
    "\n",
    "Hyperparameter optimization on a development set."
   ]
  },
  {
   "cell_type": "code",
   "execution_count": 1,
   "id": "7fd7b586-6498-44fb-8810-5cbe92e383ea",
   "metadata": {
    "tags": []
   },
   "outputs": [],
   "source": [
    "import os\n",
    "from scipy import stats\n",
    "import numpy as np \n",
    "import pandas as pd\n",
    "import zipfile\n",
    "import math\n",
    "import sklearn\n",
    "import torch\n",
    "import torch.optim as optim\n",
    "device = torch.device('cuda') if torch.cuda.is_available() else torch.device('cpu')\n",
    "import matplotlib.pyplot as plt\n",
    "import pickle"
   ]
  },
  {
   "cell_type": "markdown",
   "id": "4bf61834-8f0f-4580-88da-f4f85292ff7d",
   "metadata": {},
   "source": [
    "# Reading the data\n",
    "\n",
    "## Contextualized embeddings"
   ]
  },
  {
   "cell_type": "code",
   "execution_count": 2,
   "id": "3be6a243-ae47-49a7-88ce-1f6280d0b468",
   "metadata": {},
   "outputs": [],
   "source": [
    "# global settings\n",
    "num_randseeds = 3\n",
    "feature_dim = 1024\n",
    "whichbert = \"robltop4\""
   ]
  },
  {
   "cell_type": "code",
   "execution_count": 3,
   "id": "c1b1e40a-6973-46e5-bc60-750089d396f7",
   "metadata": {},
   "outputs": [
    {
     "name": "stdout",
     "output_type": "stream",
     "text": [
      "using contextualized embeddings roberta-large.Grandetal.top4layers.pkl \n",
      "\n"
     ]
    }
   ],
   "source": [
    "#bert_large_vecs_paths = { \"ltop4-plus16\" : \"bert-large-uncased.npz\",\n",
    "#                          \"ltop4\" : \"bert-large-uncased.top4layers.npz\",\n",
    "#                          \"l16\" : \"bert-large-uncased_layer16.npz\" }\n",
    "\n",
    "bert_large_vecs_paths = { \"ltop4\" : \"bert-large-uncased.top4layers.Grandetal.npz\",\n",
    "                          \"robltop4\" : \"roberta-large.Grandetal.top4layers.pkl\"}\n",
    "                         \n",
    "print(\"using contextualized embeddings\", bert_large_vecs_paths[whichbert], \"\\n\")\n",
    "\n",
    "filename = bert_large_vecs_paths[whichbert]\n",
    "if filename.endswith(\"npz\"):\n",
    "    # for npz files:\n",
    "    data = np.load(bert_large_vecs_paths[whichbert])\n",
    "elif filename.endswith(\"pkl\"):\n",
    "    # for pkl files:\n",
    "    with open(bert_large_vecs_paths[whichbert], \"rb\") as f:\n",
    "        data2 = pickle.load(f)\n",
    "        data = dict([(w, v.numpy()) for w, v in data2.items()])\n",
    "else:\n",
    "    raise Exception(\"should not be here\")\n",
    "\n"
   ]
  },
  {
   "cell_type": "code",
   "execution_count": 4,
   "id": "697c7af5-e421-4a67-9a4c-05ce8edb010b",
   "metadata": {},
   "outputs": [
    {
     "name": "stdout",
     "output_type": "stream",
     "text": [
      "ping-pong\n",
      "new-york\n",
      "south-dakota\n",
      "hong-kong\n",
      "san-francisco\n",
      "los-angeles\n",
      "west-virginia\n",
      "new-mexico\n",
      "rhode-island\n",
      "new-hampshire\n",
      "new-jersey\n",
      "north-carolina\n",
      "south-carolina\n",
      "north_dakota\n"
     ]
    }
   ],
   "source": [
    "word_vectors = {}\n",
    "    \n",
    "for word in data:\n",
    "    vector = data[word]\n",
    "    if ' ' in word:\n",
    "        first, second = word.split()\n",
    "        if 'north' in first and 'dakota' in second:\n",
    "            word = first + '_' + second\n",
    "            print(word)\n",
    "            word_vectors[word] = vector\n",
    "        else:\n",
    "            word = first + '-' + second\n",
    "            print(word)\n",
    "            word_vectors[word] = vector\n",
    "    else:\n",
    "        word_vectors[word] = vector\n",
    "        \n"
   ]
  },
  {
   "cell_type": "markdown",
   "id": "1c07f037-d314-409b-b0f8-c5d060d5e721",
   "metadata": {},
   "source": [
    "## Grand features"
   ]
  },
  {
   "cell_type": "code",
   "execution_count": 5,
   "id": "f56398ff-3d19-4544-bc82-06a60e6d8737",
   "metadata": {
    "tags": []
   },
   "outputs": [
    {
     "name": "stderr",
     "output_type": "stream",
     "text": [
      "/Users/kee252/Library/Python/3.9/lib/python/site-packages/openpyxl/worksheet/_reader.py:329: UserWarning: Unknown extension is not supported and will be removed\n",
      "  warn(msg)\n"
     ]
    }
   ],
   "source": [
    "grandratings_dir = \"Grand_etal_csv/\"\n",
    "grandfeatures_path = \"/Users/kee252/Data/grand_directions_in_space/features.xlsx\"\n",
    "\n",
    "grandfeatures_df = pd.read_excel(grandfeatures_path)"
   ]
  },
  {
   "cell_type": "markdown",
   "id": "4b8216d9-2d9d-43c0-989e-a173a3e4be84",
   "metadata": {},
   "source": [
    "## Function for reading a specific Grand dataset"
   ]
  },
  {
   "cell_type": "code",
   "execution_count": 6,
   "id": "9f45bb6e-da17-4581-91b2-41d3721ce40d",
   "metadata": {
    "tags": []
   },
   "outputs": [],
   "source": [
    "# reading in Grand data\n",
    "def read_grand_data(filename, grandratings_dir, grandfeatures_df):\n",
    "    # extract category and feature\n",
    "    grandcategory, grandfeature = filename[:-4].split(\"_\")\n",
    "        \n",
    "    # read human ratings, make gold column\n",
    "    df = pd.read_csv(grandratings_dir + filename)\n",
    "    nspeakers = len(df.columns) -1\n",
    "    df[\"Average\"] = [row.iloc[1:26].sum() / nspeakers for _, row in df.iterrows()]\n",
    "    # z-scores of average ratings\n",
    "    df[\"Gold\"] = (df[\"Average\"] - df[\"Average\"].mean()) / df[\"Average\"].std()\n",
    "        \n",
    "    # obtain seed words from excel file\n",
    "    relevant_row = grandfeatures_df[grandfeatures_df.Dimension == grandfeature]\n",
    "    seedwords = relevant_row.iloc[:, 1:].values.flatten().tolist()\n",
    "    pos_seedwords = seedwords[:3]\n",
    "    neg_seedwords = seedwords[3:]\n",
    "    \n",
    "    return (grandcategory, grandfeature, pos_seedwords, neg_seedwords, df)"
   ]
  },
  {
   "cell_type": "markdown",
   "id": "21844b50-6e40-455d-a97c-dff06b04b412",
   "metadata": {},
   "source": [
    "# Function for running crossvalidation"
   ]
  },
  {
   "cell_type": "code",
   "execution_count": 7,
   "id": "d1cfd9f4-3f6d-47f1-848d-188ede0b9245",
   "metadata": {},
   "outputs": [],
   "source": [
    "import eval_dim\n",
    "import compute_dim\n",
    "import statistics\n",
    "\n",
    "def crossvalidation(filenames, method, word_vectors, grandratings_dir, grandfeatures_df, random_seed = 123, verbose = False):\n",
    "    \n",
    "    all_evals = [ ]\n",
    "    \n",
    "    for filename in filenames:\n",
    "            grandcategory, grandfeature, pos_seedwords, neg_seedwords, df = read_grand_data(filename, \n",
    "                                                                                            grandratings_dir, \n",
    "                                                                                            grandfeatures_df)\n",
    "\n",
    "\n",
    "            # storage for word vectors and gold values for this dataset\n",
    "            all_thisdata_vectors = []\n",
    "            all_thisdata_gold = []\n",
    "\n",
    "            # collect word vectors and gold ratings\n",
    "            for row in df.itertuples():\n",
    "                # row.Row is the word. look it up in word_vectors\n",
    "                all_thisdata_vectors.append( word_vectors[ row.Row ])\n",
    "                # gold rating: use z-scored average\n",
    "                all_thisdata_gold.append( row.Gold)\n",
    "\n",
    "            # crossvalidation setup: give indices to datapoints\n",
    "            fold = np.random.randint(method[\"numfolds\"], size = len(all_thisdata_gold))\n",
    "\n",
    "            # store the evaluation results from the different test folds\n",
    "            evals = [ ]\n",
    "\n",
    "            # iterate over folds, evaluate for each of them\n",
    "            for testfold in range(method[\"numfolds\"]):\n",
    "                # compute training and test data for this fold\n",
    "                test_indices =  [i for i in range(len(all_thisdata_gold)) if fold[i] == testfold]\n",
    "                train_indices = [i for i in range(len(all_thisdata_gold)) if fold[i] != testfold]\n",
    "\n",
    "                gold_test =  [ell[\"Gold\"] for _, ell in df.iloc[ test_indices ].iterrows()]\n",
    "                gold_train = [ ell[\"Gold\"] for _, ell in df.iloc[ train_indices ].iterrows()]\n",
    "                words_test =  [ell[\"Row\"] for _, ell in df.iloc[ test_indices].iterrows()]\n",
    "                words_train = [ell[\"Row\"] for _, ell in df.iloc[ train_indices].iterrows()]\n",
    "                vec_test =  [word_vectors[ w ] for w in words_test]\n",
    "                vec_train = [word_vectors[ w ] for w in words_train ]\n",
    "\n",
    "\n",
    "                # compute seed-based dimension, and its predictions\n",
    "                if method[\"method\"] == \"seedbased\":\n",
    "                    dimension = compute_dim.dimension_seedbased(pos_seedwords, neg_seedwords, word_vectors)\n",
    "                    df[\"Pred\"] = compute_dim.predict_coord_fromtrain(vec_train, gold_train, dimension, all_thisdata_vectors)\n",
    "\n",
    "                elif method[\"method\"] == \"fitted\":\n",
    "                    dimension, weight, bias = compute_dim.dimension_fitted_fromratings(vec_train, gold_train, \n",
    "                                                                                       method[\"feature_dim\"],\n",
    "                                                                                       random_seed = random_seed)\n",
    "                    df[\"Pred\"] = compute_dim.predict_coord_fromline(all_thisdata_vectors, dimension, weight, bias)\n",
    "\n",
    "                elif method[\"method\"] == \"fitted_seedwords\":\n",
    "                    dimension, weight, bias = compute_dim.dimension_fitted_fromratings_seedwords(vec_train, gold_train, \n",
    "                                                                    method[\"feature_dim\"], \n",
    "                                                                    pos_seedwords, neg_seedwords, word_vectors,\n",
    "                                                                    offset = method[\"offset\"], jitter = method[\"jitter\"],\n",
    "                                                                    random_seed = random_seed)\n",
    "                    df[\"Pred\"] = compute_dim.predict_coord_fromline(all_thisdata_vectors, dimension, weight, bias)\n",
    "\n",
    "                elif method[\"method\"] == \"fitted_seeddims\":\n",
    "                    dimension, weight, bias = compute_dim.dimension_fitted_fromratings_seeddims(vec_train, gold_train, \n",
    "                                                                    method[\"feature_dim\"], \n",
    "                                                                    pos_seedwords, neg_seedwords, word_vectors,\n",
    "                                                                    do_average = method[\"do_average\"], \n",
    "                                                                    alpha = method[\"alpha\"],\n",
    "                                                                    random_seed = random_seed)\n",
    "                    df[\"Pred\"] = compute_dim.predict_coord_fromline(all_thisdata_vectors, dimension, weight, bias)\n",
    "\n",
    "                elif method[\"method\"] == \"combined\":\n",
    "                    dimension, weight, bias = compute_dim.dimension_fitted_fromratings_combined(vec_train, gold_train,\n",
    "                                                                    method[\"feature_dim\"],\n",
    "                                                                    pos_seedwords, neg_seedwords, word_vectors,\n",
    "                                                                    offset = method[\"offset\"], jitter = method[\"jitter\"],\n",
    "                                                                    do_average = method[\"do_average\"], \n",
    "                                                                    alpha = method[\"alpha\"],\n",
    "                                                                    random_seed = random_seed)\n",
    "                    df[\"Pred\"] = compute_dim.predict_coord_fromline(all_thisdata_vectors, dimension, weight, bias)\n",
    "\n",
    "                else:\n",
    "                    raise Exception(\"shouldn't be here\")\n",
    "\n",
    "                # order consistency pairwise: test values tested for their ordering wrt. all values, training and test\n",
    "                # MSE: evaluate on test only\n",
    "                e = { \"ocp\" : eval_dim.pairwise_order_consistency_wrt(df[\"Gold\"], df[\"Pred\"], test_indices),\n",
    "                      \"mse\" : eval_dim.mean_squared_error(gold_test, [p for i, p in enumerate(df[\"Pred\"]) if i in test_indices]),\n",
    "                      \"feature\" : grandfeature,\n",
    "                      \"category\" : grandcategory}\n",
    "\n",
    "                all_evals.append(e)\n",
    "\n",
    "    if verbose:\n",
    "        ocps = [e[\"ocp\"] for e in all_evals if e[\"ocp\"] is not None]\n",
    "        mses = [e[\"mse\"] for e in all_evals if e[\"mse\"] is not None]\n",
    "\n",
    "        print(\"\\n\\nOverall\", method[\"method\"], \n",
    "              f\"OC_p {statistics.mean(ocps):.3f} ({statistics.stdev(ocps):.2f})\", \n",
    "              f\"MSE mean {statistics.mean(mses):.3f} ({statistics.stdev(mses):.2f}) median {statistics.median(mses):.3f}\")\n",
    "        \n",
    "    return all_evals\n"
   ]
  },
  {
   "cell_type": "markdown",
   "id": "bb92cc5e-b162-44d1-82b7-ffca22d67a7f",
   "metadata": {},
   "source": [
    "# Function for aggregating crossvalidation results\n",
    "\n",
    "We assume results that are dictionaries. \n",
    "\n",
    "First, a function for aggregating results by particular labels, into a single dictionary. For example, when results are aggregated by category and feature, the result will be a dictionary whose keys are category/feature tuples, and the values are lists of result dictionaries. \n",
    "\n",
    "Second, a function that computes mean, median, and standard deviation, over a list of result dictionaries, for a given labels."
   ]
  },
  {
   "cell_type": "code",
   "execution_count": 8,
   "id": "35093491-406a-4724-b31f-88940d4ee982",
   "metadata": {},
   "outputs": [],
   "source": [
    "from collections import defaultdict\n",
    "import statistics\n",
    "\n",
    "# given a list of results dictionaries, \n",
    "# group them by the given dictionary keys\n",
    "def eval_aggregate_by(evals, keylabels):\n",
    "    bydataset_eval = defaultdict(list)\n",
    "    \n",
    "    for e in evals:\n",
    "        key = tuple([str(e[k]) for k in keylabels])\n",
    "        bydataset_eval[ key ].append(e)\n",
    "        \n",
    "    return bydataset_eval\n",
    "\n",
    "\n",
    "# given a list of results dictionaries,\n",
    "# compute mean, median and standard deviation over values for a particular key\n",
    "def eval_summary_by(evals, keylabel):\n",
    "    vals = [e[keylabel] for e in evals if e[keylabel] is not None]\n",
    "    \n",
    "    return (statistics.mean(vals), statistics.median(vals), statistics.stdev(vals))\n",
    "\n",
    "# given a dictionary of results (parameters -> result dictionary list),\n",
    "# * for each parameter setting, aggregate by cateogy and feature\n",
    "# * for each category/feature, compute mean ocp and mse values\n",
    "# * for the parameter setting, compute mean and sd ocp and mse over all category/feature pairs\n",
    "def eval_hyper(results, parameternames):\n",
    "    # output dictionary\n",
    "    results_byparam = [ ]\n",
    "\n",
    "    # iterate over parameter settings\n",
    "    for theseresults in results.values():\n",
    "        # extract parameters\n",
    "        this_dict = dict([(par, theseresults[0][par]) for par in parameternames])\n",
    "        \n",
    "        # aggregate by condition = by category and feature\n",
    "        results_bycond = eval_aggregate_by(theseresults,[\"category\", \"feature\"])\n",
    "        \n",
    "        # compute mean ocp and mse values.\n",
    "        # ocp: we use mean for each condition.\n",
    "        # mse: we use median for each condition\n",
    "        ocps = [eval_summary_by(cond_results, \"ocp\")[0] for cond_results in results_bycond.values()]\n",
    "        mses = [eval_summary_by(cond_results, \"mse\")[1] for cond_results in results_bycond.values()]\n",
    "\n",
    "        # compute mean and standard deviation over ocps and mses\n",
    "        this_dict[\"ocp_mean\"] = statistics.mean(ocps)\n",
    "        this_dict[\"ocp_sd\"] = statistics.stdev(ocps)\n",
    "        this_dict[\"msemed_mean\"] = statistics.mean(mses)\n",
    "        this_dict[\"msemed_sd\"] = statistics.stdev(mses)\n",
    "        \n",
    "        results_byparam.append(this_dict)\n",
    "        \n",
    "    return results_byparam\n"
   ]
  },
  {
   "cell_type": "markdown",
   "id": "bb4f83f4-de33-4e1b-a0e4-e04650488db0",
   "metadata": {},
   "source": [
    "# Making a development set"
   ]
  },
  {
   "cell_type": "code",
   "execution_count": 9,
   "id": "06a6fe6d-20d2-43e2-8428-c46b1f6944be",
   "metadata": {
    "tags": []
   },
   "outputs": [
    {
     "data": {
      "text/plain": [
       "[['cities', 'danger'],\n",
       " ['states', 'political'],\n",
       " ['animals', 'wetness'],\n",
       " ['cities', 'intelligence'],\n",
       " ['animals', 'weight'],\n",
       " ['names', 'age']]"
      ]
     },
     "execution_count": 9,
     "metadata": {},
     "output_type": "execute_result"
    }
   ],
   "source": [
    "filenames = [f for f in os.listdir(grandratings_dir) if f.endswith(\"csv\")]\n",
    "\n",
    "import random\n",
    "random.seed(789)\n",
    "devset = random.sample(filenames, 6)\n",
    "[ filename[:-4].split(\"_\") for filename in devset]"
   ]
  },
  {
   "cell_type": "markdown",
   "id": "a139eaec-fdec-4520-b210-04c91c32632a",
   "metadata": {},
   "source": [
    "# Determining hyperparameters\n",
    "\n",
    "## Fitted dimensions with seeds as words: offset, jitter\n",
    "\n",
    "First experiments looked like there was a lot of variance in result with different random seeds. To check into this, we run the hyperparameter tests n times with different random seeds. We then look at mean and standard deviation of the two measures we focus on: mean OC_p and median MSE."
   ]
  },
  {
   "cell_type": "code",
   "execution_count": 10,
   "id": "fccab8bb-b9a0-460c-835f-ff115524d7da",
   "metadata": {},
   "outputs": [
    {
     "name": "stdout",
     "output_type": "stream",
     "text": [
      "0.1 True 0.5084075586655448 731.5800779308611\n",
      "0.2 True 0.49656343593939034 586.6746030131802\n",
      "0.3 True 0.487489008848392 548.4167632500759\n",
      "0.4 True 0.5198910295828243 737.4281468803784\n",
      "0.5 True 0.5075380737276776 757.4512844090834\n",
      "0.6 True 0.512274598654776 921.8735097119386\n",
      "0.7 True 0.5001504322211078 906.7396739969158\n",
      "0.7999999999999999 True 0.5183354873177382 661.7556044420614\n",
      "0.8999999999999999 True 0.5056997239807384 816.9190393139183\n",
      "0.9999999999999999 True 0.5219651461797439 757.0895707018444\n",
      "1.0999999999999999 True 0.5095427850196019 719.0409933612447\n",
      "1.2 True 0.5022738640615164 593.0884271725384\n",
      "1.3 True 0.5051131311539666 991.2196229013823\n",
      "1.4 True 0.5099025203466641 786.5733454443583\n",
      "1.5 True 0.49276909066775537 939.6037191170597\n",
      "1.5999999999999999 True 0.49759289672479773 923.1261928812903\n",
      "1.7 True 0.5120641094343396 711.4732823109603\n",
      "1.8 True 0.5033328539479278 910.8013288124715\n",
      "1.9 True 0.49871147260533144 892.1281044758357\n",
      "2.0 True 0.49174327326171696 741.2064768724392\n",
      "0.1 False 0.510221241339094 561.2159875038806\n",
      "0.2 False 0.5170753777629993 759.8146270017373\n",
      "0.3 False 0.4995520337776519 874.5468776672174\n",
      "0.4 False 0.5243237689074022 662.4492647158165\n",
      "0.5 False 0.48968287430404034 694.1022062817337\n",
      "0.6 False 0.508610925217091 510.20586608598603\n",
      "0.7 False 0.4977620287720447 818.5924868917889\n",
      "0.7999999999999999 False 0.49857557059174346 714.6928605328753\n",
      "0.8999999999999999 False 0.5031016748412461 792.5531299898897\n",
      "0.9999999999999999 False 0.5125530716523112 886.8796259336268\n",
      "1.0999999999999999 False 0.5031138588560414 763.0933868776274\n",
      "1.2 False 0.503749417629534 771.4160283344049\n",
      "1.3 False 0.5129588799631463 687.0344848427253\n",
      "1.4 False 0.4856648826799096 973.3415358350999\n",
      "1.5 False 0.5085768182642001 804.1227341912154\n",
      "1.5999999999999999 False 0.5153698498993264 986.3927047833204\n",
      "1.7 False 0.5158327022444511 847.8967661221955\n",
      "1.8 False 0.5110364523694044 801.6208951951203\n",
      "1.9 False 0.5038366774143159 904.4005630142485\n",
      "2.0 False 0.49695706289987784 797.3289881334779\n",
      "0.1 True 0.5260399864740724 121.36615711700446\n",
      "0.2 True 0.5205743649119621 122.66765617296811\n",
      "0.3 True 0.5344573054559372 121.60675752887164\n",
      "0.4 True 0.519092627652277 126.21798871650115\n",
      "0.5 True 0.5189975621123649 123.43871951410873\n",
      "0.6 True 0.5166046028422566 104.83422165795061\n",
      "0.7 True 0.536036173296131 120.3781267642517\n",
      "0.7999999999999999 True 0.5342652151847694 137.9506859343195\n",
      "0.8999999999999999 True 0.49761013650161046 118.7078883368054\n",
      "0.9999999999999999 True 0.5253256584756157 137.55763465454154\n",
      "1.0999999999999999 True 0.5175285736032992 114.28671392044038\n",
      "1.2 True 0.49748458289455477 142.3736519203664\n",
      "1.3 True 0.5282318505155829 102.18276360949565\n",
      "1.4 True 0.5099584645454884 132.15016050327043\n",
      "1.5 True 0.5158169383860366 122.8339694718606\n",
      "1.5999999999999999 True 0.516514177971948 131.3711121708326\n",
      "1.7 True 0.507821919563463 142.246442041034\n",
      "1.8 True 0.5298869600521999 112.25375989194833\n",
      "1.9 True 0.5366404445707481 146.63175837821763\n",
      "2.0 True 0.5125720544861547 142.22246925556635\n",
      "0.1 False 0.5083440763876063 120.93149667546328\n",
      "0.2 False 0.5201271277952745 127.94166636973982\n",
      "0.3 False 0.5134418463416159 127.48776553304563\n",
      "0.4 False 0.5112895428846634 125.99617031606567\n",
      "0.5 False 0.5365762393591563 103.7981834611042\n",
      "0.6 False 0.5240542256004298 116.24810276490183\n",
      "0.7 False 0.5244829444731266 112.67470952123995\n",
      "0.7999999999999999 False 0.5195944418728929 126.63457041155215\n",
      "0.8999999999999999 False 0.5185459384196554 144.40403010549574\n",
      "0.9999999999999999 False 0.5240093609205353 110.2047262715927\n",
      "1.0999999999999999 False 0.5244435302673245 127.94659040393375\n",
      "1.2 False 0.5230238036742572 132.58546920803894\n",
      "1.3 False 0.5172054674701302 102.04449841562032\n",
      "1.4 False 0.5198395617795313 100.93382273781162\n",
      "1.5 False 0.5165287837554295 131.04531642053303\n",
      "1.5999999999999999 False 0.520737307821681 136.24724942410774\n",
      "1.7 False 0.5247964559284203 120.45722591344375\n",
      "1.8 False 0.521141490413924 140.02502849776383\n",
      "1.9 False 0.540705949530432 126.25074388238168\n",
      "2.0 False 0.5359183627890916 131.15644286022342\n",
      "0.1 True 0.5235020194420522 903.7502685120467\n",
      "0.2 True 0.48682526965675893 881.5886958103491\n",
      "0.3 True 0.5093920274466968 731.2733448811932\n",
      "0.4 True 0.4960853612536274 874.6170904039792\n",
      "0.5 True 0.4979244336120978 790.4897948344656\n",
      "0.6 True 0.5284663395873042 826.8205235491571\n",
      "0.7 True 0.49293656419313375 731.7582743283349\n",
      "0.7999999999999999 True 0.5128946530485515 872.3308512119683\n",
      "0.8999999999999999 True 0.48401182466383025 564.2028216461222\n",
      "0.9999999999999999 True 0.49255469133077007 521.918613153365\n",
      "1.0999999999999999 True 0.4921550868051123 652.4803232022227\n",
      "1.2 True 0.5019793585133532 751.1283596097325\n",
      "1.3 True 0.47420551390564936 612.8142072996413\n",
      "1.4 True 0.4928265925261924 664.0999094930978\n",
      "1.5 True 0.5336883936175202 934.3040087736881\n",
      "1.5999999999999999 True 0.5022604974680858 493.09061686935\n",
      "1.7 True 0.5145182802111212 799.2056556972157\n",
      "1.8 True 0.5127200358323328 507.6394543319735\n",
      "1.9 True 0.4966559567754553 790.5380941702772\n",
      "2.0 True 0.5036276691159557 529.0766892154026\n",
      "0.1 False 0.47900004105262417 621.5849359939346\n",
      "0.2 False 0.5029052609547295 737.6063761242381\n",
      "0.3 False 0.4818386340638655 636.0946313051813\n",
      "0.4 False 0.527675015950794 762.1208904325572\n",
      "0.5 False 0.4773664440011903 1055.679863387964\n",
      "0.6 False 0.5245194421014078 800.2822766945878\n",
      "0.7 False 0.5024548147650053 626.7485188013518\n",
      "0.7999999999999999 False 0.5100367699791692 1026.267600424782\n",
      "0.8999999999999999 False 0.5115442914057925 738.0957920458322\n",
      "0.9999999999999999 False 0.4756882740261375 653.3382466897123\n",
      "1.0999999999999999 False 0.508399575148608 761.1320943519756\n",
      "1.2 False 0.4891863022370458 685.5403574611091\n",
      "1.3 False 0.5194046092241478 689.819430651215\n",
      "1.4 False 0.5075535122322561 659.6100154815704\n",
      "1.5 False 0.5117684154518375 577.0385808644527\n",
      "1.5999999999999999 False 0.5032594857908728 490.0991500777094\n",
      "1.7 False 0.5244115114928819 692.3802177920431\n",
      "1.8 False 0.5005121777187421 727.4289827729846\n",
      "1.9 False 0.5023248928147497 834.5833541554496\n",
      "2.0 False 0.4700912612088122 590.7786028422604\n"
     ]
    }
   ],
   "source": [
    "jitter_vals = [True, False]\n",
    "offset_vals= np.linspace(0.1, 2, num=20)\n",
    "\n",
    "results = defaultdict(list)\n",
    "\n",
    "random.seed(5)\n",
    "randoms = [random.randrange(0,100) for _ in range(num_randseeds)]\n",
    "\n",
    "for randval in randoms:\n",
    "    for jval in jitter_vals:\n",
    "        for oval in offset_vals:\n",
    "\n",
    "            method = { \"method\": \"fitted_seedwords\",\n",
    "                      \"feature_dim\" : feature_dim,\n",
    "                      \"numfolds\" : 5,\n",
    "                      \"offset\" : oval,\n",
    "                      \"jitter\" : jval}\n",
    "\n",
    "\n",
    "            theseresults = crossvalidation(devset, method, word_vectors, grandratings_dir, grandfeatures_df, random_seed = randval)\n",
    "            \n",
    "            ocp_mean, _, _ = eval_summary_by(theseresults, \"ocp\")\n",
    "            _, mse_med, _ = eval_summary_by(theseresults, \"mse\")\n",
    "            print(oval, jval, ocp_mean, mse_med)\n",
    "            \n",
    "\n",
    "            for r in theseresults:\n",
    "                r.update({\"offset\":oval, \"j\": jval})\n",
    "                results[ (str(oval), str(jval))].append(r)\n",
    "    \n"
   ]
  },
  {
   "cell_type": "code",
   "execution_count": 11,
   "id": "508cd5a3-9cb4-4bf8-9a03-77b2e47d0486",
   "metadata": {},
   "outputs": [
    {
     "data": {
      "text/html": [
       "<div>\n",
       "<style scoped>\n",
       "    .dataframe tbody tr th:only-of-type {\n",
       "        vertical-align: middle;\n",
       "    }\n",
       "\n",
       "    .dataframe tbody tr th {\n",
       "        vertical-align: top;\n",
       "    }\n",
       "\n",
       "    .dataframe thead th {\n",
       "        text-align: right;\n",
       "    }\n",
       "</style>\n",
       "<table border=\"1\" class=\"dataframe\">\n",
       "  <thead>\n",
       "    <tr style=\"text-align: right;\">\n",
       "      <th></th>\n",
       "      <th>offset</th>\n",
       "      <th>j</th>\n",
       "      <th>ocp_mean</th>\n",
       "      <th>ocp_sd</th>\n",
       "      <th>msemed_mean</th>\n",
       "      <th>msemed_sd</th>\n",
       "    </tr>\n",
       "  </thead>\n",
       "  <tbody>\n",
       "    <tr>\n",
       "      <th>0</th>\n",
       "      <td>0.1</td>\n",
       "      <td>True</td>\n",
       "      <td>0.519317</td>\n",
       "      <td>0.024839</td>\n",
       "      <td>653.367437</td>\n",
       "      <td>490.151221</td>\n",
       "    </tr>\n",
       "    <tr>\n",
       "      <th>1</th>\n",
       "      <td>0.2</td>\n",
       "      <td>True</td>\n",
       "      <td>0.501321</td>\n",
       "      <td>0.026294</td>\n",
       "      <td>614.388751</td>\n",
       "      <td>533.151746</td>\n",
       "    </tr>\n",
       "    <tr>\n",
       "      <th>2</th>\n",
       "      <td>0.3</td>\n",
       "      <td>True</td>\n",
       "      <td>0.510446</td>\n",
       "      <td>0.034954</td>\n",
       "      <td>619.105048</td>\n",
       "      <td>472.827991</td>\n",
       "    </tr>\n",
       "    <tr>\n",
       "      <th>3</th>\n",
       "      <td>0.4</td>\n",
       "      <td>True</td>\n",
       "      <td>0.511690</td>\n",
       "      <td>0.015142</td>\n",
       "      <td>535.493837</td>\n",
       "      <td>418.385712</td>\n",
       "    </tr>\n",
       "    <tr>\n",
       "      <th>4</th>\n",
       "      <td>0.5</td>\n",
       "      <td>True</td>\n",
       "      <td>0.508153</td>\n",
       "      <td>0.019768</td>\n",
       "      <td>779.656323</td>\n",
       "      <td>829.424237</td>\n",
       "    </tr>\n",
       "  </tbody>\n",
       "</table>\n",
       "</div>"
      ],
      "text/plain": [
       "   offset     j  ocp_mean    ocp_sd  msemed_mean   msemed_sd\n",
       "0     0.1  True  0.519317  0.024839   653.367437  490.151221\n",
       "1     0.2  True  0.501321  0.026294   614.388751  533.151746\n",
       "2     0.3  True  0.510446  0.034954   619.105048  472.827991\n",
       "3     0.4  True  0.511690  0.015142   535.493837  418.385712\n",
       "4     0.5  True  0.508153  0.019768   779.656323  829.424237"
      ]
     },
     "execution_count": 11,
     "metadata": {},
     "output_type": "execute_result"
    }
   ],
   "source": [
    "df = pd.DataFrame(eval_hyper(results, [\"offset\", \"j\"]))\n",
    "df.head()\n"
   ]
  },
  {
   "cell_type": "markdown",
   "id": "77edb4f3-99f9-478c-b99e-96e119ba53eb",
   "metadata": {},
   "source": [
    "We plot mean OC_P values, with standard deviation. "
   ]
  },
  {
   "cell_type": "code",
   "execution_count": 12,
   "id": "5ee70047-8dc2-4e25-87f0-f510910443ec",
   "metadata": {
    "tags": []
   },
   "outputs": [
    {
     "data": {
      "text/plain": [
       "<AxesSubplot: xlabel='offset'>"
      ]
     },
     "execution_count": 12,
     "metadata": {},
     "output_type": "execute_result"
    },
    {
     "data": {
      "image/png": "[encoded data removed]",
      "text/plain": [
       "<Figure size 640x480 with 1 Axes>"
      ]
     },
     "metadata": {},
     "output_type": "display_data"
    }
   ],
   "source": [
    "%matplotlib inline\n",
    "df[df.j == False].plot(y = \"ocp_mean\",x = \"offset\", yerr = \"ocp_sd\")"
   ]
  },
  {
   "cell_type": "code",
   "execution_count": 13,
   "id": "eadc3bfa-9a6d-4ee2-a2be-b7915fd5144f",
   "metadata": {},
   "outputs": [
    {
     "data": {
      "text/plain": [
       "<AxesSubplot: xlabel='offset'>"
      ]
     },
     "execution_count": 13,
     "metadata": {},
     "output_type": "execute_result"
    },
    {
     "data": {
      "image/png": "[encoded data removed]",
      "text/plain": [
       "<Figure size 640x480 with 1 Axes>"
      ]
     },
     "metadata": {},
     "output_type": "display_data"
    }
   ],
   "source": [
    "df[df.j == True].plot(y = \"ocp_mean\", x = \"offset\", yerr = \"ocp_sd\")"
   ]
  },
  {
   "cell_type": "markdown",
   "id": "74a80f68-6ce7-46af-990f-fbfe54a465e6",
   "metadata": {},
   "source": [
    "We plot mean values of median MSE, with standard deviation. "
   ]
  },
  {
   "cell_type": "code",
   "execution_count": 14,
   "id": "8e4db552-541f-478b-a4d1-d5dd71d55739",
   "metadata": {
    "tags": []
   },
   "outputs": [
    {
     "data": {
      "text/plain": [
       "<AxesSubplot: xlabel='offset'>"
      ]
     },
     "execution_count": 14,
     "metadata": {},
     "output_type": "execute_result"
    },
    {
     "data": {
      "image/png": "[encoded data removed]",
      "text/plain": [
       "<Figure size 640x480 with 1 Axes>"
      ]
     },
     "metadata": {},
     "output_type": "display_data"
    }
   ],
   "source": [
    "df[df.j == False].plot(y = \"msemed_mean\", x = \"offset\", yerr = \"msemed_sd\")"
   ]
  },
  {
   "cell_type": "code",
   "execution_count": 15,
   "id": "fbe414f6-d6e1-496b-b3f7-f2c77d19a854",
   "metadata": {},
   "outputs": [
    {
     "data": {
      "text/plain": [
       "<AxesSubplot: xlabel='offset'>"
      ]
     },
     "execution_count": 15,
     "metadata": {},
     "output_type": "execute_result"
    },
    {
     "data": {
      "image/png": "[encoded data removed]",
      "text/plain": [
       "<Figure size 640x480 with 1 Axes>"
      ]
     },
     "metadata": {},
     "output_type": "display_data"
    }
   ],
   "source": [
    "df[df.j == True].plot(y = \"msemed_mean\", x = \"offset\", yerr = \"msemed_sd\")"
   ]
  },
  {
   "cell_type": "markdown",
   "id": "6e2cbb0c-3fe5-4982-860c-b4fbac0f9e4e",
   "metadata": {},
   "source": [
    "### Parameters for seeds as words\n",
    "\n",
    "\n",
    "**BERT, last 4 layers**:\n",
    "\n",
    "The differences in performance are small compared to the error bars. So we go with an **offset of 1.0 with no jitter**, same as for GLoVE.  \n",
    "**RoBERTA, last 4 layers**:\n",
    "\n",
    "We again go with an **offset of 1.0 with no jitter**, for the same reason.\n"
   ]
  },
  {
   "cell_type": "code",
   "execution_count": 16,
   "id": "d5c9e9e2-b17f-45a0-b618-06c01b010a67",
   "metadata": {
    "tags": []
   },
   "outputs": [
    {
     "data": {
      "text/html": [
       "<div>\n",
       "<style scoped>\n",
       "    .dataframe tbody tr th:only-of-type {\n",
       "        vertical-align: middle;\n",
       "    }\n",
       "\n",
       "    .dataframe tbody tr th {\n",
       "        vertical-align: top;\n",
       "    }\n",
       "\n",
       "    .dataframe thead th {\n",
       "        text-align: right;\n",
       "    }\n",
       "</style>\n",
       "<table border=\"1\" class=\"dataframe\">\n",
       "  <thead>\n",
       "    <tr style=\"text-align: right;\">\n",
       "      <th></th>\n",
       "      <th>offset</th>\n",
       "      <th>j</th>\n",
       "      <th>ocp_mean</th>\n",
       "      <th>ocp_sd</th>\n",
       "      <th>msemed_mean</th>\n",
       "      <th>msemed_sd</th>\n",
       "    </tr>\n",
       "  </thead>\n",
       "  <tbody>\n",
       "    <tr>\n",
       "      <th>7</th>\n",
       "      <td>0.8</td>\n",
       "      <td>True</td>\n",
       "      <td>0.521832</td>\n",
       "      <td>0.028791</td>\n",
       "      <td>578.075996</td>\n",
       "      <td>525.268923</td>\n",
       "    </tr>\n",
       "    <tr>\n",
       "      <th>36</th>\n",
       "      <td>1.7</td>\n",
       "      <td>False</td>\n",
       "      <td>0.521680</td>\n",
       "      <td>0.019883</td>\n",
       "      <td>506.090133</td>\n",
       "      <td>393.371959</td>\n",
       "    </tr>\n",
       "    <tr>\n",
       "      <th>23</th>\n",
       "      <td>0.4</td>\n",
       "      <td>False</td>\n",
       "      <td>0.521096</td>\n",
       "      <td>0.025262</td>\n",
       "      <td>499.820214</td>\n",
       "      <td>418.779837</td>\n",
       "    </tr>\n",
       "    <tr>\n",
       "      <th>0</th>\n",
       "      <td>0.1</td>\n",
       "      <td>True</td>\n",
       "      <td>0.519317</td>\n",
       "      <td>0.024839</td>\n",
       "      <td>653.367437</td>\n",
       "      <td>490.151221</td>\n",
       "    </tr>\n",
       "    <tr>\n",
       "      <th>5</th>\n",
       "      <td>0.6</td>\n",
       "      <td>True</td>\n",
       "      <td>0.519115</td>\n",
       "      <td>0.011173</td>\n",
       "      <td>707.025369</td>\n",
       "      <td>450.624359</td>\n",
       "    </tr>\n",
       "    <tr>\n",
       "      <th>25</th>\n",
       "      <td>0.6</td>\n",
       "      <td>False</td>\n",
       "      <td>0.519062</td>\n",
       "      <td>0.020666</td>\n",
       "      <td>370.805003</td>\n",
       "      <td>281.552679</td>\n",
       "    </tr>\n",
       "    <tr>\n",
       "      <th>32</th>\n",
       "      <td>1.3</td>\n",
       "      <td>False</td>\n",
       "      <td>0.516523</td>\n",
       "      <td>0.018936</td>\n",
       "      <td>425.550778</td>\n",
       "      <td>222.117702</td>\n",
       "    </tr>\n",
       "    <tr>\n",
       "      <th>38</th>\n",
       "      <td>1.9</td>\n",
       "      <td>False</td>\n",
       "      <td>0.515623</td>\n",
       "      <td>0.020614</td>\n",
       "      <td>575.059077</td>\n",
       "      <td>359.800000</td>\n",
       "    </tr>\n",
       "    <tr>\n",
       "      <th>17</th>\n",
       "      <td>1.8</td>\n",
       "      <td>True</td>\n",
       "      <td>0.515313</td>\n",
       "      <td>0.021939</td>\n",
       "      <td>390.559905</td>\n",
       "      <td>234.028728</td>\n",
       "    </tr>\n",
       "    <tr>\n",
       "      <th>14</th>\n",
       "      <td>1.5</td>\n",
       "      <td>True</td>\n",
       "      <td>0.514091</td>\n",
       "      <td>0.025889</td>\n",
       "      <td>599.066405</td>\n",
       "      <td>444.528294</td>\n",
       "    </tr>\n",
       "  </tbody>\n",
       "</table>\n",
       "</div>"
      ],
      "text/plain": [
       "    offset      j  ocp_mean    ocp_sd  msemed_mean   msemed_sd\n",
       "7      0.8   True  0.521832  0.028791   578.075996  525.268923\n",
       "36     1.7  False  0.521680  0.019883   506.090133  393.371959\n",
       "23     0.4  False  0.521096  0.025262   499.820214  418.779837\n",
       "0      0.1   True  0.519317  0.024839   653.367437  490.151221\n",
       "5      0.6   True  0.519115  0.011173   707.025369  450.624359\n",
       "25     0.6  False  0.519062  0.020666   370.805003  281.552679\n",
       "32     1.3  False  0.516523  0.018936   425.550778  222.117702\n",
       "38     1.9  False  0.515623  0.020614   575.059077  359.800000\n",
       "17     1.8   True  0.515313  0.021939   390.559905  234.028728\n",
       "14     1.5   True  0.514091  0.025889   599.066405  444.528294"
      ]
     },
     "execution_count": 16,
     "metadata": {},
     "output_type": "execute_result"
    }
   ],
   "source": [
    "df.sort_values(by = \"ocp_mean\", ascending = False).head(10)"
   ]
  },
  {
   "cell_type": "code",
   "execution_count": 17,
   "id": "e4e0541c-7bcb-46fe-83b5-106b8da160b9",
   "metadata": {
    "tags": []
   },
   "outputs": [
    {
     "data": {
      "text/html": [
       "<div>\n",
       "<style scoped>\n",
       "    .dataframe tbody tr th:only-of-type {\n",
       "        vertical-align: middle;\n",
       "    }\n",
       "\n",
       "    .dataframe tbody tr th {\n",
       "        vertical-align: top;\n",
       "    }\n",
       "\n",
       "    .dataframe thead th {\n",
       "        text-align: right;\n",
       "    }\n",
       "</style>\n",
       "<table border=\"1\" class=\"dataframe\">\n",
       "  <thead>\n",
       "    <tr style=\"text-align: right;\">\n",
       "      <th></th>\n",
       "      <th>offset</th>\n",
       "      <th>j</th>\n",
       "      <th>ocp_mean</th>\n",
       "      <th>ocp_sd</th>\n",
       "      <th>msemed_mean</th>\n",
       "      <th>msemed_sd</th>\n",
       "    </tr>\n",
       "  </thead>\n",
       "  <tbody>\n",
       "    <tr>\n",
       "      <th>25</th>\n",
       "      <td>0.6</td>\n",
       "      <td>False</td>\n",
       "      <td>0.519062</td>\n",
       "      <td>0.020666</td>\n",
       "      <td>370.805003</td>\n",
       "      <td>281.552679</td>\n",
       "    </tr>\n",
       "    <tr>\n",
       "      <th>17</th>\n",
       "      <td>1.8</td>\n",
       "      <td>True</td>\n",
       "      <td>0.515313</td>\n",
       "      <td>0.021939</td>\n",
       "      <td>390.559905</td>\n",
       "      <td>234.028728</td>\n",
       "    </tr>\n",
       "    <tr>\n",
       "      <th>15</th>\n",
       "      <td>1.6</td>\n",
       "      <td>True</td>\n",
       "      <td>0.505456</td>\n",
       "      <td>0.017935</td>\n",
       "      <td>402.236877</td>\n",
       "      <td>264.206267</td>\n",
       "    </tr>\n",
       "    <tr>\n",
       "      <th>33</th>\n",
       "      <td>1.4</td>\n",
       "      <td>False</td>\n",
       "      <td>0.504353</td>\n",
       "      <td>0.012927</td>\n",
       "      <td>420.140474</td>\n",
       "      <td>384.769227</td>\n",
       "    </tr>\n",
       "    <tr>\n",
       "      <th>32</th>\n",
       "      <td>1.3</td>\n",
       "      <td>False</td>\n",
       "      <td>0.516523</td>\n",
       "      <td>0.018936</td>\n",
       "      <td>425.550778</td>\n",
       "      <td>222.117702</td>\n",
       "    </tr>\n",
       "    <tr>\n",
       "      <th>35</th>\n",
       "      <td>1.6</td>\n",
       "      <td>False</td>\n",
       "      <td>0.513122</td>\n",
       "      <td>0.021648</td>\n",
       "      <td>428.070257</td>\n",
       "      <td>210.673848</td>\n",
       "    </tr>\n",
       "    <tr>\n",
       "      <th>9</th>\n",
       "      <td>1.0</td>\n",
       "      <td>True</td>\n",
       "      <td>0.513282</td>\n",
       "      <td>0.023426</td>\n",
       "      <td>436.545557</td>\n",
       "      <td>308.682036</td>\n",
       "    </tr>\n",
       "    <tr>\n",
       "      <th>20</th>\n",
       "      <td>0.1</td>\n",
       "      <td>False</td>\n",
       "      <td>0.499188</td>\n",
       "      <td>0.013633</td>\n",
       "      <td>440.657975</td>\n",
       "      <td>267.289688</td>\n",
       "    </tr>\n",
       "    <tr>\n",
       "      <th>8</th>\n",
       "      <td>0.9</td>\n",
       "      <td>True</td>\n",
       "      <td>0.495774</td>\n",
       "      <td>0.022090</td>\n",
       "      <td>452.346648</td>\n",
       "      <td>324.858229</td>\n",
       "    </tr>\n",
       "    <tr>\n",
       "      <th>11</th>\n",
       "      <td>1.2</td>\n",
       "      <td>True</td>\n",
       "      <td>0.500579</td>\n",
       "      <td>0.033631</td>\n",
       "      <td>469.568919</td>\n",
       "      <td>295.597325</td>\n",
       "    </tr>\n",
       "  </tbody>\n",
       "</table>\n",
       "</div>"
      ],
      "text/plain": [
       "    offset      j  ocp_mean    ocp_sd  msemed_mean   msemed_sd\n",
       "25     0.6  False  0.519062  0.020666   370.805003  281.552679\n",
       "17     1.8   True  0.515313  0.021939   390.559905  234.028728\n",
       "15     1.6   True  0.505456  0.017935   402.236877  264.206267\n",
       "33     1.4  False  0.504353  0.012927   420.140474  384.769227\n",
       "32     1.3  False  0.516523  0.018936   425.550778  222.117702\n",
       "35     1.6  False  0.513122  0.021648   428.070257  210.673848\n",
       "9      1.0   True  0.513282  0.023426   436.545557  308.682036\n",
       "20     0.1  False  0.499188  0.013633   440.657975  267.289688\n",
       "8      0.9   True  0.495774  0.022090   452.346648  324.858229\n",
       "11     1.2   True  0.500579  0.033631   469.568919  295.597325"
      ]
     },
     "execution_count": 17,
     "metadata": {},
     "output_type": "execute_result"
    }
   ],
   "source": [
    "df.sort_values(by = \"msemed_mean\", ascending = True).head(10)"
   ]
  },
  {
   "cell_type": "markdown",
   "id": "eba6a9b6-e6b3-4c67-a0b4-a9c02f226a71",
   "metadata": {},
   "source": [
    "## Fitted dimensions with seeds as dimensions: alpha, averaging\n",
    "\n",
    "We first run an exploration, with only one random seed."
   ]
  },
  {
   "cell_type": "code",
   "execution_count": 18,
   "id": "e8b6afcc-ebc2-474c-8ac4-3beed7921995",
   "metadata": {
    "tags": []
   },
   "outputs": [
    {
     "name": "stdout",
     "output_type": "stream",
     "text": [
      "0.001 True 0.5978297827046625 48.778391788721976\n",
      "0.028666666666666667 True 0.5624267261298378 155.10117439157207\n",
      "0.05633333333333333 True 0.5589523651429043 170.4281019393012\n",
      "0.08399999999999999 True 0.5598345545293743 220.52422262778938\n",
      "0.11166666666666666 True 0.5533250976433179 172.39931806005671\n",
      "0.13933333333333334 True 0.5170903344783504 168.0564265512008\n",
      "0.16699999999999998 True 0.5399425624594267 124.68316328980325\n",
      "0.19466666666666665 True 0.5443637590436113 200.57812376903462\n",
      "0.22233333333333333 True 0.5349177090066608 180.30095987935294\n",
      "0.25 True 0.5128134676476198 141.28595939642332\n",
      "0.001 False 0.5862376528381368 45.735321517055425\n",
      "0.028666666666666667 False 0.536789002228029 186.63049000303508\n",
      "0.05633333333333333 False 0.5331232402744444 193.72679660639864\n",
      "0.08399999999999999 False 0.5109286837046516 141.87346116315493\n",
      "0.11166666666666666 False 0.4980896024117603 180.52120672667496\n",
      "0.13933333333333334 False 0.5102131735828737 201.62993780749812\n",
      "0.16699999999999998 False 0.5260264378792853 175.00255272995912\n",
      "0.19466666666666665 False 0.536545230394959 255.7694338881364\n",
      "0.22233333333333333 False 0.5119354724392426 172.8919188827296\n",
      "0.25 False 0.5118258738979027 216.86289255752007\n"
     ]
    }
   ],
   "source": [
    "average_vals = [True, False]\n",
    "alpha_vals= np.linspace(0.001, 0.25, num=10)\n",
    "\n",
    "results = defaultdict(list)\n",
    "\n",
    "randoms = [123]\n",
    "\n",
    "for randval in randoms:\n",
    "    for avgval in average_vals:\n",
    "        for alphaval in alpha_vals:\n",
    "\n",
    "            method = { \"method\": \"fitted_seeddims\",\n",
    "                      \"feature_dim\" : feature_dim,\n",
    "                      \"numfolds\" : 5,\n",
    "                      \"do_average\" : avgval,\n",
    "                      \"alpha\" : alphaval}\n",
    "\n",
    "\n",
    "            theseresults = crossvalidation(devset, method, word_vectors, grandratings_dir, grandfeatures_df, random_seed = randval)\n",
    "            \n",
    "            ocp_mean, _, _ = eval_summary_by(theseresults, \"ocp\")\n",
    "            _, mse_med, _ = eval_summary_by(theseresults, \"mse\")\n",
    "            print(alphaval, avgval, ocp_mean, mse_med)\n",
    "            \n",
    "            for r in theseresults:\n",
    "                r.update({\"alpha\":alphaval, \"avg\": avgval})\n",
    "                results[ (str(alphaval), str(avgval))].append(r)            \n",
    "\n"
   ]
  },
  {
   "cell_type": "code",
   "execution_count": 19,
   "id": "c93ff7aa-b0e3-436c-92fd-51b8f30d907b",
   "metadata": {},
   "outputs": [
    {
     "data": {
      "text/html": [
       "<div>\n",
       "<style scoped>\n",
       "    .dataframe tbody tr th:only-of-type {\n",
       "        vertical-align: middle;\n",
       "    }\n",
       "\n",
       "    .dataframe tbody tr th {\n",
       "        vertical-align: top;\n",
       "    }\n",
       "\n",
       "    .dataframe thead th {\n",
       "        text-align: right;\n",
       "    }\n",
       "</style>\n",
       "<table border=\"1\" class=\"dataframe\">\n",
       "  <thead>\n",
       "    <tr style=\"text-align: right;\">\n",
       "      <th></th>\n",
       "      <th>alpha</th>\n",
       "      <th>avg</th>\n",
       "      <th>ocp_mean</th>\n",
       "      <th>ocp_sd</th>\n",
       "      <th>msemed_mean</th>\n",
       "      <th>msemed_sd</th>\n",
       "    </tr>\n",
       "  </thead>\n",
       "  <tbody>\n",
       "    <tr>\n",
       "      <th>0</th>\n",
       "      <td>0.001000</td>\n",
       "      <td>True</td>\n",
       "      <td>0.597830</td>\n",
       "      <td>0.082319</td>\n",
       "      <td>274.434055</td>\n",
       "      <td>467.802242</td>\n",
       "    </tr>\n",
       "    <tr>\n",
       "      <th>1</th>\n",
       "      <td>0.028667</td>\n",
       "      <td>True</td>\n",
       "      <td>0.562427</td>\n",
       "      <td>0.101798</td>\n",
       "      <td>513.623034</td>\n",
       "      <td>688.757033</td>\n",
       "    </tr>\n",
       "    <tr>\n",
       "      <th>2</th>\n",
       "      <td>0.056333</td>\n",
       "      <td>True</td>\n",
       "      <td>0.558952</td>\n",
       "      <td>0.057624</td>\n",
       "      <td>1385.035322</td>\n",
       "      <td>2103.543825</td>\n",
       "    </tr>\n",
       "    <tr>\n",
       "      <th>3</th>\n",
       "      <td>0.084000</td>\n",
       "      <td>True</td>\n",
       "      <td>0.559835</td>\n",
       "      <td>0.072037</td>\n",
       "      <td>625.118019</td>\n",
       "      <td>829.646440</td>\n",
       "    </tr>\n",
       "    <tr>\n",
       "      <th>4</th>\n",
       "      <td>0.111667</td>\n",
       "      <td>True</td>\n",
       "      <td>0.553325</td>\n",
       "      <td>0.065428</td>\n",
       "      <td>2040.797946</td>\n",
       "      <td>4338.094828</td>\n",
       "    </tr>\n",
       "  </tbody>\n",
       "</table>\n",
       "</div>"
      ],
      "text/plain": [
       "      alpha   avg  ocp_mean    ocp_sd  msemed_mean    msemed_sd\n",
       "0  0.001000  True  0.597830  0.082319   274.434055   467.802242\n",
       "1  0.028667  True  0.562427  0.101798   513.623034   688.757033\n",
       "2  0.056333  True  0.558952  0.057624  1385.035322  2103.543825\n",
       "3  0.084000  True  0.559835  0.072037   625.118019   829.646440\n",
       "4  0.111667  True  0.553325  0.065428  2040.797946  4338.094828"
      ]
     },
     "execution_count": 19,
     "metadata": {},
     "output_type": "execute_result"
    }
   ],
   "source": [
    "df = pd.DataFrame(eval_hyper(results, [\"alpha\", \"avg\"]))\n",
    "df.head()\n"
   ]
  },
  {
   "cell_type": "code",
   "execution_count": 20,
   "id": "9cac3da0-eeb1-447a-8a01-ccdd4e24d465",
   "metadata": {
    "tags": []
   },
   "outputs": [
    {
     "data": {
      "text/plain": [
       "<AxesSubplot: xlabel='alpha'>"
      ]
     },
     "execution_count": 20,
     "metadata": {},
     "output_type": "execute_result"
    },
    {
     "data": {
      "image/png": "[encoded data removed]",
      "text/plain": [
       "<Figure size 640x480 with 1 Axes>"
      ]
     },
     "metadata": {},
     "output_type": "display_data"
    }
   ],
   "source": [
    "df[df.avg == True].sort_values(by = \"alpha\").plot(x = \"alpha\", y = \"ocp_mean\", yerr = \"ocp_sd\")"
   ]
  },
  {
   "cell_type": "code",
   "execution_count": 21,
   "id": "5492a999-08b0-4084-b397-6d74c4579cc1",
   "metadata": {
    "tags": []
   },
   "outputs": [
    {
     "data": {
      "text/plain": [
       "<AxesSubplot: xlabel='alpha'>"
      ]
     },
     "execution_count": 21,
     "metadata": {},
     "output_type": "execute_result"
    },
    {
     "data": {
      "image/png": "[encoded data removed]",
      "text/plain": [
       "<Figure size 640x480 with 1 Axes>"
      ]
     },
     "metadata": {},
     "output_type": "display_data"
    }
   ],
   "source": [
    "df[df.avg == False].sort_values(by = \"alpha\").plot(x = \"alpha\", y = \"ocp_mean\", yerr = \"ocp_sd\")"
   ]
  },
  {
   "cell_type": "code",
   "execution_count": 22,
   "id": "e051283d-d465-47bc-a3d3-347b656e2828",
   "metadata": {
    "tags": []
   },
   "outputs": [
    {
     "data": {
      "text/plain": [
       "<AxesSubplot: xlabel='alpha'>"
      ]
     },
     "execution_count": 22,
     "metadata": {},
     "output_type": "execute_result"
    },
    {
     "data": {
      "image/png": "[encoded data removed]",
      "text/plain": [
       "<Figure size 640x480 with 1 Axes>"
      ]
     },
     "metadata": {},
     "output_type": "display_data"
    }
   ],
   "source": [
    "df[df.avg == True].sort_values(by = \"alpha\").plot(x = \"alpha\", y = \"msemed_mean\", yerr = \"msemed_sd\")"
   ]
  },
  {
   "cell_type": "code",
   "execution_count": 23,
   "id": "5e5ced53-da85-4510-b083-cac6724c3755",
   "metadata": {
    "tags": []
   },
   "outputs": [
    {
     "data": {
      "text/plain": [
       "<AxesSubplot: xlabel='alpha'>"
      ]
     },
     "execution_count": 23,
     "metadata": {},
     "output_type": "execute_result"
    },
    {
     "data": {
      "image/png": "[encoded data removed]",
      "text/plain": [
       "<Figure size 640x480 with 1 Axes>"
      ]
     },
     "metadata": {},
     "output_type": "display_data"
    }
   ],
   "source": [
    "df[df.avg == False].sort_values(by = \"alpha\").plot(x = \"alpha\", y = \"msemed_mean\", yerr = \"msemed_sd\")"
   ]
  },
  {
   "cell_type": "markdown",
   "id": "ac4bf724-b81a-4ff7-a1b0-789e3efca8b7",
   "metadata": {},
   "source": [
    "We see that overall the performance is best, in terms of both OC_P and MSE, for small values of alpha, though again there is a large error bar. We explore the low range of alpha in more detail, both with and without averaging. "
   ]
  },
  {
   "cell_type": "code",
   "execution_count": 24,
   "id": "aa8b4878-1f15-4afd-a555-c85482a9e4f8",
   "metadata": {
    "tags": []
   },
   "outputs": [
    {
     "name": "stdout",
     "output_type": "stream",
     "text": [
      "0.001 True 0.6061059742988517 21.0274260242204\n",
      "0.017555555555555557 True 0.603482972731481 119.06622282534917\n",
      "0.03411111111111111 True 0.5826766949734437 155.22386444500535\n",
      "0.050666666666666665 True 0.5547979831091828 123.3098844260104\n",
      "0.06722222222222222 True 0.5517774201233031 189.200689804356\n",
      "0.08377777777777778 True 0.5588618749814614 218.8054360863221\n",
      "0.10033333333333333 True 0.5442158790867895 188.4424849499424\n",
      "0.11688888888888889 True 0.583342351612678 260.10004359466876\n",
      "0.13344444444444445 True 0.5319741079431237 251.9716684860744\n",
      "0.15 True 0.5346244731242399 202.84392606102915\n",
      "0.001 False 0.6105703939883756 48.148095071796604\n",
      "0.017555555555555557 False 0.582568554018323 121.09774683215774\n",
      "0.03411111111111111 False 0.5694762390183596 161.73292110209306\n",
      "0.050666666666666665 False 0.5539962762630303 220.5335170836048\n",
      "0.06722222222222222 False 0.546210563808377 227.41334483847936\n",
      "0.08377777777777778 False 0.5427076930452868 168.05635322502235\n",
      "0.10033333333333333 False 0.5418655022526669 341.32541761984305\n",
      "0.11688888888888889 False 0.5473344072539875 176.55302457109912\n",
      "0.13344444444444445 False 0.5437085356645768 304.9623453592561\n",
      "0.15 False 0.5497870008007577 260.87866071150194\n",
      "0.001 True 0.5972560942022243 20.63296123591514\n",
      "0.017555555555555557 True 0.5965484315975826 231.9047979911554\n",
      "0.03411111111111111 True 0.5653771498927357 206.6231413201359\n",
      "0.050666666666666665 True 0.5359179350243122 194.62106900389978\n",
      "0.06722222222222222 True 0.5543890393834954 183.14299948678917\n",
      "0.08377777777777778 True 0.5657792489506126 251.2359177812126\n",
      "0.10033333333333333 True 0.5236702498163001 357.5023125541991\n",
      "0.11688888888888889 True 0.49589761014030775 272.6567319870006\n",
      "0.13344444444444445 True 0.5389558322557533 293.39762161310455\n",
      "0.15 True 0.5137331543432039 351.79444961408774\n",
      "0.001 False 0.6022677620615263 43.01774695525727\n",
      "0.017555555555555557 False 0.5621391576835136 214.8102676989929\n",
      "0.03411111111111111 False 0.552026782500938 492.74905506728396\n",
      "0.050666666666666665 False 0.5280973037675856 173.68521523045723\n",
      "0.06722222222222222 False 0.5204389234619573 296.2308745466604\n",
      "0.08377777777777778 False 0.49335217610650267 395.36600835263584\n",
      "0.10033333333333333 False 0.5138075829137948 589.344690386497\n",
      "0.11688888888888889 False 0.5051838293706362 380.3063629554544\n",
      "0.13344444444444445 False 0.5160858679862593 470.0102616485658\n",
      "0.15 False 0.4957019283048074 546.9494321638318\n",
      "0.001 True 0.5916191684471025 30.535474221845202\n",
      "0.017555555555555557 True 0.5653263324229149 78.51645651200356\n",
      "0.03411111111111111 True 0.5734686156808703 185.81556042634878\n",
      "0.050666666666666665 True 0.5584169978914949 183.0882660096686\n",
      "0.06722222222222222 True 0.586867212788697 329.7924923527987\n",
      "0.08377777777777778 True 0.5687436950982647 309.212718495711\n",
      "0.10033333333333333 True 0.5729190512815089 606.3458619660103\n",
      "0.11688888888888889 True 0.5641502547958719 911.820102247086\n",
      "0.13344444444444445 True 0.5445578010089143 510.3503318596572\n",
      "0.15 True 0.5507267632619901 1101.183760090905\n",
      "0.001 False 0.5806691382452794 42.6080569843085\n",
      "0.017555555555555557 False 0.5844892908151207 242.9546038680572\n",
      "0.03411111111111111 False 0.5418363402299784 177.02562537106536\n",
      "0.050666666666666665 False 0.5409863201824129 387.2415119698918\n",
      "0.06722222222222222 False 0.5434920795540588 275.10876645661983\n",
      "0.08377777777777778 False 0.5410307491011581 644.5257291828468\n",
      "0.10033333333333333 False 0.5593544411465731 879.4899368010354\n",
      "0.11688888888888889 False 0.5050275197403197 772.8709782852288\n",
      "0.13344444444444445 False 0.5051507747439026 602.7208153817188\n",
      "0.15 False 0.5009880118604223 1025.516216793941\n"
     ]
    }
   ],
   "source": [
    "average_vals = [True, False]\n",
    "alpha_vals= np.linspace(0.001, 0.15, num=10)\n",
    "\n",
    "results = defaultdict(list)\n",
    "\n",
    "random.seed(5)\n",
    "randoms = [random.randrange(0,100) for _ in range(num_randseeds)]\n",
    "\n",
    "for randval in randoms:\n",
    "    for avgval in average_vals:\n",
    "        for alphaval in alpha_vals:\n",
    "\n",
    "            method = { \"method\": \"fitted_seeddims\",\n",
    "                      \"feature_dim\" : feature_dim,\n",
    "                      \"numfolds\" : 5,\n",
    "                      \"do_average\" : avgval,\n",
    "                      \"alpha\" : alphaval}\n",
    "\n",
    "\n",
    "            theseresults = crossvalidation(devset, method, word_vectors, grandratings_dir, grandfeatures_df, random_seed = randval)\n",
    "            \n",
    "            ocp_mean, _, _ = eval_summary_by(theseresults, \"ocp\")\n",
    "            _, mse_med, _ = eval_summary_by(theseresults, \"mse\")\n",
    "            print(alphaval, avgval, ocp_mean, mse_med)\n",
    "            \n",
    "            \n",
    "            for r in theseresults:\n",
    "                r.update({\"alpha\":alphaval, \"avg\": avgval})\n",
    "                results[ (str(alphaval), str(avgval))].append(r) "
   ]
  },
  {
   "cell_type": "code",
   "execution_count": 25,
   "id": "26c910fd-f481-4cf2-ac32-9522ecc71a47",
   "metadata": {},
   "outputs": [
    {
     "data": {
      "text/html": [
       "<div>\n",
       "<style scoped>\n",
       "    .dataframe tbody tr th:only-of-type {\n",
       "        vertical-align: middle;\n",
       "    }\n",
       "\n",
       "    .dataframe tbody tr th {\n",
       "        vertical-align: top;\n",
       "    }\n",
       "\n",
       "    .dataframe thead th {\n",
       "        text-align: right;\n",
       "    }\n",
       "</style>\n",
       "<table border=\"1\" class=\"dataframe\">\n",
       "  <thead>\n",
       "    <tr style=\"text-align: right;\">\n",
       "      <th></th>\n",
       "      <th>alpha</th>\n",
       "      <th>avg</th>\n",
       "      <th>ocp_mean</th>\n",
       "      <th>ocp_sd</th>\n",
       "      <th>msemed_mean</th>\n",
       "      <th>msemed_sd</th>\n",
       "    </tr>\n",
       "  </thead>\n",
       "  <tbody>\n",
       "    <tr>\n",
       "      <th>0</th>\n",
       "      <td>0.001000</td>\n",
       "      <td>True</td>\n",
       "      <td>0.598327</td>\n",
       "      <td>0.101552</td>\n",
       "      <td>91.723966</td>\n",
       "      <td>121.674002</td>\n",
       "    </tr>\n",
       "    <tr>\n",
       "      <th>1</th>\n",
       "      <td>0.017556</td>\n",
       "      <td>True</td>\n",
       "      <td>0.588453</td>\n",
       "      <td>0.064183</td>\n",
       "      <td>238.076891</td>\n",
       "      <td>224.754615</td>\n",
       "    </tr>\n",
       "    <tr>\n",
       "      <th>2</th>\n",
       "      <td>0.034111</td>\n",
       "      <td>True</td>\n",
       "      <td>0.573841</td>\n",
       "      <td>0.066443</td>\n",
       "      <td>476.197925</td>\n",
       "      <td>583.975612</td>\n",
       "    </tr>\n",
       "    <tr>\n",
       "      <th>3</th>\n",
       "      <td>0.050667</td>\n",
       "      <td>True</td>\n",
       "      <td>0.549711</td>\n",
       "      <td>0.075664</td>\n",
       "      <td>524.539363</td>\n",
       "      <td>840.362310</td>\n",
       "    </tr>\n",
       "    <tr>\n",
       "      <th>4</th>\n",
       "      <td>0.067222</td>\n",
       "      <td>True</td>\n",
       "      <td>0.564345</td>\n",
       "      <td>0.076978</td>\n",
       "      <td>488.661462</td>\n",
       "      <td>463.025208</td>\n",
       "    </tr>\n",
       "  </tbody>\n",
       "</table>\n",
       "</div>"
      ],
      "text/plain": [
       "      alpha   avg  ocp_mean    ocp_sd  msemed_mean   msemed_sd\n",
       "0  0.001000  True  0.598327  0.101552    91.723966  121.674002\n",
       "1  0.017556  True  0.588453  0.064183   238.076891  224.754615\n",
       "2  0.034111  True  0.573841  0.066443   476.197925  583.975612\n",
       "3  0.050667  True  0.549711  0.075664   524.539363  840.362310\n",
       "4  0.067222  True  0.564345  0.076978   488.661462  463.025208"
      ]
     },
     "execution_count": 25,
     "metadata": {},
     "output_type": "execute_result"
    }
   ],
   "source": [
    "df = pd.DataFrame(eval_hyper(results, [\"alpha\", \"avg\"]))\n",
    "df.head()\n"
   ]
  },
  {
   "cell_type": "markdown",
   "id": "fb162516-c659-4e4c-a7df-515ce91b0141",
   "metadata": {},
   "source": [
    "We again plot average OC_P mean and MSE median values, with error bars. "
   ]
  },
  {
   "cell_type": "code",
   "execution_count": 26,
   "id": "e1d505b2-c77e-437d-83bf-d37433647f3d",
   "metadata": {
    "tags": []
   },
   "outputs": [
    {
     "data": {
      "text/plain": [
       "<AxesSubplot: xlabel='alpha'>"
      ]
     },
     "execution_count": 26,
     "metadata": {},
     "output_type": "execute_result"
    },
    {
     "data": {
      "image/png": "[encoded data removed]",
      "text/plain": [
       "<Figure size 640x480 with 1 Axes>"
      ]
     },
     "metadata": {},
     "output_type": "display_data"
    }
   ],
   "source": [
    "%matplotlib inline\n",
    "\n",
    "df[df.avg == True].plot(y = \"ocp_mean\", x = \"alpha\", yerr = \"ocp_sd\")"
   ]
  },
  {
   "cell_type": "code",
   "execution_count": 27,
   "id": "eb3ca7ea-87b0-4b0f-9ba4-f21c0ff5f592",
   "metadata": {
    "tags": []
   },
   "outputs": [
    {
     "data": {
      "text/plain": [
       "<AxesSubplot: xlabel='alpha'>"
      ]
     },
     "execution_count": 27,
     "metadata": {},
     "output_type": "execute_result"
    },
    {
     "data": {
      "image/png": "[encoded data removed]",
      "text/plain": [
       "<Figure size 640x480 with 1 Axes>"
      ]
     },
     "metadata": {},
     "output_type": "display_data"
    }
   ],
   "source": [
    "df[df.avg == False].plot(y = \"ocp_mean\", x = \"alpha\", yerr = \"ocp_sd\")"
   ]
  },
  {
   "cell_type": "code",
   "execution_count": 28,
   "id": "8f54e721-8ad9-4b1c-a9c5-3c2da3f79032",
   "metadata": {
    "tags": []
   },
   "outputs": [
    {
     "data": {
      "text/plain": [
       "<AxesSubplot: xlabel='alpha'>"
      ]
     },
     "execution_count": 28,
     "metadata": {},
     "output_type": "execute_result"
    },
    {
     "data": {
      "image/png": "[encoded data removed]",
      "text/plain": [
       "<Figure size 640x480 with 1 Axes>"
      ]
     },
     "metadata": {},
     "output_type": "display_data"
    }
   ],
   "source": [
    "df[df.avg == False].plot(y = \"msemed_mean\", x = \"alpha\", yerr = \"msemed_sd\")"
   ]
  },
  {
   "cell_type": "code",
   "execution_count": 29,
   "id": "13224ce9-da15-4be2-9ef1-29369a52bb2b",
   "metadata": {
    "tags": []
   },
   "outputs": [
    {
     "data": {
      "text/plain": [
       "<AxesSubplot: xlabel='alpha'>"
      ]
     },
     "execution_count": 29,
     "metadata": {},
     "output_type": "execute_result"
    },
    {
     "data": {
      "image/png": "[encoded data removed]",
      "text/plain": [
       "<Figure size 640x480 with 1 Axes>"
      ]
     },
     "metadata": {},
     "output_type": "display_data"
    }
   ],
   "source": [
    "df[df.avg == True].plot(y = \"msemed_mean\", x = \"alpha\", yerr = \"msemed_sd\")"
   ]
  },
  {
   "cell_type": "markdown",
   "id": "790c27ee-a06b-4ee0-a0d7-4103f08e0d3d",
   "metadata": {},
   "source": [
    "We again look at the numbers."
   ]
  },
  {
   "cell_type": "code",
   "execution_count": 30,
   "id": "627fc447-eb9a-4211-b6fd-a86e24b4f562",
   "metadata": {
    "tags": []
   },
   "outputs": [
    {
     "data": {
      "text/html": [
       "<div>\n",
       "<style scoped>\n",
       "    .dataframe tbody tr th:only-of-type {\n",
       "        vertical-align: middle;\n",
       "    }\n",
       "\n",
       "    .dataframe tbody tr th {\n",
       "        vertical-align: top;\n",
       "    }\n",
       "\n",
       "    .dataframe thead th {\n",
       "        text-align: right;\n",
       "    }\n",
       "</style>\n",
       "<table border=\"1\" class=\"dataframe\">\n",
       "  <thead>\n",
       "    <tr style=\"text-align: right;\">\n",
       "      <th></th>\n",
       "      <th>alpha</th>\n",
       "      <th>avg</th>\n",
       "      <th>ocp_mean</th>\n",
       "      <th>ocp_sd</th>\n",
       "      <th>msemed_mean</th>\n",
       "      <th>msemed_sd</th>\n",
       "    </tr>\n",
       "  </thead>\n",
       "  <tbody>\n",
       "    <tr>\n",
       "      <th>0</th>\n",
       "      <td>0.001000</td>\n",
       "      <td>True</td>\n",
       "      <td>0.598327</td>\n",
       "      <td>0.101552</td>\n",
       "      <td>91.723966</td>\n",
       "      <td>121.674002</td>\n",
       "    </tr>\n",
       "    <tr>\n",
       "      <th>1</th>\n",
       "      <td>0.017556</td>\n",
       "      <td>True</td>\n",
       "      <td>0.588453</td>\n",
       "      <td>0.064183</td>\n",
       "      <td>238.076891</td>\n",
       "      <td>224.754615</td>\n",
       "    </tr>\n",
       "    <tr>\n",
       "      <th>2</th>\n",
       "      <td>0.034111</td>\n",
       "      <td>True</td>\n",
       "      <td>0.573841</td>\n",
       "      <td>0.066443</td>\n",
       "      <td>476.197925</td>\n",
       "      <td>583.975612</td>\n",
       "    </tr>\n",
       "  </tbody>\n",
       "</table>\n",
       "</div>"
      ],
      "text/plain": [
       "      alpha   avg  ocp_mean    ocp_sd  msemed_mean   msemed_sd\n",
       "0  0.001000  True  0.598327  0.101552    91.723966  121.674002\n",
       "1  0.017556  True  0.588453  0.064183   238.076891  224.754615\n",
       "2  0.034111  True  0.573841  0.066443   476.197925  583.975612"
      ]
     },
     "execution_count": 30,
     "metadata": {},
     "output_type": "execute_result"
    }
   ],
   "source": [
    "df[df.avg == True].sort_values(by = 'ocp_mean', ascending = False).head(3)"
   ]
  },
  {
   "cell_type": "code",
   "execution_count": 31,
   "id": "cf599502-3547-4bf6-9d35-e6a7f3ec443f",
   "metadata": {
    "tags": []
   },
   "outputs": [
    {
     "data": {
      "text/html": [
       "<div>\n",
       "<style scoped>\n",
       "    .dataframe tbody tr th:only-of-type {\n",
       "        vertical-align: middle;\n",
       "    }\n",
       "\n",
       "    .dataframe tbody tr th {\n",
       "        vertical-align: top;\n",
       "    }\n",
       "\n",
       "    .dataframe thead th {\n",
       "        text-align: right;\n",
       "    }\n",
       "</style>\n",
       "<table border=\"1\" class=\"dataframe\">\n",
       "  <thead>\n",
       "    <tr style=\"text-align: right;\">\n",
       "      <th></th>\n",
       "      <th>alpha</th>\n",
       "      <th>avg</th>\n",
       "      <th>ocp_mean</th>\n",
       "      <th>ocp_sd</th>\n",
       "      <th>msemed_mean</th>\n",
       "      <th>msemed_sd</th>\n",
       "    </tr>\n",
       "  </thead>\n",
       "  <tbody>\n",
       "    <tr>\n",
       "      <th>10</th>\n",
       "      <td>0.001000</td>\n",
       "      <td>False</td>\n",
       "      <td>0.597836</td>\n",
       "      <td>0.094804</td>\n",
       "      <td>75.157494</td>\n",
       "      <td>73.341848</td>\n",
       "    </tr>\n",
       "    <tr>\n",
       "      <th>11</th>\n",
       "      <td>0.017556</td>\n",
       "      <td>False</td>\n",
       "      <td>0.576399</td>\n",
       "      <td>0.057522</td>\n",
       "      <td>347.401115</td>\n",
       "      <td>317.479899</td>\n",
       "    </tr>\n",
       "    <tr>\n",
       "      <th>12</th>\n",
       "      <td>0.034111</td>\n",
       "      <td>False</td>\n",
       "      <td>0.554446</td>\n",
       "      <td>0.058521</td>\n",
       "      <td>522.833186</td>\n",
       "      <td>434.469643</td>\n",
       "    </tr>\n",
       "  </tbody>\n",
       "</table>\n",
       "</div>"
      ],
      "text/plain": [
       "       alpha    avg  ocp_mean    ocp_sd  msemed_mean   msemed_sd\n",
       "10  0.001000  False  0.597836  0.094804    75.157494   73.341848\n",
       "11  0.017556  False  0.576399  0.057522   347.401115  317.479899\n",
       "12  0.034111  False  0.554446  0.058521   522.833186  434.469643"
      ]
     },
     "execution_count": 31,
     "metadata": {},
     "output_type": "execute_result"
    }
   ],
   "source": [
    "df[df.avg == False].sort_values(by = 'ocp_mean', ascending = False).head(3)"
   ]
  },
  {
   "cell_type": "code",
   "execution_count": 32,
   "id": "bb230197-1252-459c-94e9-0ce59eeace93",
   "metadata": {
    "tags": []
   },
   "outputs": [
    {
     "data": {
      "text/html": [
       "<div>\n",
       "<style scoped>\n",
       "    .dataframe tbody tr th:only-of-type {\n",
       "        vertical-align: middle;\n",
       "    }\n",
       "\n",
       "    .dataframe tbody tr th {\n",
       "        vertical-align: top;\n",
       "    }\n",
       "\n",
       "    .dataframe thead th {\n",
       "        text-align: right;\n",
       "    }\n",
       "</style>\n",
       "<table border=\"1\" class=\"dataframe\">\n",
       "  <thead>\n",
       "    <tr style=\"text-align: right;\">\n",
       "      <th></th>\n",
       "      <th>alpha</th>\n",
       "      <th>avg</th>\n",
       "      <th>ocp_mean</th>\n",
       "      <th>ocp_sd</th>\n",
       "      <th>msemed_mean</th>\n",
       "      <th>msemed_sd</th>\n",
       "    </tr>\n",
       "  </thead>\n",
       "  <tbody>\n",
       "    <tr>\n",
       "      <th>10</th>\n",
       "      <td>0.001000</td>\n",
       "      <td>False</td>\n",
       "      <td>0.597836</td>\n",
       "      <td>0.094804</td>\n",
       "      <td>75.157494</td>\n",
       "      <td>73.341848</td>\n",
       "    </tr>\n",
       "    <tr>\n",
       "      <th>11</th>\n",
       "      <td>0.017556</td>\n",
       "      <td>False</td>\n",
       "      <td>0.576399</td>\n",
       "      <td>0.057522</td>\n",
       "      <td>347.401115</td>\n",
       "      <td>317.479899</td>\n",
       "    </tr>\n",
       "    <tr>\n",
       "      <th>17</th>\n",
       "      <td>0.116889</td>\n",
       "      <td>False</td>\n",
       "      <td>0.519182</td>\n",
       "      <td>0.055001</td>\n",
       "      <td>450.200295</td>\n",
       "      <td>312.428586</td>\n",
       "    </tr>\n",
       "  </tbody>\n",
       "</table>\n",
       "</div>"
      ],
      "text/plain": [
       "       alpha    avg  ocp_mean    ocp_sd  msemed_mean   msemed_sd\n",
       "10  0.001000  False  0.597836  0.094804    75.157494   73.341848\n",
       "11  0.017556  False  0.576399  0.057522   347.401115  317.479899\n",
       "17  0.116889  False  0.519182  0.055001   450.200295  312.428586"
      ]
     },
     "execution_count": 32,
     "metadata": {},
     "output_type": "execute_result"
    }
   ],
   "source": [
    "df[df.avg == False].sort_values(by = 'msemed_mean').head(3)"
   ]
  },
  {
   "cell_type": "code",
   "execution_count": 33,
   "id": "cf928402-70cc-4d32-8f4d-37de594e7264",
   "metadata": {
    "tags": []
   },
   "outputs": [
    {
     "data": {
      "text/html": [
       "<div>\n",
       "<style scoped>\n",
       "    .dataframe tbody tr th:only-of-type {\n",
       "        vertical-align: middle;\n",
       "    }\n",
       "\n",
       "    .dataframe tbody tr th {\n",
       "        vertical-align: top;\n",
       "    }\n",
       "\n",
       "    .dataframe thead th {\n",
       "        text-align: right;\n",
       "    }\n",
       "</style>\n",
       "<table border=\"1\" class=\"dataframe\">\n",
       "  <thead>\n",
       "    <tr style=\"text-align: right;\">\n",
       "      <th></th>\n",
       "      <th>alpha</th>\n",
       "      <th>avg</th>\n",
       "      <th>ocp_mean</th>\n",
       "      <th>ocp_sd</th>\n",
       "      <th>msemed_mean</th>\n",
       "      <th>msemed_sd</th>\n",
       "    </tr>\n",
       "  </thead>\n",
       "  <tbody>\n",
       "    <tr>\n",
       "      <th>0</th>\n",
       "      <td>0.001000</td>\n",
       "      <td>True</td>\n",
       "      <td>0.598327</td>\n",
       "      <td>0.101552</td>\n",
       "      <td>91.723966</td>\n",
       "      <td>121.674002</td>\n",
       "    </tr>\n",
       "    <tr>\n",
       "      <th>1</th>\n",
       "      <td>0.017556</td>\n",
       "      <td>True</td>\n",
       "      <td>0.588453</td>\n",
       "      <td>0.064183</td>\n",
       "      <td>238.076891</td>\n",
       "      <td>224.754615</td>\n",
       "    </tr>\n",
       "    <tr>\n",
       "      <th>2</th>\n",
       "      <td>0.034111</td>\n",
       "      <td>True</td>\n",
       "      <td>0.573841</td>\n",
       "      <td>0.066443</td>\n",
       "      <td>476.197925</td>\n",
       "      <td>583.975612</td>\n",
       "    </tr>\n",
       "  </tbody>\n",
       "</table>\n",
       "</div>"
      ],
      "text/plain": [
       "      alpha   avg  ocp_mean    ocp_sd  msemed_mean   msemed_sd\n",
       "0  0.001000  True  0.598327  0.101552    91.723966  121.674002\n",
       "1  0.017556  True  0.588453  0.064183   238.076891  224.754615\n",
       "2  0.034111  True  0.573841  0.066443   476.197925  583.975612"
      ]
     },
     "execution_count": 33,
     "metadata": {},
     "output_type": "execute_result"
    }
   ],
   "source": [
    "df[df.avg == True].sort_values(by = 'msemed_mean').head(3)"
   ]
  },
  {
   "cell_type": "markdown",
   "id": "38e0b537-c797-446b-bb02-8805eded681d",
   "metadata": {},
   "source": [
    "### Parameters for the fitted model with seed dimensions\n",
    "\n",
    "\n",
    "\n",
    "**BERT last 4 layers**\n",
    "\n",
    "Best performance is for lowest values of alpha. In terms of OC_P, it does not matter whether we average or not, but MSE values are lower with averaging, so we choose **alpha = 0.001, with averaging**\n",
    "\n",
    "**RoBERTA last 4 layers**\n",
    "\n",
    "Best performance is again for lowest values of alpha, and performance is slightly better with averaging so we again use **alpha = 0.001, with averaging**"
   ]
  },
  {
   "cell_type": "code",
   "execution_count": 34,
   "id": "c9dd82ca-b91b-4af4-af85-66c9361a455a",
   "metadata": {},
   "outputs": [
    {
     "ename": "Exception",
     "evalue": "stop",
     "output_type": "error",
     "traceback": [
      "\u001b[0;31m---------------------------------------------------------------------------\u001b[0m",
      "\u001b[0;31mException\u001b[0m                                 Traceback (most recent call last)",
      "Cell \u001b[0;32mIn[34], line 1\u001b[0m\n\u001b[0;32m----> 1\u001b[0m \u001b[38;5;28;01mraise\u001b[39;00m \u001b[38;5;167;01mException\u001b[39;00m(\u001b[38;5;124m\"\u001b[39m\u001b[38;5;124mstop\u001b[39m\u001b[38;5;124m\"\u001b[39m)\n",
      "\u001b[0;31mException\u001b[0m: stop"
     ]
    }
   ],
   "source": [
    "raise Exception(\"stop\")"
   ]
  },
  {
   "cell_type": "markdown",
   "id": "961f82c9-c795-4d87-9d03-d11f8c13cd75",
   "metadata": {},
   "source": [
    "# Combined model: seeds as words and dimensions\n",
    "\n",
    "We fix jitter, offset, and averaging to the best values determined above as they don't seem to have made much of a difference.\n"
   ]
  },
  {
   "cell_type": "code",
   "execution_count": 35,
   "id": "49d7c8a0-bde4-4698-b9c6-7f04494a8178",
   "metadata": {
    "tags": []
   },
   "outputs": [
    {
     "name": "stdout",
     "output_type": "stream",
     "text": [
      "0.001 True 1.0 False 0.6043289603173724 2.6217081484218534\n",
      "0.017555555555555557 True 1.0 False 0.705074090118007 1.93642050720864\n",
      "0.03411111111111111 True 1.0 False 0.6821348947859583 2.282774456102352\n",
      "0.050666666666666665 True 1.0 False 0.6657363422580193 2.9558721287654546\n",
      "0.06722222222222222 True 1.0 False 0.6548817643363593 3.0223295873301\n",
      "0.08377777777777778 True 1.0 False 0.633769951103105 3.2539449634895976\n",
      "0.10033333333333333 True 1.0 False 0.6179031664731698 4.699358101297003\n",
      "0.11688888888888889 True 1.0 False 0.6115489750267494 5.882717108206861\n",
      "0.13344444444444445 True 1.0 False 0.6114124651274899 5.940899106391399\n",
      "0.15 True 1.0 False 0.6190128996924624 5.40006178862545\n",
      "0.001 True 1.0 False 0.616195490334783 5.998420612500406\n",
      "0.017555555555555557 True 1.0 False 0.6930569365724712 2.268637112607673\n",
      "0.03411111111111111 True 1.0 False 0.6747274216883933 2.970631062516464\n",
      "0.050666666666666665 True 1.0 False 0.6611341317452063 2.643670626077643\n",
      "0.06722222222222222 True 1.0 False 0.6350067335895402 4.387536268286585\n",
      "0.08377777777777778 True 1.0 False 0.6393287053266213 5.68166828951688\n",
      "0.10033333333333333 True 1.0 False 0.6153916282723956 8.580062990689044\n",
      "0.11688888888888889 True 1.0 False 0.5897002936022888 11.14230916435924\n",
      "0.13344444444444445 True 1.0 False 0.5883426519011212 10.6931740366315\n",
      "0.15 True 1.0 False 0.5823118761387752 10.918600868056576\n",
      "0.001 True 1.0 False 0.6033124308308768 3.8381265586160547\n",
      "0.017555555555555557 True 1.0 False 0.6988497464311588 1.6421613623112377\n",
      "0.03411111111111111 True 1.0 False 0.682371389987613 2.423149454242588\n",
      "0.050666666666666665 True 1.0 False 0.6853274297651526 2.2496127559898875\n",
      "0.06722222222222222 True 1.0 False 0.6716537469739121 2.929157632466106\n",
      "0.08377777777777778 True 1.0 False 0.6618604131437171 3.046930478626197\n",
      "0.10033333333333333 True 1.0 False 0.6369999266110743 3.250984248288505\n",
      "0.11688888888888889 True 1.0 False 0.6210684058976079 4.413056255716732\n",
      "0.13344444444444445 True 1.0 False 0.6339656167008542 4.846990321750534\n",
      "0.15 True 1.0 False 0.6154644394825393 5.538485134933238\n"
     ]
    }
   ],
   "source": [
    "average_vals = [True]\n",
    "alpha_vals= np.linspace(0.001, 0.15, num=10)\n",
    "jitter_vals = [False]\n",
    "offset_vals= [ 1.0]\n",
    "\n",
    "\n",
    "results = defaultdict(list)\n",
    "\n",
    "random.seed(5)\n",
    "randoms = [random.randrange(0,100) for _ in range(num_randseeds)]\n",
    "\n",
    "for randval in randoms:\n",
    "    for avgval in average_vals:\n",
    "        for alphaval in alpha_vals:\n",
    "            for oval in offset_vals:\n",
    "                for jval in jitter_vals:\n",
    "\n",
    "                    method = { \"method\": \"combined\",\n",
    "                              \"feature_dim\" : feature_dim,\n",
    "                              \"numfolds\" : 5,\n",
    "                              \"do_average\" : avgval,\n",
    "                              \"alpha\" : alphaval,\n",
    "                              \"offset\" : oval,\n",
    "                              \"jitter\" : jval}\n",
    "\n",
    "\n",
    "                    theseresults = crossvalidation(devset, method, word_vectors, grandratings_dir, grandfeatures_df, random_seed = randval)\n",
    "                    \n",
    "                    ocp_mean, _, _ = eval_summary_by(theseresults, \"ocp\")\n",
    "                    _, mse_med, _ = eval_summary_by(theseresults, \"mse\")\n",
    "                    print(alphaval, avgval, oval, jval, ocp_mean, mse_med)\n",
    "            \n",
    "            \n",
    "                    for r in theseresults:\n",
    "                        r.update({\"alpha\":alphaval, \"avg\": avgval, \"offset\": oval, \"j\": jval})\n",
    "                        results[ (str(alphaval), str(avgval))].append(r) \n",
    "\n",
    "\n"
   ]
  },
  {
   "cell_type": "code",
   "execution_count": 36,
   "id": "ebe303de-8a2e-44ff-8c41-957e947e7976",
   "metadata": {},
   "outputs": [
    {
     "data": {
      "text/html": [
       "<div>\n",
       "<style scoped>\n",
       "    .dataframe tbody tr th:only-of-type {\n",
       "        vertical-align: middle;\n",
       "    }\n",
       "\n",
       "    .dataframe tbody tr th {\n",
       "        vertical-align: top;\n",
       "    }\n",
       "\n",
       "    .dataframe thead th {\n",
       "        text-align: right;\n",
       "    }\n",
       "</style>\n",
       "<table border=\"1\" class=\"dataframe\">\n",
       "  <thead>\n",
       "    <tr style=\"text-align: right;\">\n",
       "      <th></th>\n",
       "      <th>alpha</th>\n",
       "      <th>avg</th>\n",
       "      <th>offset</th>\n",
       "      <th>j</th>\n",
       "      <th>ocp_mean</th>\n",
       "      <th>ocp_sd</th>\n",
       "      <th>msemed_mean</th>\n",
       "      <th>msemed_sd</th>\n",
       "    </tr>\n",
       "  </thead>\n",
       "  <tbody>\n",
       "    <tr>\n",
       "      <th>0</th>\n",
       "      <td>0.001000</td>\n",
       "      <td>True</td>\n",
       "      <td>1.0</td>\n",
       "      <td>False</td>\n",
       "      <td>0.607946</td>\n",
       "      <td>0.099839</td>\n",
       "      <td>4.023332</td>\n",
       "      <td>1.301894</td>\n",
       "    </tr>\n",
       "    <tr>\n",
       "      <th>1</th>\n",
       "      <td>0.017556</td>\n",
       "      <td>True</td>\n",
       "      <td>1.0</td>\n",
       "      <td>False</td>\n",
       "      <td>0.698994</td>\n",
       "      <td>0.036740</td>\n",
       "      <td>1.958062</td>\n",
       "      <td>0.569922</td>\n",
       "    </tr>\n",
       "    <tr>\n",
       "      <th>2</th>\n",
       "      <td>0.034111</td>\n",
       "      <td>True</td>\n",
       "      <td>1.0</td>\n",
       "      <td>False</td>\n",
       "      <td>0.679745</td>\n",
       "      <td>0.045192</td>\n",
       "      <td>2.460285</td>\n",
       "      <td>0.886735</td>\n",
       "    </tr>\n",
       "    <tr>\n",
       "      <th>3</th>\n",
       "      <td>0.050667</td>\n",
       "      <td>True</td>\n",
       "      <td>1.0</td>\n",
       "      <td>False</td>\n",
       "      <td>0.670733</td>\n",
       "      <td>0.037186</td>\n",
       "      <td>2.393701</td>\n",
       "      <td>0.779273</td>\n",
       "    </tr>\n",
       "    <tr>\n",
       "      <th>4</th>\n",
       "      <td>0.067222</td>\n",
       "      <td>True</td>\n",
       "      <td>1.0</td>\n",
       "      <td>False</td>\n",
       "      <td>0.653847</td>\n",
       "      <td>0.041345</td>\n",
       "      <td>3.331200</td>\n",
       "      <td>0.971976</td>\n",
       "    </tr>\n",
       "  </tbody>\n",
       "</table>\n",
       "</div>"
      ],
      "text/plain": [
       "      alpha   avg  offset      j  ocp_mean    ocp_sd  msemed_mean  msemed_sd\n",
       "0  0.001000  True     1.0  False  0.607946  0.099839     4.023332   1.301894\n",
       "1  0.017556  True     1.0  False  0.698994  0.036740     1.958062   0.569922\n",
       "2  0.034111  True     1.0  False  0.679745  0.045192     2.460285   0.886735\n",
       "3  0.050667  True     1.0  False  0.670733  0.037186     2.393701   0.779273\n",
       "4  0.067222  True     1.0  False  0.653847  0.041345     3.331200   0.971976"
      ]
     },
     "execution_count": 36,
     "metadata": {},
     "output_type": "execute_result"
    }
   ],
   "source": [
    "df = pd.DataFrame(eval_hyper(results, [\"alpha\", \"avg\", \"offset\", \"j\"]))\n",
    "df.head()\n"
   ]
  },
  {
   "cell_type": "markdown",
   "id": "d02484e3-9d14-4e93-9d48-c16b4ab8be45",
   "metadata": {},
   "source": [
    "## Plotting the results\n",
    "\n"
   ]
  },
  {
   "cell_type": "code",
   "execution_count": 37,
   "id": "941e91f6-655c-4d7e-a10c-3c087687798b",
   "metadata": {
    "tags": []
   },
   "outputs": [
    {
     "data": {
      "text/plain": [
       "<AxesSubplot: xlabel='alpha'>"
      ]
     },
     "execution_count": 37,
     "metadata": {},
     "output_type": "execute_result"
    },
    {
     "data": {
      "image/png": "[encoded data removed]",
      "text/plain": [
       "<Figure size 640x480 with 1 Axes>"
      ]
     },
     "metadata": {},
     "output_type": "display_data"
    }
   ],
   "source": [
    "df.plot(y = \"ocp_mean\", x = \"alpha\", yerr = \"ocp_sd\")"
   ]
  },
  {
   "cell_type": "code",
   "execution_count": 38,
   "id": "c46c3155-e9e8-4e48-8d4a-7d516b4667e5",
   "metadata": {
    "tags": []
   },
   "outputs": [
    {
     "data": {
      "text/plain": [
       "<AxesSubplot: xlabel='alpha'>"
      ]
     },
     "execution_count": 38,
     "metadata": {},
     "output_type": "execute_result"
    },
    {
     "data": {
      "image/png": "[encoded data removed]",
      "text/plain": [
       "<Figure size 640x480 with 1 Axes>"
      ]
     },
     "metadata": {},
     "output_type": "display_data"
    }
   ],
   "source": [
    "df.plot(y = \"msemed_mean\", x = \"alpha\", yerr = \"msemed_sd\")"
   ]
  },
  {
   "cell_type": "code",
   "execution_count": 39,
   "id": "a5909543-f49e-4a8c-a392-9a598b1b87ba",
   "metadata": {
    "tags": []
   },
   "outputs": [
    {
     "data": {
      "text/html": [
       "<div>\n",
       "<style scoped>\n",
       "    .dataframe tbody tr th:only-of-type {\n",
       "        vertical-align: middle;\n",
       "    }\n",
       "\n",
       "    .dataframe tbody tr th {\n",
       "        vertical-align: top;\n",
       "    }\n",
       "\n",
       "    .dataframe thead th {\n",
       "        text-align: right;\n",
       "    }\n",
       "</style>\n",
       "<table border=\"1\" class=\"dataframe\">\n",
       "  <thead>\n",
       "    <tr style=\"text-align: right;\">\n",
       "      <th></th>\n",
       "      <th>alpha</th>\n",
       "      <th>avg</th>\n",
       "      <th>offset</th>\n",
       "      <th>j</th>\n",
       "      <th>ocp_mean</th>\n",
       "      <th>ocp_sd</th>\n",
       "      <th>msemed_mean</th>\n",
       "      <th>msemed_sd</th>\n",
       "    </tr>\n",
       "  </thead>\n",
       "  <tbody>\n",
       "    <tr>\n",
       "      <th>1</th>\n",
       "      <td>0.017556</td>\n",
       "      <td>True</td>\n",
       "      <td>1.0</td>\n",
       "      <td>False</td>\n",
       "      <td>0.698994</td>\n",
       "      <td>0.036740</td>\n",
       "      <td>1.958062</td>\n",
       "      <td>0.569922</td>\n",
       "    </tr>\n",
       "    <tr>\n",
       "      <th>2</th>\n",
       "      <td>0.034111</td>\n",
       "      <td>True</td>\n",
       "      <td>1.0</td>\n",
       "      <td>False</td>\n",
       "      <td>0.679745</td>\n",
       "      <td>0.045192</td>\n",
       "      <td>2.460285</td>\n",
       "      <td>0.886735</td>\n",
       "    </tr>\n",
       "    <tr>\n",
       "      <th>3</th>\n",
       "      <td>0.050667</td>\n",
       "      <td>True</td>\n",
       "      <td>1.0</td>\n",
       "      <td>False</td>\n",
       "      <td>0.670733</td>\n",
       "      <td>0.037186</td>\n",
       "      <td>2.393701</td>\n",
       "      <td>0.779273</td>\n",
       "    </tr>\n",
       "    <tr>\n",
       "      <th>4</th>\n",
       "      <td>0.067222</td>\n",
       "      <td>True</td>\n",
       "      <td>1.0</td>\n",
       "      <td>False</td>\n",
       "      <td>0.653847</td>\n",
       "      <td>0.041345</td>\n",
       "      <td>3.331200</td>\n",
       "      <td>0.971976</td>\n",
       "    </tr>\n",
       "    <tr>\n",
       "      <th>5</th>\n",
       "      <td>0.083778</td>\n",
       "      <td>True</td>\n",
       "      <td>1.0</td>\n",
       "      <td>False</td>\n",
       "      <td>0.644986</td>\n",
       "      <td>0.033746</td>\n",
       "      <td>3.850996</td>\n",
       "      <td>0.945957</td>\n",
       "    </tr>\n",
       "  </tbody>\n",
       "</table>\n",
       "</div>"
      ],
      "text/plain": [
       "      alpha   avg  offset      j  ocp_mean    ocp_sd  msemed_mean  msemed_sd\n",
       "1  0.017556  True     1.0  False  0.698994  0.036740     1.958062   0.569922\n",
       "2  0.034111  True     1.0  False  0.679745  0.045192     2.460285   0.886735\n",
       "3  0.050667  True     1.0  False  0.670733  0.037186     2.393701   0.779273\n",
       "4  0.067222  True     1.0  False  0.653847  0.041345     3.331200   0.971976\n",
       "5  0.083778  True     1.0  False  0.644986  0.033746     3.850996   0.945957"
      ]
     },
     "execution_count": 39,
     "metadata": {},
     "output_type": "execute_result"
    }
   ],
   "source": [
    "df.sort_values(by = \"ocp_mean\", ascending = False).head()"
   ]
  },
  {
   "cell_type": "code",
   "execution_count": 40,
   "id": "74c8d92c-7dae-4107-b242-4db38fca14ea",
   "metadata": {
    "tags": []
   },
   "outputs": [
    {
     "data": {
      "text/html": [
       "<div>\n",
       "<style scoped>\n",
       "    .dataframe tbody tr th:only-of-type {\n",
       "        vertical-align: middle;\n",
       "    }\n",
       "\n",
       "    .dataframe tbody tr th {\n",
       "        vertical-align: top;\n",
       "    }\n",
       "\n",
       "    .dataframe thead th {\n",
       "        text-align: right;\n",
       "    }\n",
       "</style>\n",
       "<table border=\"1\" class=\"dataframe\">\n",
       "  <thead>\n",
       "    <tr style=\"text-align: right;\">\n",
       "      <th></th>\n",
       "      <th>alpha</th>\n",
       "      <th>avg</th>\n",
       "      <th>offset</th>\n",
       "      <th>j</th>\n",
       "      <th>ocp_mean</th>\n",
       "      <th>ocp_sd</th>\n",
       "      <th>msemed_mean</th>\n",
       "      <th>msemed_sd</th>\n",
       "    </tr>\n",
       "  </thead>\n",
       "  <tbody>\n",
       "    <tr>\n",
       "      <th>1</th>\n",
       "      <td>0.017556</td>\n",
       "      <td>True</td>\n",
       "      <td>1.0</td>\n",
       "      <td>False</td>\n",
       "      <td>0.698994</td>\n",
       "      <td>0.036740</td>\n",
       "      <td>1.958062</td>\n",
       "      <td>0.569922</td>\n",
       "    </tr>\n",
       "    <tr>\n",
       "      <th>3</th>\n",
       "      <td>0.050667</td>\n",
       "      <td>True</td>\n",
       "      <td>1.0</td>\n",
       "      <td>False</td>\n",
       "      <td>0.670733</td>\n",
       "      <td>0.037186</td>\n",
       "      <td>2.393701</td>\n",
       "      <td>0.779273</td>\n",
       "    </tr>\n",
       "    <tr>\n",
       "      <th>2</th>\n",
       "      <td>0.034111</td>\n",
       "      <td>True</td>\n",
       "      <td>1.0</td>\n",
       "      <td>False</td>\n",
       "      <td>0.679745</td>\n",
       "      <td>0.045192</td>\n",
       "      <td>2.460285</td>\n",
       "      <td>0.886735</td>\n",
       "    </tr>\n",
       "    <tr>\n",
       "      <th>4</th>\n",
       "      <td>0.067222</td>\n",
       "      <td>True</td>\n",
       "      <td>1.0</td>\n",
       "      <td>False</td>\n",
       "      <td>0.653847</td>\n",
       "      <td>0.041345</td>\n",
       "      <td>3.331200</td>\n",
       "      <td>0.971976</td>\n",
       "    </tr>\n",
       "    <tr>\n",
       "      <th>5</th>\n",
       "      <td>0.083778</td>\n",
       "      <td>True</td>\n",
       "      <td>1.0</td>\n",
       "      <td>False</td>\n",
       "      <td>0.644986</td>\n",
       "      <td>0.033746</td>\n",
       "      <td>3.850996</td>\n",
       "      <td>0.945957</td>\n",
       "    </tr>\n",
       "  </tbody>\n",
       "</table>\n",
       "</div>"
      ],
      "text/plain": [
       "      alpha   avg  offset      j  ocp_mean    ocp_sd  msemed_mean  msemed_sd\n",
       "1  0.017556  True     1.0  False  0.698994  0.036740     1.958062   0.569922\n",
       "3  0.050667  True     1.0  False  0.670733  0.037186     2.393701   0.779273\n",
       "2  0.034111  True     1.0  False  0.679745  0.045192     2.460285   0.886735\n",
       "4  0.067222  True     1.0  False  0.653847  0.041345     3.331200   0.971976\n",
       "5  0.083778  True     1.0  False  0.644986  0.033746     3.850996   0.945957"
      ]
     },
     "execution_count": 40,
     "metadata": {},
     "output_type": "execute_result"
    }
   ],
   "source": [
    "df.sort_values(by = \"msemed_mean\", ascending = True).head()"
   ]
  },
  {
   "cell_type": "markdown",
   "id": "ae2ae24f-0c68-4d3f-a26c-27457f928761",
   "metadata": {},
   "source": [
    "### Parameters for the fitted model with seed words and seed dimensions\n",
    "\n",
    "\n",
    "**BERT last 4 layers**\n",
    "\n",
    "Both OC_P and MSE have a clear best value at **alpha = 0.02**. We use **averaging, no jitter, and an offset of 1.0**,\n",
    "\n",
    "**RoBERTA last 4 layers**\n",
    "\n",
    "Again, clear best value is **alpha = 0.02**. We use **averaging, no jitter, and an offset of 1.0**,\n",
    "\n"
   ]
  },
  {
   "cell_type": "code",
   "execution_count": null,
   "id": "1169a309-8abf-47b4-beb6-f5a63c90bc57",
   "metadata": {},
   "outputs": [],
   "source": []
  }
 ],
 "metadata": {
  "kernelspec": {
   "display_name": "Python 3 (ipykernel)",
   "language": "python",
   "name": "python3"
  },
  "language_info": {
   "codemirror_mode": {
    "name": "ipython",
    "version": 3
   },
   "file_extension": ".py",
   "mimetype": "text/x-python",
   "name": "python",
   "nbconvert_exporter": "python",
   "pygments_lexer": "ipython3",
   "version": "3.9.6"
  }
 },
 "nbformat": 4,
 "nbformat_minor": 5
}
