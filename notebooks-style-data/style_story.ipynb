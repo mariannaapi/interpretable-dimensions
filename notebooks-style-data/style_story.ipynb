{
 "cells": [
  {
   "cell_type": "markdown",
   "id": "9dce951d-29d4-4694-a963-2a1fc8370f9b",
   "metadata": {},
   "source": [
    "# Collection of Results for Pavlick and Nenkova data"
   ]
  },
  {
   "cell_type": "markdown",
   "id": "e52e823b-ce46-49cf-aff3-4839bfe243d5",
   "metadata": {},
   "source": [
    "## GLoVE results"
   ]
  },
  {
   "cell_type": "markdown",
   "id": "98e8b8d1-5748-49bc-9ca1-5ee5c97dd4ba",
   "metadata": {},
   "source": [
    "Seed-based method\n",
    "* Formality dataset OC_P mean 0.728 MSE mean 62.878 MSE median 60.452\n",
    "* Complexity dataset OC_P mean 0.742 MSE mean 33.595 MSE median 31.471\n",
    "\n",
    "Fitted method\n",
    "* Formality dataset OC_P mean 0.531 MSE mean 777.604 MSE median 396.474\n",
    "* Complexity dataset OC_P mean 0.587 MSE mean 39.994 MSE median 24.310\n",
    "\n",
    "Fitted method with seed words\n",
    "* Formality dataset OC_P mean 0.366 MSE mean 424730.021 MSE median 285.711\n",
    "* Complexity dataset OC_P mean 0.572 MSE mean 148.392 MSE median 75.161\n",
    "  \n",
    "Fitted method with seed dimensions\n",
    "* Formality dataset OC_P mean 0.686 MSE mean 1.854 MSE median 1.814\n",
    "* Complexity dataset OC_P mean 0.760 MSE mean 1.545 MSE median 1.475\n",
    "\n",
    "Fitted method with seeds as words and dim.s\n",
    "* Formality dataset OC_P mean 0.685 MSE mean 1.755 MSE median 1.647\n",
    "* Complexity dataset OC_P mean 0.715 MSE mean 1.357 MSE median 1.248"
   ]
  },
  {
   "cell_type": "markdown",
   "id": "6da21eca-8e9f-452f-acfb-6d70887cf0cf",
   "metadata": {},
   "source": [
    "## BERT \n",
    "\n",
    "### Complexity\n",
    "\n",
    "Seed-based method OC_P mean 0.690 MSE mean 125.990 MSE median 123.528\n",
    "Fitted method OC_P mean 0.519 MSE mean 26158.550 MSE median 437.210\n",
    "Fitted method with seed words, OC_P mean 0.519 MSE mean 67962.258 MSE median 724.023\n",
    "Fitted method with seed dimensions OC_P mean 0.708 MSE mean 4.325 MSE median 3.567\n",
    "Fitted method with seeds as words and dim.s OC_P mean 0.722 MSE mean 2.388 MSE median 2.414\n",
    "\n",
    "### Formality\n",
    "\n",
    "Seed-based method OC_P mean 0.642 MSE mean 221.338 MSE median 215.623\n",
    "Fitted method OC_P mean 0.520 MSE mean 2862.394 MSE median 216.296\n",
    "Fitted method with seed words OC_P mean 0.513 MSE mean 76922.179 MSE median 617.072\n",
    "Fitted method with seed dimensions OC_P mean 0.640 MSE mean 9.622 MSE median 7.769\n",
    "Fitted method with seeds as words and dim.s OC_P mean 0.690 MSE mean 3.259 MSE median 3.291"
   ]
  },
  {
   "cell_type": "markdown",
   "id": "3aec3f73-3c63-4d2a-8d08-96fac634a830",
   "metadata": {},
   "source": [
    "## RoBERTa\n",
    "\n",
    "### Complexity\n",
    "\n",
    "Seed-based method, OC_P mean 0.736 MSE mean 79.245 MSE median 82.724\n",
    "Fitted method, OC_P mean 0.512 MSE mean 8704.336 MSE median 591.851\n",
    "Fitted method with seed words, OC_P mean 0.514 MSE mean 15188.312 MSE median 7430.469\n",
    "Fitted method with seed dimensions OC_P mean 0.711 MSE mean 4.154 MSE median 3.889\n",
    "Fitted method with seeds as words and dim.s, OC_P mean 0.725 MSE mean 2.260 MSE median 2.284\n",
    "\n",
    "\n",
    "### Formality\n",
    "\n",
    "Seed-based method, OC_P mean 0.674 MSE mean 213.606 MSE median 223.004\n",
    "Fitted method, OC_P mean 0.529 MSE mean 2957.067 MSE median 324.998\n",
    "Fitted method with seed words OC_P mean 0.525 MSE mean 2152.185 MSE median 778.103\n",
    "Fitted method with seed dimensions, OC_P mean 0.656 MSE mean 7.742 MSE median 7.286\n",
    "Fitted method with seeds as words and dim.s, OC_P mean 0.710 MSE mean 2.404 MSE median 2.372\n",
    "\n"
   ]
  }
 ],
 "metadata": {
  "kernelspec": {
   "display_name": "Python 3 (ipykernel)",
   "language": "python",
   "name": "python3"
  },
  "language_info": {
   "codemirror_mode": {
    "name": "ipython",
    "version": 3
   },
   "file_extension": ".py",
   "mimetype": "text/x-python",
   "name": "python",
   "nbconvert_exporter": "python",
   "pygments_lexer": "ipython3",
   "version": "3.9.6"
  }
 },
 "nbformat": 4,
 "nbformat_minor": 5
}
