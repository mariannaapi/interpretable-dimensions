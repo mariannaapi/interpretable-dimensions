{
 "cells": [
  {
   "cell_type": "markdown",
   "id": "03097e0e-fb41-429e-86e8-6db459e0eac4",
   "metadata": {},
   "source": [
    "# Evaluating on the Pavlick and Nenkova style data, using word type embeddings\n",
    "\n",
    "# Global settings"
   ]
  },
  {
   "cell_type": "code",
   "execution_count": 1,
   "id": "a35f7a6d-3eed-45de-bbb7-d4c9790e6b07",
   "metadata": {
    "tags": []
   },
   "outputs": [
    {
     "name": "stdout",
     "output_type": "stream",
     "text": [
      "Intel MKL WARNING: Support of Intel(R) Streaming SIMD Extensions 4.2 (Intel(R) SSE4.2) enabled only processors has been deprecated. Intel oneAPI Math Kernel Library 2025.0 will require Intel(R) Advanced Vector Extensions (Intel(R) AVX) instructions.\n",
      "Intel MKL WARNING: Support of Intel(R) Streaming SIMD Extensions 4.2 (Intel(R) SSE4.2) enabled only processors has been deprecated. Intel oneAPI Math Kernel Library 2025.0 will require Intel(R) Advanced Vector Extensions (Intel(R) AVX) instructions.\n"
     ]
    }
   ],
   "source": [
    "import os\n",
    "from scipy import stats\n",
    "import numpy as np \n",
    "import pandas as pd\n",
    "import zipfile\n",
    "import math\n",
    "import sklearn\n",
    "import torch\n",
    "import torch.optim as optim\n",
    "device = torch.device('cuda') if torch.cuda.is_available() else torch.device('cpu')\n",
    "import matplotlib.pyplot as plt\n",
    "import statistics\n",
    "from collections import defaultdict\n",
    "import random"
   ]
  },
  {
   "cell_type": "code",
   "execution_count": 2,
   "id": "efbeba0f-52f3-48e2-909d-382fd298c4dc",
   "metadata": {},
   "outputs": [
    {
     "name": "stdout",
     "output_type": "stream",
     "text": [
      "0.02\n"
     ]
    }
   ],
   "source": [
    "num_randseeds = 3\n",
    "featuredim = 300\n",
    "numfolds = 5\n",
    "\n",
    "param_offset = 1.0\n",
    "param_jitter = False\n",
    "param_average = True\n",
    "param_alpha = 0.02\n",
    "param_alpha_comb = 0.05\n",
    "\n",
    "print(param_alpha)"
   ]
  },
  {
   "cell_type": "markdown",
   "id": "ea13fa6d-e771-4c8d-bb6b-8d07e9d11a2b",
   "metadata": {},
   "source": [
    "# Reading in the data.\n",
    "\n",
    "## GLoVE"
   ]
  },
  {
   "cell_type": "code",
   "execution_count": 3,
   "id": "13300f26-03cd-4a57-b54a-7311b3bfe8d1",
   "metadata": {
    "tags": []
   },
   "outputs": [
    {
     "name": "stdout",
     "output_type": "stream",
     "text": [
      "ok\n"
     ]
    }
   ],
   "source": [
    "glove_path = \"../glove/glove.42B.300d.zip\"\n",
    "glove_file = \"glove.42B.300d.txt\"\n",
    "\n",
    "feature_dim = 300\n",
    "\n",
    "word_vectors = { }\n",
    "\n",
    "with zipfile.ZipFile(glove_path) as azip:\n",
    "    with azip.open(glove_file) as f:\n",
    "        for line in f:\n",
    "            values = line.split()\n",
    "            word = values[0].decode()\n",
    "            vector = np.array(values[1:], dtype=np.float32)\n",
    "            word_vectors[word] = vector\n",
    "\n",
    "print('ok')"
   ]
  },
  {
   "cell_type": "markdown",
   "id": "6d64d447-7b67-4fba-a1ee-f73599c1f1b0",
   "metadata": {},
   "source": [
    "## Pavlick and Nenkova data\n",
    "\n",
    "There are 1,160 complexity scores and 1,274 formality scores.\n",
    "\n",
    "For each of the two datasets, we z-score the ratings so they will be on a similar scale as the Grand et al ratings."
   ]
  },
  {
   "cell_type": "code",
   "execution_count": 30,
   "id": "678dad11-c493-47e3-9d68-5ee87bc0c149",
   "metadata": {
    "tags": []
   },
   "outputs": [
    {
     "name": "stdout",
     "output_type": "stream",
     "text": [
      "complexity/human/filtered_complexity_human_scores.txt\n"
     ]
    }
   ],
   "source": [
    "# pavlick_path = \"/Users/kee252/Projects/Marianna/interpretable-dimensions/style-data-Pavlick-Nenkova_2015/\"\n",
    "pavlick_path = \"../../github-dimensions/interpretable-dimensions/style-data-Pavlick-Nenkova_2015/\"\n",
    "formality_human_filtered_name = \"formality/human/filtered_formality_human_scores.txt\"\n",
    "complexity_human_filtered_name = \"complexity/human/filtered_complexity_human_scores.txt\"\n",
    "\n",
    "formality_frequency_file = \"/Users/marianna/Documents/NSF-Katrin/jupyter-notebooks/freq_ranking_results.style/freq_ranking.unsorted.formality\"\n",
    "complexity_frequency_file = \"/Users/marianna/Documents/NSF-Katrin/jupyter-notebooks/freq_ranking_results.style/freq_ranking.unsorted.complexity\"\n",
    "\n",
    "print(complexity_human_filtered_name)"
   ]
  },
  {
   "cell_type": "code",
   "execution_count": 31,
   "id": "e09dc377-23e1-41e8-b2e6-b2e2c0bdf511",
   "metadata": {
    "tags": []
   },
   "outputs": [
    {
     "data": {
      "text/html": [
       "<div>\n",
       "<style scoped>\n",
       "    .dataframe tbody tr th:only-of-type {\n",
       "        vertical-align: middle;\n",
       "    }\n",
       "\n",
       "    .dataframe tbody tr th {\n",
       "        vertical-align: top;\n",
       "    }\n",
       "\n",
       "    .dataframe thead th {\n",
       "        text-align: right;\n",
       "    }\n",
       "</style>\n",
       "<table border=\"1\" class=\"dataframe\">\n",
       "  <thead>\n",
       "    <tr style=\"text-align: right;\">\n",
       "      <th></th>\n",
       "      <th>rating</th>\n",
       "      <th>word</th>\n",
       "      <th>sd</th>\n",
       "    </tr>\n",
       "  </thead>\n",
       "  <tbody>\n",
       "    <tr>\n",
       "      <th>0</th>\n",
       "      <td>1.428571</td>\n",
       "      <td>someplace</td>\n",
       "      <td>3.78</td>\n",
       "    </tr>\n",
       "    <tr>\n",
       "      <th>1</th>\n",
       "      <td>1.571429</td>\n",
       "      <td>chow</td>\n",
       "      <td>3.36</td>\n",
       "    </tr>\n",
       "    <tr>\n",
       "      <th>2</th>\n",
       "      <td>1.571429</td>\n",
       "      <td>yeah</td>\n",
       "      <td>2.15</td>\n",
       "    </tr>\n",
       "    <tr>\n",
       "      <th>3</th>\n",
       "      <td>1.714286</td>\n",
       "      <td>dressing</td>\n",
       "      <td>2.93</td>\n",
       "    </tr>\n",
       "    <tr>\n",
       "      <th>4</th>\n",
       "      <td>2.571429</td>\n",
       "      <td>grandma</td>\n",
       "      <td>4.43</td>\n",
       "    </tr>\n",
       "    <tr>\n",
       "      <th>...</th>\n",
       "      <td>...</td>\n",
       "      <td>...</td>\n",
       "      <td>...</td>\n",
       "    </tr>\n",
       "    <tr>\n",
       "      <th>1269</th>\n",
       "      <td>97.000000</td>\n",
       "      <td>scrutiny</td>\n",
       "      <td>4.55</td>\n",
       "    </tr>\n",
       "    <tr>\n",
       "      <th>1270</th>\n",
       "      <td>97.285714</td>\n",
       "      <td>endorsement</td>\n",
       "      <td>5.31</td>\n",
       "    </tr>\n",
       "    <tr>\n",
       "      <th>1271</th>\n",
       "      <td>97.857143</td>\n",
       "      <td>inequality</td>\n",
       "      <td>5.67</td>\n",
       "    </tr>\n",
       "    <tr>\n",
       "      <th>1272</th>\n",
       "      <td>98.000000</td>\n",
       "      <td>adapted</td>\n",
       "      <td>5.29</td>\n",
       "    </tr>\n",
       "    <tr>\n",
       "      <th>1273</th>\n",
       "      <td>98.142857</td>\n",
       "      <td>exchange</td>\n",
       "      <td>3.76</td>\n",
       "    </tr>\n",
       "  </tbody>\n",
       "</table>\n",
       "<p>1274 rows × 3 columns</p>\n",
       "</div>"
      ],
      "text/plain": [
       "         rating         word    sd\n",
       "0      1.428571    someplace  3.78\n",
       "1      1.571429         chow  3.36\n",
       "2      1.571429         yeah  2.15\n",
       "3      1.714286     dressing  2.93\n",
       "4      2.571429      grandma  4.43\n",
       "...         ...          ...   ...\n",
       "1269  97.000000     scrutiny  4.55\n",
       "1270  97.285714  endorsement  5.31\n",
       "1271  97.857143   inequality  5.67\n",
       "1272  98.000000      adapted  5.29\n",
       "1273  98.142857     exchange  3.76\n",
       "\n",
       "[1274 rows x 3 columns]"
      ]
     },
     "execution_count": 31,
     "metadata": {},
     "output_type": "execute_result"
    }
   ],
   "source": [
    "formality_df = pd.read_csv(pavlick_path + formality_human_filtered_name, sep = \"\\s+\", header = None)\n",
    "formality_df.columns = [\"rating\", \"word\", \"sd\"]\n",
    "formality_df"
   ]
  },
  {
   "cell_type": "code",
   "execution_count": 32,
   "id": "1a74b443-1b3e-4c6e-9b7a-aff177361beb",
   "metadata": {
    "tags": []
   },
   "outputs": [
    {
     "data": {
      "text/plain": [
       "0      -1.694189\n",
       "1      -1.689661\n",
       "2      -1.689661\n",
       "3      -1.685134\n",
       "4      -1.657968\n",
       "          ...   \n",
       "1269    1.334787\n",
       "1270    1.343842\n",
       "1271    1.361953\n",
       "1272    1.366481\n",
       "1273    1.371008\n",
       "Name: rating, Length: 1274, dtype: float64"
      ]
     },
     "execution_count": 32,
     "metadata": {},
     "output_type": "execute_result"
    }
   ],
   "source": [
    "(formality_df.rating - formality_df.rating.mean()) / formality_df.rating.std()"
   ]
  },
  {
   "cell_type": "code",
   "execution_count": 33,
   "id": "71357f74-b4eb-4619-847f-bf506e00848e",
   "metadata": {
    "tags": []
   },
   "outputs": [
    {
     "data": {
      "text/html": [
       "<div>\n",
       "<style scoped>\n",
       "    .dataframe tbody tr th:only-of-type {\n",
       "        vertical-align: middle;\n",
       "    }\n",
       "\n",
       "    .dataframe tbody tr th {\n",
       "        vertical-align: top;\n",
       "    }\n",
       "\n",
       "    .dataframe thead th {\n",
       "        text-align: right;\n",
       "    }\n",
       "</style>\n",
       "<table border=\"1\" class=\"dataframe\">\n",
       "  <thead>\n",
       "    <tr style=\"text-align: right;\">\n",
       "      <th></th>\n",
       "      <th>rating</th>\n",
       "      <th>word</th>\n",
       "      <th>sd</th>\n",
       "      <th>z</th>\n",
       "    </tr>\n",
       "  </thead>\n",
       "  <tbody>\n",
       "    <tr>\n",
       "      <th>0</th>\n",
       "      <td>1.428571</td>\n",
       "      <td>someplace</td>\n",
       "      <td>3.78</td>\n",
       "      <td>-1.694189</td>\n",
       "    </tr>\n",
       "    <tr>\n",
       "      <th>1</th>\n",
       "      <td>1.571429</td>\n",
       "      <td>chow</td>\n",
       "      <td>3.36</td>\n",
       "      <td>-1.689661</td>\n",
       "    </tr>\n",
       "    <tr>\n",
       "      <th>2</th>\n",
       "      <td>1.571429</td>\n",
       "      <td>yeah</td>\n",
       "      <td>2.15</td>\n",
       "      <td>-1.689661</td>\n",
       "    </tr>\n",
       "    <tr>\n",
       "      <th>3</th>\n",
       "      <td>1.714286</td>\n",
       "      <td>dressing</td>\n",
       "      <td>2.93</td>\n",
       "      <td>-1.685134</td>\n",
       "    </tr>\n",
       "    <tr>\n",
       "      <th>4</th>\n",
       "      <td>2.571429</td>\n",
       "      <td>grandma</td>\n",
       "      <td>4.43</td>\n",
       "      <td>-1.657968</td>\n",
       "    </tr>\n",
       "    <tr>\n",
       "      <th>...</th>\n",
       "      <td>...</td>\n",
       "      <td>...</td>\n",
       "      <td>...</td>\n",
       "      <td>...</td>\n",
       "    </tr>\n",
       "    <tr>\n",
       "      <th>1269</th>\n",
       "      <td>97.000000</td>\n",
       "      <td>scrutiny</td>\n",
       "      <td>4.55</td>\n",
       "      <td>1.334787</td>\n",
       "    </tr>\n",
       "    <tr>\n",
       "      <th>1270</th>\n",
       "      <td>97.285714</td>\n",
       "      <td>endorsement</td>\n",
       "      <td>5.31</td>\n",
       "      <td>1.343842</td>\n",
       "    </tr>\n",
       "    <tr>\n",
       "      <th>1271</th>\n",
       "      <td>97.857143</td>\n",
       "      <td>inequality</td>\n",
       "      <td>5.67</td>\n",
       "      <td>1.361953</td>\n",
       "    </tr>\n",
       "    <tr>\n",
       "      <th>1272</th>\n",
       "      <td>98.000000</td>\n",
       "      <td>adapted</td>\n",
       "      <td>5.29</td>\n",
       "      <td>1.366481</td>\n",
       "    </tr>\n",
       "    <tr>\n",
       "      <th>1273</th>\n",
       "      <td>98.142857</td>\n",
       "      <td>exchange</td>\n",
       "      <td>3.76</td>\n",
       "      <td>1.371008</td>\n",
       "    </tr>\n",
       "  </tbody>\n",
       "</table>\n",
       "<p>1274 rows × 4 columns</p>\n",
       "</div>"
      ],
      "text/plain": [
       "         rating         word    sd         z\n",
       "0      1.428571    someplace  3.78 -1.694189\n",
       "1      1.571429         chow  3.36 -1.689661\n",
       "2      1.571429         yeah  2.15 -1.689661\n",
       "3      1.714286     dressing  2.93 -1.685134\n",
       "4      2.571429      grandma  4.43 -1.657968\n",
       "...         ...          ...   ...       ...\n",
       "1269  97.000000     scrutiny  4.55  1.334787\n",
       "1270  97.285714  endorsement  5.31  1.343842\n",
       "1271  97.857143   inequality  5.67  1.361953\n",
       "1272  98.000000      adapted  5.29  1.366481\n",
       "1273  98.142857     exchange  3.76  1.371008\n",
       "\n",
       "[1274 rows x 4 columns]"
      ]
     },
     "execution_count": 33,
     "metadata": {},
     "output_type": "execute_result"
    }
   ],
   "source": [
    "formality_df[\"z\"] = (formality_df.rating - formality_df.rating.mean()) / formality_df.rating.std()\n",
    "formality_df"
   ]
  },
  {
   "cell_type": "code",
   "execution_count": 34,
   "id": "a8115e4c-4a4b-4a54-aa54-afc148f28bb7",
   "metadata": {
    "tags": []
   },
   "outputs": [
    {
     "data": {
      "text/html": [
       "<div>\n",
       "<style scoped>\n",
       "    .dataframe tbody tr th:only-of-type {\n",
       "        vertical-align: middle;\n",
       "    }\n",
       "\n",
       "    .dataframe tbody tr th {\n",
       "        vertical-align: top;\n",
       "    }\n",
       "\n",
       "    .dataframe thead th {\n",
       "        text-align: right;\n",
       "    }\n",
       "</style>\n",
       "<table border=\"1\" class=\"dataframe\">\n",
       "  <thead>\n",
       "    <tr style=\"text-align: right;\">\n",
       "      <th></th>\n",
       "      <th>rating</th>\n",
       "      <th>word</th>\n",
       "      <th>sd</th>\n",
       "    </tr>\n",
       "  </thead>\n",
       "  <tbody>\n",
       "    <tr>\n",
       "      <th>0</th>\n",
       "      <td>0.428571</td>\n",
       "      <td>woman</td>\n",
       "      <td>0.79</td>\n",
       "    </tr>\n",
       "    <tr>\n",
       "      <th>1</th>\n",
       "      <td>1.285714</td>\n",
       "      <td>walk</td>\n",
       "      <td>2.21</td>\n",
       "    </tr>\n",
       "    <tr>\n",
       "      <th>2</th>\n",
       "      <td>1.571429</td>\n",
       "      <td>tells</td>\n",
       "      <td>3.31</td>\n",
       "    </tr>\n",
       "    <tr>\n",
       "      <th>3</th>\n",
       "      <td>1.857143</td>\n",
       "      <td>last</td>\n",
       "      <td>4.10</td>\n",
       "    </tr>\n",
       "    <tr>\n",
       "      <th>4</th>\n",
       "      <td>1.857143</td>\n",
       "      <td>next</td>\n",
       "      <td>4.49</td>\n",
       "    </tr>\n",
       "    <tr>\n",
       "      <th>...</th>\n",
       "      <td>...</td>\n",
       "      <td>...</td>\n",
       "      <td>...</td>\n",
       "    </tr>\n",
       "    <tr>\n",
       "      <th>1155</th>\n",
       "      <td>94.428571</td>\n",
       "      <td>systematic</td>\n",
       "      <td>6.70</td>\n",
       "    </tr>\n",
       "    <tr>\n",
       "      <th>1156</th>\n",
       "      <td>95.428571</td>\n",
       "      <td>diplomatic</td>\n",
       "      <td>6.43</td>\n",
       "    </tr>\n",
       "    <tr>\n",
       "      <th>1157</th>\n",
       "      <td>96.285714</td>\n",
       "      <td>referendum</td>\n",
       "      <td>5.25</td>\n",
       "    </tr>\n",
       "    <tr>\n",
       "      <th>1158</th>\n",
       "      <td>96.714286</td>\n",
       "      <td>archaeological</td>\n",
       "      <td>5.68</td>\n",
       "    </tr>\n",
       "    <tr>\n",
       "      <th>1159</th>\n",
       "      <td>97.000000</td>\n",
       "      <td>registered</td>\n",
       "      <td>6.35</td>\n",
       "    </tr>\n",
       "  </tbody>\n",
       "</table>\n",
       "<p>1160 rows × 3 columns</p>\n",
       "</div>"
      ],
      "text/plain": [
       "         rating            word    sd\n",
       "0      0.428571           woman  0.79\n",
       "1      1.285714            walk  2.21\n",
       "2      1.571429           tells  3.31\n",
       "3      1.857143            last  4.10\n",
       "4      1.857143            next  4.49\n",
       "...         ...             ...   ...\n",
       "1155  94.428571      systematic  6.70\n",
       "1156  95.428571      diplomatic  6.43\n",
       "1157  96.285714      referendum  5.25\n",
       "1158  96.714286  archaeological  5.68\n",
       "1159  97.000000      registered  6.35\n",
       "\n",
       "[1160 rows x 3 columns]"
      ]
     },
     "execution_count": 34,
     "metadata": {},
     "output_type": "execute_result"
    }
   ],
   "source": [
    "complexity_df = pd.read_csv(pavlick_path + complexity_human_filtered_name, sep = \"\\s+\", header = None)\n",
    "complexity_df.columns = [\"rating\", \"word\", \"sd\"]\n",
    "complexity_df"
   ]
  },
  {
   "cell_type": "code",
   "execution_count": 35,
   "id": "81517e99-d5bf-42f4-9d67-a8544c122847",
   "metadata": {
    "tags": []
   },
   "outputs": [
    {
     "data": {
      "text/html": [
       "<div>\n",
       "<style scoped>\n",
       "    .dataframe tbody tr th:only-of-type {\n",
       "        vertical-align: middle;\n",
       "    }\n",
       "\n",
       "    .dataframe tbody tr th {\n",
       "        vertical-align: top;\n",
       "    }\n",
       "\n",
       "    .dataframe thead th {\n",
       "        text-align: right;\n",
       "    }\n",
       "</style>\n",
       "<table border=\"1\" class=\"dataframe\">\n",
       "  <thead>\n",
       "    <tr style=\"text-align: right;\">\n",
       "      <th></th>\n",
       "      <th>rating</th>\n",
       "      <th>word</th>\n",
       "      <th>sd</th>\n",
       "      <th>z</th>\n",
       "    </tr>\n",
       "  </thead>\n",
       "  <tbody>\n",
       "    <tr>\n",
       "      <th>0</th>\n",
       "      <td>0.428571</td>\n",
       "      <td>woman</td>\n",
       "      <td>0.79</td>\n",
       "      <td>-1.492158</td>\n",
       "    </tr>\n",
       "    <tr>\n",
       "      <th>1</th>\n",
       "      <td>1.285714</td>\n",
       "      <td>walk</td>\n",
       "      <td>2.21</td>\n",
       "      <td>-1.465328</td>\n",
       "    </tr>\n",
       "    <tr>\n",
       "      <th>2</th>\n",
       "      <td>1.571429</td>\n",
       "      <td>tells</td>\n",
       "      <td>3.31</td>\n",
       "      <td>-1.456384</td>\n",
       "    </tr>\n",
       "    <tr>\n",
       "      <th>3</th>\n",
       "      <td>1.857143</td>\n",
       "      <td>last</td>\n",
       "      <td>4.10</td>\n",
       "      <td>-1.447441</td>\n",
       "    </tr>\n",
       "    <tr>\n",
       "      <th>4</th>\n",
       "      <td>1.857143</td>\n",
       "      <td>next</td>\n",
       "      <td>4.49</td>\n",
       "      <td>-1.447441</td>\n",
       "    </tr>\n",
       "    <tr>\n",
       "      <th>...</th>\n",
       "      <td>...</td>\n",
       "      <td>...</td>\n",
       "      <td>...</td>\n",
       "      <td>...</td>\n",
       "    </tr>\n",
       "    <tr>\n",
       "      <th>1155</th>\n",
       "      <td>94.428571</td>\n",
       "      <td>systematic</td>\n",
       "      <td>6.70</td>\n",
       "      <td>1.450255</td>\n",
       "    </tr>\n",
       "    <tr>\n",
       "      <th>1156</th>\n",
       "      <td>95.428571</td>\n",
       "      <td>diplomatic</td>\n",
       "      <td>6.43</td>\n",
       "      <td>1.481557</td>\n",
       "    </tr>\n",
       "    <tr>\n",
       "      <th>1157</th>\n",
       "      <td>96.285714</td>\n",
       "      <td>referendum</td>\n",
       "      <td>5.25</td>\n",
       "      <td>1.508388</td>\n",
       "    </tr>\n",
       "    <tr>\n",
       "      <th>1158</th>\n",
       "      <td>96.714286</td>\n",
       "      <td>archaeological</td>\n",
       "      <td>5.68</td>\n",
       "      <td>1.521803</td>\n",
       "    </tr>\n",
       "    <tr>\n",
       "      <th>1159</th>\n",
       "      <td>97.000000</td>\n",
       "      <td>registered</td>\n",
       "      <td>6.35</td>\n",
       "      <td>1.530747</td>\n",
       "    </tr>\n",
       "  </tbody>\n",
       "</table>\n",
       "<p>1160 rows × 4 columns</p>\n",
       "</div>"
      ],
      "text/plain": [
       "         rating            word    sd         z\n",
       "0      0.428571           woman  0.79 -1.492158\n",
       "1      1.285714            walk  2.21 -1.465328\n",
       "2      1.571429           tells  3.31 -1.456384\n",
       "3      1.857143            last  4.10 -1.447441\n",
       "4      1.857143            next  4.49 -1.447441\n",
       "...         ...             ...   ...       ...\n",
       "1155  94.428571      systematic  6.70  1.450255\n",
       "1156  95.428571      diplomatic  6.43  1.481557\n",
       "1157  96.285714      referendum  5.25  1.508388\n",
       "1158  96.714286  archaeological  5.68  1.521803\n",
       "1159  97.000000      registered  6.35  1.530747\n",
       "\n",
       "[1160 rows x 4 columns]"
      ]
     },
     "execution_count": 35,
     "metadata": {},
     "output_type": "execute_result"
    }
   ],
   "source": [
    "complexity_df[\"z\"] = (complexity_df.rating - complexity_df.rating.mean()) / complexity_df.rating.std()\n",
    "complexity_df"
   ]
  },
  {
   "cell_type": "code",
   "execution_count": 36,
   "id": "88e3458e-aa05-4f05-9206-d53f71897cb5",
   "metadata": {},
   "outputs": [
    {
     "name": "stdout",
     "output_type": "stream",
     "text": [
      "             word  frequency  log_frequency\n",
      "0       someplace     533015      13.186305\n",
      "1            chow     369072      12.818747\n",
      "2            yeah   11643327      16.270244\n",
      "3        dressing    3817659      15.155148\n",
      "4         grandma    1134937      13.942088\n",
      "...           ...        ...            ...\n",
      "1269     scrutiny    2737436      14.822532\n",
      "1270  endorsement    4669066      15.356470\n",
      "1271   inequality    2893527      14.877987\n",
      "1272      adapted    5603112      15.538833\n",
      "1273     exchange   38565747      17.467875\n",
      "\n",
      "[1274 rows x 3 columns]\n",
      "                word  frequency  log_frequency\n",
      "0              woman   51276703      17.752747\n",
      "1               walk   27633191      17.134528\n",
      "2              tells   14620721      16.497950\n",
      "3               last  241219808      19.301219\n",
      "4               next  183243510      19.026326\n",
      "...              ...        ...            ...\n",
      "1155      systematic    5141697      15.452894\n",
      "1156      diplomatic    2659134      14.793511\n",
      "1157      referendum    2257890      14.629941\n",
      "1158  archaeological    1825802      14.417530\n",
      "1159      registered   53583190      17.796746\n",
      "\n",
      "[1160 rows x 3 columns]\n"
     ]
    }
   ],
   "source": [
    "frequency_df_formality = pd.read_csv(formality_frequency_file, sep = \"\\s+\", header = None)\n",
    "frequency_df_formality.columns = [\"word\", \"frequency\"]\n",
    "frequency_df_formality[\"log_frequency\"] = np.log(frequency_df_formality[\"frequency\"])\n",
    "\n",
    "frequency_df_complexity = pd.read_csv(complexity_frequency_file, sep = \"\\s+\", header = None)\n",
    "frequency_df_complexity.columns = [\"word\", \"frequency\"]\n",
    "frequency_df_complexity[\"log_frequency\"] = np.log(frequency_df_complexity[\"frequency\"])\n",
    "\n",
    "print(frequency_df_formality)\n",
    "print(frequency_df_complexity)"
   ]
  },
  {
   "cell_type": "markdown",
   "id": "be0bbc80-e9c9-4e02-9cef-984ebc714c2d",
   "metadata": {},
   "source": [
    "# Seeds\n",
    "\n",
    "Here the seeds come in pairs. Marianna extracted them frmo the Pavlick/Nenkova \"pairs\" data by using the top rated pairs. "
   ]
  },
  {
   "cell_type": "code",
   "execution_count": 37,
   "id": "bedb2613-585f-49ff-864a-10207e502bcd",
   "metadata": {
    "tags": []
   },
   "outputs": [
    {
     "data": {
      "text/plain": [
       "[('work', 'employment'),\n",
       " ('further', 'subsequently'),\n",
       " ('strong', 'powerful'),\n",
       " ('train', 'railway'),\n",
       " ('shown', 'indicated')]"
      ]
     },
     "execution_count": 37,
     "metadata": {},
     "output_type": "execute_result"
    }
   ],
   "source": [
    "complexity_seeds_str = \"\"\"work - employment\n",
    "further - subsequently\n",
    "strong - powerful\n",
    "train - railway\n",
    "shown - indicated\"\"\"\n",
    "complexity_seeds = [ ]\n",
    "for pairstr in complexity_seeds_str.split(\"\\n\"):\n",
    "    pair = [s.strip() for s in pairstr.split(\"-\")]\n",
    "    complexity_seeds.append(tuple(pair))\n",
    "    \n",
    "complexity_seeds\n",
    "    "
   ]
  },
  {
   "cell_type": "code",
   "execution_count": 38,
   "id": "78ab5260-b597-40bc-bc5d-7e3b6e27f7ac",
   "metadata": {
    "tags": []
   },
   "outputs": [
    {
     "data": {
      "text/plain": [
       "[('winner', 'recipient'),\n",
       " ('terrible', 'disastrous'),\n",
       " ('membership', 'affiliation'),\n",
       " ('highest', 'paramount'),\n",
       " ('test', 'verify')]"
      ]
     },
     "execution_count": 38,
     "metadata": {},
     "output_type": "execute_result"
    }
   ],
   "source": [
    "formality_seeds_str = \"\"\"winner - recipient\n",
    "terrible - disastrous\n",
    "membership - affiliation\n",
    "highest - paramount\n",
    "test - verify\"\"\"\n",
    "formality_seeds = [ ]\n",
    "for pairstr in formality_seeds_str.split(\"\\n\"):\n",
    "    pair = [s.strip() for s in pairstr.split(\"-\")]\n",
    "    formality_seeds.append(tuple(pair))\n",
    "    \n",
    "formality_seeds"
   ]
  },
  {
   "cell_type": "markdown",
   "id": "88ffc051-294c-420d-8243-0f658dd35ac1",
   "metadata": {},
   "source": [
    "## Function for running crossvalidation"
   ]
  },
  {
   "cell_type": "code",
   "execution_count": 42,
   "id": "4a4f96ee-78eb-4c16-bf36-2c68475d68b9",
   "metadata": {},
   "outputs": [],
   "source": [
    "import eval_dim\n",
    "import compute_dim\n",
    "import statistics\n",
    "\n",
    "def crossvalidation(method, word_vectors, df, seedpairs, random_seed = 123):\n",
    "    \n",
    "    neg_seedwords = [n for n, _ in seedpairs]\n",
    "    pos_seedwords = [p for _, p in seedpairs]\n",
    "                     \n",
    "    all_vectors = [ word_vectors[w] for w in df.word]\n",
    "    \n",
    "    # crossvalidation setup: give indices to datapoints\n",
    "    rng = np.random.default_rng(seed = 3)\n",
    "    fold = rng.integers(low = 0, high = method[\"numfolds\"], size = len(df.word))\n",
    "\n",
    "    # store the evaluation results from the different test folds\n",
    "    all_evals = [ ]\n",
    "\n",
    "    # iterate over folds, evaluate for each of them\n",
    "    for testfold in range(method[\"numfolds\"]):\n",
    "        # compute training and test data for this fold\n",
    "        test_indices =  [i for i in range(len(df.z)) if fold[i] == testfold]\n",
    "        train_indices = [i for i in range(len(df.z)) if fold[i] != testfold]\n",
    "        \n",
    "        gold_test =  [ell[\"z\"] for _, ell in df.iloc[ test_indices ].iterrows()]\n",
    "        gold_train = [ell[\"z\"] for _, ell in df.iloc[ train_indices ].iterrows()]\n",
    "        \n",
    "        words_test =  [ell[\"word\"] for _, ell in df.iloc[ test_indices].iterrows()]\n",
    "        words_train = [ell[\"word\"] for _, ell in df.iloc[ train_indices].iterrows()]\n",
    "        \n",
    "        vec_test =  [word_vectors[ w ] for w in words_test]\n",
    "        vec_train = [word_vectors[ w ] for w in words_train ]\n",
    "\n",
    "\n",
    "        # compute seed-based dimension, and its predictions\n",
    "        if method[\"method\"] == \"seedbased\":\n",
    "            dimension = compute_dim.dimension_seedbased(pos_seedwords, neg_seedwords, word_vectors, paired = True)\n",
    "            df[\"Pred\"] = compute_dim.predict_coord_fromtrain(vec_train, gold_train, dimension, all_vectors)\n",
    "            predictions = df[\"Pred\"]\n",
    "            print('PREDICTIONS ====>','\\n')\n",
    "            print(predictions)\n",
    "\n",
    "        elif method[\"method\"] == \"fitted\":\n",
    "            dimension, weight, bias = compute_dim.dimension_fitted_fromratings(vec_train, gold_train, \n",
    "                                                                               method[\"feature_dim\"],\n",
    "                                                                               random_seed = random_seed)\n",
    "\n",
    "            df[\"Pred\"] = compute_dim.predict_coord_fromline(all_vectors, dimension, weight, bias)\n",
    "\n",
    "        elif method[\"method\"] == \"fitted_seedwords\":\n",
    "            dimension, weight, bias = compute_dim.dimension_fitted_fromratings_seedwords(vec_train, gold_train, \n",
    "                                                            method[\"feature_dim\"], \n",
    "                                                            pos_seedwords, neg_seedwords, word_vectors,\n",
    "                                                            offset = method[\"offset\"], jitter = method[\"jitter\"],\n",
    "                                                            random_seed = random_seed)\n",
    "                                                            \n",
    "            df[\"Pred\"] = compute_dim.predict_coord_fromline(all_vectors, dimension, weight, bias)\n",
    "\n",
    "        elif method[\"method\"] == \"fitted_seeddims\":\n",
    "            dimension, weight, bias = compute_dim.dimension_fitted_fromratings_seeddims(vec_train, gold_train, \n",
    "                                                            method[\"feature_dim\"], \n",
    "                                                            pos_seedwords, neg_seedwords, word_vectors,\n",
    "                                                            do_average = method[\"do_average\"], \n",
    "                                                            alpha = method[\"alpha\"],\n",
    "                                                            random_seed = random_seed,\n",
    "                                                            paired = True)\n",
    "            df[\"Pred\"] = compute_dim.predict_coord_fromline(all_vectors, dimension, weight, bias)\n",
    "\n",
    "        elif method[\"method\"] == \"combined\":\n",
    "            dimension, weight, bias = compute_dim.dimension_fitted_fromratings_combined(vec_train, gold_train,\n",
    "                                                            method[\"feature_dim\"],\n",
    "                                                            pos_seedwords, neg_seedwords, word_vectors,\n",
    "                                                            offset = method[\"offset\"], jitter = method[\"jitter\"],\n",
    "                                                            do_average = method[\"do_average\"], \n",
    "                                                            alpha = method[\"alpha\"],\n",
    "                                                            random_seed = random_seed,\n",
    "                                                            paired = True)\n",
    "            df[\"Pred\"] = compute_dim.predict_coord_fromline(all_vectors, dimension, weight, bias)\n",
    "\n",
    "        elif method[\"method\"] == \"frequency\":\n",
    "            if df is formality_df:\n",
    "                df[\"Pred\"] = frequency_df_formality[\"log_frequency\"]\n",
    "            elif df is complexity_df:\n",
    "                df[\"Pred\"] = frequency_df_complexity[\"log_frequency\"]\n",
    "            \n",
    "        else:\n",
    "            raise Exception(\"shouldn't be here\")\n",
    "\n",
    "        # for ind in test_indices:\n",
    "            # gold_scores = df[\"z\"]\n",
    "            # frequencies = df[\"Pred\"]\n",
    "            # words = frequency_df_formality[\"word\"]\n",
    "            \n",
    "            # gold_df_row = df.iloc[ind]\n",
    "            # if df is formality_df:\n",
    "            #     freq_df_row = frequency_df_formality.iloc[ind]\n",
    "            # elif df is complexity_df:\n",
    "            #     freq_df_row = frequency_df_complexity.iloc[ind]\n",
    "               \n",
    "            # if freq_df_row['word'] == gold_df_row['word']:\n",
    "            #     print('yes',freq_df_row['word'], gold_df_row['word'] )\n",
    "            # else:\n",
    "            #     print('no', freq_df_row['word'], gold_df_row['word'] )\n",
    "            \n",
    "                       \n",
    "        # order consistency pairwise: test values tested for their ordering wrt. all values, training and test\n",
    "        # MSE: evaluate on test only\n",
    "        e = { \"ocp\" : eval_dim.pairwise_order_consistency_wrt(df[\"z\"], df[\"Pred\"], test_indices),\n",
    "              \"mse\" : eval_dim.mean_squared_error(gold_test, [p for i, p in enumerate(df[\"Pred\"]) if i in test_indices]) }\n",
    "        \n",
    "        \n",
    "        all_evals.append(e)\n",
    "\n",
    "        \n",
    "    return all_evals\n"
   ]
  },
  {
   "cell_type": "markdown",
   "id": "56562490-3542-4384-8709-9ae8b5adfc59",
   "metadata": {},
   "source": [
    "## Aggregating results\n",
    "\n",
    "This is yet different from Grand et al because there are no sub-conditions, just a single dataset.\n",
    "We directly aggregate over all results in the list of results dictionaries."
   ]
  },
  {
   "cell_type": "code",
   "execution_count": 40,
   "id": "a089795d-2ef3-453a-b5a6-c5b816f59f74",
   "metadata": {},
   "outputs": [],
   "source": [
    "from collections import defaultdict\n",
    "import statistics\n",
    "\n",
    "# given a list of results dictionaries,\n",
    "# compute mean, median and standard deviation over values for a particular key\n",
    "def eval_summary_by(evals, keylabel):\n",
    "    vals = [e[keylabel] for e in evals if e[keylabel] is not None]\n",
    "    \n",
    "    return (statistics.mean(vals), statistics.median(vals), statistics.stdev(vals))\n",
    "\n",
    "# given a dictionary of results (parameters -> result dictionary list),\n",
    "# all for the same dataset but from different crossvalidatin runs\n",
    "# and runs with different random seeds \n",
    "def eval_eval(results):\n",
    "    ocp_mean, _, _ = eval_summary_by(results, \"ocp\")\n",
    "    mse_mean, mse_med, _ = eval_summary_by(results, \"mse\")\n",
    "    \n",
    "    return ocp_mean, mse_mean, mse_med\n"
   ]
  },
  {
   "cell_type": "markdown",
   "id": "0402d22a-ccd2-4d48-99ec-2ea4bef8e70b",
   "metadata": {},
   "source": [
    "# Evaluation\n"
   ]
  },
  {
   "cell_type": "markdown",
   "id": "fd7bd392-394e-4434-a1f7-641130389ab8",
   "metadata": {},
   "source": [
    "## Frequency baseline"
   ]
  },
  {
   "cell_type": "code",
   "execution_count": 41,
   "id": "f699ab88-82f2-4fb6-be21-94593519f72f",
   "metadata": {},
   "outputs": [
    {
     "name": "stdout",
     "output_type": "stream",
     "text": [
      "Frequency baseline\n",
      "goldvalues :  [-1.6896614587105296, -1.6896614587105296, -1.6579681341329078, -1.626274809555286, -1.6172195830169154, -1.5764710319009227, -1.5628881604000422, -1.5628881604000422, -1.5402500940541155, -1.5085567694764936, -1.5085567694764936, -1.5040291562073083, -1.4995015112447982, -1.4904462847064277, -1.4859186714372423, -1.4768634448988718, -1.4361148620895545, -1.4180044090128132, -1.3998939242427473, -1.3908386977043767, -1.381783471166006, -1.3682005996651254, -1.36367298639594, -1.3591453731267547, -1.3591453731267547, -1.350090146588384, -1.3229244352799474, -1.3183968220107622, -1.3183968220107622, -1.3138692087415769, -1.3048139505098815, -1.3048139505098815, -1.295758723971511, -1.2912311107023255, -1.282175884163955, -1.277648239201445, -1.277648239201445, -1.264065399393889, -1.264065399393889, -1.2595377861247037, -1.2504825595863331, -1.2459549146238231, -1.2459549146238231, -1.2368996880854524, -1.2323720748162672, -1.2233168482778964, -1.2233168482778964, -1.2097339767770159, -1.2052063635078305, -1.2052063635078305, -1.2006787502386451, -1.1780406521993938, -1.1735130389302086, -1.1599301991226527, -1.1554025858534671, -1.1554025858534671, -1.1508749408909575, -1.146347327621772, -1.146347327621772, -1.132764487814216, -1.132764487814216, -1.11465400304415, -1.1055987765057795, -1.1010711632365942, -1.1010711632365942, -1.0965435499674088, -1.0920159366982234, -1.0874882917357138, -1.0874882917357138, -1.0784330651973428, -1.0739054519281577, -1.0739054519281577, -1.0693778386589723, -1.064850225389787, -1.0422121273505356, -1.033156900812165, -1.033156900812165, -1.0241016425804699, -1.015046416042099, -1.0059911895037283, -0.9924083180028479, -0.9697702516569212, -0.960714993425226, -0.9561873801560405, -0.9471321536176699, -0.9335493138101139, -0.9335493138101139, -0.9290216688476041, -0.9199664423092333, -0.901855989232492, -0.8928007310007967, -0.8928007310007967, -0.8882731177316114, -0.8882731177316114, -0.8701626646548701, -0.8384693400772482, -0.829414081845553, -0.7614998194211238, -0.7343341081126872, -0.7252788815743166, -0.6709474589574435, -0.6709474589574435, -0.580395098493763, -0.3811799244896609, -0.32684850187278774, -0.3132656620652318, -0.3132656620652318, -0.267989497680054, -0.2181856883323661, -0.03255335413581996, 0.10780278398222361, 0.13044088202147489, 0.17118943313746743, 0.1892999179075334, 0.20288275771508932, 0.22099324248515528, 0.24363134052440658, 0.2572141803319625, 0.28890750490958444, 0.3432389275264576, 0.3432389275264576, 0.3749322521040795, 0.4111531899508865, 0.4292636430276282, 0.45190174106687947, 0.4564293543360646, 0.47001222583694524, 0.4835950656445014, 0.5107607769529378, 0.5152883902221232, 0.5152883902221232, 0.5198160034913084, 0.5288712617230035, 0.5288712617230035, 0.5288712617230035, 0.5515093280689303, 0.5560369413381159, 0.5650921995698109, 0.5650921995698109, 0.5741474261081816, 0.5741474261081816, 0.601313137416618, 0.6103683639549891, 0.6148959772241741, 0.6194235904933596, 0.6239512354558693, 0.6239512354558693, 0.6284788487250548, 0.6420616885326109, 0.6828102396486034, 0.6918654978802986, 0.6918654978802986, 0.6963931111494837, 0.7009207244186693, 0.7009207244186693, 0.7054483376878548, 0.7054483376878548, 0.7099759509570398, 0.7280864357271056, 0.7280864357271056, 0.7326140489962911, 0.7326140489962911, 0.7416692755346618, 0.7416692755346618, 0.7461968888038473, 0.7688349868430986, 0.7688349868430986, 0.7688349868430986, 0.7778902133814691, 0.7824178583439788, 0.796000698151535, 0.8005283114207205, 0.8050559246899055, 0.8050559246899055, 0.8050559246899055, 0.8050559246899055, 0.8141111829216007, 0.8186387961907862, 0.8186387961907862, 0.8276940227291568, 0.8276940227291568, 0.8322216359983424, 0.8458045074992225, 0.8458045074992225, 0.8503321207684081, 0.8503321207684081, 0.8548597340375932, 0.8593873473067788, 0.8593873473067788, 0.8639149605759643, 0.8684425738451493, 0.8684425738451493, 0.8684425738451493, 0.8684425738451493, 0.8729701871143349, 0.8729701871143349, 0.8729701871143349, 0.8774978320768445, 0.88202544534603, 0.88202544534603, 0.8865530586152152, 0.8865530586152152, 0.8956082851535861, 0.9046635116919568, 0.9046635116919568, 0.9091911566544664, 0.9091911566544664, 0.918246383192837, 0.9273016097312081, 0.9273016097312081, 0.9318292230003932, 0.9318292230003932, 0.9363568362695787, 0.9363568362695787, 0.9454120945012738, 0.9499397077704589, 0.9544673210396445, 0.95899493430883, 0.9680501608472006, 0.9725778058097102, 0.9725778058097102, 0.9771054190788957, 0.9771054190788957, 0.9861606456172664, 0.990688258886452, 0.990688258886452, 0.990688258886452, 0.990688258886452, 0.995215872155637, 0.995215872155637, 0.9997434854248225, 1.0042711303873322, 1.0042711303873322, 1.0133263569257027, 1.0133263569257027, 1.0178539701948883, 1.0178539701948883, 1.0314368100024445, 1.0404920682341396, 1.0450196815033246, 1.0450196815033246, 1.0540749080416958, 1.0586025213108807, 1.0631301345800663, 1.0631301345800663, 1.0721853928117615, 1.0721853928117615, 1.0767130060809464, 1.0767130060809464, 1.081240619350132, 1.081240619350132, 1.081240619350132, 1.081240619350132, 1.0857682326193177, 1.0857682326193177, 1.0902958458885028, 1.0948234591576882, 1.0948234591576882, 1.0993511041201978, 1.0993511041201978, 1.1084063306585685, 1.1084063306585685, 1.112933943927754, 1.112933943927754, 1.1174615571969395, 1.1219891704661247, 1.12651678373531, 1.12651678373531, 1.12651678373531, 1.1491548817745614, 1.1536824950437465, 1.1582101083129321, 1.1627377532754417, 1.1717929798138123, 1.1763205930829979, 1.1808482063521832, 1.1808482063521832, 1.1853758196213684, 1.1944310778530636, 1.2034863043914341, 1.2215967574681759, 1.2397072422382416, 1.2532900820457977, 1.2532900820457977, 1.3257319894327366, 1.3619529272795436]\n",
      "modelvalues :  [12.818747025940072, 16.270243784169725, 13.942087700749163, 16.224270684806122, 17.284568779496194, 15.203035162024895, 18.6794311787038, 19.98169399301348, 18.141444438722093, 16.31301181170897, 17.881911971573324, 16.421351126012116, 16.444402393580436, 17.559931099305828, 14.672751677043854, 17.87161347425699, 17.297668164713638, 19.75162714372665, 18.039821108052593, 16.306799298814976, 18.773557846211485, 18.583504557468284, 16.352890817793163, 17.335834753489806, 14.7208992782808, 17.59356490946882, 14.200186392200566, 17.19442698581454, 17.07429562812386, 19.666291496218005, 17.00151527937297, 13.61684496205689, 18.626702184972547, 15.975750098936183, 16.964829037774575, 18.3333493012017, 15.107360164691217, 15.467614587478893, 14.45997366872658, 15.181107701761622, 19.820599598707286, 14.827634242064347, 14.977679948835902, 21.809225918264843, 18.090970866950197, 14.638864611050721, 17.24498099655776, 17.132695914625618, 16.70532627240804, 16.229533174144997, 17.35530058995036, 18.541539054987272, 16.637516331172225, 17.367732710315014, 17.188654324355742, 13.548628001371029, 17.650575302252427, 17.96874061491132, 19.398451039370222, 16.836588986600773, 17.91012948254558, 18.029182547840453, 17.423025470750705, 16.341311839634372, 15.441842754915672, 14.777633942020454, 14.751434098794721, 17.162561772647432, 17.15786863152198, 15.10373470889778, 17.98005856529997, 15.96304056227664, 14.30152593722153, 19.45915272204808, 19.42664790673642, 16.113798230259125, 18.236842024849484, 16.260200585512795, 13.816196322773829, 16.8405011517264, 15.88915093035274, 17.636397290705837, 17.580348838201644, 17.80401843562257, 16.748459302813515, 16.13062305434531, 15.8570806957635, 19.43973431724821, 18.194394484500094, 17.695228013290464, 18.939573472949437, 15.680741963784977, 15.637252849556996, 18.168313368660126, 15.266865569513511, 15.699400307987755, 18.885939352120353, 18.1716344572069, 16.320467516791098, 16.05380232642427, 17.97735774402792, 17.036665822933823, 16.32818800469763, 18.912620764067437, 14.801482564321656, 15.273386470379764, 12.228963636173917, 13.585650753026897, 16.591450035149315, 15.35924810124338, 16.204995746756428, 17.553770977880458, 17.66005679917666, 16.84095283592042, 17.400886742892162, 17.322187808161416, 17.51086261948705, 17.02381263729675, 16.98760634101275, 16.77675691948215, 16.45535493491936, 14.233754336633623, 16.592072750504713, 17.082486289781578, 17.639016202068337, 14.403466097495158, 14.85975465414889, 15.366156393445449, 17.053403760724553, 15.35934207261678, 14.899294785638688, 14.711783055300678, 16.79175665314684, 16.01979504428128, 16.630115721089147, 15.255501361097991, 16.367929583846564, 15.859283858981719, 17.100595645004642, 16.68368391097963, 18.373319058021906, 15.728729555518898, 15.561429558390955, 18.727405956833763, 16.399280914778213, 15.494996784709544, 15.651130281523319, 15.5866027561995, 16.95448804807, 16.841451907722753, 13.989520166023793, 15.9324685970232, 14.177809258896497, 16.30820521897813, 13.739807005857305, 15.4431639564991, 14.495271541838404, 13.667364315369621, 16.16057786654857, 15.453952361423612, 13.129289337475061, 15.537627301738878, 15.596018633657389, 16.164258748360023, 17.58767460531139, 14.369045609926417, 17.85273669966433, 16.28897600610333, 16.730960870225864, 13.544060038222765, 17.961276866323647, 16.576541874948305, 13.581097493558497, 15.053038924118306, 17.07923117424431, 16.05484504676622, 14.638076812143723, 14.949459423721951, 16.34252541474651, 16.76538788039322, 15.476567391763705, 14.981124269835183, 13.51992130600338, 14.190207132400802, 16.529856432990492, 16.340160861071585, 17.443431129715442, 13.018335306980282, 15.262256820102868, 12.951475407331127, 16.036295833805017, 16.248563317663823, 16.00291227076759, 13.869430399953705, 16.960494818030224, 16.744592963054757, 14.97042220640584, 14.81098984821491, 13.749460495022758, 16.83966574616524, 15.334627842053317, 15.00570548170532, 13.13846701500283, 11.887670163098402, 16.217562724350895, 14.748487694202508, 14.72740001843748, 14.585119581007357, 17.29030834013031, 15.53808803067951, 14.76318677219808, 12.360706065962292, 17.414451163312382, 15.470842826712923, 15.967720335466044, 14.331505796217252, 15.148540736403186, 17.27762484813471, 15.213862434204941, 15.468432007868788, 14.935754845359453, 14.752518400827691, 12.897989069019257, 14.171290201240948, 13.752792245907257, 17.304431748887023, 16.590268612999264, 15.116157157402986, 17.86155689749389, 16.201568223760034, 14.97803273272034, 15.69013444240976, 17.716816864154005, 15.737889141581611, 15.258292052109999, 13.664391112633519, 17.284327116916284, 13.668609039361575, 15.107210957734159, 15.467129029651504, 15.496067107510381, 15.033901815015092, 16.13121195492447, 15.876174396933239, 15.713641381780295, 15.904694240510414, 13.7459117886726, 14.911393124328177, 17.119766219583873, 13.989899904462506, 17.335226142018552, 15.966844530010954, 14.329148822545037, 16.224897906809105, 15.284560482097353, 16.916549785741704, 16.57504475193659, 16.61425649047915, 17.640317525461167, 15.570737431146037, 16.25881530849092, 17.400130168236636, 15.815998715109295, 15.941965090337737, 13.259863633659736, 15.013620609893835, 14.350545555628406, 13.0506890569013, 15.790140461103453, 16.033200941337842, 15.811063160948121, 14.732980594185623, 15.308379372621161, 16.929604366478323, 16.045911120112486, 13.727570750116065, 15.655779517055779, 14.607613084811291, 13.435641556611705, 14.17622094852447, 14.968550424019226, 16.723093953273864, 14.933084597615332, 14.54904892025797, 15.550422741417613, 14.877986731212214]\n",
      "goldvalues :  [-1.6851338454413445, -1.6081643564785446, -1.5809986451701081, -1.5583605471308568, -1.5221396092840496, -1.5176119960148642, -1.513084382745679, -1.5040291562073083, -1.5040291562073083, -1.4904462847064277, -1.4859186714372423, -1.481391058168057, -1.481391058168057, -1.463280573397991, -1.4542253468596205, -1.4542253468596205, -1.449697733590435, -1.44517012032125, -1.44517012032125, -1.4315872488203691, -1.4270596355511838, -1.4180044090128132, -1.4089491824744427, -1.3998939242427473, -1.3998939242427473, -1.395366310973562, -1.3908386977043767, -1.381783471166006, -1.381783471166006, -1.3546177598575695, -1.3546177598575695, -1.3546177598575695, -1.3274520485491328, -1.3229244352799474, -1.3183968220107622, -1.3048139505098815, -1.3048139505098815, -1.3002863372406963, -1.295758723971511, -1.2912311107023255, -1.282175884163955, -1.2685930126630742, -1.2504825595863331, -1.2459549146238231, -1.2414273013546377, -1.2368996880854524, -1.2368996880854524, -1.2323720748162672, -1.2323720748162672, -1.2278444615470818, -1.2187892350087108, -1.19615113696946, -1.19615113696946, -1.1916235237002746, -1.1916235237002746, -1.1644578123918379, -1.1644578123918379, -1.1554025858534671, -1.146347327621772, -1.1372921010834014, -1.1282368745450309, -1.1282368745450309, -1.1282368745450309, -1.1282368745450309, -1.1282368745450309, -1.0920159366982234, -1.0829606784665282, -1.0829606784665282, -1.0784330651973428, -1.0693778386589723, -1.0603226121206013, -1.0557949671580917, -1.0512673538889064, -1.0376845140813504, -1.033156900812165, -1.033156900812165, -1.015046416042099, -1.015046416042099, -1.015046416042099, -0.9833530914644771, -0.9697702516569212, -0.9561873801560405, -0.9426045403484846, -0.9335493138101139, -0.9335493138101139, -0.9199664423092333, -0.8792178911932408, -0.8746902779240555, -0.8746902779240555, -0.8701626646548701, -0.797720757267931, -0.7705550459594945, -0.7479169796135678, -0.7388617213818727, -0.6528370058807021, -0.6437817476490069, -0.584922743456273, -0.5713398719553924, -0.5441741606469558, -0.49889799626177794, -0.4943703829925926, -0.44909418691409003, -0.42192847560565344, -0.33137614683529776, -0.30421043552686117, -0.28609995075679523, -0.267989497680054, -0.24082378637161736, -0.1366885544070563, -0.03708096740500527, 0.17118943313746743, 0.19835514444590402, 0.21193801594678466, 0.27079702013951845, 0.3432389275264576, 0.3522941540648282, 0.4066255766817014, 0.4202084164892576, 0.4292636430276282, 0.47001222583694524, 0.47453983910613035, 0.4881226789136865, 0.5243436167604939, 0.5424541015305596, 0.5515093280689303, 0.5515093280689303, 0.569619812838996, 0.569619812838996, 0.569619812838996, 0.569619812838996, 0.5786750393773671, 0.5832026526465522, 0.5922579108782473, 0.5922579108782473, 0.5922579108782473, 0.5922579108782473, 0.5967855241474329, 0.601313137416618, 0.601313137416618, 0.6058407506858035, 0.6148959772241741, 0.6148959772241741, 0.6148959772241741, 0.6284788487250548, 0.6646997865718618, 0.6737550131102328, 0.6737550131102328, 0.6918654978802986, 0.6918654978802986, 0.6963931111494837, 0.6963931111494837, 0.7099759509570398, 0.7235588224579205, 0.7552521470355424, 0.7597797603047275, 0.7597797603047275, 0.764307373573913, 0.764307373573913, 0.764307373573913, 0.7688349868430986, 0.7688349868430986, 0.7688349868430986, 0.7733626001122836, 0.7733626001122836, 0.7733626001122836, 0.7733626001122836, 0.7778902133814691, 0.7824178583439788, 0.7824178583439788, 0.7824178583439788, 0.7869454716131643, 0.796000698151535, 0.796000698151535, 0.8095835379590911, 0.8141111829216007, 0.8141111829216007, 0.8231664094599713, 0.8276940227291568, 0.8322216359983424, 0.8367492492675275, 0.8458045074992225, 0.8458045074992225, 0.8503321207684081, 0.8639149605759643, 0.8774978320768445, 0.88202544534603, 0.88202544534603, 0.8910806718844007, 0.8910806718844007, 0.8956082851535861, 0.9046635116919568, 0.9091911566544664, 0.913718769923652, 0.918246383192837, 0.9227739964620225, 0.9227739964620225, 0.9273016097312081, 0.9273016097312081, 0.9363568362695787, 0.9499397077704589, 0.9499397077704589, 0.9499397077704589, 0.9499397077704589, 0.9544673210396445, 0.9544673210396445, 0.95899493430883, 0.95899493430883, 0.963522547578015, 0.9680501608472006, 0.9725778058097102, 0.9771054190788957, 0.9816330323480809, 0.9816330323480809, 0.9861606456172664, 0.9861606456172664, 0.995215872155637, 0.9997434854248225, 1.0042711303873322, 1.0178539701948883, 1.035964454964954, 1.0450196815033246, 1.0495472947725102, 1.0540749080416958, 1.067657779542576, 1.081240619350132, 1.0948234591576882, 1.1038787173893834, 1.1084063306585685, 1.1084063306585685, 1.112933943927754, 1.1355720419670052, 1.1491548817745614, 1.1582101083129321, 1.1582101083129321, 1.1853758196213684, 1.1944310778530636, 1.2080139176606197, 1.235179628969056, 1.2578177270083073, 1.2804557933542342, 1.2940386648551148, 1.343842442509478, 1.3710081538179149]\n",
      "modelvalues :  [15.155147965502271, 18.356584791533475, 13.656628536304035, 15.19868856830329, 16.101950720127064, 16.178166519481696, 19.23964322829262, 16.75736688917523, 14.729322620474024, 18.13563712106263, 17.800983298955963, 19.11732663189148, 16.951422295414833, 17.59111017583605, 13.710411119333985, 15.905654004430463, 18.33667921464151, 15.280426155407369, 11.949999053229533, 19.082503492313165, 15.814795312547098, 18.30965296632588, 17.17081163420578, 16.67113005760892, 16.247052207459717, 17.724031418034084, 18.49350381883617, 16.738626922607434, 17.342051448666435, 16.84805198535226, 15.753068639691126, 17.26173987589294, 15.952098680080711, 17.923553994022996, 16.33600536963432, 15.643015317026627, 16.173475010997876, 18.07891770569141, 15.288398813106573, 17.54827755898758, 18.047769400162412, 15.486423365923763, 16.907081644298827, 18.81891065436177, 17.789907261741114, 17.49705502672554, 15.78134237484921, 15.951079683750493, 15.16479440164788, 16.343786754503977, 17.890788943643756, 17.71870938459193, 18.04621092041391, 19.469531795612394, 15.46450201277325, 17.326653647206836, 15.140398022620689, 18.075291490644968, 18.641685193017825, 16.724401221935516, 13.630427190880855, 13.952015026615085, 17.394957968990315, 16.188788942577837, 17.379874595970538, 19.050202106734282, 14.859392424011219, 16.19958051821963, 17.207195405259725, 18.693016214911943, 16.028169083472367, 19.76144333382013, 17.413970898982125, 16.05269425098119, 18.766880669953732, 15.915288897971028, 16.128598205545515, 11.686517362255183, 17.40146790996109, 15.522775117604604, 14.920794872417098, 15.554215533680882, 18.35163194947318, 16.0327309901144, 18.35393997030254, 17.617898368743347, 17.41205581214973, 18.05657409604101, 18.253682562272054, 18.113280146267726, 14.554737566381595, 16.11613382784116, 15.226532653008995, 16.391912696623713, 18.84262628068631, 18.954326209230594, 13.72111086354231, 14.907080776021083, 15.836962884902293, 16.536843221965338, 17.266505500962804, 15.21460292413494, 16.492130427272205, 15.958387590792713, 17.7117091552785, 17.529742090100275, 18.55294631075732, 13.637937708192522, 15.368871330594432, 13.380752057390275, 16.25797115210283, 15.087523059651003, 13.855579949349824, 17.01359395064101, 15.608465146086491, 16.524954454088903, 16.724183871578404, 16.266072971899515, 17.914836160847095, 17.031969945598266, 17.74269967432573, 17.033153342951152, 14.83620418712611, 17.41305191559566, 16.65362721405515, 15.863326748560658, 14.612990275993472, 15.53437849436338, 14.371181432092014, 14.73811054456628, 15.186913084085221, 15.981419318189719, 17.504494531615855, 14.600664741569323, 17.005119330427807, 17.564229596421583, 17.10814385356775, 17.367023245228648, 15.760353995427877, 16.463867511719496, 14.67077743834043, 10.468744541790157, 16.231238247523315, 14.416862025739507, 17.295319870380503, 16.623045606745688, 15.337029845620265, 18.766564955789704, 15.246773743607598, 14.25984567671114, 17.524375392281904, 14.250843805577546, 15.480540591575476, 15.736920147414432, 12.404218337671013, 17.032830893686253, 15.884485136609516, 16.331563260971105, 12.38762307174602, 17.203954762466818, 15.599048489448167, 15.166766946064214, 13.580346296540101, 16.525647447084584, 15.369983601918921, 13.582764802693696, 13.263776130354653, 18.399130823428077, 17.567534256976757, 15.7124768310371, 15.513387278123833, 14.647636330682436, 16.764196191526818, 15.322176822949727, 17.48712520429222, 15.58352295077504, 15.445248620968146, 12.602937544294146, 16.156756399668463, 16.292650961715154, 14.723927976490252, 15.654842625031794, 17.735016833750905, 13.116842163515516, 13.867567760499684, 14.707823711550091, 14.734788822714634, 17.289243399840604, 15.228993925284598, 14.535051829608006, 16.563376871857294, 17.705102743020493, 14.538197123101513, 15.685673083679939, 12.999872527359626, 17.919641939322396, 16.146216818356184, 15.44262629287518, 16.284274783731924, 16.72813504378242, 14.641153344907332, 16.511667446512963, 16.325398477864045, 13.872557021093531, 15.273085505088938, 18.226761254394336, 17.099046446583444, 15.364434267485548, 15.940360241694782, 17.403030094457037, 16.227541181569606, 14.280762917784523, 15.503428542407887, 14.385337463112897, 14.670672841122535, 13.710656580660897, 14.367129311833947, 14.876682281408499, 15.696087660806736, 15.78912050082181, 13.775570466120179, 15.334276875704496, 15.571959897729688, 15.647669372408949, 16.835024834507582, 14.918856624604896, 15.937312590072374, 16.000766574746756, 15.61654124961577, 17.117591702633508, 16.89344193557392, 16.009496340506878, 13.91542376393387, 14.918936575360581, 14.5700571189612, 14.64211506590598, 16.862749303181925, 15.300367304729399, 16.931042011167555, 15.63654367551275, 14.417998625719285, 15.356469609642414, 17.467875057057626]\n",
      "goldvalues :  [-1.630802454517796, -1.599109129940174, -1.5900538717084787, -1.5628881604000422, -1.5583605471308568, -1.5538329338616714, -1.5493053205924863, -1.5402500940541155, -1.4904462847064277, -1.4904462847064277, -1.4859186714372423, -1.481391058168057, -1.4678081866671764, -1.449697733590435, -1.4270596355511838, -1.4134767957436278, -1.4044215375119327, -1.3908386977043767, -1.3908386977043767, -1.3546177598575695, -1.3546177598575695, -1.350090146588384, -1.3365072750875036, -1.3229244352799474, -1.3048139505098815, -1.3002863372406963, -1.3002863372406963, -1.3002863372406963, -1.295758723971511, -1.282175884163955, -1.2731206259322596, -1.2685930126630742, -1.2595377861247037, -1.2595377861247037, -1.2595377861247037, -1.2504825595863331, -1.2459549146238231, -1.2278444615470818, -1.2233168482778964, -1.2187892350087108, -1.2097339767770159, -1.19615113696946, -1.19615113696946, -1.1916235237002746, -1.1916235237002746, -1.1916235237002746, -1.1916235237002746, -1.1825682654685794, -1.1735130389302086, -1.1689854256610233, -1.1554025858534671, -1.1508749408909575, -1.1508749408909575, -1.1418197143525868, -1.1237092612758453, -1.1101263897749647, -1.0965435499674088, -1.0920159366982234, -1.0829606784665282, -1.0693778386589723, -1.064850225389787, -1.0603226121206013, -1.0512673538889064, -1.0512673538889064, -1.046739740619721, -1.0376845140813504, -1.0376845140813504, -1.033156900812165, -1.0286292875429794, -1.0241016425804699, -1.0059911895037283, -1.0014635762345432, -0.9969359629653577, -0.9969359629653577, -0.9924083180028479, -0.9924083180028479, -0.9833530914644771, -0.9788254781952919, -0.9697702516569212, -0.9697702516569212, -0.9516597668868553, -0.9471321536176699, -0.901855989232492, -0.8837455044624262, -0.8565797931539896, -0.8475245666156189, -0.8475245666156189, -0.8339416951147384, -0.7931931439987457, -0.7886655307295604, -0.7841379174603751, -0.7750826909220043, -0.7750826909220043, -0.7705550459594945, -0.7569722061519385, -0.7433893663443825, -0.6664198456882581, -0.6392541343798215, -0.6347265211106362, -0.6030331965330142, -0.584922743456273, -0.49889799626177794, -0.47173228495334135, -0.45362180018327536, -0.44456657364490476, -0.43098373383734884, -0.23176852813992202, -0.16385426571549289, -0.14574381263875166, -0.14121619936956634, -0.10046761656024908, -0.06877429198262718, -0.028025740866634646, 0.012722810249357883, 0.09874755744385298, 0.15307898006072618, 0.1666618198682821, 0.24363134052440658, 0.27079702013951845, 0.2798522783712138, 0.38398747864245014, 0.4202084164892576, 0.4971779371453816, 0.5107607769529378, 0.5152883902221232, 0.5198160034913084, 0.5243436167604939, 0.5333988749921891, 0.5560369413381159, 0.5605645863006254, 0.5650921995698109, 0.5650921995698109, 0.5967855241474329, 0.5967855241474329, 0.5967855241474329, 0.5967855241474329, 0.601313137416618, 0.6058407506858035, 0.6103683639549891, 0.6239512354558693, 0.6284788487250548, 0.6284788487250548, 0.6375340752634254, 0.6375340752634254, 0.6420616885326109, 0.6601721733026766, 0.6601721733026766, 0.6646997865718618, 0.6646997865718618, 0.6737550131102328, 0.6782826263794179, 0.6828102396486034, 0.7326140489962911, 0.7326140489962911, 0.7416692755346618, 0.7416692755346618, 0.7461968888038473, 0.7552521470355424, 0.764307373573913, 0.764307373573913, 0.764307373573913, 0.7824178583439788, 0.7869454716131643, 0.7869454716131643, 0.7914730848823494, 0.7914730848823494, 0.796000698151535, 0.8050559246899055, 0.8095835379590911, 0.8095835379590911, 0.8141111829216007, 0.8141111829216007, 0.8231664094599713, 0.8231664094599713, 0.8322216359983424, 0.8367492492675275, 0.8367492492675275, 0.8367492492675275, 0.841276862536713, 0.8458045074992225, 0.8548597340375932, 0.8593873473067788, 0.8593873473067788, 0.8639149605759643, 0.8684425738451493, 0.8729701871143349, 0.8774978320768445, 0.88202544534603, 0.8865530586152152, 0.9001358984227713, 0.9046635116919568, 0.913718769923652, 0.913718769923652, 0.9273016097312081, 0.9273016097312081, 0.9318292230003932, 0.9499397077704589, 0.9499397077704589, 0.9544673210396445, 0.95899493430883, 0.9680501608472006, 0.9680501608472006, 0.9680501608472006, 0.9725778058097102, 0.9725778058097102, 0.9771054190788957, 0.9816330323480809, 0.9816330323480809, 0.9816330323480809, 0.9861606456172664, 0.9861606456172664, 0.9861606456172664, 0.995215872155637, 1.0042711303873322, 1.0042711303873322, 1.0042711303873322, 1.0087987436565176, 1.0087987436565176, 1.0178539701948883, 1.0223815834640737, 1.0269091967332589, 1.0314368100024445, 1.0314368100024445, 1.035964454964954, 1.035964454964954, 1.0404920682341396, 1.0450196815033246, 1.0540749080416958, 1.0586025213108807, 1.0721853928117615, 1.0767130060809464, 1.0767130060809464, 1.0857682326193177, 1.0902958458885028, 1.0993511041201978, 1.1038787173893834, 1.1038787173893834, 1.1084063306585685, 1.1084063306585685, 1.1084063306585685, 1.112933943927754, 1.1219891704661247, 1.12651678373531, 1.1310444286978198, 1.1355720419670052, 1.1400996552361904, 1.144627268505376, 1.1491548817745614, 1.1536824950437465, 1.1582101083129321, 1.1627377532754417, 1.1627377532754417, 1.167265366544627, 1.1717929798138123, 1.1763205930829979, 1.1808482063521832, 1.1853758196213684, 1.1853758196213684, 1.1853758196213684, 1.189903432890554, 1.1944310778530636, 1.2080139176606197, 1.2714005668158634, 1.2940386648551148, 1.312149117931856, 1.3347872159711074, 1.3664805405487293]\n",
      "modelvalues :  [19.955892467091527, 17.810418928422827, 14.280187525704285, 18.407445027023794, 17.745182029010213, 21.40264870650875, 13.1331925299014, 17.88549770557755, 17.738393777206216, 14.673754293090303, 21.90032023331878, 15.858965790163326, 16.660435813750745, 13.75688624669208, 16.577168000878217, 16.82208177733717, 17.686138008584575, 14.560659406955624, 16.175360659116894, 14.160575769003506, 16.820997351122454, 17.5596925910325, 16.875726773041396, 18.304088858594707, 16.910820483605292, 18.552027525801503, 18.667599546722055, 15.183800304394099, 19.419664439543872, 18.004305475902434, 16.51660663509915, 16.0055981721035, 18.368738955127217, 17.33928022921651, 18.244915312723364, 17.156925096748004, 17.83598855222565, 13.919684069411263, 14.255487875703038, 17.400532865794137, 19.24629792343277, 16.00910444118888, 17.685821631328526, 15.473352274225975, 18.14114365091482, 15.781396708641312, 19.55368154782128, 19.280158284272854, 16.059413335393263, 17.23477268513145, 15.973930317872817, 13.713185430849968, 15.434311896383303, 17.971378052126916, 14.825762924400584, 15.592379376363168, 20.82096851426292, 16.087059369782118, 15.96412945411303, 17.9346390944568, 19.014533103057218, 16.303427007091912, 16.86744895318303, 15.82189983926133, 19.38773486904124, 17.265573624753607, 16.665553428909327, 16.666497771509782, 17.809985428253363, 17.893367222100235, 18.211981888881677, 18.975028836194372, 18.550637133863024, 17.57966238284239, 15.66908875930461, 14.694080315514453, 18.844315152740663, 17.44483720160423, 16.920135128089132, 16.96973039346245, 16.43007340357468, 15.061003736886319, 17.99361869683314, 17.00192922200468, 19.643920914700878, 15.938998410465274, 14.584057839805142, 18.52973264505586, 16.335688384951453, 15.134633334475485, 15.871838271367656, 14.605973179175727, 14.033139733014384, 19.476161853150362, 17.35566503646116, 18.010269373231175, 17.846940524212737, 16.436780191801876, 16.328938578844284, 15.67528126147554, 15.867926680675556, 17.509951468470582, 15.960623377408078, 17.583142572484935, 16.95610331940985, 17.35436709297945, 17.737940977885756, 14.679343106705044, 14.711183394301392, 16.864308746385404, 15.119303357572363, 13.805589506682455, 16.640591274613584, 15.910000182180458, 15.9203020571116, 17.2909119428833, 14.522887513342429, 16.22386440327622, 15.981489478897894, 16.319065165405995, 17.13988661272981, 15.337931347937694, 15.519206460481554, 16.92510989865747, 16.08006018711948, 17.67235773117338, 14.8554858107577, 14.493261827376262, 11.807734579613124, 13.965256407899668, 17.53298811027292, 13.980351888599651, 14.900758270538292, 17.420686041403588, 20.222473870594836, 13.749911207679713, 15.996413774690946, 17.473944000382726, 15.701010490788061, 15.645098425370957, 14.525274413707459, 15.294127230561319, 14.561012968858147, 16.15778894473548, 16.280379027715725, 16.343132369100797, 14.074076850025836, 17.084204475645045, 16.649898153493766, 16.373566827976305, 16.211794715431235, 14.740518781850072, 15.806513431832093, 18.030405404956188, 16.509377111693087, 17.135333264722703, 15.51667897808738, 14.86112705118042, 16.654888976481885, 16.961698220732803, 15.61952940631212, 14.733890705488477, 15.846372225862105, 17.650761670766585, 15.97896564386999, 17.319749488558127, 15.818812411105569, 18.093970442221092, 16.459305646653753, 13.208610795985365, 15.123593887034806, 15.47476401344906, 15.427829915046564, 16.033173725906472, 16.612802685419112, 15.245599770283789, 15.776849919316483, 15.034128595415911, 16.98580897602859, 14.492197509187442, 15.039987214259128, 16.60432468352374, 16.308298650757205, 15.05152287144022, 15.489151060117305, 17.31381840703104, 18.366138334798208, 16.746858645137138, 15.379183445876428, 15.770425329162183, 13.258183648546714, 15.732052950813301, 16.89420950638408, 17.88126140526488, 15.657941911878192, 15.588958048327525, 13.90279039891423, 15.666811866933342, 18.357436030817478, 14.467654998503814, 15.547978339540979, 16.31538159734203, 15.053346093212376, 13.785360581013391, 14.063073513819228, 13.076972628669392, 12.268070441757992, 14.352139007074616, 14.84276002617645, 16.915883077844402, 13.961226047105006, 17.39590481412585, 12.999761750963929, 14.665240886073061, 16.226506100834705, 16.018290122196326, 15.947011794022147, 15.81223888141265, 14.93841700586702, 15.68444817438886, 13.33495545721653, 17.69662056223729, 13.893913152155934, 15.929287582158185, 14.173922492461072, 15.46934576192047, 17.69864765370789, 15.595999081377627, 15.690844184259467, 16.669663022824906, 16.242102566915907, 15.190823847199928, 14.735486889663719, 16.694734352019985, 17.180448783397686, 15.367755703027173, 14.497098689377385, 16.968240212786288, 16.082282031065425, 15.267778503775295, 15.735240989236202, 14.984956511707633, 15.081516873508647, 15.235350424049404, 17.227228305998278, 15.284391542105633, 15.75261735670411, 15.949470114028742, 14.794486845294955, 13.394594191606918, 16.936670086650402, 14.971093428018106, 14.843742942231298, 13.993043166026338, 15.877972254546911, 17.176377629765014, 17.316222118714283, 16.74181070285772, 16.117181533280032, 14.751679600545057, 16.01729627303432, 13.819385042446156, 14.166953036400535, 14.967851589572701, 16.309291382199042, 14.822532273838167, 15.538832715639089]\n",
      "goldvalues :  [-1.594581484977664, -1.5764710319009227, -1.5764710319009227, -1.5447777073233009, -1.5402500940541155, -1.5357224807849301, -1.526667222553235, -1.5176119960148642, -1.5176119960148642, -1.513084382745679, -1.4904462847064277, -1.4904462847064277, -1.481391058168057, -1.4678081866671764, -1.4678081866671764, -1.4587529601288058, -1.4542253468596205, -1.449697733590435, -1.44517012032125, -1.44517012032125, -1.4361148620895545, -1.4315872488203691, -1.4270596355511838, -1.4089491824744427, -1.3998939242427473, -1.395366310973562, -1.395366310973562, -1.3772558578968206, -1.36367298639594, -1.3591453731267547, -1.3591453731267547, -1.3410348883566887, -1.3410348883566887, -1.3319796618183182, -1.3319796618183182, -1.3274520485491328, -1.3093415637790669, -1.3048139505098815, -1.295758723971511, -1.295758723971511, -1.295758723971511, -1.2912311107023255, -1.2867034974331404, -1.277648239201445, -1.277648239201445, -1.2685930126630742, -1.2595377861247037, -1.2550101728555183, -1.2550101728555183, -1.2504825595863331, -1.2459549146238231, -1.2459549146238231, -1.2414273013546377, -1.2278444615470818, -1.2097339767770159, -1.2052063635078305, -1.2006787502386451, -1.2006787502386451, -1.1780406521993938, -1.1735130389302086, -1.1735130389302086, -1.1599301991226527, -1.1508749408909575, -1.1282368745450309, -1.1237092612758453, -1.11465400304415, -1.1101263897749647, -1.0965435499674088, -1.0874882917357138, -1.0693778386589723, -1.064850225389787, -1.064850225389787, -1.0603226121206013, -1.0512673538889064, -1.0376845140813504, -1.015046416042099, -1.0105188027729137, -1.0014635762345432, -0.9969359629653577, -0.9878807047336625, -0.9742978649261065, -0.9697702516569212, -0.9697702516569212, -0.9426045403484846, -0.9380769270792993, -0.9290216688476041, -0.9244940555784187, -0.8928007310007967, -0.8746902779240555, -0.8701626646548701, -0.8429969533464335, -0.8384693400772482, -0.8248864685763676, -0.716223655035946, -0.716223655035946, -0.6573646191498874, -0.6392541343798215, -0.6166160680338949, -0.5939779699946437, -0.5758674852245776, -0.5713398719553924, -0.5260637075702145, -0.5079532228001485, -0.5079532228001485, -0.4943703829925926, -0.18196475048555888, -0.17743713721637355, -0.1683818789846782, -0.06877429198262718, -0.06424667871344186, 0.080637072673787, 0.08969233090548236, 0.18477230463834807, 0.20288275771508932, 0.24363134052440658, 0.2662694068703331, 0.27079702013951845, 0.27532466510202847, 0.32965605602557696, 0.32965605602557696, 0.39304270518082074, 0.3975703184500063, 0.40209796341251586, 0.4111531899508865, 0.41568080322007206, 0.4292636430276282, 0.4337912879901378, 0.447374127797694, 0.45190174106687947, 0.4564293543360646, 0.47001222583694524, 0.47453983910613035, 0.5017055504145671, 0.5288712617230035, 0.5469817147997452, 0.5515093280689303, 0.5605645863006254, 0.5605645863006254, 0.5650921995698109, 0.569619812838996, 0.5741474261081816, 0.5786750393773671, 0.5967855241474329, 0.5967855241474329, 0.6103683639549891, 0.6148959772241741, 0.6148959772241741, 0.6239512354558693, 0.6284788487250548, 0.6375340752634254, 0.6375340752634254, 0.6511169150709816, 0.6556445600334911, 0.6601721733026766, 0.6692273998410473, 0.6918654978802986, 0.6918654978802986, 0.6918654978802986, 0.6918654978802986, 0.6963931111494837, 0.6963931111494837, 0.7009207244186693, 0.7145035642262254, 0.7235588224579205, 0.7235588224579205, 0.7280864357271056, 0.7326140489962911, 0.7416692755346618, 0.7507245337663568, 0.7552521470355424, 0.7597797603047275, 0.7733626001122836, 0.7733626001122836, 0.7778902133814691, 0.7914730848823494, 0.796000698151535, 0.8095835379590911, 0.8095835379590911, 0.8141111829216007, 0.8186387961907862, 0.8186387961907862, 0.8276940227291568, 0.8276940227291568, 0.8367492492675275, 0.8367492492675275, 0.841276862536713, 0.8458045074992225, 0.8548597340375932, 0.8639149605759643, 0.8639149605759643, 0.8684425738451493, 0.8684425738451493, 0.8774978320768445, 0.8774978320768445, 0.88202544534603, 0.8865530586152152, 0.8956082851535861, 0.9046635116919568, 0.9091911566544664, 0.913718769923652, 0.918246383192837, 0.918246383192837, 0.9227739964620225, 0.9273016097312081, 0.9318292230003932, 0.9318292230003932, 0.9408844812320883, 0.9408844812320883, 0.9454120945012738, 0.9499397077704589, 0.9544673210396445, 0.95899493430883, 0.963522547578015, 0.9680501608472006, 0.9680501608472006, 0.9725778058097102, 0.9771054190788957, 0.9771054190788957, 0.9861606456172664, 0.995215872155637, 0.9997434854248225, 0.9997434854248225, 1.0087987436565176, 1.0087987436565176, 1.0133263569257027, 1.0133263569257027, 1.0178539701948883, 1.0223815834640737, 1.0223815834640737, 1.0269091967332589, 1.0269091967332589, 1.0404920682341396, 1.0404920682341396, 1.0450196815033246, 1.067657779542576, 1.0721853928117615, 1.0767130060809464, 1.081240619350132, 1.0857682326193177, 1.0902958458885028, 1.112933943927754, 1.1174615571969395, 1.1310444286978198, 1.1582101083129321, 1.1717929798138123, 1.1717929798138123, 1.1763205930829979, 1.2125415309298053, 1.2442348555074272, 1.2487624687766123, 1.2532900820457977, 1.2895110515859294]\n",
      "modelvalues :  [15.892154690541235, 17.091176386595542, 15.270688984651967, 17.578038907443734, 19.328311344907355, 16.32341871643539, 18.760358053122523, 15.978999891633949, 18.620385999891358, 18.695655301861002, 20.48937066858498, 17.309181311614836, 16.200336249192166, 17.708867022505615, 15.545628461380254, 15.52878744910571, 18.349873130388065, 17.84301273830965, 19.37084793772079, 16.058866954384733, 16.41429566750085, 16.32407432505281, 17.893497527936653, 17.3111181691424, 17.274728798120716, 16.095276462412745, 15.449778244313409, 15.96669468719439, 17.53377637226801, 17.018831510637014, 17.928571291489853, 18.277522590977235, 16.47203438488637, 18.879649809464336, 19.4359524916787, 16.762012828133745, 15.969664665779765, 19.164576046820564, 19.306397709202844, 16.205311432056007, 17.861657258071443, 19.54227956303768, 15.348306922218935, 15.450490673204262, 18.260288598304474, 19.629123322935392, 17.567661879786424, 19.44555603985052, 18.59811018718189, 17.232525939481945, 16.70106104552558, 17.284620885981866, 18.620292419760194, 16.584777895507532, 14.49392930570102, 19.43883863160175, 16.2283343887192, 17.17572551557138, 15.297986991406988, 15.82655521123824, 17.790608920877933, 17.102054152760015, 19.06878607537464, 15.275979906849432, 16.41856580621206, 17.242751119464934, 16.67688120863367, 16.85616958995635, 15.14860322591413, 17.85639790726761, 17.360785195310566, 19.696332767898944, 18.021042272977216, 16.08170611025142, 17.825162851983958, 18.55126858482604, 18.732537592501316, 15.526926010240823, 17.613682751401, 14.8695741248157, 14.38927492390358, 15.364391133818238, 16.38202853065925, 15.505591244150091, 16.189230586586877, 16.8297865294404, 16.312150519107693, 19.25633414573344, 16.385268872296574, 15.752588388100959, 16.45269069819007, 16.689652319112955, 16.313378512621345, 13.961546689429515, 17.895751496674805, 19.17136769895839, 18.944852774875784, 20.34040341759498, 15.865933606409362, 18.025573655858075, 16.04456471228875, 15.231977367957553, 15.10741319237264, 16.701340908150247, 16.777122911174295, 16.62135101245949, 17.311995967670253, 17.69747561559846, 17.39669783576674, 18.811016985708132, 16.873929044441713, 15.058587626355868, 16.24240127929291, 16.396022495523113, 16.43577977691585, 15.627970290708232, 16.634609048627354, 15.363213269617352, 17.064441683157668, 16.170250813830503, 15.29959248218425, 16.865748109459286, 15.0808382585678, 16.141512914050775, 17.339261474631254, 17.00761730688347, 17.348737075261084, 17.806587228278193, 15.815161183185172, 14.284330361765097, 14.239264075623932, 16.02721895870797, 15.569723738075032, 16.52538402923212, 15.461040448005285, 16.61273963533147, 16.716360065359712, 14.839092500504597, 16.808194439890205, 14.164051812956266, 17.95334030127505, 15.83804108166987, 15.960009470530867, 15.932817929010588, 17.637038496303795, 15.290947939174117, 15.506928745928244, 17.094161853633977, 15.781539530818982, 15.255833008009834, 17.28006798538459, 16.89421590301726, 15.394818280946245, 14.259610310084849, 16.500119206906895, 16.93065627067757, 16.788299228518515, 16.817551937189513, 17.675007994276665, 15.520202830462988, 15.184015623674481, 15.552671803854295, 17.259423468278857, 13.735477683575724, 14.97221280792872, 16.157377131495995, 13.80195306913219, 17.1005150390349, 16.26009777789746, 16.724254563352535, 15.9700521509531, 15.60679541458158, 15.558282143477676, 16.810907025141614, 15.504836889246926, 15.139805305524694, 14.491968240408955, 15.236557250410847, 16.56571504968602, 15.860689922606092, 15.655298949309586, 17.301268702423574, 16.21109662113465, 15.341534469630366, 16.01428881660127, 15.861209543948588, 14.994292930808573, 14.801132557396304, 16.628911094672493, 13.249179271459543, 16.952214085859122, 15.416049996150035, 14.361139266902473, 16.01187587735521, 16.996994374179405, 15.531399631086629, 15.057618678921436, 17.794333207513596, 17.555926425659894, 15.965791897844747, 16.44124604456123, 14.825548430551528, 14.163577458778455, 15.052522121867812, 15.51010564608542, 13.818091225176323, 13.774371846627876, 16.25350124866275, 19.420684522633973, 15.482816354726829, 17.390008624874945, 17.068199539934806, 15.717563157479606, 15.837092292826782, 15.993683352716525, 13.900154050393354, 17.746758259012374, 16.28080973141291, 16.06940717161881, 16.671969384809668, 14.245575916673996, 11.496094617558756, 14.931164148636736, 16.414932094006577, 15.262340831083646, 13.81436189850752, 13.631407415087889, 15.005299951583218, 12.569360674739151, 16.813585335711714, 14.5702343776166, 15.756426111912242, 13.283515773620667, 16.569047122485124, 16.168353119063006, 16.70906851231902, 15.653055682341462, 17.11258277172337, 15.07700387723031, 18.383028096740833, 17.401940449925615, 14.04731489615582, 15.110627238729665, 12.350644739684176, 15.971278101222332, 16.415768399984024, 16.393866794089213, 15.575087170128349, 14.999228714848316, 16.358453856201656, 14.93350675882865, 16.906397817462462]\n",
      "goldvalues :  [-1.6941891036730399, -1.6489129075945372, -1.630802454517796, -1.5583605471308568, -1.526667222553235, -1.513084382745679, -1.5085567694764936, -1.5085567694764936, -1.5085567694764936, -1.494973897975613, -1.4678081866671764, -1.463280573397991, -1.4406425070520645, -1.4406425070520645, -1.4315872488203691, -1.4270596355511838, -1.4270596355511838, -1.4225320222819986, -1.4134767957436278, -1.4044215375119327, -1.395366310973562, -1.3727282129343106, -1.3546177598575695, -1.3546177598575695, -1.350090146588384, -1.3455625333191987, -1.3455625333191987, -1.3410348883566887, -1.3410348883566887, -1.3319796618183182, -1.3229244352799474, -1.3048139505098815, -1.3002863372406963, -1.3002863372406963, -1.295758723971511, -1.295758723971511, -1.295758723971511, -1.277648239201445, -1.2595377861247037, -1.2595377861247037, -1.2368996880854524, -1.2368996880854524, -1.2097339767770159, -1.2097339767770159, -1.2052063635078305, -1.2052063635078305, -1.2052063635078305, -1.2006787502386451, -1.2006787502386451, -1.2006787502386451, -1.19615113696946, -1.1644578123918379, -1.1599301991226527, -1.1508749408909575, -1.146347327621772, -1.1418197143525868, -1.1372921010834014, -1.1237092612758453, -1.11465400304415, -1.1101263897749647, -1.1055987765057795, -1.1055987765057795, -1.1010711632365942, -1.0920159366982234, -1.0920159366982234, -1.0874882917357138, -1.0874882917357138, -1.0874882917357138, -1.0693778386589723, -1.0693778386589723, -1.0603226121206013, -1.0557949671580917, -1.033156900812165, -1.0241016425804699, -1.015046416042099, -1.0014635762345432, -1.0014635762345432, -0.9969359629653577, -0.9471321536176699, -0.9109112157708628, -0.9109112157708628, -0.901855989232492, -0.901855989232492, -0.8882731177316114, -0.8792178911932408, -0.815831242037997, -0.7569722061519385, -0.7479169796135678, -0.7116960417667607, -0.6935855569966947, -0.6935855569966947, -0.6437817476490069, -0.6437817476490069, -0.5622846454170217, -0.38570753775884625, -0.3811799244896609, -0.30421043552686117, -0.2815723374876099, -0.27251711094923925, -0.14121619936956634, -0.132160941137871, -0.12310571459950037, -0.06424667871344186, -0.05971906544425656, -0.03255335413581996, 0.17118943313746743, 0.18477230463834807, 0.21646562921596998, 0.23910369556189653, 0.2572141803319625, 0.32512844275639186, 0.32512844275639186, 0.36587699387238437, 0.3885150919116357, 0.4292636430276282, 0.4383189012593233, 0.4564293543360646, 0.4609569676052501, 0.4971779371453816, 0.5152883902221232, 0.5152883902221232, 0.5243436167604939, 0.5243436167604939, 0.5288712617230035, 0.5515093280689303, 0.5650921995698109, 0.5967855241474329, 0.5967855241474329, 0.6148959772241741, 0.6194235904933596, 0.6194235904933596, 0.646589301801796, 0.646589301801796, 0.6511169150709816, 0.6601721733026766, 0.6737550131102328, 0.6782826263794179, 0.687337884611113, 0.6918654978802986, 0.6918654978802986, 0.7099759509570398, 0.7145035642262254, 0.7145035642262254, 0.7280864357271056, 0.7280864357271056, 0.7326140489962911, 0.7371416622654766, 0.7371416622654766, 0.7461968888038473, 0.7461968888038473, 0.7688349868430986, 0.7778902133814691, 0.7824178583439788, 0.7824178583439788, 0.7869454716131643, 0.7869454716131643, 0.7914730848823494, 0.7914730848823494, 0.796000698151535, 0.8005283114207205, 0.8186387961907862, 0.8276940227291568, 0.8322216359983424, 0.841276862536713, 0.841276862536713, 0.841276862536713, 0.8458045074992225, 0.8503321207684081, 0.8593873473067788, 0.8639149605759643, 0.8684425738451493, 0.8729701871143349, 0.88202544534603, 0.8910806718844007, 0.9001358984227713, 0.9001358984227713, 0.918246383192837, 0.918246383192837, 0.9227739964620225, 0.9227739964620225, 0.9318292230003932, 0.9318292230003932, 0.9499397077704589, 0.9499397077704589, 0.963522547578015, 0.963522547578015, 0.963522547578015, 0.9680501608472006, 0.9725778058097102, 0.9725778058097102, 0.9816330323480809, 0.9816330323480809, 0.990688258886452, 0.990688258886452, 0.990688258886452, 1.0042711303873322, 1.0087987436565176, 1.0087987436565176, 1.0133263569257027, 1.0178539701948883, 1.0269091967332589, 1.0269091967332589, 1.0314368100024445, 1.0314368100024445, 1.0314368100024445, 1.0314368100024445, 1.035964454964954, 1.035964454964954, 1.0450196815033246, 1.0495472947725102, 1.0586025213108807, 1.0631301345800663, 1.067657779542576, 1.0767130060809464, 1.0857682326193177, 1.1174615571969395, 1.1174615571969395, 1.1219891704661247, 1.1310444286978198, 1.1310444286978198, 1.1400996552361904, 1.1400996552361904, 1.1400996552361904, 1.1491548817745614, 1.1536824950437465, 1.2442348555074272]\n",
      "modelvalues :  [13.186304845341105, 14.230192394571855, 15.751397066336462, 18.344996822951035, 19.597550997819, 18.483588367148577, 17.447884605570792, 17.28658589930724, 17.69159189070503, 16.61940340314715, 17.203894767083103, 18.078039663076694, 16.975823020161013, 19.166376327171843, 15.27956818464851, 17.35991316448586, 14.59208394646872, 16.088268408689974, 19.941090199184917, 16.14289791607322, 16.177260761146815, 19.96121359818667, 15.635669257713998, 15.181002286949774, 14.845384228534586, 16.423874853053963, 16.51792329840374, 20.156120269490817, 17.344201658794322, 17.169246242653568, 16.30679731153654, 17.5639195874913, 18.791403616074316, 17.232403812404797, 15.592629035704633, 19.811476418941055, 17.15218289395362, 17.270170662434847, 16.1289891012909, 15.19969644782006, 16.158103265961575, 14.325135661394015, 11.354597740090922, 13.697352952165252, 18.726282628197474, 18.15797902155235, 20.3962689405664, 19.090672991211942, 19.420726665855465, 17.638739441894053, 17.26747665311214, 17.996546400117072, 15.760039467833499, 15.345709139930934, 18.565492990307636, 18.571686635541088, 17.46067346780452, 18.328017059088946, 15.707764020516, 18.34540701410557, 19.026326482005643, 19.985707551625456, 16.195582017050093, 17.86360962559729, 13.83600216354667, 19.14861485179398, 17.879647204149382, 13.971731094160091, 17.229805984493098, 15.631537508776912, 17.51842567470673, 16.96185766761119, 16.9466248918504, 18.635988741335545, 17.594458752233, 17.180285385306046, 14.802823620579119, 16.591061201880027, 17.639711785389302, 15.723289137676655, 18.292897916619648, 16.39920323373766, 13.310592450412745, 15.594752340165535, 16.703254477226057, 16.977636967694096, 13.905277219003572, 16.347450512086528, 16.555477103744295, 18.22963201190534, 19.195857874772205, 17.3284630661103, 13.231479631439008, 16.284626691165272, 18.434714794367597, 16.83564452374663, 14.495152451294738, 15.06613352400119, 17.09354825063982, 17.392140292478302, 16.693241928380484, 17.927708217664662, 15.766349398184907, 18.23033262028415, 15.485337017292494, 17.107063483205827, 16.563817601918615, 14.557700727873529, 15.466786524555166, 19.13887950193539, 17.070072201756194, 14.013959696686493, 15.647971214415676, 13.607052396525054, 16.539381219685094, 16.060774965129454, 15.422070733683151, 15.789960404852394, 16.487576142765636, 15.500767192670004, 17.520817071097873, 18.395028254327396, 17.033854201248975, 14.29146395220268, 13.765343996995208, 14.911034415668805, 15.236610611901032, 16.412794100963136, 14.491197695234305, 13.729577871705825, 14.6220444578615, 17.74321827271009, 14.657337623663858, 13.753879805167774, 16.712832827218467, 16.473162572722103, 15.024097102603003, 17.03448641782881, 15.527516430499963, 16.44730255887978, 15.58865890976625, 14.889913142422989, 18.719669358375246, 16.00773498871001, 16.072924943645003, 15.793213212410338, 15.036088825275522, 14.286877632296177, 16.981100409641765, 14.271167387284317, 15.200955308267087, 16.09619180364474, 18.073592146669366, 16.90685237559954, 16.241041071877824, 16.2635263650085, 15.563157207173978, 15.349523385077953, 16.64809935408985, 16.556820020073225, 15.741063031426883, 14.58881597798524, 17.58482155183906, 16.804425999625337, 15.94746354553376, 17.749536376347177, 15.57502090261014, 15.574613045545558, 16.383481883139858, 16.32676471041899, 14.828332542012173, 16.414295890592424, 14.807508953232146, 14.013383889905429, 15.02627882077284, 15.275176191369736, 15.83127707225515, 17.17559222141804, 15.664490744646923, 17.384826949363244, 15.3999264135472, 15.148481934689798, 15.288090178347447, 16.136224819980423, 14.949203591675097, 17.136903656305325, 16.165735344065826, 16.68468421534426, 15.853017507249652, 13.393592844963605, 15.59174039762436, 15.531732392532374, 14.735039242008755, 13.961522493595345, 15.900893290764389, 15.37974020356852, 15.670416329643057, 14.291245233347498, 15.462621447965086, 15.948071924908058, 16.152590986309576, 16.134581509342922, 18.28133583410705, 15.684918332108595, 16.401573899712012, 14.990114590991642, 14.116174253346694, 16.195148169391754, 14.41224595217415, 14.8350778355385, 14.458675689341957, 16.74906009334374, 17.429321821369864, 17.197172356670734, 15.014796496071824, 13.440892742026215, 15.489959692295336, 16.348670799420997, 17.38206762036693, 17.360273133217753, 12.594866219350367, 15.636574104437582, 15.759754176271171, 16.210835256939657, 14.509923437189617, 15.435574414557625]\n",
      "\t Formality dataset OC_P mean 0.372 MSE mean 267.897 MSE median 266.172\n",
      "goldvalues :  [-1.4653279300118576, -1.4563844016692729, -1.4474409046289594, -1.4027233881251209, -1.4027233881251209, -1.3714211171817525, -1.3624775888391678, -1.3580058403190112, -1.3401188462383842, -1.2998730469524313, -1.2998730469524313, -1.2954012984322745, -1.2909295499121178, -1.2819860528718043, -1.2775143043516475, -1.268570776009063, -1.2417402848881225, -1.2149097624649108, -1.2104380139447541, -1.2059662341223263, -1.1970227370820128, -1.192550988561856, -1.192550988561856, -1.192550988561856, -1.1880792400416993, -1.174663963178958, -1.1612487176184876, -1.1612487176184876, -1.156776969098331, -1.152305220578174, -1.1478334720580174, -1.1478334720580174, -1.1388899437154327, -1.1299464466751192, -1.1210029496348057, -1.116531201114649, -1.116531201114649, -1.1075876727720644, -1.1075876727720644, -1.1031159242519077, -1.0941724272115942, -1.0897006786914374, -1.0897006786914374, -1.080757150348853, -1.080757150348853, -1.0718136533085394, -1.0718136533085394, -1.0718136533085394, -1.0673419047883825, -1.0673419047883825, -1.062870156268226, -1.040511382365171, -1.0360396338450144, -1.027096136804701, -1.022624388284544, -1.022624388284544, -1.0181526084621162, -1.0092091114218027, -1.004737362901646, -1.004737362901646, -1.0002656143814892, -0.9913221173411756, -0.986850337518748, -0.9823785889985911, -0.9823785889985911, -0.9779068404784343, -0.9779068404784343, -0.9779068404784343, -0.9779068404784343, -0.9689633434381208, -0.9689633434381208, -0.9689633434381208, -0.9644915949179641, -0.9600198463978072, -0.9421328210149092, -0.9331893239745958, -0.9287175754544389, -0.9153022985916978, -0.910830550071541, -0.9063588015513843, -0.8974153045110707, -0.8840000276483294, -0.8795282791281727, -0.8750565306080159, -0.8661130335677023, -0.8571695052251178, -0.8526977567049611, -0.8526977567049611, -0.8482260081848043, -0.8303389828019063, -0.8303389828019063, -0.8303389828019063, -0.8303389828019063, -0.8258672342817495, -0.799036711858538, -0.7945649633383811, -0.7900932148182244, -0.758790943874856, -0.7364321699718013, -0.7364321699718013, -0.7274886729314877, -0.7230169244113309, -0.6827711564276491, -0.6156948660207556, -0.5933360921177009, -0.5888643435975441, -0.570977318214646, -0.517316273368223, -0.5039010278077526, -0.4010507179373341, -0.32055915066769936, -0.32055915066769936, -0.17299129299117116, -0.15063255039038742, -0.1372172735276461, -0.10591500258427775, -0.083556259983494, -0.04331046069754108, 0.11767264253945735, 0.18474893294635075, 0.19369242998666425, 0.24288172631293067, 0.32337326228029434, 0.38597780416703104, 0.40833657807008583, 0.4575258743963523, 0.4932998938598774, 0.49777164238003413, 0.5067151394203476, 0.515658667762932, 0.515658667762932, 0.538017410363716, 0.5737914298272413, 0.5782632096496686, 0.5827349581698256, 0.5916784552101391, 0.6140372291131939, 0.6319242231938209, 0.6363959717139779, 0.6721700224797736, 0.6721700224797736, 0.7347745643665103, 0.7437180614068238, 0.7616050554874513, 0.7616050554874513, 0.7660768353098787, 0.7660768353098787, 0.7750203323501922, 0.7839638293905061, 0.8107943518137175, 0.8152661003338745, 0.824209597374188, 0.8331531257167722, 0.8420966227570857, 0.8420966227570857, 0.8465683712772427, 0.8510401197973994, 0.8555118683175563, 0.8689271451802971, 0.8733988937004541, 0.8733988937004541, 0.8823423907407676, 0.8868141392609246, 0.8868141392609246, 0.895757667603509, 0.9225881900267203, 0.9225881900267203, 0.9225881900267203, 0.9315316870670338, 0.9360034355871908, 0.9583622094902456, 0.9583622094902456, 0.9628339580104022, 0.9628339580104022, 0.9628339580104022, 0.9673057065305591, 0.985192731913457, 0.985192731913457, 0.985192731913457, 0.9941362289537705, 0.9941362289537705, 0.9986079774739275, 1.0209667513769822, 1.0254384998971389, 1.0254384998971389, 1.0254384998971389, 1.0299102484172957, 1.0299102484172957, 1.0343819969374528, 1.0388537454576092, 1.0388537454576092, 1.0388537454576092, 1.0433254939777663, 1.0477972738001937, 1.0522690223203506, 1.0522690223203506, 1.0567407708405072, 1.0656842678808212, 1.0656842678808212, 1.0701560164009776, 1.0746277649211347, 1.0746277649211347, 1.0880430417838756, 1.0925147903040324, 1.0969865388241895, 1.0969865388241895, 1.101458287344346, 1.1104018156869304, 1.1238170612474008, 1.1238170612474008, 1.1238170612474008, 1.1327605582877143, 1.1372323068078714, 1.1372323068078714, 1.1417040866302988, 1.1461758351504556, 1.1595910807109262, 1.1640628292310826, 1.1819498546139806, 1.1908933516542946, 1.195365100174451, 1.2043086285170352, 1.2087803770371923, 1.2266673711178193, 1.2311391196379764, 1.2356108994604036, 1.2356108994604036, 1.2400826479805607, 1.244554396500717, 1.2490261450208742, 1.253497893541031, 1.253497893541031, 1.2579696420611877, 1.2758566674440854, 1.2803284159642425, 1.2803284159642425, 1.2803284159642425, 1.3116306869076109, 1.3205741839479244, 1.3339894608106657, 1.3384612093308221, 1.360819983233877, 1.360819983233877, 1.3787069773145044, 1.3921222541772453, 1.4278962736407708, 1.4323680221609272, 1.4323680221609272, 1.4323680221609272, 1.481557287184923, 1.5083878096081342, 1.5218030864708756]\n",
      "modelvalues :  [17.13452818064007, 16.497950327075383, 19.026326482005643, 18.135446699300594, 18.452936188536864, 18.693252252193435, 17.02213985934562, 17.169246242653568, 18.039821108052593, 16.849039406067394, 18.220405263715723, 18.04621092041391, 18.550637133863024, 17.326653647206836, 17.996546400117072, 17.73597808782061, 17.716538842353636, 17.261304816305383, 19.457545205870485, 19.75203649300127, 18.728725220819406, 16.37400148923254, 15.44127427623582, 17.923553994022996, 16.064654683550152, 19.280158284272854, 15.973930317872817, 17.94814347575245, 16.356230272571487, 18.15627105001957, 18.59438368360203, 18.33667921464151, 16.529249679760927, 21.90032023331878, 17.678997285991016, 16.70106104552558, 18.06663779042892, 19.20800340624475, 16.63784583212698, 16.752810271003966, 18.11029792150081, 20.096447755981185, 16.880053293036195, 18.047769400162412, 15.768905766792699, 15.336918028884284, 18.754717703406058, 14.719476855029363, 18.55381022707208, 17.96874061491132, 17.617898368743347, 17.361909841164977, 16.531089877320245, 16.313378512621345, 16.58447722848734, 16.52275236573796, 16.972805871799476, 18.716199199095993, 16.12011002075252, 17.726638042533285, 17.373453051003715, 16.910820483605292, 17.245189721960745, 15.131731910888105, 17.97735774402792, 17.90079170457425, 20.1269977811164, 16.02425420204054, 16.270794076775015, 15.8570806957635, 16.172037380144268, 18.60767850026313, 19.55368154782128, 16.113798230259125, 18.367646419060915, 19.44555603985052, 18.695995875048567, 17.803991292703213, 18.158204921262488, 18.77923412352568, 18.944852774875784, 18.218665803174964, 16.440590659648674, 18.333438256622436, 17.274728798120716, 20.147424182497755, 17.53377637226801, 15.113557141702849, 18.78990035549106, 18.080056565939074, 16.124944146387154, 18.244915312723364, 19.637706287424823, 16.87935053802893, 16.134389580949428, 15.402844364731427, 15.19868856830329, 16.748459302813515, 16.973304026271474, 15.480301811630117, 16.86671107615996, 18.95667656965941, 16.62879744705798, 17.99361869683314, 17.32857242852085, 13.250276265752666, 17.036665822933823, 17.571111703052818, 17.063272609431156, 14.815197506670785, 16.802703474772795, 18.78399468986594, 15.867926680675556, 16.618212964877632, 18.709312612704803, 15.872782280258226, 16.848791378149283, 19.02146877363575, 16.864308746385404, 16.679678474438788, 17.05891757751763, 18.397534699059403, 16.916549785741704, 15.507720005280087, 17.28006798538459, 15.932923234322375, 16.899896679746554, 17.289243399840604, 17.181068499386505, 12.832478881397348, 16.46396247704979, 17.476010521924724, 16.831873841101274, 17.17369855451074, 16.599493864650437, 15.932817929010588, 14.388828611048899, 16.753979594537505, 17.301268702423574, 15.416281823270587, 15.609922173806952, 16.974114841175904, 16.313241951374813, 13.82399545916407, 16.86642045711404, 18.25376867284116, 16.972456722323365, 17.31945755986118, 16.10532636959499, 17.282974061352366, 14.714388564450285, 17.203954762466818, 17.44444537620642, 13.859096728627195, 16.373451025828057, 15.689044311744011, 16.663502627283002, 16.519164174905747, 15.733482472377322, 14.900758270538292, 16.397206066499113, 17.39669783576674, 15.287616493264842, 14.925223340876487, 15.811059218723463, 15.536108198073594, 17.37936799749846, 17.224733548102154, 17.647568632694178, 15.22257252181822, 14.690330334788834, 16.06940717161881, 16.62111302956653, 15.600131441343338, 14.76079760381602, 17.284327116916284, 17.227228305998278, 15.459251148278849, 17.277404370629228, 15.76141384985322, 17.545728817028944, 16.523935822054902, 17.420504172775523, 15.086383405338667, 14.839469700257172, 13.755138279306626, 16.807012596678128, 15.101676525307084, 17.455799325511798, 16.518246999352073, 14.84276002617645, 16.70250210939405, 16.70564795506676, 17.259423468278857, 16.730960870225864, 15.562507814921823, 16.42690300502505, 16.32698050853829, 16.586240303376844, 17.62093988770521, 14.819319738245616, 15.550422741417613, 15.37974020356852, 16.90685237559954, 16.423588073321337, 16.151534875777408, 15.091294219523077, 17.05011157140723, 14.732544613504928, 17.381915127517544, 14.874185530113564, 11.3378098826666, 16.023691450630622, 15.752398846433042, 13.115443490115156, 15.001822930853178, 14.837753190593613, 15.130763969573648, 16.175953153711994, 16.50763684383175, 16.041947491344466, 14.321736419023306, 15.737786170183874, 14.395338973168013, 15.053740140865346, 15.579439835043113, 16.21250724533748, 15.598793704455238, 14.73556141171142, 16.746858645137138, 15.161253460882326, 15.92667021936617, 13.256150987202428, 17.040790075357013, 16.322091040766885, 17.62999125023097, 15.292175647130211, 16.931042011167555, 15.461599924291459, 13.987082881534194, 13.95891195643382, 15.51010564608542, 14.930943253749357, 14.948245007305443, 15.685342641659874, 13.430394986393692, 17.319749488558127, 14.617486134129452, 16.906397817462462, 14.793511063840672, 14.629941306827506, 14.417529900522748]\n",
      "goldvalues :  [-1.4474409046289594, -1.4027233881251209, -1.3758928657019092, -1.3580058403190112, -1.322231820855486, -1.3177600723353293, -1.304344826774859, -1.2954012984322745, -1.2909295499121178, -1.286457801391961, -1.2775143043516475, -1.2730425558314908, -1.268570776009063, -1.2596272789687495, -1.2551555304485926, -1.250683781928436, -1.2462120334082791, -1.2462120334082791, -1.2462120334082791, -1.2327967565455378, -1.2193815109850676, -1.2149097624649108, -1.2149097624649108, -1.2104380139447541, -1.2104380139447541, -1.2104380139447541, -1.2059662341223263, -1.2014944856021694, -1.2014944856021694, -1.1836074915215424, -1.1791357430013858, -1.1791357430013858, -1.1612487176184876, -1.1612487176184876, -1.152305220578174, -1.152305220578174, -1.1478334720580174, -1.1433616922355896, -1.134418195195276, -1.1254746981549626, -1.1210029496348057, -1.1120594212922212, -1.0986441757317509, -1.0897006786914374, -1.0852289301712807, -1.0852289301712807, -1.0852289301712807, -1.080757150348853, -1.076285401828696, -1.076285401828696, -1.0718136533085394, -1.058398407748069, -1.0494548794054845, -1.044983130885328, -1.044983130885328, -1.027096136804701, -1.027096136804701, -1.022624388284544, -1.0136808599419596, -1.004737362901646, -1.0002656143814892, -1.0002656143814892, -1.0002656143814892, -1.0002656143814892, -1.0002656143814892, -0.9779068404784343, -0.9689633434381208, -0.9689633434381208, -0.9689633434381208, -0.9644915949179641, -0.9600198463978072, -0.9555480665753796, -0.9510763180552227, -0.9421328210149092, -0.9331893239745958, -0.9287175754544389, -0.9063588015513843, -0.9063588015513843, -0.9063588015513843, -0.8884717761684862, -0.8795282791281727, -0.8750565306080159, -0.8616412537452747, -0.8526977567049611, -0.8526977567049611, -0.8437542596646476, -0.8213954857615927, -0.8213954857615927, -0.816923737241436, -0.799036711858538, -0.7900932148182244, -0.758790943874856, -0.7543191953546993, -0.7409039497942289, -0.7096016788508606, -0.7051298990284329, -0.6827711564276491, -0.6782994079074922, -0.6693558795649078, -0.6514688854842808, -0.646997136964124, -0.6335818601013827, -0.6246383630610692, -0.6067513376781711, -0.570977318214646, -0.5441467957914344, -0.5217880531906506, -0.517316273368223, -0.4547117314814862, -0.40552246645749085, -0.271369885643704, -0.15063255039038742, -0.1372172735276461, 0.046124603612407174, 0.2160512038897191, 0.22946644945018935, 0.29654277115935385, 0.35020378470350594, 0.36809081008640404, 0.4754128684769793, 0.49777164238003413, 0.49777164238003413, 0.5693196813070843, 0.5872067066899821, 0.6050937007706096, 0.609565480593037, 0.6632264941371893, 0.6632264941371893, 0.6632264941371893, 0.6632264941371893, 0.6811135195200871, 0.6811135195200871, 0.6855852680402441, 0.6855852680402441, 0.6855852680402441, 0.6900570165604011, 0.7213592875037694, 0.7303027845440829, 0.7303027845440829, 0.7347745643665103, 0.7481898099269808, 0.7526615584471378, 0.7571333069672943, 0.7705485838300357, 0.801850854773404, 0.8063226032935605, 0.8063226032935605, 0.8152661003338745, 0.824209597374188, 0.8331531257167722, 0.8331531257167722, 0.8555118683175563, 0.8689271451802971, 0.9047011646438224, 0.9091729131639794, 0.9091729131639794, 0.9136446616841359, 0.9136446616841359, 0.9181164102042929, 0.9225881900267203, 0.9225881900267203, 0.9225881900267203, 0.9270599385468773, 0.9315316870670338, 0.9315316870670338, 0.9315316870670338, 0.9315316870670338, 0.9360034355871908, 0.9360034355871908, 0.9360034355871908, 0.9404751841073478, 0.9538904609700887, 0.9538904609700887, 0.9673057065305591, 0.9717774550507161, 0.9807209520910296, 0.9941362289537705, 0.9941362289537705, 0.9986079774739275, 1.0030797259940845, 1.0209667513769822, 1.0209667513769822, 1.0254384998971389, 1.0388537454576092, 1.0567407708405072, 1.0656842678808212, 1.0701560164009776, 1.079099544743562, 1.079099544743562, 1.0880430417838756, 1.0969865388241895, 1.0969865388241895, 1.101458287344346, 1.105930035864503, 1.1104018156869304, 1.1148735642070873, 1.119345312727244, 1.119345312727244, 1.1372323068078714, 1.1461758351504556, 1.1461758351504556, 1.1506475836706123, 1.1551193321907691, 1.1595910807109262, 1.1595910807109262, 1.1640628292310826, 1.1640628292310826, 1.1730063575736671, 1.1908933516542946, 1.1908933516542946, 1.2087803770371923, 1.2132521255573487, 1.2177238740775058, 1.222195622597663, 1.2311391196379764, 1.244554396500717, 1.2490261450208742, 1.2579696420611877, 1.2848001644843994, 1.3161024354277677, 1.3429329578509792, 1.3518764548912927, 1.360819983233877, 1.4010657512175588]\n",
      "modelvalues :  [19.301219142165152, 16.64295446726352, 16.56080464779437, 16.406746903603214, 17.59111017583605, 15.978999891633949, 17.88450602966151, 17.830852893247194, 15.817514339895718, 16.894680216901783, 17.265607780320853, 17.810418928422827, 17.830644817356667, 19.54227956303768, 17.5555860417357, 17.447884605570792, 16.54219558055982, 19.37084793772079, 19.23964322829262, 16.242840618253776, 17.337780876137952, 18.13563712106263, 18.932857514508285, 16.35953316269116, 19.875215941518395, 17.835797031403843, 17.108723688687213, 18.485816905217494, 19.271785461910735, 18.392082412211323, 17.71870938459193, 16.8297865294404, 17.19238457718816, 19.985707551625456, 18.090970866950197, 17.43436331173146, 16.60802941162614, 18.280309084237363, 19.090672991211942, 15.866845149205497, 19.419664439543872, 16.065714185780262, 18.16185541505886, 19.24629792343277, 17.510564411184106, 18.64283306816327, 15.97661549329635, 17.20866787139261, 19.149726153167816, 20.82096851426292, 15.159940193608897, 21.809225918264843, 18.22963201190534, 15.226532653008995, 17.75573886754427, 18.45298163759154, 17.44061245466762, 17.745182029010213, 20.976825793917346, 18.292897916619648, 18.190538080900655, 15.897683490996174, 18.34540701410557, 14.8218156533472, 16.832591420063054, 19.164576046820564, 15.753340579103318, 17.404655391354446, 15.706475187459853, 16.261524254213274, 17.571200310150356, 19.4359524916787, 18.23954901902765, 17.580348838201644, 18.84262628068631, 17.297668164713638, 19.43973431724821, 17.539167962104642, 19.082503492313165, 16.06453610635399, 18.967450846796083, 16.346614648638255, 16.231656452181483, 15.932317607390628, 16.343786754503977, 17.10758989179694, 20.156120269490817, 19.955892467091527, 18.59811018718189, 16.85727362068322, 15.829587637511162, 18.879649809464336, 17.879785390110097, 15.5125424109982, 17.35566503646116, 17.837739717956275, 15.928426405896795, 12.913857175492849, 16.777122911174295, 14.751434098794721, 16.94259630419597, 13.865315445223288, 16.16626829116574, 17.921457946302983, 14.49683967955228, 14.220496884808313, 17.166677776976552, 15.451690883151247, 17.304466953732433, 14.792921976829481, 16.977636967694096, 17.919330899513884, 16.225112583999103, 13.639740691896256, 15.876381096087941, 18.28117687727281, 15.833566469584342, 16.74658552999325, 16.643714493505666, 14.474228806428618, 16.15778894473548, 15.58352295077504, 16.731846693939893, 14.996713689665139, 17.504494531615855, 16.31805163653074, 16.986983867432997, 15.656851941337075, 15.766820672356378, 15.53808803067951, 17.701244781601496, 17.86999405271669, 17.21661516865667, 16.69513325110426, 16.060774965129454, 14.648043958150513, 17.07308034189056, 17.6374042616323, 17.4389795108765, 14.874253870068442, 16.165735344065826, 16.89344193557392, 16.958752465477883, 15.350890866206935, 17.401940449925615, 17.76870276163049, 18.023767980068275, 14.770883916535137, 14.65986867295972, 17.070072201756194, 16.33258659621018, 15.776811515699954, 16.093757568014887, 18.174997458129315, 15.519430489190196, 15.579764357497636, 16.708176293791077, 12.990467218484678, 17.575948336641172, 16.217562724350895, 15.736920147414432, 18.383028096740833, 17.680761841796524, 14.0850612458155, 17.274428804520383, 13.546770611965039, 16.233622810705583, 17.180913908685802, 16.74906009334374, 15.802206815181648, 14.95559199170554, 15.335055491032252, 14.972375716891905, 15.856541907929564, 17.627198355254436, 15.90265882638991, 15.670416329643057, 15.202271310306868, 17.78572299666024, 16.550872637569988, 17.03448641782881, 15.67738251611814, 16.99310607496937, 17.9973987943696, 15.091621681665112, 17.384826949363244, 15.404953088526225, 16.378890607783372, 16.637269491194164, 16.210835256939657, 15.321686196335662, 15.613750814782003, 16.144687921470123, 16.29417878922068, 16.51702102152223, 16.064554041529934, 16.361591090462028, 16.983680200271568, 15.758659756243148, 14.552938703901347, 13.669193779513352, 16.810907025141614, 16.957301257198182, 16.396246949530596, 16.233239117125372, 14.037534282506465, 16.2635263650085, 14.903111780064618, 15.873430282888243, 17.176377629765014, 16.686921637359212, 14.473494183961225, 15.033828181635066, 10.785745689666076, 15.792340025779724, 14.393533041353027, 13.408184218839768, 16.52538402923212, 15.209476417746728, 15.62905500206406, 14.799023955435052, 16.344003537973524, 16.88308840351652, 16.210261802572596]\n",
      "goldvalues :  [-1.4071951366452775, -1.4027233881251209, -1.3848363627422227, -1.3580058403190112, -1.3490623432786977, -1.3490623432786977, -1.3445905947585408, -1.3401188462383842, -1.286457801391961, -1.286457801391961, -1.2819860528718043, -1.2775143043516475, -1.2640990274889061, -1.250683781928436, -1.2238532595052243, -1.2149097624649108, -1.2104380139447541, -1.2059662341223263, -1.2059662341223263, -1.1836074915215424, -1.1836074915215424, -1.1791357430013858, -1.170192214658801, -1.1612487176184876, -1.1478334720580174, -1.1433616922355896, -1.1433616922355896, -1.1433616922355896, -1.134418195195276, -1.1210029496348057, -1.1120594212922212, -1.1120594212922212, -1.1031159242519077, -1.1031159242519077, -1.0986441757317509, -1.0986441757317509, -1.0897006786914374, -1.076285401828696, -1.0718136533085394, -1.0718136533085394, -1.0673419047883825, -1.0539266592279124, -1.0539266592279124, -1.0494548794054845, -1.044983130885328, -1.044983130885328, -1.044983130885328, -1.044983130885328, -1.040511382365171, -1.0360396338450144, -1.0181526084621162, -1.0181526084621162, -1.0181526084621162, -1.004737362901646, -0.9957938658613325, -0.9913221173411756, -0.9779068404784343, -0.9779068404784343, -0.9689633434381208, -0.9644915949179641, -0.9644915949179641, -0.9555480665753796, -0.9510763180552227, -0.946604569535066, -0.9421328210149092, -0.9421328210149092, -0.9421328210149092, -0.9331893239745958, -0.9153022985916978, -0.910830550071541, -0.9018870530312275, -0.9018870530312275, -0.9018870530312275, -0.8974153045110707, -0.8974153045110707, -0.892943524688643, -0.8884717761684862, -0.8884717761684862, -0.8795282791281727, -0.8795282791281727, -0.8750565306080159, -0.8705847820878592, -0.8303389828019063, -0.8258672342817495, -0.799036711858538, -0.799036711858538, -0.799036711858538, -0.7945649633383811, -0.7856214662980676, -0.7766779692577541, -0.7677344409151696, -0.7632626923950128, -0.7632626923950128, -0.7632626923950128, -0.7543191953546993, -0.7453756983143858, -0.7185451758911742, -0.6961864019881193, -0.6961864019881193, -0.6872429049478058, -0.6827711564276491, -0.6559406340044376, -0.6380536086215395, -0.6335818601013827, -0.629110111581226, -0.629110111581226, -0.5128445248480661, -0.47707050538454104, -0.47707050538454104, -0.4636552598240708, -0.44129648592101595, -0.44129648592101595, -0.39657896941717735, -0.39657896941717735, -0.37869194403427925, -0.31161565362738586, -0.29372862824448775, -0.083556259983494, 0.03270932674966584, 0.10872914549914385, 0.24735347483308742, 0.35914731304609054, 0.49777164238003413, 0.5022433909001911, 0.5290739133234025, 0.5335456618435594, 0.5648479327869278, 0.5872067066899821, 0.6229807261535074, 0.6274524746736644, 0.6408677515364053, 0.6498112485767188, 0.6990005136007146, 0.6990005136007146, 0.703472293423142, 0.7124157904634555, 0.7303027845440829, 0.7347745643665103, 0.7481898099269808, 0.7705485838300357, 0.7705485838300357, 0.7750203323501922, 0.7750203323501922, 0.7794920808703492, 0.7839638293905061, 0.797379106253247, 0.797379106253247, 0.8063226032935605, 0.8063226032935605, 0.8107943518137175, 0.8107943518137175, 0.8107943518137175, 0.8823423907407676, 0.8823423907407676, 0.8868141392609246, 0.895757667603509, 0.9002294161236655, 0.9047011646438224, 0.9136446616841359, 0.9136446616841359, 0.9181164102042929, 0.9360034355871908, 0.9404751841073478, 0.9404751841073478, 0.9449469326275043, 0.9449469326275043, 0.9494186811476613, 0.9583622094902456, 0.9673057065305591, 0.9717774550507161, 0.9762492035708726, 0.9762492035708726, 0.9941362289537705, 0.9941362289537705, 0.9986079774739275, 1.0030797259940845, 1.0075514745142409, 1.012023223034398, 1.0164950028568254, 1.0209667513769822, 1.0299102484172957, 1.0299102484172957, 1.0299102484172957, 1.0388537454576092, 1.0433254939777663, 1.0522690223203506, 1.061212519360664, 1.0701560164009776, 1.0746277649211347, 1.0925147903040324, 1.0969865388241895, 1.101458287344346, 1.101458287344346, 1.119345312727244, 1.1238170612474008, 1.1327605582877143, 1.1461758351504556, 1.1551193321907691, 1.1595910807109262, 1.1640628292310826, 1.177478106093824, 1.1819498546139806, 1.1908933516542946, 1.195365100174451, 1.195365100174451, 1.2043086285170352, 1.2132521255573487, 1.2177238740775058, 1.222195622597663, 1.2266673711178193, 1.2311391196379764, 1.2311391196379764, 1.2490261450208742, 1.253497893541031, 1.253497893541031, 1.2579696420611877, 1.2624413905813445, 1.271384918923929, 1.2803284159642425, 1.289271913004556, 1.2937436615247129, 1.3071589383874538, 1.3116306869076109, 1.3161024354277677, 1.3205741839479244, 1.3205741839479244, 1.3429329578509792, 1.360819983233877, 1.3742352287943476, 1.4189527452981863, 1.4368397706810843, 1.4457832677213978]\n",
      "modelvalues :  [14.658816317653367, 20.012261547022366, 18.401071452365635, 15.75313576720404, 17.35530058995036, 17.429240701766215, 17.708867022505615, 15.051087837705168, 18.368738955127217, 17.486495048034882, 18.773557846211485, 17.310905622047077, 21.127110404688047, 16.137198425571594, 15.275195937859653, 17.728192446281408, 16.31028700731008, 18.061964775682686, 19.42664790673642, 17.724031418034084, 16.33600536963432, 17.809985428253363, 17.57317582879747, 16.47632246013107, 17.84233396875941, 16.492130427272205, 18.946592135160028, 18.324116703393088, 16.487280864131954, 18.043847304546745, 15.572352097110096, 16.393011278025988, 17.36515693857725, 14.42581294199734, 18.398601491310217, 18.59978359292618, 17.57664753212957, 15.92800394458792, 15.475012109069123, 17.567661879786424, 18.19258512637286, 16.666497771509782, 17.342051448666435, 18.209308648888847, 15.378926521183997, 18.260288598304474, 19.76144333382013, 16.707112836237382, 18.726282628197474, 17.249489181767444, 16.34025639948004, 14.631245656666662, 16.390733803981853, 16.427159324059726, 17.404629619750764, 15.80497925091359, 18.6794311787038, 17.527033771103266, 16.769600604866255, 17.966648522047183, 18.094361011805262, 19.476161853150362, 16.08055275348479, 18.029182547840453, 18.552027525801503, 19.210026536816308, 16.946795798134442, 16.28745750912411, 16.47284603411746, 16.51660663509915, 17.890788943643756, 15.754173797199993, 16.802091838609385, 13.673865193061888, 18.075291490644968, 17.5639195874913, 14.797670674983495, 16.986597718994126, 18.10105346699821, 16.385268872296574, 15.915288897971028, 16.095276462412745, 17.942215286203968, 17.380254595832145, 17.87808061508719, 17.80401843562257, 15.7073295172081, 17.46067346780452, 17.884930944120583, 15.936409372332452, 18.52973264505586, 15.547561423203431, 15.986949069552498, 17.868250215104943, 17.927708217664662, 15.233769562830851, 16.426509330835295, 15.84974511446446, 15.482730467547608, 17.182522347615112, 19.14861485179398, 16.154001645728364, 16.012538449292403, 15.858884540072976, 18.508525920734314, 18.3554676913696, 16.18606649368509, 16.455689758047463, 17.96917811093479, 15.602126153462045, 14.432934231326989, 17.884553517198988, 16.90290185395235, 16.26976115958987, 16.437961475512555, 15.873666408151685, 15.776602872481563, 17.770630619197053, 16.204995746756428, 14.589791082007476, 16.545611967519253, 18.380103709010395, 17.050639895937767, 16.32794790299452, 16.367931920634213, 15.435255173387013, 16.90030457590064, 15.910156795183278, 16.647270905756024, 18.10387168961121, 17.816515599024836, 16.906321711847657, 16.85958113170778, 15.213487906436592, 16.477881291659234, 18.278520469376357, 14.495271541838404, 16.33614086782418, 14.978931956157615, 15.182248941367476, 15.019528861255116, 17.963455822127113, 11.563960726070054, 15.584623008447522, 16.611486345816772, 17.38206762036693, 12.648123588289653, 15.734809902303025, 15.638188260975012, 16.577658590394584, 16.64334238879514, 16.78310412546265, 16.21331619038143, 16.8958797542212, 15.834845874686803, 18.867947059795, 14.304039651241066, 16.504152090158506, 16.623045606745688, 16.393777912807337, 15.866010168348554, 17.317324018220937, 16.712832827218467, 16.71959305924078, 15.365226703385854, 17.298054012934454, 15.294127230561319, 16.21109662113465, 17.117286235745723, 16.4182850546269, 15.166770053036494, 16.22115112204093, 16.01718178981779, 14.991065677726167, 14.891592943698626, 17.340035722867153, 17.380901986997195, 17.02785413407527, 15.457355058506, 16.33083745114456, 14.799669635950325, 15.443320270627977, 15.627970290708232, 16.961698220732803, 14.760600191778375, 14.838542252241059, 17.83396415431544, 12.169081844274285, 15.519298371100453, 16.86263494102344, 14.783965564812243, 16.68468421534426, 17.070956779304854, 14.172607912675014, 16.571687020361484, 15.77621966032166, 17.675007994276665, 16.03800135028722, 15.870128784762565, 15.927007661027652, 14.395116070538016, 16.227604370907603, 12.360706065962292, 16.38442596332709, 16.8933930245759, 15.72066388894673, 17.717106954736984, 15.771793013892, 14.633820146183837, 15.400560896279037, 16.163922571913123, 16.962111388210097, 16.30412042570196, 16.169162839785933, 17.71876856275774, 17.4418195264211, 16.525647447084584, 15.830128337829285, 16.1231014012588, 15.341534469630366, 18.56821156938477, 16.412794100963136, 17.187991336635513, 16.91338827938002, 15.815998715109295, 17.647514382108803, 16.001132978711837, 13.754754740042006, 14.883377000132493, 14.92745524063586, 11.432615221512185, 17.398874762227443]\n",
      "goldvalues :  [-1.398251639604964, -1.3669493686615957, -1.3624775888391678, -1.3401188462383842, -1.3311753178957995, -1.3311753178957995, -1.322231820855486, -1.3177600723353293, -1.3132883238151725, -1.3132883238151725, -1.286457801391961, -1.2819860528718043, -1.2775143043516475, -1.268570776009063, -1.268570776009063, -1.2596272789687495, -1.2596272789687495, -1.250683781928436, -1.2462120334082791, -1.2462120334082791, -1.2417402848881225, -1.2372685050656946, -1.2238532595052243, -1.2149097624649108, -1.2104380139447541, -1.2104380139447541, -1.2059662341223263, -1.1970227370820128, -1.192550988561856, -1.1880792400416993, -1.1880792400416993, -1.174663963178958, -1.170192214658801, -1.170192214658801, -1.1657204661386444, -1.1612487176184876, -1.152305220578174, -1.152305220578174, -1.1388899437154327, -1.134418195195276, -1.1299464466751192, -1.1254746981549626, -1.1210029496348057, -1.116531201114649, -1.116531201114649, -1.1075876727720644, -1.1031159242519077, -1.0986441757317509, -1.0986441757317509, -1.0986441757317509, -1.0941724272115942, -1.0897006786914374, -1.0897006786914374, -1.076285401828696, -1.0673419047883825, -1.0673419047883825, -1.062870156268226, -1.058398407748069, -1.044983130885328, -1.040511382365171, -1.0360396338450144, -1.027096136804701, -1.0181526084621162, -0.9957938658613325, -0.9913221173411756, -0.9913221173411756, -0.9913221173411756, -0.9823785889985911, -0.9734350919582776, -0.9644915949179641, -0.9644915949179641, -0.9644915949179641, -0.9600198463978072, -0.946604569535066, -0.9421328210149092, -0.9063588015513843, -0.9063588015513843, -0.9018870530312275, -0.9018870530312275, -0.892943524688643, -0.8840000276483294, -0.8840000276483294, -0.8795282791281727, -0.8616412537452747, -0.8571695052251178, -0.8526977567049611, -0.8482260081848043, -0.8303389828019063, -0.816923737241436, -0.8124519887212792, -0.799036711858538, -0.7945649633383811, -0.7900932148182244, -0.7364321699718013, -0.7364321699718013, -0.7140734273710174, -0.7006581505082761, -0.6872429049478058, -0.6872429049478058, -0.6827711564276491, -0.6782994079074922, -0.6648841310447511, -0.6604123825245943, -0.6604123825245943, -0.6514688854842808, -0.4949575307674391, -0.49048578224728234, -0.48601400242485454, -0.4278812403605457, -0.42340946053811784, -0.38763544107459275, -0.383163692554436, -0.15957604743070092, -0.14168902204780284, -0.07014098312075266, 0.014822332669038839, 0.03718107526982259, 0.07295509473334767, 0.14897491348282568, 0.17580543590603726, 0.24735347483308742, 0.2607687203935577, 0.2831274942966125, 0.3189015137601376, 0.35020378470350594, 0.3636190615662473, 0.38597780416703104, 0.40833657807008583, 0.4306953519731407, 0.4575258743963523, 0.48882814533972063, 0.4932998938598774, 0.49777164238003413, 0.5737914298272413, 0.5916784552101391, 0.596150203730296, 0.6274524746736644, 0.6274524746736644, 0.6453395000565623, 0.6498112485767188, 0.6676982426573462, 0.6811135195200871, 0.6900570165604011, 0.7168875389836125, 0.7481898099269808, 0.7481898099269808, 0.7526615584471378, 0.7660768353098787, 0.7705485838300357, 0.7794920808703492, 0.7839638293905061, 0.7929073264308196, 0.7929073264308196, 0.797379106253247, 0.8063226032935605, 0.819737848854031, 0.819737848854031, 0.824209597374188, 0.8286813771966153, 0.8286813771966153, 0.8331531257167722, 0.8420966227570857, 0.8644553966601406, 0.8644553966601406, 0.8689271451802971, 0.8733988937004541, 0.8733988937004541, 0.8823423907407676, 0.9002294161236655, 0.9047011646438224, 0.9091729131639794, 0.9270599385468773, 0.9270599385468773, 0.9315316870670338, 0.9494186811476613, 0.9538904609700887, 0.9673057065305591, 0.9673057065305591, 0.9807209520910296, 0.985192731913457, 0.989664480433614, 0.9941362289537705, 0.9986079774739275, 1.0030797259940845, 1.0075514745142409, 1.0164950028568254, 1.0209667513769822, 1.0299102484172957, 1.0388537454576092, 1.0388537454576092, 1.0388537454576092, 1.0433254939777663, 1.0567407708405072, 1.061212519360664, 1.0701560164009776, 1.079099544743562, 1.0925147903040324, 1.0969865388241895, 1.0969865388241895, 1.105930035864503, 1.1104018156869304, 1.1104018156869304, 1.1148735642070873, 1.119345312727244, 1.1327605582877143, 1.1372323068078714, 1.1372323068078714, 1.1372323068078714, 1.1417040866302988, 1.1551193321907691, 1.1551193321907691, 1.1640628292310826, 1.1730063575736671, 1.1819498546139806, 1.1864216031341375, 1.195365100174451, 1.199836848694608, 1.2043086285170352, 1.2311391196379764, 1.2490261450208742, 1.2490261450208742, 1.253497893541031, 1.266913170403772, 1.271384918923929, 1.2758566674440854, 1.2758566674440854, 1.2848001644843994, 1.289271913004556, 1.289271913004556, 1.2982154413471403, 1.3026871898672974, 1.3250459324680812, 1.3250459324680812, 1.3429329578509792, 1.405537499737716, 1.4234245251206137, 1.4502550162415546, 1.530746583511189]\n",
      "modelvalues :  [18.025573655858075, 16.945009927612542, 18.620292419760194, 16.67315008026816, 17.318272851083623, 16.188788942577837, 17.45371521059501, 18.695655301861002, 15.837589238435633, 15.645061193389065, 15.449859010460342, 16.638937940010965, 18.8780839388581, 18.356584791533475, 16.531843231169322, 16.694222323813534, 18.354226864352995, 16.659158041270867, 18.176868343530167, 17.335834753489806, 19.195857874772205, 16.830589619641437, 19.597550997819, 16.407356401641625, 17.443564349741983, 18.18337263476608, 18.61510140219559, 17.28457566281581, 16.918735412708223, 16.05380232642427, 16.753072735512212, 16.11642365395003, 17.722864841852893, 14.574111621839974, 18.06163373174, 18.344996822951035, 16.38230175665594, 17.790608920877933, 17.858541386993462, 18.641685193017825, 18.84577326139256, 18.456424660431274, 16.496902702923386, 16.816266690777766, 17.00151527937297, 16.24045345084984, 13.85867349035018, 16.36736205012525, 16.628911094672493, 18.714108182633783, 17.686138008584575, 15.997368109496454, 17.551298001305252, 19.265512285473978, 16.271900785377355, 15.170053123990597, 17.066663003021777, 15.565171002338047, 18.24732421692026, 19.811476418941055, 17.781239662623875, 19.396921833672202, 16.536843221965338, 15.84671334591999, 16.81284644504252, 15.272955361340445, 17.309181311614836, 18.010269373231175, 16.265219039971058, 17.04772617090091, 16.722732167522995, 20.34040341759498, 17.31774508296402, 17.792874443803683, 18.483588367148577, 18.163061437346023, 19.132041854222006, 17.26747665311214, 17.69159189070503, 17.46722852326641, 15.383568611967647, 16.436780191801876, 15.851549434305557, 18.349873130388065, 19.941090199184917, 14.705659347476882, 16.388086604310644, 17.85724979001759, 16.96185766761119, 17.916637335546934, 17.85639790726761, 17.382694526511404, 17.102054937799277, 16.448244005348556, 16.457540749956223, 17.424557451072317, 17.814900643778763, 16.100991607208012, 16.203531237041346, 16.274454747579963, 17.478295107360655, 18.902643613059478, 17.202221448604334, 18.693016214911943, 16.068503119978715, 17.05948535187327, 16.689652319112955, 17.971378052126916, 15.03707855499438, 15.834064240058654, 15.33896456537859, 19.309217134725287, 15.820044134504391, 18.373557657935653, 17.796835533770054, 15.337931347937694, 16.83668101975656, 17.00902701501023, 15.649308241816986, 17.293696511247788, 16.08006018711948, 14.344242895270169, 16.260012660810876, 17.65758950395532, 17.73809022524128, 16.651629558860954, 17.419887068156275, 16.12761499786214, 15.812521397145842, 18.687317928021077, 17.135333264722703, 15.827990511916994, 15.15207224839497, 16.018068222410573, 15.540243970256956, 17.77643907329023, 17.152317354212496, 15.816311408685666, 17.564229596421583, 18.665376606658675, 14.54939892977998, 18.11030577780561, 19.045308690841257, 18.153222399663832, 17.34629118188574, 15.934473969368275, 17.51210006310018, 15.325503313346793, 15.838500920948537, 16.981349421772954, 17.22986615601221, 15.821014343772006, 16.29878829846626, 17.11057193817202, 16.456274287992734, 15.504208163904007, 16.63740407383379, 15.48676729651598, 17.471556622472868, 16.308298650757205, 16.196515072584912, 16.242102566915907, 18.110228739707654, 18.34280006407813, 15.246171743265228, 18.399130823428077, 17.807377186634582, 14.79358288915702, 17.11757488192702, 17.375494229818923, 18.341223165057592, 16.70906851231902, 16.48057461891591, 17.365914962551134, 16.367929583846564, 16.901724006789355, 17.218917197418275, 15.900893290764389, 15.99774670115806, 16.77232262120948, 17.331996756191796, 17.42840548799407, 16.436105356239246, 17.746758259012374, 15.365247933983477, 17.650761670766585, 15.78912050082181, 16.57439834963682, 17.11058624545684, 16.612802685419112, 11.118148039566904, 15.686120639987644, 16.666777480437517, 15.267363934964806, 16.97927659383284, 18.022150489067702, 16.35579932732265, 15.693490841769828, 16.519823852185837, 14.908888839751251, 16.286583292203446, 17.540220875600983, 16.563376871857294, 16.146179579700686, 17.947857030003092, 13.96632510766408, 16.331563260971105, 16.004736565189226, 15.749722115992638, 14.932080308605277, 14.677655932182253, 16.515946577955972, 14.958160784459134, 15.148540736403186, 14.300008017353965, 15.747418996112327, 13.702916163000118, 15.562459882228378, 15.053038924118306, 16.78185032294916, 14.911260420463341, 15.042507559459041, 17.361077944208194, 16.66374423577197, 18.003683490531934, 16.72123611843973, 14.730940919826274, 17.316222118714283, 15.177903799430602, 17.180448783397686, 14.726180724009767, 17.338495273295642, 15.756426111912242, 14.488609100969997, 14.381724529927924, 16.69905841928105, 15.45289373858399, 17.796745957449197]\n",
      "goldvalues :  [-1.492158452435069, -1.4250821307259045, -1.4206103822057479, -1.3535340917988543, -1.322231820855486, -1.3088165752950158, -1.304344826774859, -1.2954012984322745, -1.2954012984322745, -1.2909295499121178, -1.2596272789687495, -1.2596272789687495, -1.2417402848881225, -1.2417402848881225, -1.2283250080253811, -1.2283250080253811, -1.2238532595052243, -1.2193815109850676, -1.2149097624649108, -1.2149097624649108, -1.2059662341223263, -1.1970227370820128, -1.1836074915215424, -1.1836074915215424, -1.1791357430013858, -1.174663963178958, -1.174663963178958, -1.174663963178958, -1.170192214658801, -1.170192214658801, -1.1612487176184876, -1.152305220578174, -1.1433616922355896, -1.1433616922355896, -1.1388899437154327, -1.134418195195276, -1.1299464466751192, -1.116531201114649, -1.1031159242519077, -1.1031159242519077, -1.0852289301712807, -1.0852289301712807, -1.0673419047883825, -1.0673419047883825, -1.0673419047883825, -1.0673419047883825, -1.062870156268226, -1.058398407748069, -1.058398407748069, -1.058398407748069, -1.0494548794054845, -1.0315678853248575, -1.027096136804701, -1.0181526084621162, -1.004737362901646, -1.004737362901646, -1.004737362901646, -0.9913221173411756, -0.9913221173411756, -0.9913221173411756, -0.986850337518748, -0.986850337518748, -0.986850337518748, -0.9779068404784343, -0.9779068404784343, -0.9734350919582776, -0.9689633434381208, -0.9689633434381208, -0.9644915949179641, -0.9644915949179641, -0.9600198463978072, -0.9555480665753796, -0.9287175754544389, -0.9153022985916978, -0.9063588015513843, -0.9018870530312275, -0.9018870530312275, -0.9018870530312275, -0.8661130335677023, -0.8392825111444908, -0.834810762624334, -0.834810762624334, -0.8303389828019063, -0.8258672342817495, -0.8258672342817495, -0.7900932148182244, -0.7543191953546993, -0.7498474468345425, -0.7364321699718013, -0.7364321699718013, -0.7319604214516444, -0.7096016788508606, -0.7051298990284329, -0.6693558795649078, -0.6201666145409125, -0.6201666145409125, -0.5665055696944893, -0.5396750472712777, -0.5217880531906506, -0.4636552598240708, -0.45023998296132944, -0.4457682344411727, -0.42340946053811784, -0.41446596349780435, -0.40552246645749085, -0.2490111117406492, -0.16404779595085767, -0.1282737764873326, -0.0924997570238075, -0.029895215137070833, 0.14003141644251219, 0.14450316496266893, 0.23393822927261718, 0.24735347483308742, 0.37703430712671754, 0.39044958398945884, 0.4664693714366658, 0.47094111995682253, 0.49777164238003413, 0.5067151394203476, 0.5335456618435594, 0.5603761842667708, 0.5603761842667708, 0.5872067066899821, 0.6050937007706096, 0.6453395000565623, 0.7124157904634555, 0.7168875389836125, 0.7616050554874513, 0.7616050554874513, 0.7660768353098787, 0.7884355779106627, 0.7884355779106627, 0.7929073264308196, 0.801850854773404, 0.8107943518137175, 0.8107943518137175, 0.8152661003338745, 0.819737848854031, 0.824209597374188, 0.8599836481399836, 0.8644553966601406, 0.8644553966601406, 0.8733988937004541, 0.8733988937004541, 0.8778706422206111, 0.8823423907407676, 0.8823423907407676, 0.9002294161236655, 0.9002294161236655, 0.9225881900267203, 0.9315316870670338, 0.9360034355871908, 0.9360034355871908, 0.9404751841073478, 0.9449469326275043, 0.9494186811476613, 0.9494186811476613, 0.9583622094902456, 0.9583622094902456, 0.989664480433614, 0.9941362289537705, 0.9986079774739275, 1.012023223034398, 1.0164950028568254, 1.0164950028568254, 1.0164950028568254, 1.0299102484172957, 1.0343819969374528, 1.0343819969374528, 1.0477972738001937, 1.0522690223203506, 1.0656842678808212, 1.083571293263719, 1.0925147903040324, 1.0925147903040324, 1.105930035864503, 1.105930035864503, 1.1104018156869304, 1.119345312727244, 1.1282888097675579, 1.1372323068078714, 1.1461758351504556, 1.1551193321907691, 1.1730063575736671, 1.1730063575736671, 1.177478106093824, 1.1864216031341375, 1.1908933516542946, 1.195365100174451, 1.2132521255573487, 1.2177238740775058, 1.2356108994604036, 1.2356108994604036, 1.2400826479805607, 1.253497893541031, 1.2624413905813445, 1.266913170403772, 1.2758566674440854, 1.2848001644843994, 1.2937436615247129, 1.3026871898672974, 1.3026871898672974, 1.3026871898672974, 1.3071589383874538, 1.3116306869076109, 1.3161024354277677, 1.3161024354277677, 1.3384612093308221, 1.347404706371136, 1.3742352287943476, 1.387650474354818, 1.3965940026974024, 1.4323680221609272]\n",
      "modelvalues :  [17.752747074437973, 19.96121359818667, 19.49533495960651, 15.535464811914098, 15.894390191803465, 16.629090180458935, 20.441299908172326, 19.352384608863396, 16.738626922607434, 18.620385999891358, 17.732693269186814, 17.231177022422184, 16.675070583474078, 16.34177649790338, 19.26558868790587, 18.05657409604101, 16.806279986952255, 15.81191907124815, 17.33545480694411, 17.57966238284239, 18.36910968467593, 18.278199869629454, 18.42461360012507, 13.93858976632827, 17.51842567470673, 17.394957968990315, 17.397520580801807, 18.760358053122523, 17.360785195310566, 17.74347456774036, 19.629123322935392, 20.369759439287417, 16.23913657393201, 19.398451039370222, 15.433407392624677, 16.088268408689974, 17.893497527936653, 17.274838662102578, 16.107810135937214, 18.004305475902434, 17.460679239679067, 16.184855110235944, 19.11732663189148, 15.214070636666408, 17.5548765698913, 16.283375061819065, 17.413970898982125, 18.3333493012017, 15.507462214851964, 16.293660264272432, 15.678917594077484, 16.944642446710525, 19.050202106734282, 16.662322897456338, 17.148570202407928, 21.40264870650875, 16.856526091777322, 16.08733093289248, 17.393512891229836, 16.076958398416142, 18.078039663076694, 18.791403616074316, 16.058866954384733, 18.732537592501316, 15.247983819727772, 14.125355704957505, 18.844315152740663, 17.229805984493098, 16.735870152267253, 17.741692609324584, 16.950728474856795, 16.724401221935516, 17.30855169407209, 15.871838271367656, 15.91736907615717, 19.25633414573344, 16.53521610420321, 16.235646304060413, 15.379424606059036, 16.833495689839307, 19.07103781744517, 18.565492990307636, 17.39085349717613, 17.721188435577968, 16.365836903041842, 15.129730071039916, 15.712199249856702, 15.698703155481477, 15.90641304636812, 18.954326209230594, 17.400532865794137, 13.986080838175395, 18.571686635541088, 16.964829037774575, 17.488833281193067, 17.98005856529997, 14.739244321626852, 18.35163194947318, 16.00420014904113, 15.030672232767124, 17.806318273965463, 15.949775456024799, 17.76465308982897, 15.487873127457599, 16.684381600962567, 16.68368391097963, 15.27410348739648, 16.793815351325716, 16.281014265571358, 17.941999847883466, 18.05217207110786, 16.0582684673535, 16.217616227317315, 18.644693909042886, 14.046516717800726, 16.266072971899515, 15.92716695882008, 16.89421590301726, 16.91604653218339, 16.640591274613584, 15.82935969002778, 16.377634311780515, 18.112960113975056, 16.204566790379243, 17.322187808161416, 10.8769522536848, 15.643848631252459, 18.002686275200887, 18.051203788553014, 14.885487061612684, 17.48712520429222, 17.612647557290625, 16.191694007565808, 16.862749303181925, 17.7987000149418, 16.77411260776859, 15.260836743660532, 17.126021819029383, 17.163333709663682, 14.379281131384003, 15.746318671752817, 15.529754692463888, 17.392339641378832, 15.634426269220674, 16.00291227076759, 20.222473870594836, 16.473162572722103, 15.721312445826332, 16.089761812142633, 17.492043759796196, 16.134755206721216, 16.278752888582684, 16.72813504378242, 16.45535493491936, 15.617493753012921, 16.654888976481885, 16.53607585091182, 15.86295859717389, 10.217020103578019, 14.061757166511931, 14.886121783817877, 15.9931918477062, 15.320686018314683, 16.15815399397097, 16.288070381763852, 16.157377131495995, 16.61495455255906, 16.94402258548321, 17.172398377550685, 17.112049066648687, 16.482667720355984, 18.18211494122198, 16.620855695210945, 15.343640145502462, 16.806044594062396, 16.687858638627215, 16.266670730258866, 16.214806031841604, 13.829893623971719, 14.949864437730065, 15.646250166538257, 15.274755614708793, 13.169126727067459, 17.40968304530432, 16.667627278514374, 15.865691014330483, 16.92856002535386, 15.808272122281013, 17.449534353684168, 18.19531003937249, 15.996331099577215, 16.21277426773233, 16.313439712333132, 15.790140461103453, 17.61002340550151, 16.64809935408985, 15.995955022269184, 17.403030094457037, 17.681181765989, 16.738729018786156, 16.56191481472935, 16.0815402706476, 16.576541874948305, 14.828871011649488, 15.29959248218425, 16.929604366478323, 17.1251321981192, 15.63654367551275, 14.833037873766916, 15.871648543742648, 16.487576142765636, 13.994623639769447, 14.403476095756572, 15.905080756180467]\n",
      "\t Complexity dataset OC_P mean 0.354 MSE mean 283.456 MSE median 284.585\n"
     ]
    }
   ],
   "source": [
    "method = {\"method\": \"frequency\",\n",
    "          \"numfolds\" : numfolds}\n",
    "\n",
    "print(\"Frequency baseline\")\n",
    "\n",
    "for data_label, data_df, data_seeds in [ (\"Formality\", formality_df, formality_seeds), \n",
    "                                         (\"Complexity\", complexity_df, complexity_seeds) ]:\n",
    "\n",
    "    # frequency_df_formality, frequency_df_complexity\n",
    "    results = crossvalidation(method, word_vectors, data_df, data_seeds)\n",
    "\n",
    "    ocp_mean, mse_mean, mse_med = eval_eval(results)\n",
    "\n",
    "    print(\"\\t\", data_label, \"dataset\", \n",
    "          f\"OC_P mean {ocp_mean:.3f}\", \n",
    "          f\"MSE mean {mse_mean:.3f}\", \n",
    "          f\"MSE median {mse_med:.3f}\")\n",
    "    "
   ]
  },
  {
   "cell_type": "markdown",
   "id": "d886147f-eeff-42a9-88f6-24daf097821f",
   "metadata": {},
   "source": [
    "## Seed-based"
   ]
  },
  {
   "cell_type": "code",
   "execution_count": null,
   "id": "79e14a32-90ce-45ba-b6c8-ee273387ac51",
   "metadata": {},
   "outputs": [],
   "source": [
    "method = { \"method\": \"seedbased\",\n",
    "          \"numfolds\" : numfolds}\n",
    "\n",
    "print(\"Seed-based method\")\n",
    "\n",
    "for data_label, data_df, data_seeds in [ (\"Formality\", formality_df, formality_seeds), \n",
    "                                         (\"Complexity\", complexity_df, complexity_seeds) ]:\n",
    "\n",
    "    print('formality_df : ')\n",
    "    print(formality_df)\n",
    "    results = crossvalidation(method, word_vectors, data_df, data_seeds)\n",
    "    \n",
    "    ocp_mean, mse_mean, mse_med = eval_eval(results)\n",
    "\n",
    "    print(\"\\t\", data_label, \"dataset\", \n",
    "          f\"OC_P mean {ocp_mean:.3f}\", \n",
    "          f\"MSE mean {mse_mean:.3f}\",\n",
    "          f\"MSE median {mse_med:.3f}\")\n",
    " "
   ]
  },
  {
   "cell_type": "markdown",
   "id": "9e2b12a6-89d8-4d26-b411-5e797f242936",
   "metadata": {},
   "source": [
    "# Fitted"
   ]
  },
  {
   "cell_type": "code",
   "execution_count": 16,
   "id": "c90b464c-8aa8-4bee-b43e-cfb88471e766",
   "metadata": {
    "tags": []
   },
   "outputs": [
    {
     "name": "stdout",
     "output_type": "stream",
     "text": [
      "Fitted method\n",
      "testfold\n",
      "testfold\n",
      "testfold\n"
     ]
    },
    {
     "ename": "KeyboardInterrupt",
     "evalue": "",
     "output_type": "error",
     "traceback": [
      "\u001b[0;31m---------------------------------------------------------------------------\u001b[0m",
      "\u001b[0;31mKeyboardInterrupt\u001b[0m                         Traceback (most recent call last)",
      "Cell \u001b[0;32mIn[16], line 14\u001b[0m\n\u001b[1;32m     12\u001b[0m results \u001b[38;5;241m=\u001b[39m [ ]\n\u001b[1;32m     13\u001b[0m \u001b[38;5;28;01mfor\u001b[39;00m rval \u001b[38;5;129;01min\u001b[39;00m randoms:\n\u001b[0;32m---> 14\u001b[0m     theseresults \u001b[38;5;241m=\u001b[39m \u001b[43mcrossvalidation\u001b[49m\u001b[43m(\u001b[49m\u001b[43mmethod\u001b[49m\u001b[43m,\u001b[49m\u001b[43m \u001b[49m\u001b[43mword_vectors\u001b[49m\u001b[43m,\u001b[49m\u001b[43m \u001b[49m\u001b[43mdata_df\u001b[49m\u001b[43m,\u001b[49m\u001b[43mdata_seeds\u001b[49m\u001b[43m,\u001b[49m\n\u001b[1;32m     15\u001b[0m \u001b[43m                                   \u001b[49m\u001b[43mrandom_seed\u001b[49m\u001b[43m \u001b[49m\u001b[38;5;241;43m=\u001b[39;49m\u001b[43m \u001b[49m\u001b[43mrval\u001b[49m\u001b[43m)\u001b[49m\n\u001b[1;32m     16\u001b[0m     results \u001b[38;5;241m+\u001b[39m\u001b[38;5;241m=\u001b[39m theseresults\n\u001b[1;32m     19\u001b[0m ocp_mean, mse_mean, mse_med \u001b[38;5;241m=\u001b[39m eval_eval(results)\n",
      "Cell \u001b[0;32mIn[13], line 42\u001b[0m, in \u001b[0;36mcrossvalidation\u001b[0;34m(method, word_vectors, df, seedpairs, random_seed)\u001b[0m\n\u001b[1;32m     39\u001b[0m     \u001b[38;5;28mprint\u001b[39m(\u001b[38;5;124m'\u001b[39m\u001b[38;5;124mPREDICTIONS ====>\u001b[39m\u001b[38;5;124m'\u001b[39m, predictions)\n\u001b[1;32m     41\u001b[0m \u001b[38;5;28;01melif\u001b[39;00m method[\u001b[38;5;124m\"\u001b[39m\u001b[38;5;124mmethod\u001b[39m\u001b[38;5;124m\"\u001b[39m] \u001b[38;5;241m==\u001b[39m \u001b[38;5;124m\"\u001b[39m\u001b[38;5;124mfitted\u001b[39m\u001b[38;5;124m\"\u001b[39m:\n\u001b[0;32m---> 42\u001b[0m     dimension, weight, bias \u001b[38;5;241m=\u001b[39m \u001b[43mcompute_dim\u001b[49m\u001b[38;5;241;43m.\u001b[39;49m\u001b[43mdimension_fitted_fromratings\u001b[49m\u001b[43m(\u001b[49m\u001b[43mvec_train\u001b[49m\u001b[43m,\u001b[49m\u001b[43m \u001b[49m\u001b[43mgold_train\u001b[49m\u001b[43m,\u001b[49m\u001b[43m \u001b[49m\n\u001b[1;32m     43\u001b[0m \u001b[43m                                                                       \u001b[49m\u001b[43mmethod\u001b[49m\u001b[43m[\u001b[49m\u001b[38;5;124;43m\"\u001b[39;49m\u001b[38;5;124;43mfeature_dim\u001b[39;49m\u001b[38;5;124;43m\"\u001b[39;49m\u001b[43m]\u001b[49m\u001b[43m,\u001b[49m\n\u001b[1;32m     44\u001b[0m \u001b[43m                                                                       \u001b[49m\u001b[43mrandom_seed\u001b[49m\u001b[43m \u001b[49m\u001b[38;5;241;43m=\u001b[39;49m\u001b[43m \u001b[49m\u001b[43mrandom_seed\u001b[49m\u001b[43m)\u001b[49m\n\u001b[1;32m     46\u001b[0m     df[\u001b[38;5;124m\"\u001b[39m\u001b[38;5;124mPred\u001b[39m\u001b[38;5;124m\"\u001b[39m] \u001b[38;5;241m=\u001b[39m compute_dim\u001b[38;5;241m.\u001b[39mpredict_coord_fromline(all_vectors, dimension, weight, bias)\n\u001b[1;32m     48\u001b[0m \u001b[38;5;28;01melif\u001b[39;00m method[\u001b[38;5;124m\"\u001b[39m\u001b[38;5;124mmethod\u001b[39m\u001b[38;5;124m\"\u001b[39m] \u001b[38;5;241m==\u001b[39m \u001b[38;5;124m\"\u001b[39m\u001b[38;5;124mfitted_seedwords\u001b[39m\u001b[38;5;124m\"\u001b[39m:\n",
      "File \u001b[0;32m~/Documents/NSF-Katrin/jupyter-notebooks/freq_eval/compute_dim.py:76\u001b[0m, in \u001b[0;36mdimension_fitted_fromratings\u001b[0;34m(word_vectors_list, gold_ratings, feature_dim, random_seed)\u001b[0m\n\u001b[1;32m     72\u001b[0m \u001b[38;5;66;03m# Average loss over all words in X_train or in the whole human dic (2,801 annotated single words in total)\u001b[39;00m\n\u001b[1;32m     73\u001b[0m \u001b[38;5;66;03m# avg_loss = total_loss / len(X_train)\u001b[39;00m\n\u001b[1;32m     74\u001b[0m avg_loss \u001b[38;5;241m=\u001b[39m total_loss \u001b[38;5;241m/\u001b[39m \u001b[38;5;28mlen\u001b[39m(word_vectors_list)\n\u001b[0;32m---> 76\u001b[0m \u001b[43mavg_loss\u001b[49m\u001b[38;5;241;43m.\u001b[39;49m\u001b[43mbackward\u001b[49m\u001b[43m(\u001b[49m\u001b[43m)\u001b[49m\n\u001b[1;32m     78\u001b[0m \u001b[38;5;66;03m# Compute the gradient norms and monitor them during training\u001b[39;00m\n\u001b[1;32m     79\u001b[0m \n\u001b[1;32m     80\u001b[0m \u001b[38;5;66;03m# feature_vector_grad_norm = torch.norm(feature_vector.grad)\u001b[39;00m\n\u001b[1;32m     81\u001b[0m \u001b[38;5;66;03m# print(f\"Step {step+1}, Feature Vector Gradient Norm: {feature_vector_grad_norm.item()}\")\u001b[39;00m\n\u001b[1;32m     83\u001b[0m torch\u001b[38;5;241m.\u001b[39mnn\u001b[38;5;241m.\u001b[39mutils\u001b[38;5;241m.\u001b[39mclip_grad_norm_([feature_vector, weight_constant, bias_constant], max_norm)\n",
      "File \u001b[0;32m~/miniconda3/envs/myenv/lib/python3.11/site-packages/torch/_tensor.py:487\u001b[0m, in \u001b[0;36mTensor.backward\u001b[0;34m(self, gradient, retain_graph, create_graph, inputs)\u001b[0m\n\u001b[1;32m    477\u001b[0m \u001b[38;5;28;01mif\u001b[39;00m has_torch_function_unary(\u001b[38;5;28mself\u001b[39m):\n\u001b[1;32m    478\u001b[0m     \u001b[38;5;28;01mreturn\u001b[39;00m handle_torch_function(\n\u001b[1;32m    479\u001b[0m         Tensor\u001b[38;5;241m.\u001b[39mbackward,\n\u001b[1;32m    480\u001b[0m         (\u001b[38;5;28mself\u001b[39m,),\n\u001b[0;32m   (...)\u001b[0m\n\u001b[1;32m    485\u001b[0m         inputs\u001b[38;5;241m=\u001b[39minputs,\n\u001b[1;32m    486\u001b[0m     )\n\u001b[0;32m--> 487\u001b[0m \u001b[43mtorch\u001b[49m\u001b[38;5;241;43m.\u001b[39;49m\u001b[43mautograd\u001b[49m\u001b[38;5;241;43m.\u001b[39;49m\u001b[43mbackward\u001b[49m\u001b[43m(\u001b[49m\n\u001b[1;32m    488\u001b[0m \u001b[43m    \u001b[49m\u001b[38;5;28;43mself\u001b[39;49m\u001b[43m,\u001b[49m\u001b[43m \u001b[49m\u001b[43mgradient\u001b[49m\u001b[43m,\u001b[49m\u001b[43m \u001b[49m\u001b[43mretain_graph\u001b[49m\u001b[43m,\u001b[49m\u001b[43m \u001b[49m\u001b[43mcreate_graph\u001b[49m\u001b[43m,\u001b[49m\u001b[43m \u001b[49m\u001b[43minputs\u001b[49m\u001b[38;5;241;43m=\u001b[39;49m\u001b[43minputs\u001b[49m\n\u001b[1;32m    489\u001b[0m \u001b[43m\u001b[49m\u001b[43m)\u001b[49m\n",
      "File \u001b[0;32m~/miniconda3/envs/myenv/lib/python3.11/site-packages/torch/autograd/__init__.py:200\u001b[0m, in \u001b[0;36mbackward\u001b[0;34m(tensors, grad_tensors, retain_graph, create_graph, grad_variables, inputs)\u001b[0m\n\u001b[1;32m    195\u001b[0m     retain_graph \u001b[38;5;241m=\u001b[39m create_graph\n\u001b[1;32m    197\u001b[0m \u001b[38;5;66;03m# The reason we repeat same the comment below is that\u001b[39;00m\n\u001b[1;32m    198\u001b[0m \u001b[38;5;66;03m# some Python versions print out the first line of a multi-line function\u001b[39;00m\n\u001b[1;32m    199\u001b[0m \u001b[38;5;66;03m# calls in the traceback and some print out the last line\u001b[39;00m\n\u001b[0;32m--> 200\u001b[0m \u001b[43mVariable\u001b[49m\u001b[38;5;241;43m.\u001b[39;49m\u001b[43m_execution_engine\u001b[49m\u001b[38;5;241;43m.\u001b[39;49m\u001b[43mrun_backward\u001b[49m\u001b[43m(\u001b[49m\u001b[43m  \u001b[49m\u001b[38;5;66;43;03m# Calls into the C++ engine to run the backward pass\u001b[39;49;00m\n\u001b[1;32m    201\u001b[0m \u001b[43m    \u001b[49m\u001b[43mtensors\u001b[49m\u001b[43m,\u001b[49m\u001b[43m \u001b[49m\u001b[43mgrad_tensors_\u001b[49m\u001b[43m,\u001b[49m\u001b[43m \u001b[49m\u001b[43mretain_graph\u001b[49m\u001b[43m,\u001b[49m\u001b[43m \u001b[49m\u001b[43mcreate_graph\u001b[49m\u001b[43m,\u001b[49m\u001b[43m \u001b[49m\u001b[43minputs\u001b[49m\u001b[43m,\u001b[49m\n\u001b[1;32m    202\u001b[0m \u001b[43m    \u001b[49m\u001b[43mallow_unreachable\u001b[49m\u001b[38;5;241;43m=\u001b[39;49m\u001b[38;5;28;43;01mTrue\u001b[39;49;00m\u001b[43m,\u001b[49m\u001b[43m \u001b[49m\u001b[43maccumulate_grad\u001b[49m\u001b[38;5;241;43m=\u001b[39;49m\u001b[38;5;28;43;01mTrue\u001b[39;49;00m\u001b[43m)\u001b[49m\n",
      "\u001b[0;31mKeyboardInterrupt\u001b[0m: "
     ]
    }
   ],
   "source": [
    "method = {\"method\": \"fitted\",\n",
    "          \"numfolds\" : numfolds,\n",
    "          \"feature_dim\" : feature_dim}\n",
    "\n",
    "print(\"Fitted method\")\n",
    "\n",
    "random.seed(5)\n",
    "randoms = [random.randrange(0,100) for _ in range(num_randseeds)]\n",
    "\n",
    "for data_label, data_df, data_seeds in [ (\"Formality\", formality_df, formality_seeds), \n",
    "                                         (\"Complexity\", complexity_df, complexity_seeds) ]:\n",
    "    results = [ ]\n",
    "    for rval in randoms:\n",
    "        theseresults = crossvalidation(method, word_vectors, data_df,data_seeds,\n",
    "                                       random_seed = rval)\n",
    "        results += theseresults\n",
    "        \n",
    "    \n",
    "    ocp_mean, mse_mean, mse_med = eval_eval(results)\n",
    "\n",
    "    print(\"\\t\", data_label, \"dataset\", \n",
    "          f\"OC_P mean {ocp_mean:.3f}\", \n",
    "          f\"MSE mean {mse_mean:.3f}\", \n",
    "          f\"MSE median {mse_med:.3f}\")\n"
   ]
  },
  {
   "cell_type": "markdown",
   "id": "7bad583c-87aa-4301-91f8-ef20c8d6b1d4",
   "metadata": {},
   "source": [
    "# Fitted, with seeds as words"
   ]
  },
  {
   "cell_type": "code",
   "execution_count": null,
   "id": "3b66072d-8d54-4846-aebb-82dd15edb150",
   "metadata": {
    "tags": []
   },
   "outputs": [],
   "source": [
    "method = { \"method\": \"fitted_seedwords\",\n",
    "          \"numfolds\" : numfolds,\n",
    "          \"offset\" : 2.0,\n",
    "          \"jitter\" : True,\n",
    "          \"feature_dim\" : feature_dim}\n",
    "\n",
    "print(\"Fitted method with seed words\")\n",
    "\n",
    "random.seed(5)\n",
    "randoms = [random.randrange(0,100) for _ in range(num_randseeds)]\n",
    "\n",
    "for data_label, data_df, data_seeds in [ (\"Formality\", formality_df, formality_seeds), \n",
    "                                         (\"Complexity\", complexity_df, complexity_seeds) ]:\n",
    "    results = [ ]\n",
    "    for rval in randoms:\n",
    "        theseresults = crossvalidation(method, word_vectors, data_df,data_seeds,\n",
    "                                       random_seed = rval)\n",
    "        results += theseresults\n",
    "        \n",
    "    \n",
    "    ocp_mean, mse_mean, mse_med = eval_eval(results)\n",
    "\n",
    "    print(\"\\t\", data_label, \"dataset\", \n",
    "          f\"OC_P mean {ocp_mean:.3f}\", \n",
    "          f\"MSE mean {mse_mean:.3f}\", \n",
    "          f\"MSE median {mse_med:.3f}\")\n"
   ]
  },
  {
   "cell_type": "markdown",
   "id": "e53ea81a-e842-4b98-b55a-70f1546574b0",
   "metadata": {},
   "source": [
    "# Fitted, with seed dimensions"
   ]
  },
  {
   "cell_type": "code",
   "execution_count": null,
   "id": "031300f0-6ea8-4236-97cd-ec8a3c34ddbf",
   "metadata": {
    "tags": []
   },
   "outputs": [],
   "source": [
    "method = { \"method\": \"fitted_seeddims\",\n",
    "          \"numfolds\" : numfolds,\n",
    "          \"alpha\" : 0.02,\n",
    "          \"do_average\" : True,\n",
    "          \"feature_dim\" : feature_dim}\n",
    "\n",
    "print(\"Fitted method with seed dimensions\")\n",
    "\n",
    "random.seed(5)\n",
    "randoms = [random.randrange(0,100) for _ in range(num_randseeds)]\n",
    "\n",
    "for data_label, data_df, data_seeds in [ (\"Formality\", formality_df, formality_seeds), \n",
    "                                         (\"Complexity\", complexity_df, complexity_seeds) ]:\n",
    "    results = [ ]\n",
    "    for rval in randoms:\n",
    "        theseresults = crossvalidation(method, word_vectors, data_df,data_seeds,\n",
    "                                       random_seed = rval)\n",
    "        results += theseresults\n",
    "        \n",
    "    \n",
    "    ocp_mean, mse_mean, mse_med = eval_eval(results)\n",
    "\n",
    "    print(\"\\t\", data_label, \"dataset\", \n",
    "          f\"OC_P mean {ocp_mean:.3f}\", \n",
    "          f\"MSE mean {mse_mean:.3f}\",\n",
    "          f\"MSE median {mse_med:.3f}\")\n"
   ]
  },
  {
   "cell_type": "markdown",
   "id": "b48623e4-353f-4a1a-87a7-afee68ffad3b",
   "metadata": {},
   "source": [
    "# Fitted, with seeds as words and dimensions"
   ]
  },
  {
   "cell_type": "code",
   "execution_count": null,
   "id": "100943aa-d365-42e9-82f1-281f9a1a0381",
   "metadata": {
    "tags": []
   },
   "outputs": [],
   "source": [
    "method = {\"method\": \"combined\",\n",
    "          \"numfolds\" : numfolds,\n",
    "          \"alpha\" : 0.05,\n",
    "          \"do_average\" : True,\n",
    "          \"offset\" : 2,\n",
    "          \"jitter\" : True,\n",
    "          \"feature_dim\" : feature_dim}\n",
    "\n",
    "print(\"Fitted method with seeds as words and dim.s\")\n",
    "\n",
    "random.seed(5)\n",
    "randoms = [random.randrange(0,100) for _ in range(num_randseeds)]\n",
    "\n",
    "for data_label, data_df, data_seeds in [ (\"Formality\", formality_df, formality_seeds), \n",
    "                                         (\"Complexity\", complexity_df, complexity_seeds) ]:\n",
    "    results = [ ]\n",
    "    for rval in randoms:\n",
    "        theseresults = crossvalidation(method, word_vectors, data_df,data_seeds,\n",
    "                                       random_seed = rval)\n",
    "        results += theseresults\n",
    "        \n",
    "    \n",
    "    ocp_mean, mse_mean, mse_med = eval_eval(results)\n",
    "\n",
    "    print(\"\\t\", data_label, \"dataset\", \n",
    "          f\"OC_P mean {ocp_mean:.3f}\", \n",
    "          f\"MSE mean {mse_mean:.3f}\", \n",
    "          f\"MSE median {mse_med:.3f}\")\n"
   ]
  }
 ],
 "metadata": {
  "kernelspec": {
   "display_name": "Python 3 (ipykernel)",
   "language": "python",
   "name": "python3"
  },
  "language_info": {
   "codemirror_mode": {
    "name": "ipython",
    "version": 3
   },
   "file_extension": ".py",
   "mimetype": "text/x-python",
   "name": "python",
   "nbconvert_exporter": "python",
   "pygments_lexer": "ipython3",
   "version": "3.11.5"
  }
 },
 "nbformat": 4,
 "nbformat_minor": 5
}
