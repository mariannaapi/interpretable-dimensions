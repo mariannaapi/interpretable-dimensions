{
 "cells": [
  {
   "cell_type": "markdown",
   "id": "03097e0e-fb41-429e-86e8-6db459e0eac4",
   "metadata": {},
   "source": [
    "# Evaluating on the Pavlick and Nenkova style data, using word type embeddings\n",
    "\n",
    "# Global settings"
   ]
  },
  {
   "cell_type": "code",
   "execution_count": 20,
   "id": "a35f7a6d-3eed-45de-bbb7-d4c9790e6b07",
   "metadata": {
    "tags": []
   },
   "outputs": [],
   "source": [
    "import os\n",
    "from scipy import stats\n",
    "import numpy as np \n",
    "import pandas as pd\n",
    "import zipfile\n",
    "import math\n",
    "import sklearn\n",
    "import torch\n",
    "import torch.optim as optim\n",
    "device = torch.device('cuda') if torch.cuda.is_available() else torch.device('cpu')\n",
    "import matplotlib.pyplot as plt\n",
    "import statistics\n",
    "from collections import defaultdict\n",
    "import random"
   ]
  },
  {
   "cell_type": "code",
   "execution_count": 16,
   "id": "efbeba0f-52f3-48e2-909d-382fd298c4dc",
   "metadata": {},
   "outputs": [],
   "source": [
    "num_randseeds = 3\n",
    "featuredim = 300\n",
    "numfolds = 5\n",
    "\n",
    "param_offset = 2.0\n",
    "param_jitter = True\n",
    "param_average = True\n",
    "param_alpha = 0.02\n",
    "param_alpha_comb = 0.05"
   ]
  },
  {
   "cell_type": "markdown",
   "id": "ea13fa6d-e771-4c8d-bb6b-8d07e9d11a2b",
   "metadata": {},
   "source": [
    "# Reading in the data.\n",
    "\n",
    "## GLoVE"
   ]
  },
  {
   "cell_type": "code",
   "execution_count": 3,
   "id": "13300f26-03cd-4a57-b54a-7311b3bfe8d1",
   "metadata": {
    "tags": []
   },
   "outputs": [],
   "source": [
    "glove_path = \"glove/glove.42B.300d.zip\"\n",
    "glove_file = \"glove.42B.300d.txt\"\n",
    "\n",
    "feature_dim = 300\n",
    "\n",
    "word_vectors = { }\n",
    "\n",
    "with zipfile.ZipFile(glove_path) as azip:\n",
    "    with azip.open(glove_file) as f:\n",
    "        for line in f:\n",
    "            values = line.split()\n",
    "            word = values[0].decode()\n",
    "            vector = np.array(values[1:], dtype=np.float32)\n",
    "            word_vectors[word] = vector"
   ]
  },
  {
   "cell_type": "markdown",
   "id": "6d64d447-7b67-4fba-a1ee-f73599c1f1b0",
   "metadata": {},
   "source": [
    "## Pavlick and Nenkova data\n",
    "\n",
    "There are 1,160 complexity scores and 1,274 formality scores.\n",
    "\n",
    "For each of the two datasets, we z-score the ratings so they will be on a similar scale as the Grand et al ratings."
   ]
  },
  {
   "cell_type": "code",
   "execution_count": 4,
   "id": "678dad11-c493-47e3-9d68-5ee87bc0c149",
   "metadata": {
    "tags": []
   },
   "outputs": [],
   "source": [
    "pavlick_path = \"/Users/kee252/Projects/Marianna/interpretable-dimensions/style-data-Pavlick-Nenkova_2015/\"\n",
    "formality_human_filtered_name = \"formality/human/filtered_formality_human_scores.txt\"\n",
    "complexity_human_filtered_name = \"complexity/human/filtered_complexity_human_scores.txt\""
   ]
  },
  {
   "cell_type": "code",
   "execution_count": 5,
   "id": "e09dc377-23e1-41e8-b2e6-b2e2c0bdf511",
   "metadata": {
    "tags": []
   },
   "outputs": [
    {
     "data": {
      "text/html": [
       "<div>\n",
       "<style scoped>\n",
       "    .dataframe tbody tr th:only-of-type {\n",
       "        vertical-align: middle;\n",
       "    }\n",
       "\n",
       "    .dataframe tbody tr th {\n",
       "        vertical-align: top;\n",
       "    }\n",
       "\n",
       "    .dataframe thead th {\n",
       "        text-align: right;\n",
       "    }\n",
       "</style>\n",
       "<table border=\"1\" class=\"dataframe\">\n",
       "  <thead>\n",
       "    <tr style=\"text-align: right;\">\n",
       "      <th></th>\n",
       "      <th>rating</th>\n",
       "      <th>word</th>\n",
       "      <th>sd</th>\n",
       "    </tr>\n",
       "  </thead>\n",
       "  <tbody>\n",
       "    <tr>\n",
       "      <th>0</th>\n",
       "      <td>1.428571</td>\n",
       "      <td>someplace</td>\n",
       "      <td>3.78</td>\n",
       "    </tr>\n",
       "    <tr>\n",
       "      <th>1</th>\n",
       "      <td>1.571429</td>\n",
       "      <td>chow</td>\n",
       "      <td>3.36</td>\n",
       "    </tr>\n",
       "    <tr>\n",
       "      <th>2</th>\n",
       "      <td>1.571429</td>\n",
       "      <td>yeah</td>\n",
       "      <td>2.15</td>\n",
       "    </tr>\n",
       "    <tr>\n",
       "      <th>3</th>\n",
       "      <td>1.714286</td>\n",
       "      <td>dressing</td>\n",
       "      <td>2.93</td>\n",
       "    </tr>\n",
       "    <tr>\n",
       "      <th>4</th>\n",
       "      <td>2.571429</td>\n",
       "      <td>grandma</td>\n",
       "      <td>4.43</td>\n",
       "    </tr>\n",
       "    <tr>\n",
       "      <th>...</th>\n",
       "      <td>...</td>\n",
       "      <td>...</td>\n",
       "      <td>...</td>\n",
       "    </tr>\n",
       "    <tr>\n",
       "      <th>1269</th>\n",
       "      <td>97.000000</td>\n",
       "      <td>scrutiny</td>\n",
       "      <td>4.55</td>\n",
       "    </tr>\n",
       "    <tr>\n",
       "      <th>1270</th>\n",
       "      <td>97.285714</td>\n",
       "      <td>endorsement</td>\n",
       "      <td>5.31</td>\n",
       "    </tr>\n",
       "    <tr>\n",
       "      <th>1271</th>\n",
       "      <td>97.857143</td>\n",
       "      <td>inequality</td>\n",
       "      <td>5.67</td>\n",
       "    </tr>\n",
       "    <tr>\n",
       "      <th>1272</th>\n",
       "      <td>98.000000</td>\n",
       "      <td>adapted</td>\n",
       "      <td>5.29</td>\n",
       "    </tr>\n",
       "    <tr>\n",
       "      <th>1273</th>\n",
       "      <td>98.142857</td>\n",
       "      <td>exchange</td>\n",
       "      <td>3.76</td>\n",
       "    </tr>\n",
       "  </tbody>\n",
       "</table>\n",
       "<p>1274 rows × 3 columns</p>\n",
       "</div>"
      ],
      "text/plain": [
       "         rating         word    sd\n",
       "0      1.428571    someplace  3.78\n",
       "1      1.571429         chow  3.36\n",
       "2      1.571429         yeah  2.15\n",
       "3      1.714286     dressing  2.93\n",
       "4      2.571429      grandma  4.43\n",
       "...         ...          ...   ...\n",
       "1269  97.000000     scrutiny  4.55\n",
       "1270  97.285714  endorsement  5.31\n",
       "1271  97.857143   inequality  5.67\n",
       "1272  98.000000      adapted  5.29\n",
       "1273  98.142857     exchange  3.76\n",
       "\n",
       "[1274 rows x 3 columns]"
      ]
     },
     "execution_count": 5,
     "metadata": {},
     "output_type": "execute_result"
    }
   ],
   "source": [
    "\n",
    "formality_df = pd.read_csv(pavlick_path + formality_human_filtered_name, sep = \"\\s+\", header = None)\n",
    "formality_df.columns = [\"rating\", \"word\", \"sd\"]\n",
    "formality_df"
   ]
  },
  {
   "cell_type": "code",
   "execution_count": 6,
   "id": "1a74b443-1b3e-4c6e-9b7a-aff177361beb",
   "metadata": {
    "tags": []
   },
   "outputs": [
    {
     "data": {
      "text/plain": [
       "0      -1.694189\n",
       "1      -1.689661\n",
       "2      -1.689661\n",
       "3      -1.685134\n",
       "4      -1.657968\n",
       "          ...   \n",
       "1269    1.334787\n",
       "1270    1.343842\n",
       "1271    1.361953\n",
       "1272    1.366481\n",
       "1273    1.371008\n",
       "Name: rating, Length: 1274, dtype: float64"
      ]
     },
     "execution_count": 6,
     "metadata": {},
     "output_type": "execute_result"
    }
   ],
   "source": [
    "(formality_df.rating - formality_df.rating.mean()) / formality_df.rating.std()"
   ]
  },
  {
   "cell_type": "code",
   "execution_count": 7,
   "id": "71357f74-b4eb-4619-847f-bf506e00848e",
   "metadata": {
    "tags": []
   },
   "outputs": [
    {
     "data": {
      "text/html": [
       "<div>\n",
       "<style scoped>\n",
       "    .dataframe tbody tr th:only-of-type {\n",
       "        vertical-align: middle;\n",
       "    }\n",
       "\n",
       "    .dataframe tbody tr th {\n",
       "        vertical-align: top;\n",
       "    }\n",
       "\n",
       "    .dataframe thead th {\n",
       "        text-align: right;\n",
       "    }\n",
       "</style>\n",
       "<table border=\"1\" class=\"dataframe\">\n",
       "  <thead>\n",
       "    <tr style=\"text-align: right;\">\n",
       "      <th></th>\n",
       "      <th>rating</th>\n",
       "      <th>word</th>\n",
       "      <th>sd</th>\n",
       "      <th>z</th>\n",
       "    </tr>\n",
       "  </thead>\n",
       "  <tbody>\n",
       "    <tr>\n",
       "      <th>0</th>\n",
       "      <td>1.428571</td>\n",
       "      <td>someplace</td>\n",
       "      <td>3.78</td>\n",
       "      <td>-1.694189</td>\n",
       "    </tr>\n",
       "    <tr>\n",
       "      <th>1</th>\n",
       "      <td>1.571429</td>\n",
       "      <td>chow</td>\n",
       "      <td>3.36</td>\n",
       "      <td>-1.689661</td>\n",
       "    </tr>\n",
       "    <tr>\n",
       "      <th>2</th>\n",
       "      <td>1.571429</td>\n",
       "      <td>yeah</td>\n",
       "      <td>2.15</td>\n",
       "      <td>-1.689661</td>\n",
       "    </tr>\n",
       "    <tr>\n",
       "      <th>3</th>\n",
       "      <td>1.714286</td>\n",
       "      <td>dressing</td>\n",
       "      <td>2.93</td>\n",
       "      <td>-1.685134</td>\n",
       "    </tr>\n",
       "    <tr>\n",
       "      <th>4</th>\n",
       "      <td>2.571429</td>\n",
       "      <td>grandma</td>\n",
       "      <td>4.43</td>\n",
       "      <td>-1.657968</td>\n",
       "    </tr>\n",
       "    <tr>\n",
       "      <th>...</th>\n",
       "      <td>...</td>\n",
       "      <td>...</td>\n",
       "      <td>...</td>\n",
       "      <td>...</td>\n",
       "    </tr>\n",
       "    <tr>\n",
       "      <th>1269</th>\n",
       "      <td>97.000000</td>\n",
       "      <td>scrutiny</td>\n",
       "      <td>4.55</td>\n",
       "      <td>1.334787</td>\n",
       "    </tr>\n",
       "    <tr>\n",
       "      <th>1270</th>\n",
       "      <td>97.285714</td>\n",
       "      <td>endorsement</td>\n",
       "      <td>5.31</td>\n",
       "      <td>1.343842</td>\n",
       "    </tr>\n",
       "    <tr>\n",
       "      <th>1271</th>\n",
       "      <td>97.857143</td>\n",
       "      <td>inequality</td>\n",
       "      <td>5.67</td>\n",
       "      <td>1.361953</td>\n",
       "    </tr>\n",
       "    <tr>\n",
       "      <th>1272</th>\n",
       "      <td>98.000000</td>\n",
       "      <td>adapted</td>\n",
       "      <td>5.29</td>\n",
       "      <td>1.366481</td>\n",
       "    </tr>\n",
       "    <tr>\n",
       "      <th>1273</th>\n",
       "      <td>98.142857</td>\n",
       "      <td>exchange</td>\n",
       "      <td>3.76</td>\n",
       "      <td>1.371008</td>\n",
       "    </tr>\n",
       "  </tbody>\n",
       "</table>\n",
       "<p>1274 rows × 4 columns</p>\n",
       "</div>"
      ],
      "text/plain": [
       "         rating         word    sd         z\n",
       "0      1.428571    someplace  3.78 -1.694189\n",
       "1      1.571429         chow  3.36 -1.689661\n",
       "2      1.571429         yeah  2.15 -1.689661\n",
       "3      1.714286     dressing  2.93 -1.685134\n",
       "4      2.571429      grandma  4.43 -1.657968\n",
       "...         ...          ...   ...       ...\n",
       "1269  97.000000     scrutiny  4.55  1.334787\n",
       "1270  97.285714  endorsement  5.31  1.343842\n",
       "1271  97.857143   inequality  5.67  1.361953\n",
       "1272  98.000000      adapted  5.29  1.366481\n",
       "1273  98.142857     exchange  3.76  1.371008\n",
       "\n",
       "[1274 rows x 4 columns]"
      ]
     },
     "execution_count": 7,
     "metadata": {},
     "output_type": "execute_result"
    }
   ],
   "source": [
    "formality_df[\"z\"] = (formality_df.rating - formality_df.rating.mean()) / formality_df.rating.std()\n",
    "formality_df"
   ]
  },
  {
   "cell_type": "code",
   "execution_count": 8,
   "id": "a8115e4c-4a4b-4a54-aa54-afc148f28bb7",
   "metadata": {
    "tags": []
   },
   "outputs": [
    {
     "data": {
      "text/html": [
       "<div>\n",
       "<style scoped>\n",
       "    .dataframe tbody tr th:only-of-type {\n",
       "        vertical-align: middle;\n",
       "    }\n",
       "\n",
       "    .dataframe tbody tr th {\n",
       "        vertical-align: top;\n",
       "    }\n",
       "\n",
       "    .dataframe thead th {\n",
       "        text-align: right;\n",
       "    }\n",
       "</style>\n",
       "<table border=\"1\" class=\"dataframe\">\n",
       "  <thead>\n",
       "    <tr style=\"text-align: right;\">\n",
       "      <th></th>\n",
       "      <th>rating</th>\n",
       "      <th>word</th>\n",
       "      <th>sd</th>\n",
       "    </tr>\n",
       "  </thead>\n",
       "  <tbody>\n",
       "    <tr>\n",
       "      <th>0</th>\n",
       "      <td>0.428571</td>\n",
       "      <td>woman</td>\n",
       "      <td>0.79</td>\n",
       "    </tr>\n",
       "    <tr>\n",
       "      <th>1</th>\n",
       "      <td>1.285714</td>\n",
       "      <td>walk</td>\n",
       "      <td>2.21</td>\n",
       "    </tr>\n",
       "    <tr>\n",
       "      <th>2</th>\n",
       "      <td>1.571429</td>\n",
       "      <td>tells</td>\n",
       "      <td>3.31</td>\n",
       "    </tr>\n",
       "    <tr>\n",
       "      <th>3</th>\n",
       "      <td>1.857143</td>\n",
       "      <td>last</td>\n",
       "      <td>4.10</td>\n",
       "    </tr>\n",
       "    <tr>\n",
       "      <th>4</th>\n",
       "      <td>1.857143</td>\n",
       "      <td>next</td>\n",
       "      <td>4.49</td>\n",
       "    </tr>\n",
       "    <tr>\n",
       "      <th>...</th>\n",
       "      <td>...</td>\n",
       "      <td>...</td>\n",
       "      <td>...</td>\n",
       "    </tr>\n",
       "    <tr>\n",
       "      <th>1155</th>\n",
       "      <td>94.428571</td>\n",
       "      <td>systematic</td>\n",
       "      <td>6.70</td>\n",
       "    </tr>\n",
       "    <tr>\n",
       "      <th>1156</th>\n",
       "      <td>95.428571</td>\n",
       "      <td>diplomatic</td>\n",
       "      <td>6.43</td>\n",
       "    </tr>\n",
       "    <tr>\n",
       "      <th>1157</th>\n",
       "      <td>96.285714</td>\n",
       "      <td>referendum</td>\n",
       "      <td>5.25</td>\n",
       "    </tr>\n",
       "    <tr>\n",
       "      <th>1158</th>\n",
       "      <td>96.714286</td>\n",
       "      <td>archaeological</td>\n",
       "      <td>5.68</td>\n",
       "    </tr>\n",
       "    <tr>\n",
       "      <th>1159</th>\n",
       "      <td>97.000000</td>\n",
       "      <td>registered</td>\n",
       "      <td>6.35</td>\n",
       "    </tr>\n",
       "  </tbody>\n",
       "</table>\n",
       "<p>1160 rows × 3 columns</p>\n",
       "</div>"
      ],
      "text/plain": [
       "         rating            word    sd\n",
       "0      0.428571           woman  0.79\n",
       "1      1.285714            walk  2.21\n",
       "2      1.571429           tells  3.31\n",
       "3      1.857143            last  4.10\n",
       "4      1.857143            next  4.49\n",
       "...         ...             ...   ...\n",
       "1155  94.428571      systematic  6.70\n",
       "1156  95.428571      diplomatic  6.43\n",
       "1157  96.285714      referendum  5.25\n",
       "1158  96.714286  archaeological  5.68\n",
       "1159  97.000000      registered  6.35\n",
       "\n",
       "[1160 rows x 3 columns]"
      ]
     },
     "execution_count": 8,
     "metadata": {},
     "output_type": "execute_result"
    }
   ],
   "source": [
    "complexity_df = pd.read_csv(pavlick_path + complexity_human_filtered_name, sep = \"\\s+\", header = None)\n",
    "complexity_df.columns = [\"rating\", \"word\", \"sd\"]\n",
    "complexity_df"
   ]
  },
  {
   "cell_type": "code",
   "execution_count": 9,
   "id": "81517e99-d5bf-42f4-9d67-a8544c122847",
   "metadata": {
    "tags": []
   },
   "outputs": [
    {
     "data": {
      "text/html": [
       "<div>\n",
       "<style scoped>\n",
       "    .dataframe tbody tr th:only-of-type {\n",
       "        vertical-align: middle;\n",
       "    }\n",
       "\n",
       "    .dataframe tbody tr th {\n",
       "        vertical-align: top;\n",
       "    }\n",
       "\n",
       "    .dataframe thead th {\n",
       "        text-align: right;\n",
       "    }\n",
       "</style>\n",
       "<table border=\"1\" class=\"dataframe\">\n",
       "  <thead>\n",
       "    <tr style=\"text-align: right;\">\n",
       "      <th></th>\n",
       "      <th>rating</th>\n",
       "      <th>word</th>\n",
       "      <th>sd</th>\n",
       "      <th>z</th>\n",
       "    </tr>\n",
       "  </thead>\n",
       "  <tbody>\n",
       "    <tr>\n",
       "      <th>0</th>\n",
       "      <td>0.428571</td>\n",
       "      <td>woman</td>\n",
       "      <td>0.79</td>\n",
       "      <td>-1.492158</td>\n",
       "    </tr>\n",
       "    <tr>\n",
       "      <th>1</th>\n",
       "      <td>1.285714</td>\n",
       "      <td>walk</td>\n",
       "      <td>2.21</td>\n",
       "      <td>-1.465328</td>\n",
       "    </tr>\n",
       "    <tr>\n",
       "      <th>2</th>\n",
       "      <td>1.571429</td>\n",
       "      <td>tells</td>\n",
       "      <td>3.31</td>\n",
       "      <td>-1.456384</td>\n",
       "    </tr>\n",
       "    <tr>\n",
       "      <th>3</th>\n",
       "      <td>1.857143</td>\n",
       "      <td>last</td>\n",
       "      <td>4.10</td>\n",
       "      <td>-1.447441</td>\n",
       "    </tr>\n",
       "    <tr>\n",
       "      <th>4</th>\n",
       "      <td>1.857143</td>\n",
       "      <td>next</td>\n",
       "      <td>4.49</td>\n",
       "      <td>-1.447441</td>\n",
       "    </tr>\n",
       "    <tr>\n",
       "      <th>...</th>\n",
       "      <td>...</td>\n",
       "      <td>...</td>\n",
       "      <td>...</td>\n",
       "      <td>...</td>\n",
       "    </tr>\n",
       "    <tr>\n",
       "      <th>1155</th>\n",
       "      <td>94.428571</td>\n",
       "      <td>systematic</td>\n",
       "      <td>6.70</td>\n",
       "      <td>1.450255</td>\n",
       "    </tr>\n",
       "    <tr>\n",
       "      <th>1156</th>\n",
       "      <td>95.428571</td>\n",
       "      <td>diplomatic</td>\n",
       "      <td>6.43</td>\n",
       "      <td>1.481557</td>\n",
       "    </tr>\n",
       "    <tr>\n",
       "      <th>1157</th>\n",
       "      <td>96.285714</td>\n",
       "      <td>referendum</td>\n",
       "      <td>5.25</td>\n",
       "      <td>1.508388</td>\n",
       "    </tr>\n",
       "    <tr>\n",
       "      <th>1158</th>\n",
       "      <td>96.714286</td>\n",
       "      <td>archaeological</td>\n",
       "      <td>5.68</td>\n",
       "      <td>1.521803</td>\n",
       "    </tr>\n",
       "    <tr>\n",
       "      <th>1159</th>\n",
       "      <td>97.000000</td>\n",
       "      <td>registered</td>\n",
       "      <td>6.35</td>\n",
       "      <td>1.530747</td>\n",
       "    </tr>\n",
       "  </tbody>\n",
       "</table>\n",
       "<p>1160 rows × 4 columns</p>\n",
       "</div>"
      ],
      "text/plain": [
       "         rating            word    sd         z\n",
       "0      0.428571           woman  0.79 -1.492158\n",
       "1      1.285714            walk  2.21 -1.465328\n",
       "2      1.571429           tells  3.31 -1.456384\n",
       "3      1.857143            last  4.10 -1.447441\n",
       "4      1.857143            next  4.49 -1.447441\n",
       "...         ...             ...   ...       ...\n",
       "1155  94.428571      systematic  6.70  1.450255\n",
       "1156  95.428571      diplomatic  6.43  1.481557\n",
       "1157  96.285714      referendum  5.25  1.508388\n",
       "1158  96.714286  archaeological  5.68  1.521803\n",
       "1159  97.000000      registered  6.35  1.530747\n",
       "\n",
       "[1160 rows x 4 columns]"
      ]
     },
     "execution_count": 9,
     "metadata": {},
     "output_type": "execute_result"
    }
   ],
   "source": [
    "complexity_df[\"z\"] = (complexity_df.rating - complexity_df.rating.mean()) / complexity_df.rating.std()\n",
    "complexity_df"
   ]
  },
  {
   "cell_type": "markdown",
   "id": "be0bbc80-e9c9-4e02-9cef-984ebc714c2d",
   "metadata": {},
   "source": [
    "# Seeds\n",
    "\n",
    "Here the seeds come in pairs. Marianna extracted them frmo the Pavlick/Nenkova \"pairs\" data by using the top rated pairs. "
   ]
  },
  {
   "cell_type": "code",
   "execution_count": 10,
   "id": "bedb2613-585f-49ff-864a-10207e502bcd",
   "metadata": {
    "tags": []
   },
   "outputs": [
    {
     "data": {
      "text/plain": [
       "[('work', 'employment'),\n",
       " ('further', 'subsequently'),\n",
       " ('strong', 'powerful'),\n",
       " ('train', 'railway'),\n",
       " ('shown', 'indicated')]"
      ]
     },
     "execution_count": 10,
     "metadata": {},
     "output_type": "execute_result"
    }
   ],
   "source": [
    "complexity_seeds_str = \"\"\"work - employment\n",
    "further - subsequently\n",
    "strong - powerful\n",
    "train - railway\n",
    "shown - indicated\"\"\"\n",
    "complexity_seeds = [ ]\n",
    "for pairstr in complexity_seeds_str.split(\"\\n\"):\n",
    "    pair = [s.strip() for s in pairstr.split(\"-\")]\n",
    "    complexity_seeds.append(tuple(pair))\n",
    "    \n",
    "complexity_seeds\n",
    "    "
   ]
  },
  {
   "cell_type": "code",
   "execution_count": 11,
   "id": "78ab5260-b597-40bc-bc5d-7e3b6e27f7ac",
   "metadata": {
    "tags": []
   },
   "outputs": [
    {
     "data": {
      "text/plain": [
       "[('winner', 'recipient'),\n",
       " ('terrible', 'disastrous'),\n",
       " ('membership', 'affiliation'),\n",
       " ('highest', 'paramount'),\n",
       " ('test', 'verify')]"
      ]
     },
     "execution_count": 11,
     "metadata": {},
     "output_type": "execute_result"
    }
   ],
   "source": [
    "formality_seeds_str = \"\"\"winner - recipient\n",
    "terrible - disastrous\n",
    "membership - affiliation\n",
    "highest - paramount\n",
    "test - verify\"\"\"\n",
    "formality_seeds = [ ]\n",
    "for pairstr in formality_seeds_str.split(\"\\n\"):\n",
    "    pair = [s.strip() for s in pairstr.split(\"-\")]\n",
    "    formality_seeds.append(tuple(pair))\n",
    "    \n",
    "formality_seeds"
   ]
  },
  {
   "cell_type": "markdown",
   "id": "88ffc051-294c-420d-8243-0f658dd35ac1",
   "metadata": {},
   "source": [
    "## Function for running crossvalidation"
   ]
  },
  {
   "cell_type": "code",
   "execution_count": 12,
   "id": "4a4f96ee-78eb-4c16-bf36-2c68475d68b9",
   "metadata": {},
   "outputs": [],
   "source": [
    "import eval_dim\n",
    "import compute_dim\n",
    "import statistics\n",
    "\n",
    "def crossvalidation(method, word_vectors, df, seedpairs, random_seed = 123):\n",
    "    \n",
    "    neg_seedwords = [n for n, _ in seedpairs]\n",
    "    pos_seedwords = [p for _, p in seedpairs]\n",
    "                     \n",
    "    all_vectors = [ word_vectors[w] for w in df.word]\n",
    "    \n",
    "    # crossvalidation setup: give indices to datapoints\n",
    "    fold = np.random.randint(method[\"numfolds\"], size = len(df.word))\n",
    "\n",
    "    # store the evaluation results from the different test folds\n",
    "    all_evals = [ ]\n",
    "\n",
    "    # iterate over folds, evaluate for each of them\n",
    "    for testfold in range(method[\"numfolds\"]):\n",
    "        # compute training and test data for this fold\n",
    "        test_indices =  [i for i in range(len(df.z)) if fold[i] == testfold]\n",
    "        train_indices = [i for i in range(len(df.z)) if fold[i] != testfold]\n",
    "\n",
    "        gold_test =  [ell[\"z\"] for _, ell in df.iloc[ test_indices ].iterrows()]\n",
    "        gold_train = [ ell[\"z\"] for _, ell in df.iloc[ train_indices ].iterrows()]\n",
    "        words_test =  [ell[\"word\"] for _, ell in df.iloc[ test_indices].iterrows()]\n",
    "        words_train = [ell[\"word\"] for _, ell in df.iloc[ train_indices].iterrows()]\n",
    "        vec_test =  [word_vectors[ w ] for w in words_test]\n",
    "        vec_train = [word_vectors[ w ] for w in words_train ]\n",
    "\n",
    "\n",
    "        # compute seed-based dimension, and its predictions\n",
    "        if method[\"method\"] == \"seedbased\":\n",
    "            dimension = compute_dim.dimension_seedbased(pos_seedwords, neg_seedwords, word_vectors, paired = True)\n",
    "            df[\"Pred\"] = compute_dim.predict_coord_fromtrain(vec_train, gold_train, dimension, all_vectors)\n",
    "\n",
    "        elif method[\"method\"] == \"fitted\":\n",
    "            dimension, weight, bias = compute_dim.dimension_fitted_fromratings(vec_train, gold_train, \n",
    "                                                                               method[\"feature_dim\"],\n",
    "                                                                               random_seed = random_seed)\n",
    "\n",
    "            df[\"Pred\"] = compute_dim.predict_coord_fromline(all_vectors, dimension, weight, bias)\n",
    "\n",
    "        elif method[\"method\"] == \"fitted_seedwords\":\n",
    "            dimension, weight, bias = compute_dim.dimension_fitted_fromratings_seedwords(vec_train, gold_train, \n",
    "                                                            method[\"feature_dim\"], \n",
    "                                                            pos_seedwords, neg_seedwords, word_vectors,\n",
    "                                                            offset = method[\"offset\"], jitter = method[\"jitter\"],\n",
    "                                                            random_seed = random_seed)\n",
    "                                                            \n",
    "            df[\"Pred\"] = compute_dim.predict_coord_fromline(all_vectors, dimension, weight, bias)\n",
    "\n",
    "        elif method[\"method\"] == \"fitted_seeddims\":\n",
    "            dimension, weight, bias = compute_dim.dimension_fitted_fromratings_seeddims(vec_train, gold_train, \n",
    "                                                            method[\"feature_dim\"], \n",
    "                                                            pos_seedwords, neg_seedwords, word_vectors,\n",
    "                                                            do_average = method[\"do_average\"], \n",
    "                                                            alpha = method[\"alpha\"],\n",
    "                                                            random_seed = random_seed,\n",
    "                                                            paired = True)\n",
    "            df[\"Pred\"] = compute_dim.predict_coord_fromline(all_vectors, dimension, weight, bias)\n",
    "\n",
    "        elif method[\"method\"] == \"combined\":\n",
    "            dimension, weight, bias = compute_dim.dimension_fitted_fromratings_combined(vec_train, gold_train,\n",
    "                                                            method[\"feature_dim\"],\n",
    "                                                            pos_seedwords, neg_seedwords, word_vectors,\n",
    "                                                            offset = method[\"offset\"], jitter = method[\"jitter\"],\n",
    "                                                            do_average = method[\"do_average\"], \n",
    "                                                            alpha = method[\"alpha\"],\n",
    "                                                            random_seed = random_seed,\n",
    "                                                            paired = True)\n",
    "            df[\"Pred\"] = compute_dim.predict_coord_fromline(all_vectors, dimension, weight, bias)\n",
    "\n",
    "        else:\n",
    "            raise Exception(\"shouldn't be here\")\n",
    "\n",
    "        # order consistency pairwise: test values tested for their ordering wrt. all values, training and test\n",
    "        # MSE: evaluate on test only\n",
    "        e = { \"ocp\" : eval_dim.pairwise_order_consistency_wrt(df[\"z\"], df[\"Pred\"], test_indices),\n",
    "              \"mse\" : eval_dim.mean_squared_error(gold_test, [p for i, p in enumerate(df[\"Pred\"]) if i in test_indices]) }\n",
    "\n",
    "        all_evals.append(e)\n",
    "\n",
    "        \n",
    "    return all_evals\n"
   ]
  },
  {
   "cell_type": "markdown",
   "id": "56562490-3542-4384-8709-9ae8b5adfc59",
   "metadata": {},
   "source": [
    "## Aggregating results\n",
    "\n",
    "This is yet different from Grand et al because there are no sub-conditions, just a single dataset.\n",
    "We directly aggregate over all results in the list of results dictionaries."
   ]
  },
  {
   "cell_type": "code",
   "execution_count": 13,
   "id": "a089795d-2ef3-453a-b5a6-c5b816f59f74",
   "metadata": {},
   "outputs": [],
   "source": [
    "from collections import defaultdict\n",
    "import statistics\n",
    "\n",
    "# given a list of results dictionaries,\n",
    "# compute mean, median and standard deviation over values for a particular key\n",
    "def eval_summary_by(evals, keylabel):\n",
    "    vals = [e[keylabel] for e in evals if e[keylabel] is not None]\n",
    "    \n",
    "    return (statistics.mean(vals), statistics.median(vals), statistics.stdev(vals))\n",
    "\n",
    "# given a dictionary of results (parameters -> result dictionary list),\n",
    "# all for the same dataset but from different crossvalidatin runs\n",
    "# and runs with different random seeds \n",
    "def eval_eval(results):\n",
    "    ocp_mean, _, _ = eval_summary_by(results, \"ocp\")\n",
    "    _, mse_med, _ = eval_summary_by(results, \"mse\")\n",
    "    \n",
    "    return ocp_mean, mse_med\n"
   ]
  },
  {
   "cell_type": "markdown",
   "id": "0402d22a-ccd2-4d48-99ec-2ea4bef8e70b",
   "metadata": {},
   "source": [
    "# Evaluation\n"
   ]
  },
  {
   "cell_type": "markdown",
   "id": "d886147f-eeff-42a9-88f6-24daf097821f",
   "metadata": {},
   "source": [
    "## Seed-based"
   ]
  },
  {
   "cell_type": "code",
   "execution_count": 24,
   "id": "79e14a32-90ce-45ba-b6c8-ee273387ac51",
   "metadata": {},
   "outputs": [
    {
     "name": "stdout",
     "output_type": "stream",
     "text": [
      "Seed-based method\n",
      "\t Formality dataset OC_P mean 0.728 MSE median 62.093\n",
      "Seed-based method\n",
      "\t Complexity dataset OC_P mean 0.742 MSE median 32.661\n"
     ]
    }
   ],
   "source": [
    "method = { \"method\": \"seedbased\",\n",
    "          \"numfolds\" : numfolds}\n",
    "\n",
    "print(\"Seed-based method\")\n",
    "\n",
    "for data_label, data_df, data_seeds in [ (\"Formality\", formality_df, formality_seeds), \n",
    "                                         (\"Complexity\", complexity_df, complexity_seeds) ]:\n",
    "\n",
    "    results = crossvalidation(method, word_vectors, data_df, data_seeds)\n",
    "    \n",
    "    ocp_mean, mse_med = eval_eval(results)\n",
    "\n",
    "    print(\"\\t\", data_label, \"dataset\", \n",
    "          f\"OC_P mean {ocp_mean:.3f}\", \n",
    "          f\"MSE median {mse_med:.3f}\")\n",
    " "
   ]
  },
  {
   "cell_type": "markdown",
   "id": "9e2b12a6-89d8-4d26-b411-5e797f242936",
   "metadata": {},
   "source": [
    "# Fitted"
   ]
  },
  {
   "cell_type": "code",
   "execution_count": 25,
   "id": "c90b464c-8aa8-4bee-b43e-cfb88471e766",
   "metadata": {
    "tags": []
   },
   "outputs": [
    {
     "name": "stdout",
     "output_type": "stream",
     "text": [
      "Fitted method\n",
      "\t Formality dataset OC_P mean 0.503 MSE median 190.107\n",
      "\t Complexity dataset OC_P mean 0.626 MSE median 25.798\n"
     ]
    }
   ],
   "source": [
    "method = {\"method\": \"fitted\",\n",
    "          \"numfolds\" : numfolds,\n",
    "          \"feature_dim\" : feature_dim}\n",
    "\n",
    "print(\"Fitted method\")\n",
    "\n",
    "random.seed(5)\n",
    "randoms = [random.randrange(0,100) for _ in range(num_randseeds)]\n",
    "\n",
    "for data_label, data_df, data_seeds in [ (\"Formality\", formality_df, formality_seeds), \n",
    "                                         (\"Complexity\", complexity_df, complexity_seeds) ]:\n",
    "    results = [ ]\n",
    "    for rval in randoms:\n",
    "        theseresults = crossvalidation(method, word_vectors, data_df,data_seeds,\n",
    "                                       random_seed = rval)\n",
    "        results += theseresults\n",
    "        \n",
    "    \n",
    "    ocp_mean, mse_med = eval_eval(results)\n",
    "\n",
    "    print(\"\\t\", data_label, \"dataset\", \n",
    "          f\"OC_P mean {ocp_mean:.3f}\", \n",
    "          f\"MSE median {mse_med:.3f}\")\n"
   ]
  },
  {
   "cell_type": "markdown",
   "id": "7bad583c-87aa-4301-91f8-ef20c8d6b1d4",
   "metadata": {},
   "source": [
    "# Fitted, with seeds as words"
   ]
  },
  {
   "cell_type": "code",
   "execution_count": 26,
   "id": "3b66072d-8d54-4846-aebb-82dd15edb150",
   "metadata": {
    "tags": []
   },
   "outputs": [
    {
     "name": "stdout",
     "output_type": "stream",
     "text": [
      "Fitted method with seed words\n",
      "\t Formality dataset OC_P mean 0.421 MSE median 1043.241\n",
      "\t Complexity dataset OC_P mean 0.639 MSE median 93.271\n"
     ]
    }
   ],
   "source": [
    "method = { \"method\": \"fitted_seedwords\",\n",
    "          \"numfolds\" : numfolds,\n",
    "          \"offset\" : 2.0,\n",
    "          \"jitter\" : True,\n",
    "          \"feature_dim\" : feature_dim}\n",
    "\n",
    "print(\"Fitted method with seed words\")\n",
    "\n",
    "random.seed(5)\n",
    "randoms = [random.randrange(0,100) for _ in range(num_randseeds)]\n",
    "\n",
    "for data_label, data_df, data_seeds in [ (\"Formality\", formality_df, formality_seeds), \n",
    "                                         (\"Complexity\", complexity_df, complexity_seeds) ]:\n",
    "    results = [ ]\n",
    "    for rval in randoms:\n",
    "        theseresults = crossvalidation(method, word_vectors, data_df,data_seeds,\n",
    "                                       random_seed = rval)\n",
    "        results += theseresults\n",
    "        \n",
    "    \n",
    "    ocp_mean, mse_med = eval_eval(results)\n",
    "\n",
    "    print(\"\\t\", data_label, \"dataset\", \n",
    "          f\"OC_P mean {ocp_mean:.3f}\", \n",
    "          f\"MSE median {mse_med:.3f}\")\n"
   ]
  },
  {
   "cell_type": "markdown",
   "id": "e53ea81a-e842-4b98-b55a-70f1546574b0",
   "metadata": {},
   "source": [
    "# Fitted, with seed dimensions"
   ]
  },
  {
   "cell_type": "code",
   "execution_count": 27,
   "id": "031300f0-6ea8-4236-97cd-ec8a3c34ddbf",
   "metadata": {
    "tags": []
   },
   "outputs": [
    {
     "name": "stdout",
     "output_type": "stream",
     "text": [
      "Fitted method with seed dimensions\n",
      "\t Formality dataset OC_P mean 0.690 MSE median 1.747\n",
      "\t Complexity dataset OC_P mean 0.759 MSE median 1.522\n"
     ]
    }
   ],
   "source": [
    "method = { \"method\": \"fitted_seeddims\",\n",
    "          \"numfolds\" : numfolds,\n",
    "          \"alpha\" : 0.02,\n",
    "          \"do_average\" : True,\n",
    "          \"feature_dim\" : feature_dim}\n",
    "\n",
    "print(\"Fitted method with seed dimensions\")\n",
    "\n",
    "random.seed(5)\n",
    "randoms = [random.randrange(0,100) for _ in range(num_randseeds)]\n",
    "\n",
    "for data_label, data_df, data_seeds in [ (\"Formality\", formality_df, formality_seeds), \n",
    "                                         (\"Complexity\", complexity_df, complexity_seeds) ]:\n",
    "    results = [ ]\n",
    "    for rval in randoms:\n",
    "        theseresults = crossvalidation(method, word_vectors, data_df,data_seeds,\n",
    "                                       random_seed = rval)\n",
    "        results += theseresults\n",
    "        \n",
    "    \n",
    "    ocp_mean, mse_med = eval_eval(results)\n",
    "\n",
    "    print(\"\\t\", data_label, \"dataset\", \n",
    "          f\"OC_P mean {ocp_mean:.3f}\", \n",
    "          f\"MSE median {mse_med:.3f}\")\n"
   ]
  },
  {
   "cell_type": "markdown",
   "id": "b48623e4-353f-4a1a-87a7-afee68ffad3b",
   "metadata": {},
   "source": [
    "# Fitted, with seeds as words and dimensions"
   ]
  },
  {
   "cell_type": "code",
   "execution_count": 28,
   "id": "100943aa-d365-42e9-82f1-281f9a1a0381",
   "metadata": {
    "tags": []
   },
   "outputs": [
    {
     "name": "stdout",
     "output_type": "stream",
     "text": [
      "Fitted method with seeds as words and dim.s\n",
      "\t Formality dataset OC_P mean 0.691 MSE median 1.639\n",
      "\t Complexity dataset OC_P mean 0.728 MSE median 1.436\n"
     ]
    }
   ],
   "source": [
    "method = {\"method\": \"combined\",\n",
    "          \"numfolds\" : numfolds,\n",
    "          \"alpha\" : 0.05,\n",
    "          \"do_average\" : True,\n",
    "          \"offset\" : 2,\n",
    "          \"jitter\" : True,\n",
    "          \"feature_dim\" : feature_dim}\n",
    "\n",
    "print(\"Fitted method with seeds as words and dim.s\")\n",
    "\n",
    "random.seed(5)\n",
    "randoms = [random.randrange(0,100) for _ in range(num_randseeds)]\n",
    "\n",
    "for data_label, data_df, data_seeds in [ (\"Formality\", formality_df, formality_seeds), \n",
    "                                         (\"Complexity\", complexity_df, complexity_seeds) ]:\n",
    "    results = [ ]\n",
    "    for rval in randoms:\n",
    "        theseresults = crossvalidation(method, word_vectors, data_df,data_seeds,\n",
    "                                       random_seed = rval)\n",
    "        results += theseresults\n",
    "        \n",
    "    \n",
    "    ocp_mean, mse_med = eval_eval(results)\n",
    "\n",
    "    print(\"\\t\", data_label, \"dataset\", \n",
    "          f\"OC_P mean {ocp_mean:.3f}\", \n",
    "          f\"MSE median {mse_med:.3f}\")\n"
   ]
  },
  {
   "cell_type": "code",
   "execution_count": null,
   "id": "dcc06d9d-ec90-4097-a63c-607969f07077",
   "metadata": {},
   "outputs": [],
   "source": []
  }
 ],
 "metadata": {
  "kernelspec": {
   "display_name": "Python 3 (ipykernel)",
   "language": "python",
   "name": "python3"
  },
  "language_info": {
   "codemirror_mode": {
    "name": "ipython",
    "version": 3
   },
   "file_extension": ".py",
   "mimetype": "text/x-python",
   "name": "python",
   "nbconvert_exporter": "python",
   "pygments_lexer": "ipython3",
   "version": "3.9.6"
  }
 },
 "nbformat": 4,
 "nbformat_minor": 5
}
