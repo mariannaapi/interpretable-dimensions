{
 "cells": [
  {
   "cell_type": "markdown",
   "id": "58cf25d3-ed9b-46e0-96eb-f4c88f39c4c6",
   "metadata": {},
   "source": [
    "# Global parameters\n",
    "# set those to run the notebook"
   ]
  },
  {
   "cell_type": "code",
   "execution_count": null,
   "id": "2127c73d-cade-4b98-b4cf-8e1fd2cfa473",
   "metadata": {},
   "outputs": [],
   "source": [
    "glove_path = \"glove/glove.42B.300d.zip\"\n",
    "glove_file = \"glove.42B.300d.txt\"\n",
    "\n",
    "grandratings_dir = \"Grand_etal_csv/\"\n",
    "grandfeatures_path = \"SOMEPATH/features.xlsx\""
   ]
  },
  {
   "cell_type": "code",
   "execution_count": null,
   "id": "cdcee3be-bce6-453d-a1c1-6f8d8cfe1b0a",
   "metadata": {
    "tags": []
   },
   "outputs": [],
   "source": [
    "import os\n",
    "from scipy import stats\n",
    "import numpy as np \n",
    "import pandas as pd\n",
    "import zipfile\n",
    "import math\n",
    "import sklearn\n",
    "import torch\n",
    "import torch.optim as optim\n",
    "device = torch.device('cuda') if torch.cuda.is_available() else torch.device('cpu')\n",
    "import matplotlib.pyplot as plt\n",
    "\n",
    "\n",
    "\n",
    "feature_dim = 300\n",
    "\n",
    "word_vectors = { }\n",
    "\n",
    "with zipfile.ZipFile(glove_path) as azip:\n",
    "    with azip.open(glove_file) as f:\n",
    "        for line in f:\n",
    "            values = line.split()\n",
    "            word = values[0].decode()\n",
    "            vector = np.array(values[1:], dtype=np.float32)\n",
    "            word_vectors[word] = vector\n",
    "\n",
    "grandfeatures_df = pd.read_excel(grandfeatures_path)\n",
    "\n",
    "# reading in Grand data\n",
    "def read_grand_data(filename, grandratings_dir, grandfeatures_df):\n",
    "    # extract category and feature\n",
    "    grandcategory, grandfeature = filename[:-4].split(\"_\")\n",
    "        \n",
    "    # read human ratings, make gold column\n",
    "    df = pd.read_csv(grandratings_dir + filename)\n",
    "    nspeakers = len(df.columns) -1\n",
    "    df[\"Average\"] = [row.iloc[1:26].sum() / nspeakers for _, row in df.iterrows()]\n",
    "    # z-scores of average ratings\n",
    "    df[\"Gold\"] = (df[\"Average\"] - df[\"Average\"].mean()) / df[\"Average\"].std()\n",
    "        \n",
    "    # obtain seed words from excel file\n",
    "    relevant_row = grandfeatures_df[grandfeatures_df.Dimension == grandfeature]\n",
    "    seedwords = relevant_row.iloc[:, 1:].values.flatten().tolist()\n",
    "    pos_seedwords = seedwords[:3]\n",
    "    neg_seedwords = seedwords[3:]\n",
    "    \n",
    "    return (grandcategory, grandfeature, pos_seedwords, neg_seedwords, df)"
   ]
  },
  {
   "cell_type": "code",
   "execution_count": 2,
   "id": "d91ade4b-ec29-46d2-a8cc-126372c8571d",
   "metadata": {
    "tags": []
   },
   "outputs": [
    {
     "data": {
      "text/plain": [
       "['north_dakota',\n",
       " 'rhode-island',\n",
       " 'johannesburg',\n",
       " 'seoul',\n",
       " 'south-carolina',\n",
       " 'baghdad',\n",
       " 'west-virginia',\n",
       " 'jaime',\n",
       " 'lahore',\n",
       " 'south-dakota',\n",
       " 'karachi',\n",
       " 'nairobi',\n",
       " 'north-carolina',\n",
       " 'los-angeles',\n",
       " 'new-hampshire',\n",
       " 'tehran',\n",
       " 'new-jersey',\n",
       " 'san-francisco',\n",
       " 'taipei',\n",
       " 'new-mexico',\n",
       " 'hong-kong']"
      ]
     },
     "execution_count": 2,
     "metadata": {},
     "output_type": "execute_result"
    }
   ],
   "source": [
    "namestr = \"\"\"north_dakota : 0\n",
    "rhode-island : 0\n",
    "johannesburg : 4\n",
    "seoul : 4\n",
    "south-carolina : 0\n",
    "baghdad : 9\n",
    "west-virginia : 0\n",
    "jaime : 5\n",
    "lahore : 2\n",
    "south-dakota : 0\n",
    "karachi : 7\n",
    "nairobi : 6\n",
    "north-carolina : 0\n",
    "los-angeles : 0\n",
    "new-hampshire : 0\n",
    "tehran : 4\n",
    "new-jersey : 0\n",
    "san-francisco : 0\n",
    "taipei : 5\n",
    "new-mexico : 0\n",
    "hong-kong : 5\"\"\"\n",
    "citynames = [s.split(\" : \")[0] for s in namestr.split(\"\\n\")]\n",
    "citynames"
   ]
  },
  {
   "cell_type": "code",
   "execution_count": 3,
   "id": "3d3be977-9329-4621-b5b2-c367d75e328d",
   "metadata": {
    "tags": []
   },
   "outputs": [],
   "source": [
    "for n in citynames:\n",
    "    if n not in word_vectors:\n",
    "        print(n, \"has no entry\")"
   ]
  },
  {
   "cell_type": "code",
   "execution_count": 5,
   "id": "d5fbc202-ef80-4f12-9f79-665cae05c9bc",
   "metadata": {
    "tags": []
   },
   "outputs": [
    {
     "data": {
      "text/plain": [
       "array([ 6.6691e-01, -1.0600e+00, -1.2023e-01,  1.0052e-01, -4.1489e-01,\n",
       "       -7.9596e-01,  4.9310e-01, -3.5292e-01, -1.4101e-01,  1.2679e-01,\n",
       "       -7.3328e-01,  7.5202e-01, -5.8481e-01, -2.8259e-01, -8.1580e-02,\n",
       "       -2.2716e-02,  1.2503e-01, -9.2844e-02, -2.1066e-01,  6.7123e-02,\n",
       "        1.6662e-01,  1.4692e-01, -8.6194e-02, -4.7833e-01, -1.1225e-01,\n",
       "        2.7158e-01, -2.1967e-01,  1.2433e-01,  5.6243e-01, -3.2761e-01,\n",
       "       -4.7829e-01, -1.2528e-01, -6.6647e-01,  1.9598e-01,  1.7504e-01,\n",
       "        9.6750e-01, -4.8978e-01,  3.8909e-01, -9.7805e-02, -1.2054e-01,\n",
       "        4.3813e-01,  7.2000e-01, -4.2166e-01,  4.8310e-02,  6.8112e-01,\n",
       "       -4.7780e-01, -1.7747e-01,  7.5757e-01,  5.3816e-01,  8.8436e-01,\n",
       "        2.0889e-02, -4.6063e-01, -1.0409e-02,  1.7994e-01,  2.3012e-01,\n",
       "        8.4747e-01, -2.6780e-01,  1.5260e-01, -3.8625e-03, -6.1371e-01,\n",
       "        1.2008e-01, -5.2610e-01, -4.3554e-01, -6.5643e-01,  1.2445e+00,\n",
       "        6.2660e-01,  1.0492e-01, -1.3906e-01, -4.7864e-01,  2.3614e-01,\n",
       "       -4.0130e-01, -4.6255e-01,  9.7587e-02,  3.6193e-01, -5.6510e-02,\n",
       "        1.4457e-02, -2.1610e-01, -2.3020e-01, -2.6347e-01,  1.3511e-01,\n",
       "        6.2637e-02, -5.2443e-02, -1.5720e-01, -1.2872e-01, -3.8632e-02,\n",
       "        6.3191e-01, -1.6100e-01, -1.6502e-03,  1.1304e-01, -3.0534e-01,\n",
       "       -2.5481e-04, -3.9677e-01,  3.3340e-01, -1.2610e-01,  1.5620e-01,\n",
       "        6.2929e-02,  1.4467e-01, -5.5337e-01, -7.6249e-01, -5.2302e-02,\n",
       "        3.5689e-01, -2.9572e-01,  6.9790e-01, -3.5984e-01,  2.0269e-01,\n",
       "       -2.2968e-01, -3.4427e-02, -4.5282e-02, -6.7063e-02, -2.7580e-01,\n",
       "        2.2150e-01,  1.6946e-01, -2.0028e-01, -1.0889e-01, -3.0065e-02,\n",
       "       -5.5148e-01,  7.9977e-02, -3.9849e-01,  4.7625e-01,  7.5329e-01,\n",
       "        2.3759e-01,  1.9108e-01, -3.3358e-01, -2.4591e-01,  8.0295e-01,\n",
       "        5.8463e-02,  4.8168e-01,  3.0322e-02,  1.0377e-01,  2.4040e-01,\n",
       "        1.5378e-01,  2.0984e-02,  3.4900e-01,  5.6353e-01, -2.9481e-01,\n",
       "       -6.8655e-01, -5.4192e-01, -1.7807e-01,  3.5545e-01,  3.4012e-01,\n",
       "       -1.0297e-01,  1.9952e-02, -2.9833e-01,  7.1600e-01, -1.3545e-01,\n",
       "        6.2584e-01, -1.5356e-01, -5.5744e-01, -2.0489e-01,  4.5791e-02,\n",
       "       -1.9896e-01,  9.3986e-02,  3.0271e-01,  1.0069e-02,  3.9890e-01,\n",
       "        5.7193e-01,  5.7538e-01, -3.0202e-02, -1.8920e-01, -9.2460e-02,\n",
       "       -6.8251e-01, -1.7100e-01,  1.7003e-01, -2.5018e-01,  1.7564e-01,\n",
       "       -5.7520e-01, -2.2761e-01, -2.9622e-02,  4.9107e-02,  3.3916e-01,\n",
       "        2.5909e-01,  6.4108e-01, -2.5051e-01,  2.9971e-01, -1.3540e-01,\n",
       "       -9.1500e-01, -6.7093e-01,  8.2517e-01,  3.4775e-01, -3.9819e-01,\n",
       "       -5.0575e-01,  4.0956e-01,  5.5528e-02, -5.3925e-01, -2.4996e-01,\n",
       "       -6.1188e-01,  4.9333e-01,  3.0998e-01,  3.5727e-01, -2.4242e-01,\n",
       "        2.3772e-01,  5.2383e-01, -7.8644e-02, -2.5570e-02,  2.6418e-01,\n",
       "        2.4853e-01,  5.2401e-02, -4.5724e-02,  3.4643e-01,  8.2352e-01,\n",
       "        2.8994e-01, -5.7323e-01,  4.0045e-01, -3.8312e-01,  5.9673e-01,\n",
       "       -3.3251e-01,  1.0994e-02, -7.7695e-01, -5.8330e-01,  4.9575e-01,\n",
       "       -6.9473e-02,  2.3336e-01,  8.0302e-01,  6.4459e-01,  5.8496e-01,\n",
       "        1.9341e-01,  2.1679e-01,  5.2492e-02, -5.5481e-01,  2.3590e-01,\n",
       "        3.2574e-02, -4.8113e-01, -5.8544e-01,  3.7477e-01,  3.0973e-01,\n",
       "        2.2324e-01, -1.9697e-01,  1.8335e-01,  1.6277e-01, -1.2428e-01,\n",
       "       -7.4141e-01,  1.1735e-01,  8.0220e-02, -1.7687e-01,  3.8568e-01,\n",
       "       -7.6236e-01, -5.4954e-02,  2.3604e-01,  2.7676e-01, -2.6170e-01,\n",
       "        1.6482e-01,  1.7484e-01, -2.7661e-02,  7.7438e-02, -2.2450e-01,\n",
       "       -2.4919e-01, -5.9423e-01, -3.4278e-02,  1.8153e-01, -9.3686e-01,\n",
       "       -1.7435e-01, -1.0237e+00,  6.3664e-02, -6.6132e-03, -3.3551e-02,\n",
       "       -4.8654e-01, -5.3825e-01,  6.4766e-02, -7.3501e-02,  4.5665e-01,\n",
       "        1.4864e-01, -2.2804e-01,  1.5114e-01, -3.5672e-01,  4.7845e-01,\n",
       "       -8.4261e-01,  2.9296e-01,  2.2667e-01, -7.0257e-01,  3.6283e-01,\n",
       "       -1.6383e-02,  1.4170e-01,  2.0963e-02,  3.9334e-01, -2.8947e-01,\n",
       "        2.4746e-01, -3.4857e-01, -7.4881e-02, -7.8595e-01, -5.2214e-01,\n",
       "       -6.7596e-01, -3.6753e-01, -4.6222e-01, -3.1570e-01, -1.3974e-01,\n",
       "        3.0516e-01, -8.5303e-01,  3.6525e-01,  7.2267e-01, -6.2615e-02,\n",
       "        1.9413e-01, -3.0319e-01,  1.7175e-01, -4.2227e-01,  1.3171e-01,\n",
       "        3.3933e-01, -1.6325e-01, -1.1186e-01,  3.1457e-01,  7.5344e-03],\n",
       "      dtype=float32)"
      ]
     },
     "execution_count": 5,
     "metadata": {},
     "output_type": "execute_result"
    }
   ],
   "source": [
    "word_vectors[\"new-hampshire\"]"
   ]
  },
  {
   "cell_type": "code",
   "execution_count": null,
   "id": "fbc90ce4-d5a3-4339-a3f0-76aaaf99df53",
   "metadata": {},
   "outputs": [],
   "source": []
  }
 ],
 "metadata": {
  "kernelspec": {
   "display_name": "Python 3 (ipykernel)",
   "language": "python",
   "name": "python3"
  },
  "language_info": {
   "codemirror_mode": {
    "name": "ipython",
    "version": 3
   },
   "file_extension": ".py",
   "mimetype": "text/x-python",
   "name": "python",
   "nbconvert_exporter": "python",
   "pygments_lexer": "ipython3",
   "version": "3.9.6"
  }
 },
 "nbformat": 4,
 "nbformat_minor": 5
}
